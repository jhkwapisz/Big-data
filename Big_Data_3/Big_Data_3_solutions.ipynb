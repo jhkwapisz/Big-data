{
 "cells": [
  {
   "cell_type": "markdown",
   "metadata": {},
   "source": [
    "# Big Data w biznesie"
   ]
  },
  {
   "cell_type": "markdown",
   "metadata": {},
   "source": [
    "## Trzeci notebook rozwiązania"
   ]
  },
  {
   "cell_type": "code",
   "execution_count": 4,
   "metadata": {},
   "outputs": [
    {
     "data": {
      "text/html": [
       "<style><style>\n",
       "#notebook-container{\n",
       "    box-shadow: none !important;\n",
       "}\n",
       "\n",
       "#ipython_notebook img{                                                                                        \n",
       "    display:block; \n",
       "    background: url(\"images/LOGO-jupyter.png\") no-repeat;\n",
       "    background-size: contain;\n",
       "    width: 85px;\n",
       "    height: 52px;\n",
       "    padding-left: 100px;\n",
       "    padding-right: 50px;\n",
       "    -moz-box-sizing: border-box;\n",
       "    box-sizing: border-box;\n",
       "}\n",
       "\n",
       ".notebook_app {\n",
       "    background: #fff !important;\n",
       "}\n",
       "\n",
       "body > #header {\n",
       "    margin-bottom: -5px;\n",
       "}\n",
       "\n",
       "div#notebook {\n",
       "    padding-top: 0px;\n",
       "}\n",
       "\n",
       "/* SCROLL BAR */\n",
       "::-webkit-scrollbar {\n",
       "    max-width: 10px;\n",
       "    max-height: 10px;\n",
       "    border-radius: 3px;\n",
       "    border: none;\n",
       "}\n",
       "::-webkit-scrollbar-track {\n",
       "    border: none;\n",
       "    max-width: 10px;\n",
       "    max-height: 10px;\n",
       "}\n",
       "::-webkit-scrollbar-thumb {\n",
       "    border-radius: 5px;\n",
       "    border: none;\n",
       "    background: #0000003d;\n",
       "    background-clip: content-box;\n",
       "    max-width: 10px;\n",
       "}\n",
       "\n",
       "/* HEADER */\n",
       "body > #header #header-container{\n",
       "    padding-top: 15px;\n",
       "    padding-bottom: 5px;\n",
       "}\n",
       "\n",
       "body > #header div.header-bar {\n",
       "    height: 0px;\n",
       "}\n",
       "\n",
       "#header #menus{\n",
       "    padding: 5px 0px;\n",
       "}\n",
       "\n",
       "#header #menubar, #header #maintoolbar {\n",
       "    margin-top: 0.5em;\n",
       "    margin-bottom: 0.5em;\n",
       "    padding: 0px;\n",
       "}\n",
       "\n",
       "body > #header #header-container,\n",
       "body > #header #menubar-container {\n",
       "    padding-left: 10px;\n",
       "    padding-right: 10px;\n",
       "}\n",
       "\n",
       "#header #maintoolbar-container {\n",
       "    margin-bottom: 0px;\n",
       "    margin-top: 0px;\n",
       "}\n",
       "\n",
       "div.navbar-default {\n",
       "    border: 0px;\n",
       "    border-radius: 0px;\n",
       "}\n",
       "\n",
       "#header, #header .btn, #header select, #header #menubar a {\n",
       "    color: #323232;\n",
       "}\n",
       "\n",
       "#header .btn, #header select {\n",
       "    background-color: #f8f8f8;\n",
       "    border: 0px;\n",
       "    border-radius: 0px;\n",
       "}\n",
       "\n",
       "#maintoolbar .btn, #maintoolbar select {\n",
       "    height: 22px !important;\n",
       "    line-height: 22px;\n",
       "    padding-top: 0px;\n",
       "    box-shadow: none;\n",
       "}\n",
       "\n",
       "div.navbar-nav > li > div.dropdown-menu {\n",
       "    border: 0px;\n",
       "    background-color: #f8f8f8;\n",
       "}\n",
       "\n",
       "\n",
       "/* CELLS */\n",
       "div.prompt, code, kbd, pre, samp {\n",
       "    font-family: \"Cascadia Code\", 'Courier New', Courier, monospace, sans-serif !important;\n",
       "    font-size: 13px !important;\n",
       "}\n",
       "\n",
       "div.input_area {\n",
       "    border: none;\n",
       "    border-radius: 0;\n",
       "    background: #f7f7f7;\n",
       "    /* margin: 0.5em 0; */\n",
       "}\n",
       "\n",
       "div.cell {\n",
       "    transition: all 0.25s;\n",
       "    border: none;\n",
       "    padding: 0.5em;\n",
       "    /* position: relative;\n",
       "    top: 0; */\n",
       "}\n",
       "\n",
       "div.cell.selected, div.cell.selected.jupyter-soft-selected {\n",
       "    border: none;\n",
       "    background: transparent;\n",
       "    box-shadow: 0px 0px 12px 1px rgba(87, 87, 87, 0.2);\n",
       "    border-radius: 0px\n",
       "}\n",
       "\n",
       "div.prompt, div.inner_cell, div.input_area {\n",
       "    padding: 0.5em;\n",
       "}\n",
       "\n",
       "div.text_cell_render, div.rendered_html {\n",
       "    padding: 0;\n",
       "}\n",
       "\n",
       "div.run_this_cell {\n",
       "    display: none;\n",
       "}\n",
       "\n",
       "div.output.output_scroll {\n",
       "    -webkit-box-shadow: inset 0px 0px 12px 1px rgba(87, 87, 87, 0.2);\n",
       "    box-shadow: inset 0px 0px 12px 1px rgba(87, 87, 87, 0.2);\n",
       "}\n",
       "\n",
       "div.prompt.input_prompt {\n",
       "    padding: 1.5em;\n",
       "}\n",
       "\n",
       "div.prompt.output_prompt {\n",
       "    padding: 0.6em 1.5em;\n",
       "}\n",
       "\n",
       "\n",
       "/* TEXT CELL FORMATTING */\n",
       "div.text_cell p,\n",
       "div.text_cell li,\n",
       "div.text_cell table,\n",
       "div.text_cell h1,\n",
       "div.text_cell h2,\n",
       "div.text_cell h3,\n",
       "div.text_cell h4,\n",
       "div.text_cell h5 {\n",
       "    font-family: 'Segoe UI', Tahoma, Geneva, Verdana, sans-serif;\n",
       "    color: rgba(50, 50, 50, 1);\n",
       "    line-height: 1.4;\n",
       "    margin: 0.5em 0em;\n",
       "}\n",
       "\n",
       "div.text_cell p {\n",
       "    line-height: 1.6;\n",
       "}\n",
       "\n",
       "div.text_cell ul, div.text_cell ol {\n",
       "    margin: 1em 0em;\n",
       "}\n",
       "\n",
       "div.text_cell li {\n",
       "    line-height: 1;\n",
       "}\n",
       "\n",
       "div.rendered_html table {\n",
       "    margin-left: inherit;\n",
       "    margin-right: inherit;\n",
       "}\n",
       "\n",
       "div.rendered_html blockquote {\n",
       "    margin-left: 0;\n",
       "    margin-right: 0;\n",
       "    border-left-color: rgb(162, 162, 162);\n",
       "    background-color: #f7f7f7;\n",
       "}\n",
       "\n",
       "div.rendered_html blockquote p{\n",
       "    color: rgba(0, 0, 0, 0.5);\n",
       "    font-weight: 600;\n",
       "}\n",
       "\n",
       "div.rendered_html pre {\n",
       "    margin-left: 0;\n",
       "    margin-right: 0;\n",
       "    padding: 1em;\n",
       "    background-color: #f7f7f7;\n",
       "}\n",
       "\n",
       "div.rendered_html pre * {\n",
       "    background-color: rgba(0,0,0,0) !important;\n",
       "}\n",
       "\n",
       "\n",
       "div.admonition { \n",
       "    background-color: #ffffff;\n",
       "    box-shadow: 0px 4px 3px -2px gray;\n",
       "    border-radius: 4px; \n",
       "    padding: 0.5em;\n",
       "    margin-top: 2em;\n",
       "    margin-bottom: 2em;\n",
       "       }\n",
       "\n",
       "div.admonition:before {\n",
       "    font-size: 1.0em;\n",
       "    visibility: visible; \n",
       "    display: block;\n",
       "    height: 2em;\n",
       "    top: 0em;\n",
       "    left: -0.44em;\n",
       "    width:  101%;\n",
       "    border-radius: 0px 10px 0px 0px;\n",
       "    margin-left: -0.0em;\n",
       "    margin-top: -0.3em;\n",
       "    top: -2px;\n",
       "    font-weight: bold;\n",
       "    position: relative;\n",
       "    display: flex;\n",
       "    align-items: center;\n",
       "    font-weight: bold;\n",
       "    position: relative;\n",
       "    vertical-align: middle;\n",
       "    }\n",
       "\n",
       "div.admonition.warn {\n",
       "    border-left: 4px solid #F9E04B; \n",
       "    }\n",
       "\n",
       "div.admonition.warn:before { \n",
       "    font-size: 1.2em !important;\n",
       "    content: '\\00a0    ⚠️ Uwaga!';\n",
       "    background: #ffff99;\n",
       "    }\n",
       "\n",
       "div.admonition.info {border-left: 4px solid #9594ff;}\n",
       "\n",
       "div.admonition.info:before { font-size: 1.2em !important;\n",
       "    content: '\\00a0  💡 To ciekawe!';\n",
       "    background: #ddeeff;}\n",
       "\n",
       "div.admonition.danger {border-left: 4px solid #ff5555; }\n",
       "\n",
       "div.danger.admonition:before { font-size: 1.2em !important;\n",
       "    content: '\\00a0    🛑 Uwaga, błędy!';\n",
       "    background: #ffcccc;}\n",
       "\n",
       "div.admonition.see {border-left: 4px solid #33cc33; }\n",
       "\n",
       "div.admonition.see:before { font-size: 1.2em !important;\n",
       "    content: '\\00a0    🌐 Dowiedz się więcej!';\n",
       "    background: #ccffcc;}\n",
       "\n",
       "div.admonition.code {border-left: 4px solid #aaaaaa; }\n",
       "\n",
       "div.admonition.code:before { font-size: 1.2em !important;\n",
       "    content: '\\00a0    🐍 Wywołaj poniższą komórkę!';\n",
       "    background: #eeeeee\n",
       ";}\n",
       "\n",
       "div.admonition.code.codes:before { font-size: 1.2em !important;\n",
       "    content: '\\00a0    🐍 Wywołaj poniższe komórki!';}\n",
       "\n",
       "div.admonition.task {border-left: 4px solid #aaaaaa; }\n",
       "\n",
       "div.admonition.task:before { font-size: 1.2em !important;\n",
       "    content: '\\00a0    💭 Wykonaj poniższe zadanie!';\n",
       "    background: #eeeeee\n",
       ";}\n",
       "\n",
       "</style></style>"
      ],
      "text/plain": [
       "<IPython.core.display.HTML object>"
      ]
     },
     "execution_count": 4,
     "metadata": {},
     "output_type": "execute_result"
    }
   ],
   "source": [
    "from IPython.core.display import HTML\n",
    "\n",
    "def _set_css_style(css_file_path):\n",
    "   \"\"\"\n",
    "   Read the custom CSS file and load it into Jupyter.\n",
    "   Pass the file path to the CSS file.\n",
    "   \"\"\"\n",
    "\n",
    "   styles = open(css_file_path, \"r\").read()\n",
    "   s = '<style>%s</style>' % styles\n",
    "   return HTML(s)\n",
    "_set_css_style(\"../custom.css\")"
   ]
  },
  {
   "cell_type": "markdown",
   "metadata": {},
   "source": [
    "#### Zaimportuj biblioteki numpy, pandas, matplotlib i seaborn."
   ]
  },
  {
   "cell_type": "code",
   "execution_count": 1,
   "metadata": {},
   "outputs": [],
   "source": [
    "import numpy as np\n",
    "import pandas as pd\n",
    "import matplotlib.pyplot as plt\n",
    "%matplotlib inline\n",
    "import seaborn as sns"
   ]
  },
  {
   "cell_type": "markdown",
   "metadata": {},
   "source": [
    "#### Załaduj plik csv.\n",
    "***\n",
    "Do zmiennej `df` załaduj plik `cars.csv`."
   ]
  },
  {
   "cell_type": "code",
   "execution_count": 2,
   "metadata": {},
   "outputs": [],
   "source": [
    "df = pd.read_csv(\"./cars.csv\")"
   ]
  },
  {
   "cell_type": "markdown",
   "metadata": {},
   "source": [
    "#### Wyświetl pierwsze 5 linijek obiektu ''df''."
   ]
  },
  {
   "cell_type": "code",
   "execution_count": 3,
   "metadata": {},
   "outputs": [
    {
     "data": {
      "text/html": [
       "<div>\n",
       "<style scoped>\n",
       "    .dataframe tbody tr th:only-of-type {\n",
       "        vertical-align: middle;\n",
       "    }\n",
       "\n",
       "    .dataframe tbody tr th {\n",
       "        vertical-align: top;\n",
       "    }\n",
       "\n",
       "    .dataframe thead th {\n",
       "        text-align: right;\n",
       "    }\n",
       "</style>\n",
       "<table border=\"1\" class=\"dataframe\">\n",
       "  <thead>\n",
       "    <tr style=\"text-align: right;\">\n",
       "      <th></th>\n",
       "      <th>manufacturer_name</th>\n",
       "      <th>model_name</th>\n",
       "      <th>transmission</th>\n",
       "      <th>color</th>\n",
       "      <th>odometer_value</th>\n",
       "      <th>year_produced</th>\n",
       "      <th>engine_fuel</th>\n",
       "      <th>engine_has_gas</th>\n",
       "      <th>engine_type</th>\n",
       "      <th>engine_capacity</th>\n",
       "      <th>...</th>\n",
       "      <th>feature_1</th>\n",
       "      <th>feature_2</th>\n",
       "      <th>feature_3</th>\n",
       "      <th>feature_4</th>\n",
       "      <th>feature_5</th>\n",
       "      <th>feature_6</th>\n",
       "      <th>feature_7</th>\n",
       "      <th>feature_8</th>\n",
       "      <th>feature_9</th>\n",
       "      <th>duration_listed</th>\n",
       "    </tr>\n",
       "  </thead>\n",
       "  <tbody>\n",
       "    <tr>\n",
       "      <th>0</th>\n",
       "      <td>Subaru</td>\n",
       "      <td>Outback</td>\n",
       "      <td>automatic</td>\n",
       "      <td>silver</td>\n",
       "      <td>190000</td>\n",
       "      <td>2010</td>\n",
       "      <td>gasoline</td>\n",
       "      <td>False</td>\n",
       "      <td>gasoline</td>\n",
       "      <td>2.5</td>\n",
       "      <td>...</td>\n",
       "      <td>True</td>\n",
       "      <td>True</td>\n",
       "      <td>True</td>\n",
       "      <td>False</td>\n",
       "      <td>True</td>\n",
       "      <td>False</td>\n",
       "      <td>True</td>\n",
       "      <td>True</td>\n",
       "      <td>True</td>\n",
       "      <td>16</td>\n",
       "    </tr>\n",
       "    <tr>\n",
       "      <th>1</th>\n",
       "      <td>Subaru</td>\n",
       "      <td>Outback</td>\n",
       "      <td>automatic</td>\n",
       "      <td>blue</td>\n",
       "      <td>290000</td>\n",
       "      <td>2002</td>\n",
       "      <td>gasoline</td>\n",
       "      <td>False</td>\n",
       "      <td>gasoline</td>\n",
       "      <td>3.0</td>\n",
       "      <td>...</td>\n",
       "      <td>True</td>\n",
       "      <td>False</td>\n",
       "      <td>False</td>\n",
       "      <td>True</td>\n",
       "      <td>True</td>\n",
       "      <td>False</td>\n",
       "      <td>False</td>\n",
       "      <td>False</td>\n",
       "      <td>True</td>\n",
       "      <td>83</td>\n",
       "    </tr>\n",
       "    <tr>\n",
       "      <th>2</th>\n",
       "      <td>Subaru</td>\n",
       "      <td>Forester</td>\n",
       "      <td>automatic</td>\n",
       "      <td>red</td>\n",
       "      <td>402000</td>\n",
       "      <td>2001</td>\n",
       "      <td>gasoline</td>\n",
       "      <td>False</td>\n",
       "      <td>gasoline</td>\n",
       "      <td>2.5</td>\n",
       "      <td>...</td>\n",
       "      <td>True</td>\n",
       "      <td>False</td>\n",
       "      <td>False</td>\n",
       "      <td>False</td>\n",
       "      <td>False</td>\n",
       "      <td>False</td>\n",
       "      <td>False</td>\n",
       "      <td>True</td>\n",
       "      <td>True</td>\n",
       "      <td>151</td>\n",
       "    </tr>\n",
       "    <tr>\n",
       "      <th>3</th>\n",
       "      <td>Subaru</td>\n",
       "      <td>Impreza</td>\n",
       "      <td>mechanical</td>\n",
       "      <td>blue</td>\n",
       "      <td>10000</td>\n",
       "      <td>1999</td>\n",
       "      <td>gasoline</td>\n",
       "      <td>False</td>\n",
       "      <td>gasoline</td>\n",
       "      <td>3.0</td>\n",
       "      <td>...</td>\n",
       "      <td>False</td>\n",
       "      <td>False</td>\n",
       "      <td>False</td>\n",
       "      <td>False</td>\n",
       "      <td>False</td>\n",
       "      <td>False</td>\n",
       "      <td>False</td>\n",
       "      <td>False</td>\n",
       "      <td>False</td>\n",
       "      <td>86</td>\n",
       "    </tr>\n",
       "    <tr>\n",
       "      <th>4</th>\n",
       "      <td>Subaru</td>\n",
       "      <td>Legacy</td>\n",
       "      <td>automatic</td>\n",
       "      <td>black</td>\n",
       "      <td>280000</td>\n",
       "      <td>2001</td>\n",
       "      <td>gasoline</td>\n",
       "      <td>False</td>\n",
       "      <td>gasoline</td>\n",
       "      <td>2.5</td>\n",
       "      <td>...</td>\n",
       "      <td>True</td>\n",
       "      <td>False</td>\n",
       "      <td>True</td>\n",
       "      <td>True</td>\n",
       "      <td>False</td>\n",
       "      <td>False</td>\n",
       "      <td>False</td>\n",
       "      <td>False</td>\n",
       "      <td>True</td>\n",
       "      <td>7</td>\n",
       "    </tr>\n",
       "  </tbody>\n",
       "</table>\n",
       "<p>5 rows × 30 columns</p>\n",
       "</div>"
      ],
      "text/plain": [
       "  manufacturer_name model_name transmission   color  odometer_value  \\\n",
       "0            Subaru    Outback    automatic  silver          190000   \n",
       "1            Subaru    Outback    automatic    blue          290000   \n",
       "2            Subaru   Forester    automatic     red          402000   \n",
       "3            Subaru    Impreza   mechanical    blue           10000   \n",
       "4            Subaru     Legacy    automatic   black          280000   \n",
       "\n",
       "   year_produced engine_fuel  engine_has_gas engine_type  engine_capacity  \\\n",
       "0           2010    gasoline           False    gasoline              2.5   \n",
       "1           2002    gasoline           False    gasoline              3.0   \n",
       "2           2001    gasoline           False    gasoline              2.5   \n",
       "3           1999    gasoline           False    gasoline              3.0   \n",
       "4           2001    gasoline           False    gasoline              2.5   \n",
       "\n",
       "   ... feature_1  feature_2 feature_3 feature_4  feature_5  feature_6  \\\n",
       "0  ...      True       True      True     False       True      False   \n",
       "1  ...      True      False     False      True       True      False   \n",
       "2  ...      True      False     False     False      False      False   \n",
       "3  ...     False      False     False     False      False      False   \n",
       "4  ...      True      False      True      True      False      False   \n",
       "\n",
       "  feature_7  feature_8  feature_9  duration_listed  \n",
       "0      True       True       True               16  \n",
       "1     False      False       True               83  \n",
       "2     False       True       True              151  \n",
       "3     False      False      False               86  \n",
       "4     False      False       True                7  \n",
       "\n",
       "[5 rows x 30 columns]"
      ]
     },
     "execution_count": 3,
     "metadata": {},
     "output_type": "execute_result"
    }
   ],
   "source": [
    "df.head(5)"
   ]
  },
  {
   "cell_type": "markdown",
   "metadata": {},
   "source": [
    "#### Narysuj wykres pudełkowego\n",
    "***\n",
    "Narysuj wykres, który przedstawi zależność typu silnika od ceny."
   ]
  },
  {
   "cell_type": "code",
   "execution_count": null,
   "metadata": {},
   "outputs": [],
   "source": [
    "sns.boxplot(x='engine_type', y='price_usd', data=df)\n",
    "plt.show()"
   ]
  },
  {
   "cell_type": "code",
   "execution_count": 10,
   "metadata": {},
   "outputs": [
    {
     "data": {
      "text/plain": [
       "<AxesSubplot: title={'center': 'price_usd'}, xlabel='engine_type'>"
      ]
     },
     "execution_count": 10,
     "metadata": {},
     "output_type": "execute_result"
    },
    {
     "data": {
      "image/png": "[encoded data removed]",
      "text/plain": [
       "<Figure size 640x480 with 1 Axes>"
      ]
     },
     "metadata": {},
     "output_type": "display_data"
    }
   ],
   "source": [
    "df.boxplot(\n",
    "        by='engine_type',\n",
    "        column='price_usd')"
   ]
  },
  {
   "cell_type": "markdown",
   "metadata": {},
   "source": [
    "#### Popraw wykres pudełkowego\n",
    "***\n",
    "Popraw wykres, tak żeby zakres cen na wykresie zaczynał się od 0."
   ]
  },
  {
   "cell_type": "code",
   "execution_count": null,
   "metadata": {},
   "outputs": [],
   "source": [
    "sns.boxplot(x='engine_type', y='price_usd', data=df)\n",
    "plt.ylim(0,)\n",
    "plt.show()"
   ]
  },
  {
   "cell_type": "markdown",
   "metadata": {},
   "source": [
    "#### Stwórz dummy variables.\n",
    "***\n",
    "Stwórz obiekt `dummy_variable` z danych w kolumnie `'engine_type'`."
   ]
  },
  {
   "cell_type": "code",
   "execution_count": null,
   "metadata": {},
   "outputs": [],
   "source": [
    "dummy_variable = pd.get_dummies(df['engine_type'])\n",
    "dummy_variable"
   ]
  },
  {
   "cell_type": "markdown",
   "metadata": {},
   "source": [
    "#### Zmień nazwy kolumn w dummy variables.\n",
    "***\n",
    "Zmień nazwy kolumn w obiekcie `dummy_variable`, tak żeby każda kolumna zaczynała się od `'engine_type-'`."
   ]
  },
  {
   "cell_type": "code",
   "execution_count": null,
   "metadata": {},
   "outputs": [],
   "source": [
    "rename_dict = df['engine_type'].value_counts().index.tolist()\n",
    "dummy_variable = dummy_variable.rename(columns={x:f'engine_type-{x}' for x in rename_dict})\n",
    "dummy_variable"
   ]
  },
  {
   "cell_type": "markdown",
   "metadata": {},
   "source": [
    "#### Dodaj dummy variables do DataFrame'a.\n",
    "***\n",
    "Połącz ze sobą stworzony obiekt `'dummy viariable'` z obiektem `'df'`."
   ]
  },
  {
   "cell_type": "code",
   "execution_count": null,
   "metadata": {},
   "outputs": [],
   "source": [
    "df = pd.concat([df, dummy_variable], axis=1)\n",
    "df"
   ]
  },
  {
   "cell_type": "markdown",
   "metadata": {},
   "source": [
    "#### Stwórz pivot table.\n",
    "***\n",
    "Stwórz tabelę, która będzie obrazować jak typ karoserii (`'body_type'`) i kolor wypływają na średnią długość łącznego czasu wystawienia (`'duration_listed'`)"
   ]
  },
  {
   "cell_type": "code",
   "execution_count": null,
   "metadata": {},
   "outputs": [],
   "source": [
    "pivot_table = pd.pivot_table(df, values='duration_listed', index='body_type', columns='color', aggfunc='mean')\n",
    "pivot_table"
   ]
  },
  {
   "cell_type": "markdown",
   "metadata": {},
   "source": [
    "#### Wypełnij brakujące wartości w pivot table.\n",
    "***\n",
    "Wszystkie komórki z brakującymi wartościami wypełnij średnią długością łącznego czasu wystawienia dla samochodów o takim samym typie karoserii."
   ]
  },
  {
   "cell_type": "code",
   "execution_count": null,
   "metadata": {},
   "outputs": [],
   "source": [
    "pivot_table = pivot_table.apply(lambda row: row.fillna(row.mean()), axis=1)\n",
    "pivot_table"
   ]
  },
  {
   "cell_type": "markdown",
   "metadata": {},
   "source": [
    "#### Stwórz pivot table innym sposobem.\n",
    "***\n",
    "Najpierw pogrupuj dane po kolumnach `'body_type'` i `'color'`, a następnie dla każdej grupy policz średnią długość łącznego czasu wystawienia.\n",
    "\n",
    "Następnie przekształć ten obiekt w pivot table za pomocą metody `df.pivot()`."
   ]
  },
  {
   "cell_type": "code",
   "execution_count": null,
   "metadata": {},
   "outputs": [],
   "source": [
    "df_pivot = df.groupby(['body_type', 'color'], as_index=False)['duration_listed'].mean()\n",
    "df_pivot_table = df_pivot.pivot(index='body_type', columns='color')\n",
    "df_pivot_table"
   ]
  },
  {
   "cell_type": "markdown",
   "metadata": {},
   "source": [
    "#### Zastosuj stylowanie.\n",
    "***\n",
    "Weź stworzony komórkę wyżej obiekt (`df_pivot_table`) i zastosuj na nim stylowanie z następującymi elementami:\n",
    "- tytuł wykresu\n",
    "- tło komórki ma mieć różny kolor w zależności od wielkości w komórce\n",
    "- sformatowane wartości w komórce (liczby całkowite bez przecinka, wartości brakujące jaki napis \"brak\"\n",
    "- podświetlenie największych wartości\n",
    "- ustawienie odpowiednich marginesów w komórkach (padding)"
   ]
  },
  {
   "cell_type": "code",
   "execution_count": null,
   "metadata": {},
   "outputs": [],
   "source": [
    "## styling\n",
    "df_pivot_table\\\n",
    "    .style\\\n",
    "    .format('{:.0f}', na_rep=\"\")\\\n",
    "    .background_gradient(cmap=\"Blues\")\\\n",
    "    .set_caption(\"Tabela 1. Średni czas trwania Długość \")\\\n",
    "    .set_table_styles([{'selector': 'th',\n",
    "                        'props': [('font-weight', 'bold'),\n",
    "                                  ('text-align', 'center'),\n",
    "                                  ('font-size', '13pt')]},\n",
    "                       {'selector': 'caption',\n",
    "                        'props': [('font-weight', 'bold'),\n",
    "                                  ('color', 'white'),\n",
    "                                  ('font-size', '16pt')]}])\\\n",
    "    .highlight_min(color=\"Red\")\\\n",
    "    .highlight_max(color=\"Green\")\\\n",
    "    .set_properties(padding='8px 20px')"
   ]
  },
  {
   "cell_type": "markdown",
   "metadata": {},
   "source": [
    "#### Narysuj heatmapę wartości z pivot table.\n",
    "***"
   ]
  },
  {
   "cell_type": "code",
   "execution_count": null,
   "metadata": {},
   "outputs": [],
   "source": [
    "sns.heatmap(pivot_table, cmap='gray')\n",
    "plt.show()"
   ]
  },
  {
   "cell_type": "markdown",
   "metadata": {},
   "source": [
    "#### Stwórz scatter plot przy pomocy pandasa.\n",
    "***\n",
    "Zobrazuj zależność pomiędzy przebiegiem a ceną, używając do tego funkcji z biblioteki pandas."
   ]
  },
  {
   "cell_type": "code",
   "execution_count": null,
   "metadata": {},
   "outputs": [],
   "source": [
    "ax = df.plot(kind='scatter',\n",
    "                 x='odometer_value',\n",
    "                 y='price_usd',\n",
    "                 title='Odometer and Price')"
   ]
  },
  {
   "cell_type": "markdown",
   "metadata": {},
   "source": [
    "#### Stwórz scatter plot przy pomocy matplotliba.\n",
    "***\n",
    "Zobrazuj zależność pomiędzy przebiegiem a ceną, używając do tego funkcji z biblioteki matplotliba."
   ]
  },
  {
   "cell_type": "code",
   "execution_count": null,
   "metadata": {},
   "outputs": [],
   "source": [
    "plt.scatter( df['odometer_value'], df['price_usd'])\n",
    "plt.show()"
   ]
  },
  {
   "cell_type": "markdown",
   "metadata": {},
   "source": [
    "#### Stwórz scatter plot przy pomocy seaborna.\n",
    "***\n",
    "Zobrazuj zależność pomiędzy przebiegiem a ceną, używając do tego funkcji z biblioteki seaborna."
   ]
  },
  {
   "cell_type": "code",
   "execution_count": null,
   "metadata": {},
   "outputs": [],
   "source": [
    "sns.scatterplot(x='odometer_value', y='price_usd', data=df)\n",
    "plt.show()"
   ]
  },
  {
   "cell_type": "markdown",
   "metadata": {},
   "source": [
    "#### Popraw scatter plot przy pomocy seaborna.\n",
    "***\n",
    "Zmniejsz rozmiar znaczników i zmień ich kolor na zielony. Ogranicz oś x i y tak, żeby zaczynały się od zera. Usuń obwódkę wokół znaczników (`edgecolor`). Usuń ramkę wokół wykresu (`sns.despine`)."
   ]
  },
  {
   "cell_type": "code",
   "execution_count": null,
   "metadata": {},
   "outputs": [],
   "source": [
    "sns.scatterplot(x='odometer_value', y='price_usd', data=df, s=4, color='green', edgecolor=None)\n",
    "sns.despine()\n",
    "plt.xlim(0,)\n",
    "plt.ylim(0,)\n",
    "plt.show()"
   ]
  },
  {
   "cell_type": "markdown",
   "metadata": {},
   "source": [
    "#### Podziel na biny.\n",
    "***\n",
    "Podziel wartości cen samochodów na 5 binów ('Low', 'Medium-Low', 'Medium', 'Medium-High', 'High')."
   ]
  },
  {
   "cell_type": "code",
   "execution_count": null,
   "metadata": {},
   "outputs": [],
   "source": [
    "bins = np.linspace(min(df['price_usd']), max(df['price_usd']), 6)"
   ]
  },
  {
   "cell_type": "markdown",
   "metadata": {},
   "source": [
    "#### Rozdziel na biny.\n",
    "***\n",
    "Stwórz nową kolumnę `'price_usd_binned'` i przyporządkuj każdą wartość do jednego z 5 binów ('Low', 'Medium-Low', 'Medium', 'Medium-High', 'High')."
   ]
  },
  {
   "cell_type": "code",
   "execution_count": null,
   "metadata": {},
   "outputs": [],
   "source": [
    "group_names = ['Low', 'Medium-Low', 'Medium', 'Medium-High', 'High']\n",
    "df['price_usd_binned'] = pd.cut(df['price_usd'], bins, labels=group_names, include_lowest=True )\n",
    "df[['price_usd','price_usd_binned']].head(20)"
   ]
  },
  {
   "cell_type": "markdown",
   "metadata": {},
   "source": [
    "#### Narysuj histogram z binami za pomocą pandasa.\n",
    "***\n",
    "Stwórz histogram, który sam podzieli wartości z kolumny `'price_usd'` na 5 binów."
   ]
  },
  {
   "cell_type": "code",
   "execution_count": null,
   "metadata": {},
   "outputs": [],
   "source": [
    "df.plot.hist(y='price_usd', bins=5)"
   ]
  },
  {
   "cell_type": "markdown",
   "metadata": {},
   "source": [
    "#### Narysuj histogram z binami za pomocą matplotliba.\n",
    "***\n",
    "Stwórz histogram, który sam podzieli wartości z kolumny `'price_usd'` na 5 binów."
   ]
  },
  {
   "cell_type": "code",
   "execution_count": null,
   "metadata": {},
   "outputs": [],
   "source": [
    "plt.hist(df['price_usd'], bins=5)\n",
    "plt.show()"
   ]
  },
  {
   "cell_type": "markdown",
   "metadata": {},
   "source": [
    "#### Narysuj histogram z binami za pomocą matplotliba.\n",
    "***\n",
    "Stwórz histogram wartości z kolumny `'price_usd_binned'`."
   ]
  },
  {
   "cell_type": "code",
   "execution_count": null,
   "metadata": {},
   "outputs": [],
   "source": [
    "plt.hist(df['price_usd_binned'])\n",
    "plt.show()"
   ]
  },
  {
   "cell_type": "markdown",
   "metadata": {},
   "source": [
    "#### Narysuj histogram z binami za pomocą seaborna.\n",
    "***\n",
    "Stwórz histogram, który sam podzieli wartości z kolumny `'price_usd'` na 5 binów."
   ]
  },
  {
   "cell_type": "code",
   "execution_count": null,
   "metadata": {},
   "outputs": [],
   "source": [
    "sns.histplot(x='price_usd', data=df, bins=5)\n",
    "plt.show()"
   ]
  },
  {
   "cell_type": "markdown",
   "metadata": {},
   "source": [
    "#### Narysuj histogram z binami za pomocą seaborna.\n",
    "***\n",
    "Stwórz histogram wartości z kolumny `'price_usd_binned'`."
   ]
  },
  {
   "cell_type": "code",
   "execution_count": null,
   "metadata": {},
   "outputs": [],
   "source": [
    "sns.histplot(x='price_usd_binned', data=df)\n",
    "plt.show()"
   ]
  },
  {
   "cell_type": "markdown",
   "metadata": {},
   "source": [
    "#### Zmień histogram z binami za pomocą seaborna.\n",
    "***\n",
    "Nadaj tytuł wykresowi, obróć nazwy binów o 90 stopni, zmień kolor słupków na czerwony, pogrub kontur słupków i zmień kolor konturu na czarny."
   ]
  },
  {
   "cell_type": "code",
   "execution_count": null,
   "metadata": {},
   "outputs": [],
   "source": [
    "sns.histplot(x='price_usd_binned', data=df, color='red',  edgecolor='black', linewidth=5)\n",
    "plt.xticks(rotation=90)\n",
    "plt.title('Histogram cen samochodów')\n",
    "plt.show()"
   ]
  },
  {
   "cell_type": "markdown",
   "metadata": {},
   "source": [
    "#### Pokaż na wykresie, której wartości danych jest najwięcej.\n",
    "***\n",
    "Pokaż na wykresie, której marki samochodów jest najwięcej.\n",
    "NIE używaj do tego `sns.histplot()`."
   ]
  },
  {
   "cell_type": "code",
   "execution_count": null,
   "metadata": {},
   "outputs": [],
   "source": [
    "sns.countplot(x='manufacturer_name', data=df)\n",
    "plt.show()"
   ]
  },
  {
   "cell_type": "code",
   "execution_count": null,
   "metadata": {},
   "outputs": [],
   "source": [
    "sns.regplot(x=\"number_of_photos\", y=\"duration_listed\", data=df, scatter_kws={'s': 2}, line_kws={'color': 'red', 'lw': 2})\n",
    "plt.xlim(df[\"number_of_photos\"].min(), df[\"number_of_photos\"].max())\n",
    "plt.ylim(0, )\n",
    "plt.show()"
   ]
  },
  {
   "cell_type": "markdown",
   "metadata": {},
   "source": [
    "#### Popraw wykres, przedstawiający której wartości danych jest najwięcej.\n",
    "***\n",
    "Zmień podpisy przy osi x, żeby na nachodziły na siebie (obróć i zmniejsz czcionkę).\n",
    "Ustaw słupki według malejącej liczby wystąpień - argument `'order'` (`df['manufacturer_name'].value_counts().index` zwraca listę kolumny w kolejności, jeśli chodzi o malejącą liczbę wystąpień)."
   ]
  },
  {
   "cell_type": "code",
   "execution_count": null,
   "metadata": {},
   "outputs": [],
   "source": [
    "sns.countplot(x='manufacturer_name', data=df, order=df['manufacturer_name'].value_counts().index)\n",
    "plt.tick_params(axis='x', labelsize=8)\n",
    "plt.xticks(rotation=90)\n",
    "plt.show()"
   ]
  },
  {
   "cell_type": "markdown",
   "metadata": {},
   "source": [
    "#### Policz korelacje.\n",
    "***\n",
    "Policz korelację między wszystkimi kolumnami zawierającymi dane numeryczne."
   ]
  },
  {
   "cell_type": "code",
   "execution_count": null,
   "metadata": {},
   "outputs": [],
   "source": [
    "df.corr(numeric_only=True)"
   ]
  },
  {
   "cell_type": "markdown",
   "metadata": {},
   "source": [
    "#### Narysuj heatmapę korelacji.\n",
    "***\n",
    "Spróbuj różnych wartości argumentu `'cmap'`."
   ]
  },
  {
   "cell_type": "code",
   "execution_count": null,
   "metadata": {},
   "outputs": [],
   "source": [
    "sns.heatmap(df.corr(numeric_only=True), cmap='Greens')\n",
    "plt.show()"
   ]
  },
  {
   "cell_type": "markdown",
   "metadata": {},
   "source": [
    "#### Narysuj wykres dla dwóch zmiennych z dodatnią korelacją.\n",
    "***\n",
    "Na heatmapie znajdź dwie zmienne z dodatnią korelacją.\n",
    "Narysuj ich wykres wraz z linią regresji.\n",
    "Zmień kolor linii regresji na czerwony i upewnij się, że osie x i y zaczynają się i kończą przy odpowiednich wartościach."
   ]
  },
  {
   "cell_type": "code",
   "execution_count": null,
   "metadata": {},
   "outputs": [],
   "source": [
    "sns.regplot(x=\"up_counter\", y=\"duration_listed\", data=df, scatter_kws={'s': 2}, line_kws={'color': 'red', 'lw': 2})\n",
    "plt.xlim(df[\"up_counter\"].min(), df[\"up_counter\"].max())\n",
    "plt.ylim(0, )\n",
    "plt.show()"
   ]
  },
  {
   "cell_type": "markdown",
   "metadata": {},
   "source": [
    "#### Narysuj wykres dla dwóch zmiennych z korelacją bliską zera.\n",
    "***\n",
    "Na heatmapie znajdź dwie zmienne z korelacją bliską zera.\n",
    "Narysuj ich wykres wraz z linią regresji.\n",
    "Zmień kolor linii regresji na czerwony i upewnij się, że osie x i y zaczynają się i kończą przy odpowiednich wartościach."
   ]
  },
  {
   "cell_type": "markdown",
   "metadata": {},
   "source": [
    "#### Narysuj wykres dla dwóch zmiennych z ujemną korelacją.\n",
    "***\n",
    "Na heatmapie znajdź dwie zmienne z ujemną korelacją.\n",
    "Narysuj ich wykres wraz z linią regresji.\n",
    "Zmień kolor linii regresji na czerwony i upewnij się, że osie x i y zaczynają się i kończą przy odpowiednich wartościach."
   ]
  },
  {
   "cell_type": "code",
   "execution_count": null,
   "metadata": {},
   "outputs": [],
   "source": [
    "sns.regplot(x=\"odometer_value\", y=\"price_usd\", data=df, scatter_kws={'s': 2}, line_kws={'color': 'red', 'lw': 2})\n",
    "plt.xlim(df[\"odometer_value\"].min(), df[\"odometer_value\"].max())\n",
    "plt.ylim(0, )\n",
    "plt.show()"
   ]
  },
  {
   "cell_type": "markdown",
   "metadata": {},
   "source": [
    "#### Wybierz dane dla konkretnej marki samochodu\n",
    "***\n",
    "Stwórz nowy obiekt `'df_manufacturer'`, w którym będą znajdować się tylko samochody marki `'Land Rover'`."
   ]
  },
  {
   "cell_type": "code",
   "execution_count": null,
   "metadata": {},
   "outputs": [],
   "source": [
    "df_manufacturer = df.query('manufacturer_name == \"Land Rover\"')\n",
    "df_manufacturer"
   ]
  },
  {
   "cell_type": "markdown",
   "metadata": {},
   "source": [
    "#### Podziel dane ze względu na model samochodu.\n",
    "***\n",
    "Pogrupuj dane ze względu na model samochodu i dla każdej podgrupy policzyć średnią cenę i liczbę obiektów w danej podgrupie."
   ]
  },
  {
   "cell_type": "code",
   "execution_count": null,
   "metadata": {},
   "outputs": [],
   "source": [
    "df_manufacturer.groupby('model_name')['price_usd'].agg(['mean', 'count'])"
   ]
  },
  {
   "cell_type": "markdown",
   "metadata": {},
   "source": [
    "#### Stwórz wykres skrzypcowy przedstawiający rozkład cen ze względu na model samochodu\n",
    "***\n",
    "Korzystając z danych zawartych w obiekcie `'df_manufacturer'`, zwizualizuj rozkład cen w zależności od modelu."
   ]
  },
  {
   "cell_type": "code",
   "execution_count": null,
   "metadata": {},
   "outputs": [],
   "source": [
    "sns.violinplot(x='model_name', y='price_usd', data=df_manufacturer)\n",
    "plt.show()"
   ]
  },
  {
   "cell_type": "markdown",
   "metadata": {},
   "source": [
    "#### Popraw wykres skrzypcowy przedstawiający rozkład cen ze względu na model samochodu\n",
    "***\n",
    "Zmniejsz grubość konturów, ogranicz oś y, żeby zaczynała się w zerze, zmień podpisy przy osi x, żeby na nachodziły na siebie."
   ]
  },
  {
   "cell_type": "code",
   "execution_count": null,
   "metadata": {},
   "outputs": [],
   "source": [
    "sns.violinplot(x='model_name', y='price_usd', data=df_manufacturer, linewidth=1, edgecolor='black')\n",
    "plt.ylim(0,)\n",
    "plt.xticks(rotation=90)\n",
    "plt.show()"
   ]
  },
  {
   "cell_type": "markdown",
   "metadata": {},
   "source": [
    "#### Skorzystaj z catplot, żeby stworzyć kilka wykresów skrzypcowych.\n",
    "***\n",
    "Wykresy skrzypcowe mają ilustrować rozkład przebiegu (`'odometer_value'`) w zależności od rodzaju napędu (`'drivetrain'`) i rodzaju skrzyni biegów (`'transmission'`). W każdej kolumnie będzie osobny wykres dla każdego rodzaju silnika (`'engine_type'`)."
   ]
  },
  {
   "cell_type": "code",
   "execution_count": null,
   "metadata": {},
   "outputs": [],
   "source": [
    "sns.catplot(x='drivetrain', y='odometer_value', hue='transmission', kind='violin', col='engine_type', data=df, palette='seismic')\n",
    "plt.ylim(0,)\n",
    "plt.show()"
   ]
  }
 ],
 "metadata": {
  "kernelspec": {
   "display_name": "Python 3 (ipykernel)",
   "language": "python",
   "name": "python3"
  },
  "language_info": {
   "codemirror_mode": {
    "name": "ipython",
    "version": 3
   },
   "file_extension": ".py",
   "mimetype": "text/x-python",
   "name": "python",
   "nbconvert_exporter": "python",
   "pygments_lexer": "ipython3",
   "version": "3.9.5"
  }
 },
 "nbformat": 4,
 "nbformat_minor": 1
}
