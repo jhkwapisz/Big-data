{
 "cells": [
  {
   "cell_type": "markdown",
   "source": [
    "# Big Data w biznesie"
   ],
   "metadata": {
    "collapsed": false
   }
  },
  {
   "cell_type": "markdown",
   "source": [
    "## Trzeci notebook rozwiązania"
   ],
   "metadata": {
    "collapsed": false
   }
  },
  {
   "cell_type": "code",
   "execution_count": null,
   "outputs": [],
   "source": [
    "from IPython.core.display import HTML\n",
    "\n",
    "def _set_css_style(css_file_path):\n",
    "   \"\"\"\n",
    "   Read the custom CSS file and load it into Jupyter.\n",
    "   Pass the file path to the CSS file.\n",
    "   \"\"\"\n",
    "\n",
    "   styles = open(css_file_path, \"r\").read()\n",
    "   s = '<style>%s</style>' % styles\n",
    "   return HTML(s)\n",
    "_set_css_style(\"../custom.css\")"
   ],
   "metadata": {
    "collapsed": false
   }
  },
  {
   "cell_type": "markdown",
   "source": [
    "#### Zaimportuj biblioteki numpy, pandas, matplotlib i seaborn."
   ],
   "metadata": {
    "collapsed": false
   }
  },
  {
   "cell_type": "code",
   "execution_count": null,
   "outputs": [],
   "source": [
    "import numpy as np\n",
    "import pandas as pd\n",
    "import matplotlib.pyplot as plt\n",
    "%matplotlib inline\n",
    "import seaborn as sns"
   ],
   "metadata": {
    "collapsed": false
   }
  },
  {
   "cell_type": "markdown",
   "source": [
    "#### Załaduj plik csv.\n",
    "***\n",
    "Do zmiennej `df` załaduj plik `cars.csv`."
   ],
   "metadata": {
    "collapsed": false
   }
  },
  {
   "cell_type": "code",
   "execution_count": null,
   "outputs": [],
   "source": [
    "df = pd.read_csv(\"./cars.csv\")"
   ],
   "metadata": {
    "collapsed": false
   }
  },
  {
   "cell_type": "markdown",
   "source": [
    "#### Wyświetl pierwsze 5 linijek obiektu ''df''."
   ],
   "metadata": {
    "collapsed": false
   }
  },
  {
   "cell_type": "code",
   "execution_count": null,
   "outputs": [],
   "source": [
    "df.head(5)"
   ],
   "metadata": {
    "collapsed": false
   }
  },
  {
   "cell_type": "markdown",
   "source": [
    "#### Narysuj wykres pudełkowego\n",
    "***\n",
    "Narysuj wykres, który przedstawi zależność typu silnika od ceny."
   ],
   "metadata": {
    "collapsed": false
   }
  },
  {
   "cell_type": "code",
   "source": [
    "sns.boxplot(x='engine_type', y='price_usd', data=df)\n",
    "plt.show()"
   ],
   "metadata": {
    "collapsed": false
   },
   "execution_count": null,
   "outputs": []
  },
  {
   "cell_type": "markdown",
   "source": [
    "#### Popraw wykres pudełkowego\n",
    "***\n",
    "Popraw wykres, tak żeby zakres cen na wykresie zaczynał się od 0."
   ],
   "metadata": {
    "collapsed": false
   }
  },
  {
   "cell_type": "code",
   "execution_count": null,
   "outputs": [],
   "source": [
    "sns.boxplot(x='engine_type', y='price_usd', data=df)\n",
    "plt.ylim(0,)\n",
    "plt.show()"
   ],
   "metadata": {
    "collapsed": false
   }
  },
  {
   "cell_type": "markdown",
   "source": [
    "#### Stwórz dummy variables.\n",
    "***\n",
    "Stwórz obiekt `dummy_variable` z danych w kolumnie `'engine_type'`."
   ],
   "metadata": {
    "collapsed": false
   }
  },
  {
   "cell_type": "code",
   "execution_count": null,
   "outputs": [],
   "source": [
    "dummy_variable = pd.get_dummies(df['engine_type'])\n",
    "dummy_variable"
   ],
   "metadata": {
    "collapsed": false
   }
  },
  {
   "cell_type": "markdown",
   "source": [
    "#### Zmień nazwy kolumn w dummy variables.\n",
    "***\n",
    "Zmień nazwy kolumn w obiekcie `dummy_variable`, tak żeby każda kolumna zaczynała się od `'engine_type-'`."
   ],
   "metadata": {
    "collapsed": false
   }
  },
  {
   "cell_type": "code",
   "execution_count": null,
   "outputs": [],
   "source": [
    "rename_dict = df['engine_type'].value_counts().index.tolist()\n",
    "dummy_variable = dummy_variable.rename(columns={x:f'engine_type-{x}' for x in rename_dict})\n",
    "dummy_variable"
   ],
   "metadata": {
    "collapsed": false
   }
  },
  {
   "cell_type": "markdown",
   "source": [
    "#### Dodaj dummy variables do DataFrame'a.\n",
    "***\n",
    "Połącz ze sobą stworzony obiekt `'dummy viariable'` z obiektem `'df'`."
   ],
   "metadata": {
    "collapsed": false
   }
  },
  {
   "cell_type": "code",
   "execution_count": null,
   "outputs": [],
   "source": [
    "df = pd.concat([df, dummy_variable], axis=1)\n",
    "df"
   ],
   "metadata": {
    "collapsed": false
   }
  },
  {
   "cell_type": "markdown",
   "source": [
    "#### Stwórz pivot table.\n",
    "***\n",
    "Stwórz tabelę, która będzie obrazować jak typ karoserii (`'body_type'`) i kolor wypływają na średnią długość łącznego czasu wystawienia (`'duration_listed'`)"
   ],
   "metadata": {
    "collapsed": false
   }
  },
  {
   "cell_type": "code",
   "execution_count": null,
   "outputs": [],
   "source": [
    "pivot_table = pd.pivot_table(df, values='duration_listed', index='body_type', columns='color', aggfunc='mean')\n",
    "pivot_table"
   ],
   "metadata": {
    "collapsed": false
   }
  },
  {
   "cell_type": "markdown",
   "source": [
    "#### Wypełnij brakujące wartości w pivot table.\n",
    "***\n",
    "Wszystkie komórki z brakującymi wartościami wypełnij średnią długością łącznego czasu wystawienia dla samochodów o takim samym typie karoserii."
   ],
   "metadata": {
    "collapsed": false
   }
  },
  {
   "cell_type": "code",
   "execution_count": null,
   "outputs": [],
   "source": [
    "pivot_table = pivot_table.apply(lambda row: row.fillna(row.mean()), axis=1)\n",
    "pivot_table"
   ],
   "metadata": {
    "collapsed": false
   }
  },
  {
   "cell_type": "markdown",
   "source": [
    "#### Stwórz pivot table innym sposobem.\n",
    "***\n",
    "Najpierw pogrupuj dane po kolumnach `'body_type'` i `'color'`, a następnie dla każdej grupy policz średnią długość łącznego czasu wystawienia.\n",
    "\n",
    "Następnie przekształć ten obiekt w pivot table za pomocą metody `df.pivot()`."
   ],
   "metadata": {
    "collapsed": false
   }
  },
  {
   "cell_type": "code",
   "execution_count": null,
   "outputs": [],
   "source": [
    "df_pivot = df.groupby(['body_type', 'color'], as_index=False)['duration_listed'].mean()\n",
    "df_pivot_table = df_pivot.pivot(index='body_type', columns='color')\n",
    "df_pivot_table"
   ],
   "metadata": {
    "collapsed": false
   }
  },
  {
   "cell_type": "markdown",
   "source": [
    "#### Zastosuj stylowanie.\n",
    "***\n",
    "Weź stworzony komórkę wyżej obiekt (`df_pivot_table`) i zastosuj na nim stylowanie z następującymi elementami:\n",
    "- tytuł wykresu\n",
    "- tło komórki ma mieć różny kolor w zależności od wielkości w komórce\n",
    "- sformatowane wartości w komórce (liczby całkowite bez przecinka, wartości brakujące jaki napis \"brak\"\n",
    "- podświetlenie największych wartości\n",
    "- ustawienie odpowiednich marginesów w komórkach (padding)"
   ],
   "metadata": {
    "collapsed": false
   }
  },
  {
   "cell_type": "code",
   "execution_count": null,
   "outputs": [],
   "source": [
    "## styling\n",
    "df_pivot_table\\\n",
    "    .style\\\n",
    "    .format('{:.0f}', na_rep=\"\")\\\n",
    "    .background_gradient(cmap=\"Blues\")\\\n",
    "    .set_caption(\"Tabela 1. Średni czas trwania Długość \")\\\n",
    "    .set_table_styles([{'selector': 'th',\n",
    "                        'props': [('font-weight', 'bold'),\n",
    "                                  ('text-align', 'center'),\n",
    "                                  ('font-size', '13pt')]},\n",
    "                       {'selector': 'caption',\n",
    "                        'props': [('font-weight', 'bold'),\n",
    "                                  ('color', 'white'),\n",
    "                                  ('font-size', '16pt')]}])\\\n",
    "    .highlight_min(color=\"Red\")\\\n",
    "    .highlight_max(color=\"Green\")\\\n",
    "    .set_properties(padding='8px 20px')"
   ],
   "metadata": {
    "collapsed": false
   }
  },
  {
   "cell_type": "markdown",
   "source": [
    "#### Narysuj heatmapę wartości z pivot table.\n",
    "***"
   ],
   "metadata": {
    "collapsed": false
   }
  },
  {
   "cell_type": "code",
   "execution_count": null,
   "outputs": [],
   "source": [
    "sns.heatmap(pivot_table, cmap='gray')\n",
    "plt.show()"
   ],
   "metadata": {
    "collapsed": false
   }
  },
  {
   "cell_type": "markdown",
   "source": [
    "#### Stwórz scatter plot przy pomocy pandasa.\n",
    "***\n",
    "Zobrazuj zależność pomiędzy przebiegiem a ceną, używając do tego funkcji z biblioteki pandas."
   ],
   "metadata": {
    "collapsed": false
   }
  },
  {
   "cell_type": "code",
   "execution_count": null,
   "outputs": [],
   "source": [
    "ax = df.plot(kind='scatter',\n",
    "                 x='odometer_value',\n",
    "                 y='price_usd',\n",
    "                 title='Odometer and Price')"
   ],
   "metadata": {
    "collapsed": false
   }
  },
  {
   "cell_type": "markdown",
   "source": [
    "#### Stwórz scatter plot przy pomocy matplotliba.\n",
    "***\n",
    "Zobrazuj zależność pomiędzy przebiegiem a ceną, używając do tego funkcji z biblioteki matplotliba."
   ],
   "metadata": {
    "collapsed": false
   }
  },
  {
   "cell_type": "code",
   "execution_count": null,
   "outputs": [],
   "source": [
    "plt.scatter( df['odometer_value'], df['price_usd'])\n",
    "plt.show()"
   ],
   "metadata": {
    "collapsed": false
   }
  },
  {
   "cell_type": "markdown",
   "source": [
    "#### Stwórz scatter plot przy pomocy seaborna.\n",
    "***\n",
    "Zobrazuj zależność pomiędzy przebiegiem a ceną, używając do tego funkcji z biblioteki seaborna."
   ],
   "metadata": {
    "collapsed": false
   }
  },
  {
   "cell_type": "code",
   "execution_count": null,
   "outputs": [],
   "source": [
    "sns.scatterplot(x='odometer_value', y='price_usd', data=df)\n",
    "plt.show()"
   ],
   "metadata": {
    "collapsed": false
   }
  },
  {
   "cell_type": "markdown",
   "source": [
    "#### Popraw scatter plot przy pomocy seaborna.\n",
    "***\n",
    "Zmniejsz rozmiar znaczników i zmień ich kolor na zielony. Ogranicz oś x i y tak, żeby zaczynały się od zera. Usuń obwódkę wokół znaczników (`edgecolor`). Usuń ramkę wokół wykresu (`sns.despine`)."
   ],
   "metadata": {
    "collapsed": false
   }
  },
  {
   "cell_type": "code",
   "execution_count": null,
   "outputs": [],
   "source": [
    "sns.scatterplot(x='odometer_value', y='price_usd', data=df, s=4, color='green', edgecolor=None)\n",
    "sns.despine()\n",
    "plt.xlim(0,)\n",
    "plt.ylim(0,)\n",
    "plt.show()"
   ],
   "metadata": {
    "collapsed": false
   }
  },
  {
   "cell_type": "markdown",
   "source": [
    "#### Podziel na biny.\n",
    "***\n",
    "Podziel wartości cen samochodów na 5 binów ('Low', 'Medium-Low', 'Medium', 'Medium-High', 'High')."
   ],
   "metadata": {
    "collapsed": false
   }
  },
  {
   "cell_type": "code",
   "execution_count": null,
   "outputs": [],
   "source": [
    "bins = np.linspace(min(df['price_usd']), max(df['price_usd']), 6)"
   ],
   "metadata": {
    "collapsed": false
   }
  },
  {
   "cell_type": "markdown",
   "source": [
    "#### Rozdziel na biny.\n",
    "***\n",
    "Stwórz nową kolumnę `'price_usd_binned'` i przyporządkuj każdą wartość do jednego z 5 binów ('Low', 'Medium-Low', 'Medium', 'Medium-High', 'High')."
   ],
   "metadata": {
    "collapsed": false
   }
  },
  {
   "cell_type": "code",
   "execution_count": null,
   "outputs": [],
   "source": [
    "group_names = ['Low', 'Medium-Low', 'Medium', 'Medium-High', 'High']\n",
    "df['price_usd_binned'] = pd.cut(df['price_usd'], bins, labels=group_names, include_lowest=True )\n",
    "df[['price_usd','price_usd_binned']].head(20)"
   ],
   "metadata": {
    "collapsed": false
   }
  },
  {
   "cell_type": "markdown",
   "source": [
    "#### Narysuj histogram z binami za pomocą pandasa.\n",
    "***\n",
    "Stwórz histogram, który sam podzieli wartości z kolumny `'price_usd'` na 5 binów."
   ],
   "metadata": {
    "collapsed": false
   }
  },
  {
   "cell_type": "code",
   "execution_count": null,
   "outputs": [],
   "source": [
    "df.plot.hist(y='price_usd', bins=5)"
   ],
   "metadata": {
    "collapsed": false
   }
  },
  {
   "cell_type": "markdown",
   "source": [
    "#### Narysuj histogram z binami za pomocą matplotliba.\n",
    "***\n",
    "Stwórz histogram, który sam podzieli wartości z kolumny `'price_usd'` na 5 binów."
   ],
   "metadata": {
    "collapsed": false
   }
  },
  {
   "cell_type": "code",
   "execution_count": null,
   "outputs": [],
   "source": [
    "plt.hist(df['price_usd'], bins=5)\n",
    "plt.show()"
   ],
   "metadata": {
    "collapsed": false
   }
  },
  {
   "cell_type": "markdown",
   "source": [
    "#### Narysuj histogram z binami za pomocą matplotliba.\n",
    "***\n",
    "Stwórz histogram wartości z kolumny `'price_usd_binned'`."
   ],
   "metadata": {
    "collapsed": false
   }
  },
  {
   "cell_type": "code",
   "execution_count": null,
   "outputs": [],
   "source": [
    "plt.hist(df['price_usd_binned'])\n",
    "plt.show()"
   ],
   "metadata": {
    "collapsed": false
   }
  },
  {
   "cell_type": "markdown",
   "source": [
    "#### Narysuj histogram z binami za pomocą seaborna.\n",
    "***\n",
    "Stwórz histogram, który sam podzieli wartości z kolumny `'price_usd'` na 5 binów."
   ],
   "metadata": {
    "collapsed": false
   }
  },
  {
   "cell_type": "code",
   "execution_count": null,
   "outputs": [],
   "source": [
    "sns.histplot(x='price_usd', data=df, bins=5)\n",
    "plt.show()"
   ],
   "metadata": {
    "collapsed": false
   }
  },
  {
   "cell_type": "markdown",
   "source": [
    "#### Narysuj histogram z binami za pomocą seaborna.\n",
    "***\n",
    "Stwórz histogram wartości z kolumny `'price_usd_binned'`."
   ],
   "metadata": {
    "collapsed": false
   }
  },
  {
   "cell_type": "code",
   "execution_count": null,
   "outputs": [],
   "source": [
    "sns.histplot(x='price_usd_binned', data=df)\n",
    "plt.show()"
   ],
   "metadata": {
    "collapsed": false
   }
  },
  {
   "cell_type": "markdown",
   "source": [
    "#### Zmień histogram z binami za pomocą seaborna.\n",
    "***\n",
    "Nadaj tytuł wykresowi, obróć nazwy binów o 90 stopni, zmień kolor słupków na czerwony, pogrub kontur słupków i zmień kolor konturu na czarny."
   ],
   "metadata": {
    "collapsed": false
   }
  },
  {
   "cell_type": "code",
   "execution_count": null,
   "outputs": [],
   "source": [
    "sns.histplot(x='price_usd_binned', data=df, color='red',  edgecolor='black', linewidth=5)\n",
    "plt.xticks(rotation=90)\n",
    "plt.title('Histogram cen samochodów')\n",
    "plt.show()"
   ],
   "metadata": {
    "collapsed": false
   }
  },
  {
   "cell_type": "markdown",
   "source": [
    "#### Pokaż na wykresie, której wartości danych jest najwięcej.\n",
    "***\n",
    "Pokaż na wykresie, której marki samochodów jest najwięcej.\n",
    "NIE używaj do tego `sns.histplot()`."
   ],
   "metadata": {
    "collapsed": false
   }
  },
  {
   "cell_type": "code",
   "execution_count": null,
   "outputs": [],
   "source": [
    "sns.countplot(x='manufacturer_name', data=df)\n",
    "plt.show()"
   ],
   "metadata": {
    "collapsed": false
   }
  },
  {
   "cell_type": "code",
   "execution_count": null,
   "outputs": [],
   "source": [
    "sns.regplot(x=\"number_of_photos\", y=\"duration_listed\", data=df, scatter_kws={'s': 2}, line_kws={'color': 'red', 'lw': 2})\n",
    "plt.xlim(df[\"number_of_photos\"].min(), df[\"number_of_photos\"].max())\n",
    "plt.ylim(0, )\n",
    "plt.show()"
   ],
   "metadata": {
    "collapsed": false
   }
  },
  {
   "cell_type": "markdown",
   "source": [
    "#### Popraw wykres, przedstawiający której wartości danych jest najwięcej.\n",
    "***\n",
    "Zmień podpisy przy osi x, żeby na nachodziły na siebie (obróć i zmniejsz czcionkę).\n",
    "Ustaw słupki według malejącej liczby wystąpień - argument `'order'` (`df['manufacturer_name'].value_counts().index` zwraca listę kolumny w kolejności, jeśli chodzi o malejącą liczbę wystąpień)."
   ],
   "metadata": {
    "collapsed": false
   }
  },
  {
   "cell_type": "code",
   "execution_count": null,
   "outputs": [],
   "source": [
    "sns.countplot(x='manufacturer_name', data=df, order=df['manufacturer_name'].value_counts().index)\n",
    "plt.tick_params(axis='x', labelsize=8)\n",
    "plt.xticks(rotation=90)\n",
    "plt.show()"
   ],
   "metadata": {
    "collapsed": false
   }
  },
  {
   "cell_type": "markdown",
   "source": [
    "#### Policz korelacje.\n",
    "***\n",
    "Policz korelację między wszystkimi kolumnami zawierającymi dane numeryczne."
   ],
   "metadata": {
    "collapsed": false
   }
  },
  {
   "cell_type": "code",
   "execution_count": null,
   "outputs": [],
   "source": [
    "df.corr(numeric_only=True)"
   ],
   "metadata": {
    "collapsed": false
   }
  },
  {
   "cell_type": "markdown",
   "source": [
    "#### Narysuj heatmapę korelacji.\n",
    "***\n",
    "Spróbuj różnych wartości argumentu `'cmap'`."
   ],
   "metadata": {
    "collapsed": false
   }
  },
  {
   "cell_type": "code",
   "execution_count": null,
   "outputs": [],
   "source": [
    "sns.heatmap(df.corr(numeric_only=True), cmap='Greens')\n",
    "plt.show()"
   ],
   "metadata": {
    "collapsed": false
   }
  },
  {
   "cell_type": "markdown",
   "source": [
    "#### Narysuj wykres dla dwóch zmiennych z dodatnią korelacją.\n",
    "***\n",
    "Na heatmapie znajdź dwie zmienne z dodatnią korelacją.\n",
    "Narysuj ich wykres wraz z linią regresji.\n",
    "Zmień kolor linii regresji na czerwony i upewnij się, że osie x i y zaczynają się i kończą przy odpowiednich wartościach."
   ],
   "metadata": {
    "collapsed": false
   }
  },
  {
   "cell_type": "code",
   "execution_count": null,
   "outputs": [],
   "source": [
    "sns.regplot(x=\"up_counter\", y=\"duration_listed\", data=df, scatter_kws={'s': 2}, line_kws={'color': 'red', 'lw': 2})\n",
    "plt.xlim(df[\"up_counter\"].min(), df[\"up_counter\"].max())\n",
    "plt.ylim(0, )\n",
    "plt.show()"
   ],
   "metadata": {
    "collapsed": false
   }
  },
  {
   "cell_type": "markdown",
   "source": [
    "#### Narysuj wykres dla dwóch zmiennych z korelacją bliską zera.\n",
    "***\n",
    "Na heatmapie znajdź dwie zmienne z korelacją bliską zera.\n",
    "Narysuj ich wykres wraz z linią regresji.\n",
    "Zmień kolor linii regresji na czerwony i upewnij się, że osie x i y zaczynają się i kończą przy odpowiednich wartościach."
   ],
   "metadata": {
    "collapsed": false
   }
  },
  {
   "cell_type": "markdown",
   "source": [
    "#### Narysuj wykres dla dwóch zmiennych z ujemną korelacją.\n",
    "***\n",
    "Na heatmapie znajdź dwie zmienne z ujemną korelacją.\n",
    "Narysuj ich wykres wraz z linią regresji.\n",
    "Zmień kolor linii regresji na czerwony i upewnij się, że osie x i y zaczynają się i kończą przy odpowiednich wartościach."
   ],
   "metadata": {
    "collapsed": false
   }
  },
  {
   "cell_type": "code",
   "execution_count": null,
   "outputs": [],
   "source": [
    "sns.regplot(x=\"odometer_value\", y=\"price_usd\", data=df, scatter_kws={'s': 2}, line_kws={'color': 'red', 'lw': 2})\n",
    "plt.xlim(df[\"odometer_value\"].min(), df[\"odometer_value\"].max())\n",
    "plt.ylim(0, )\n",
    "plt.show()"
   ],
   "metadata": {
    "collapsed": false
   }
  },
  {
   "cell_type": "markdown",
   "source": [
    "#### Wybierz dane dla konkretnej marki samochodu\n",
    "***\n",
    "Stwórz nowy obiekt `'df_manufacturer'`, w którym będą znajdować się tylko samochody marki `'Land Rover'`."
   ],
   "metadata": {
    "collapsed": false
   }
  },
  {
   "cell_type": "code",
   "execution_count": null,
   "outputs": [],
   "source": [
    "df_manufacturer = df.query('manufacturer_name == \"Land Rover\"')\n",
    "df_manufacturer"
   ],
   "metadata": {
    "collapsed": false
   }
  },
  {
   "cell_type": "markdown",
   "source": [
    "#### Podziel dane ze względu na model samochodu.\n",
    "***\n",
    "Pogrupuj dane ze względu na model samochodu i dla każdej podgrupy policzyć średnią cenę i liczbę obiektów w danej podgrupie."
   ],
   "metadata": {
    "collapsed": false
   }
  },
  {
   "cell_type": "code",
   "execution_count": null,
   "outputs": [],
   "source": [
    "df_manufacturer.groupby('model_name')['price_usd'].agg(['mean', 'count'])"
   ],
   "metadata": {
    "collapsed": false
   }
  },
  {
   "cell_type": "markdown",
   "source": [
    "#### Stwórz wykres skrzypcowy przedstawiający rozkład cen ze względu na model samochodu\n",
    "***\n",
    "Korzystając z danych zawartych w obiekcie `'df_manufacturer'`, zwizualizuj rozkład cen w zależności od modelu."
   ],
   "metadata": {
    "collapsed": false
   }
  },
  {
   "cell_type": "code",
   "execution_count": null,
   "outputs": [],
   "source": [
    "sns.violinplot(x='model_name', y='price_usd', data=df_manufacturer)\n",
    "plt.show()"
   ],
   "metadata": {
    "collapsed": false
   }
  },
  {
   "cell_type": "markdown",
   "source": [
    "#### Popraw wykres skrzypcowy przedstawiający rozkład cen ze względu na model samochodu\n",
    "***\n",
    "Zmniejsz grubość konturów, ogranicz oś y, żeby zaczynała się w zerze, zmień podpisy przy osi x, żeby na nachodziły na siebie."
   ],
   "metadata": {
    "collapsed": false
   }
  },
  {
   "cell_type": "code",
   "source": [
    "sns.violinplot(x='model_name', y='price_usd', data=df_manufacturer, linewidth=1, edgecolor='black')\n",
    "plt.ylim(0,)\n",
    "plt.xticks(rotation=90)\n",
    "plt.show()"
   ],
   "metadata": {
    "collapsed": false
   },
   "execution_count": null,
   "outputs": []
  },
  {
   "cell_type": "markdown",
   "source": [
    "#### Skorzystaj z catplot, żeby stworzyć kilka wykresów skrzypcowych.\n",
    "***\n",
    "Wykresy skrzypcowe mają ilustrować rozkład przebiegu (`'odometer_value'`) w zależności od rodzaju napędu (`'drivetrain'`) i rodzaju skrzyni biegów (`'transmission'`). W każdej kolumnie będzie osobny wykres dla każdego rodzaju silnika (`'engine_type'`)."
   ],
   "metadata": {
    "collapsed": false
   }
  },
  {
   "cell_type": "code",
   "source": [
    "sns.catplot(x='drivetrain', y='odometer_value', hue='transmission', kind='violin', col='engine_type', data=df, palette='seismic')\n",
    "plt.ylim(0,)\n",
    "plt.show()"
   ],
   "metadata": {
    "collapsed": false
   },
   "execution_count": null,
   "outputs": []
  }
 ],
 "metadata": {
  "kernelspec": {
   "display_name": "Python 3 (ipykernel)",
   "language": "python",
   "name": "python3"
  },
  "language_info": {
   "codemirror_mode": {
    "name": "ipython",
    "version": 3
   },
   "file_extension": ".py",
   "mimetype": "text/x-python",
   "name": "python",
   "nbconvert_exporter": "python",
   "pygments_lexer": "ipython3",
   "version": "3.9.5"
  }
 },
 "nbformat": 4,
 "nbformat_minor": 1
}
