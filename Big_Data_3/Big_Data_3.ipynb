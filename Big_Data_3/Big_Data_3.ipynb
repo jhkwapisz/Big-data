{
 "cells": [
  {
   "cell_type": "markdown",
   "source": [
    "# Big Data w biznesie"
   ],
   "metadata": {
    "collapsed": false
   }
  },
  {
   "cell_type": "markdown",
   "source": [
    "## Trzeci notebook"
   ],
   "metadata": {
    "collapsed": false
   }
  },
  {
   "cell_type": "code",
   "execution_count": null,
   "outputs": [],
   "source": [
    "from IPython.core.display import HTML\n",
    "\n",
    "def _set_css_style(css_file_path):\n",
    "   \"\"\"\n",
    "   Read the custom CSS file and load it into Jupyter.\n",
    "   Pass the file path to the CSS file.\n",
    "   \"\"\"\n",
    "\n",
    "   styles = open(css_file_path, \"r\").read()\n",
    "   s = '<style>%s</style>' % styles\n",
    "   return HTML(s)\n",
    "_set_css_style(\"../custom.css\")"
   ],
   "metadata": {
    "collapsed": false,
    "pycharm": {
     "name": "#%%\n"
    }
   }
  },
  {
   "cell_type": "markdown",
   "source": [
    "Pierwszym krokiem, jak zawsze, jest zaimportowanie potrzebnych nam bibliotek."
   ],
   "metadata": {
    "collapsed": false
   }
  },
  {
   "cell_type": "code",
   "execution_count": null,
   "outputs": [],
   "source": [
    "import numpy as np\n",
    "import pandas as pd"
   ],
   "metadata": {
    "collapsed": false,
    "pycharm": {
     "name": "#%%\n"
    }
   }
  },
  {
   "cell_type": "code",
   "execution_count": null,
   "outputs": [],
   "source": [
    "df = pd.read_csv(\"./cars.csv\")"
   ],
   "metadata": {
    "collapsed": false,
    "pycharm": {
     "name": "#%%\n"
    }
   }
  },
  {
   "cell_type": "markdown",
   "source": [
    "# Dummy variables"
   ],
   "metadata": {
    "collapsed": false
   }
  },
  {
   "cell_type": "markdown",
   "source": [
    "Dummy variables to zmienne binarne, które są używane w analizie danych jako sposób na przekształcenie zmiennych kategorycznych na zmienne numeryczne, które mogą być używane w modelach statystycznych. Dummy variables tworzy się przez kodowanie każdej unikalnej wartości zmiennej kategorycznej jako nowej zmiennej binarnej, przyjmującej wartość 1, jeśli obserwacja należy do danej kategorii i 0 w przeciwnym przypadku.\n",
    "\n",
    "Na przykład, jeśli mamy zmienną kategoryczną `\"płeć\"` z dwoma kategoriami `\"kobieta\"` i `\"mężczyzna\"`, to tworzymy dwie nowe zmienne binarne: `\"kobieta\"`, która przyjmuje wartość 1 dla kobiet i 0 dla mężczyzn oraz `\"mężczyzna\"`, która przyjmuje wartość 1 dla mężczyzn i 0 dla kobiet.\n",
    "\n",
    "Dummy variables umożliwiają modelom statystycznym uchwycenie wpływu zmiennych kategorycznych na zmienną zależną w sposób numeryczny i jednoznaczny. Dummy variables są również ważne, gdy chcemy zbudować modele predykcyjne, ponieważ wiele algorytmów uczenia maszynowego nie akceptuje zmiennych kategorycznych w formie tekstowej i wymaga ich przekształcenia na wartości numeryczne.\n"
   ],
   "metadata": {
    "collapsed": false,
    "pycharm": {
     "name": "#%% md\n"
    }
   }
  },
  {
   "cell_type": "markdown",
   "source": [
    "Kolumna `'transmission'` przyjmuje tylko dwie wartości - `automatic` i `mechanical`."
   ],
   "metadata": {
    "collapsed": false
   }
  },
  {
   "cell_type": "code",
   "execution_count": null,
   "outputs": [],
   "source": [
    "df['transmission']"
   ],
   "metadata": {
    "collapsed": false,
    "pycharm": {
     "name": "#%%\n"
    }
   }
  },
  {
   "cell_type": "markdown",
   "source": [
    "Za pomocą funkcji `pd.get_dummies()` możemy zmienić dane kategoryczne na tzw. zmienne binarne (ang. binary variables) lub tzw. \"dummy variables\". Funkcja tworzy nową ramkę danych, w której dla każdej wartości kategorycznej z kolumny tworzy się nowa kolumna, która przyjmuje wartość 1 w przypadku, gdy dana wartość kategoryczna występuje w oryginalnej kolumnie, a 0 w przypadku, gdy jej tam nie ma."
   ],
   "metadata": {
    "collapsed": false
   }
  },
  {
   "cell_type": "code",
   "execution_count": null,
   "outputs": [],
   "source": [
    "dummy_variable = pd.get_dummies(df['transmission'])\n",
    "dummy_variable"
   ],
   "metadata": {
    "collapsed": false,
    "pycharm": {
     "name": "#%%\n"
    }
   }
  },
  {
   "cell_type": "markdown",
   "source": [
    "Potem zmienimy nazwy kolumn."
   ],
   "metadata": {
    "collapsed": false
   }
  },
  {
   "cell_type": "code",
   "execution_count": null,
   "outputs": [],
   "source": [
    "dummy_variable = dummy_variable.rename(columns={'mechanical':'transmission-mechanical', 'automatic':'transmission-automatic'})"
   ],
   "metadata": {
    "collapsed": false,
    "pycharm": {
     "name": "#%%\n"
    }
   }
  },
  {
   "cell_type": "markdown",
   "source": [
    "Na końcu dołączymy stworzone \"dummy_variable\" do naszego DataFrame'a.\n",
    "\n",
    "Często następnym krokiem byłoby usunięcie niepotrzebnej nam już kolumny `'transmission'`, ale w naszym przypadku przyda się jeszcze przy dalszej analizie."
   ],
   "metadata": {
    "collapsed": false
   }
  },
  {
   "cell_type": "code",
   "execution_count": null,
   "outputs": [],
   "source": [
    "df = pd.concat([df, dummy_variable], axis=1)\n",
    "#df = df.drop('transmission', axis = 1)\n",
    "df"
   ],
   "metadata": {
    "collapsed": false,
    "pycharm": {
     "name": "#%%\n"
    }
   }
  },
  {
   "cell_type": "markdown",
   "source": [
    "# Pivot tables"
   ],
   "metadata": {
    "collapsed": false
   }
  },
  {
   "cell_type": "markdown",
   "source": [
    "Pivot tables (także nazywane tabelami przestawnymi lub tabelami dynamicznymi) to narzędzie analizy danych, które umożliwia łatwe podsumowanie i grupowanie danych numerycznych z dużych zestawów danych w tabelach. Pivot tables pozwalają użytkownikowi na przekształcanie danych w sposób, który umożliwia łatwiejsze zrozumienie złożonych zależności między zmiennymi.\n",
    "\n",
    "W pivot tables dane są ułożone w sposób przypominający tabelę, gdzie rzędy odpowiadają wartościom jednej zmiennej, a kolumny wartościom drugiej zmiennej. Pivot tables pozwalają na agregację danych w celu uzyskania sum, średnich, maksymalnych, minimalnych wartości, a także innych miar opisowych dla każdej kombinacji wartości zmiennych. Pivot tables pozwalają również na filtrowanie, sortowanie i grupowanie danych w sposób dynamiczny, co pozwala na uzyskanie bardziej szczegółowej analizy i zrozumienia złożonych zależności między zmiennymi.\n"
   ],
   "metadata": {
    "collapsed": false
   }
  },
  {
   "cell_type": "markdown",
   "source": [
    "Funkcja `pd.pivot_table()` w pandas pozwala użytkownikowi na tworzenie pivot tables. Najważniejsze argumenty tej funkcji to:\n",
    "\n",
    "- data: obiekt DataFrame zawierający dane, które chcemy przetworzyć,\n",
    "- index: kolumna lub lista kolumn, według których chcemy zgrupować dane,\n",
    "- columns: kolumna lub lista kolumn, które chcemy przekształcić w nagłówki kolumn pivot table,\n",
    "- values: kolumna lub lista kolumn, z których chcemy wyliczyć statystyki,\n",
    "- aggfunc: funkcja lub lista funkcji agregujących, które chcemy zastosować do kolumn values.\n",
    "\n",
    "Pivot tables umożliwiają również wykorzystanie wielu funkcji agregujących, takich jak sum, mean, count, min, max, itd. Ostatecznie, wynik pivot table może być sortowany i filtrowany w taki sam sposób jak standardowy DataFrame.\n",
    "\n",
    "Pivot tables są szczególnie przydatne do analizy dużych zbiorów danych i ułatwiają wyciąganie z nich wniosków i ukrytej wiedzy."
   ],
   "metadata": {
    "collapsed": false
   }
  },
  {
   "cell_type": "markdown",
   "source": [
    "Na przykład chcemy zobaczyć, jakie są średnie wartości cen samochodów w zależności od typu nadwozia i rodzaju napędu. Możemy to zrobić w następujący sposób:"
   ],
   "metadata": {
    "collapsed": false
   }
  },
  {
   "cell_type": "code",
   "execution_count": null,
   "outputs": [],
   "source": [
    "pivot_table = pd.pivot_table(df, values='price_usd', index='drivetrain', columns='body_type', aggfunc='mean')\n",
    "pivot_table"
   ],
   "metadata": {
    "collapsed": false,
    "pycharm": {
     "name": "#%%\n"
    }
   }
  },
  {
   "cell_type": "markdown",
   "source": [
    "W przypadku, gdy w pivot table znajduje się wartość NaN, można zastąpić ją inną wartością, np. wartością średnią dla danego wiersza lub kolumny, lub wartością 0. Można to zrobić za pomocą funkcji `df.fillna()` w bibliotece pandas. Przykładowo, można zastąpić wszystkie wartości NaN wartością średnią dla danej kolumny, używając kodu:\n"
   ],
   "metadata": {
    "collapsed": false
   }
  },
  {
   "cell_type": "code",
   "execution_count": null,
   "outputs": [],
   "source": [
    "pivot_table = pivot_table.fillna(pivot_table.mean(axis=0))\n",
    "pivot_table"
   ],
   "metadata": {
    "collapsed": false,
    "pycharm": {
     "name": "#%%\n"
    }
   }
  },
  {
   "cell_type": "markdown",
   "source": [
    "Tak wygląda kod, jeśli chcemy zastąpić wszystkie brakujące wartości zerami."
   ],
   "metadata": {
    "collapsed": false
   }
  },
  {
   "cell_type": "code",
   "execution_count": null,
   "outputs": [],
   "source": [
    "pivot_table = pivot_table.fillna(0)\n",
    "pivot_table"
   ],
   "metadata": {
    "collapsed": false,
    "pycharm": {
     "name": "#%%\n"
    }
   }
  },
  {
   "cell_type": "markdown",
   "source": [
    "Jeśli chodzi o zastąpienie brakujących wartości średnią wartością z rzędu, należy wziąć pod uwagę, że metoda df.fillna(df.mean(axis=1)) (z argumentem axis=1, oznaczającym obliczenie średniej z całego rzędu) nie jest dostępna w bibliotece pandas. Można jednak obejść ten problem stosując następujący kod."
   ],
   "metadata": {
    "collapsed": false
   }
  },
  {
   "cell_type": "code",
   "execution_count": null,
   "outputs": [],
   "source": [
    "pivot_table = pivot_table.apply(lambda row: row.fillna(row.mean()), axis=1)\n",
    "pivot_table"
   ],
   "metadata": {
    "collapsed": false,
    "pycharm": {
     "name": "#%%\n"
    }
   }
  },
  {
   "cell_type": "markdown",
   "source": [
    "***\n",
    "Jest też inny sposób na stworzenie pivot table bez użycia funkcji `pd.pivot_table()`.\n",
    "\n",
    "Możemy najpierw stworzyć DataFrame zawierający wartości średnie ceny w zależności od połączenia wartości kolumn `'drivetrain'` i `'body_type'`."
   ],
   "metadata": {
    "collapsed": false
   }
  },
  {
   "cell_type": "code",
   "execution_count": null,
   "outputs": [],
   "source": [
    "df_pivot = df.groupby(['drivetrain', 'body_type'], as_index=False)['price_usd'].mean()\n",
    "df_pivot"
   ],
   "metadata": {
    "collapsed": false,
    "pycharm": {
     "name": "#%%\n"
    }
   }
  },
  {
   "cell_type": "markdown",
   "source": [
    "A następnie za pomocą funkcji `df.pivot()` przekształcić w tabelę przestawną."
   ],
   "metadata": {
    "collapsed": false
   }
  },
  {
   "cell_type": "code",
   "execution_count": null,
   "outputs": [],
   "source": [
    "df_pivot_table = df_pivot.pivot(index='drivetrain', columns='body_type')\n",
    "df_pivot_table"
   ],
   "metadata": {
    "collapsed": false,
    "pycharm": {
     "name": "#%%\n"
    }
   }
  },
  {
   "cell_type": "markdown",
   "source": [
    "Kombinacja obu funkcji może być alternatywą dla `pd.pivot_table()` w zależności od potrzeb.\n",
    "\n",
    "Jednak `pd.pivot_table()` pozwala na bardziej elastyczne definiowanie operacji agregujących, kształt wynikowej tabeli przestawnej, a także sposobu traktowania brakujących danych."
   ],
   "metadata": {
    "collapsed": false
   }
  },
  {
   "cell_type": "markdown",
   "source": [
    "# Stylowanie"
   ],
   "metadata": {
    "collapsed": false
   }
  },
  {
   "cell_type": "markdown",
   "source": [
    "Styling w pandas to proces formatowania wyjścia DataFrame lub Series w celu poprawienia czytelności i estetyki prezentowanych danych. Funkcje stylingowe umożliwiają dostosowywanie wyjścia w zależności od wartości komórek, np. zmiany koloru lub formatowania tekstu. Za pomocą stylizacji można także łączyć wartości komórek w jednej kolumnie, dodawać tła czy łączyć komórki w obramowania."
   ],
   "metadata": {
    "collapsed": false
   }
  },
  {
   "cell_type": "markdown",
   "source": [
    "Metoda `df.style()` w bibliotece Pandas służy do formatowania i stylizacji tabel. Opcje, które można zastosować w tej metodzie to między innymi:\n",
    "\n",
    "- background_gradient(): wypełnienie komórek gradientem kolorów w zależności od wartości,\n",
    "- highlight_max() / highlight_min(): wyróżnienie największych / najmniejszych wartości w tabeli,\n",
    "- format(): formatowanie wartości w komórkach,\n",
    "- set_caption(): pozwala na ustawienie tytułu dla tabeli,\n",
    "- bar(): wyświetla słupki dla każdej komórki w kolumnie, na podstawie jej wartości,\n",
    "- hide_index(): ukrycie indeksu tabeli,\n",
    "- hide_columns(): ukrycie wybranych kolumn,\n",
    "- set_properties(): ustawianie różnych właściwości CSS dla komórek m.in.:\n",
    "    - background-color - kolor tła\n",
    "    - color - kolor tekstu\n",
    "    - font-weight - waga czcionki\n",
    "    - text-align - wyrównanie tekstu\n",
    "    - border - styl obramowania\n",
    "    - font-size - rozmiar czcionki\n",
    "    - opacity - przejrzystość elementu\n",
    "\n",
    "Oprócz tego istnieje wiele innych opcji, które pozwalają na dostosowanie wyglądu tabeli do konkretnych potrzeb."
   ],
   "metadata": {
    "collapsed": false,
    "pycharm": {
     "name": "#%% md\n"
    }
   }
  },
  {
   "cell_type": "markdown",
   "source": [
    "Możemy stworzyć i wyświetlić tabele z losowymi danymi."
   ],
   "metadata": {
    "collapsed": false
   }
  },
  {
   "cell_type": "code",
   "execution_count": null,
   "outputs": [],
   "source": [
    "df_rand = pd.DataFrame(np.random.randn(10,4), columns=['A','B','C','D'])\n",
    "df_rand"
   ],
   "metadata": {
    "collapsed": false,
    "pycharm": {
     "name": "#%%\n"
    }
   }
  },
  {
   "cell_type": "markdown",
   "source": [
    "Zmodyfikujemy kilka parametrów, aby dostosować wygląd naszej tabeli."
   ],
   "metadata": {
    "collapsed": false
   }
  },
  {
   "cell_type": "code",
   "execution_count": null,
   "outputs": [],
   "source": [
    "df_rand.style\\\n",
    "    .format('{:.3f}', na_rep=\"\")\\\n",
    "    .background_gradient(cmap=\"Blues\")\\\n",
    "    .set_caption(\"Tabela 1. Przypadkowe dane\")\\\n",
    "    .highlight_min()\\\n",
    "    .highlight_max()"
   ],
   "metadata": {
    "collapsed": false,
    "pycharm": {
     "name": "#%%\n"
    }
   }
  },
  {
   "cell_type": "markdown",
   "source": [
    "Jeśli stylowanie tabelki nie odpowiada naszym oczekiwaniom, istnieje wiele sposobów na dostosowanie jej wyglądu."
   ],
   "metadata": {
    "collapsed": false
   }
  },
  {
   "cell_type": "code",
   "execution_count": null,
   "outputs": [],
   "source": [
    "df_rand.style\\\n",
    "   .format('{:.3f}', na_rep=\"\")\\\n",
    "   .background_gradient(cmap=\"Blues\")\\\n",
    "   .hide(axis=\"index\")\\\n",
    "   .set_caption(\"Tabela 1. Przypadkowe dane\")\\\n",
    "   .set_table_styles([{'selector': 'th',\n",
    "                       'props': [('font-weight', 'bold'),\n",
    "                                 ('text-align', 'center'),\n",
    "                                 ('font-size', '13pt')]},\n",
    "                      {'selector': 'caption',\n",
    "                       'props': [('font-weight', 'bold'),\n",
    "                                 ('color', 'white'),\n",
    "                                 ('font-size', '16pt')]}])\\\n",
    "   .highlight_min(color=\"Red\")\\\n",
    "   .highlight_max(color=\"Green\")\\\n",
    "   .set_properties(padding='8px 20px')"
   ],
   "metadata": {
    "collapsed": false,
    "pycharm": {
     "name": "#%%\n"
    }
   }
  },
  {
   "cell_type": "markdown",
   "source": [
    "Używanie stylowania w pandas ma wiele zalet w porównaniu do korzystania z zewnętrznego programu. Kilka z tych zalet to:\n",
    "\n",
    "- Łatwość i wygoda: Stylowanie w pandas jest bardzo łatwe i wygodne, ponieważ pozwala na szybkie i łatwe dostosowanie wyglądu tabeli bez konieczności korzystania z zewnętrznych programów.\n",
    "\n",
    "- Powtarzalność: Zastosowanie stylów w pandas pozwala na zastosowanie tego samego stylu w różnych miejscach tabeli lub nawet w różnych tabelach, co zapewnia spójność i łatwość w utrzymaniu.\n",
    "\n",
    "- Integracja: Korzystanie z stylowania w pandas pozwala na łatwe zintegrowanie stylu tabeli z innymi funkcjonalnościami pandas, takimi jak grupowanie danych, sortowanie, filtrowanie itp.\n",
    "\n",
    "- Oszczędność czasu: Korzystanie z stylowania w pandas pozwala zaoszczędzić czas, ponieważ nie trzeba eksportować danych do zewnętrznego programu, stosować tam stylów, a następnie importować zmienione dane z powrotem do pandas.\n",
    "\n",
    "- Elastyczność: Stylowanie w pandas zapewnia dużą elastyczność w dostosowaniu wyglądu tabeli do konkretnych potrzeb, co pozwala na uzyskanie bardziej dokładnego i spójnego wyglądu w porównaniu z zewnętrznymi programami."
   ],
   "metadata": {
    "collapsed": false
   }
  },
  {
   "cell_type": "markdown",
   "source": [
    "# Wizualizacje"
   ],
   "metadata": {
    "collapsed": false
   }
  },
  {
   "cell_type": "markdown",
   "source": [
    "Umiejętność wizualizacji jest ważna w wielu dziedzinach, takich jak nauki społeczne, nauki przyrodnicze, biznes, finanse, medycyna itp. Poprzez wizualizacje możemy prezentować dane w sposób, który jest łatwiejszy do zrozumienia i może pomóc w identyfikowaniu wzorców i zależności. Wizualizacje mogą również pomóc w wyjaśnianiu trudnych koncepcji i prezentowaniu wyników badań w sposób przystępny dla różnych odbiorców."
   ],
   "metadata": {
    "collapsed": false
   }
  },
  {
   "cell_type": "markdown",
   "source": [
    "Najpopularniejszymi bibliotekami do wizualizacji w Pythonie są:\n",
    "\n",
    "- Matplotlib - biblioteka pozwalająca na tworzenie różnego rodzaju wykresów, histogramów i innych wizualizacji danych w Pythonie.\n",
    "\n",
    "- Seaborn - biblioteka wykorzystująca Matplotlib, ale oferująca bardziej zaawansowane narzędzia do wizualizacji danych, w tym specjalistyczne wykresy do analizy statystycznej.\n",
    "\n",
    "- Plotly - biblioteka umożliwiająca tworzenie interaktywnych wykresów, map i innych wizualizacji danych w Pythonie.\n",
    "\n",
    "- Bokeh - biblioteka umożliwiająca tworzenie dynamicznych wizualizacji danych, w tym interaktywnych wykresów, map i dashboardów.\n",
    "\n",
    "- ggplot - biblioteka wzorowana na popularnym pakiecie ggplot2 w języku R, pozwalająca na tworzenie wizualizacji danych zgodnych z zasadami \"Grammar of Graphics\".\n",
    "\n",
    "Oprócz tych bibliotek istnieje wiele innych narzędzi do wizualizacji danych w Pythonie, w tym Altair, HoloViews, geopandas, czy Choropleth."
   ],
   "metadata": {
    "collapsed": false
   }
  },
  {
   "cell_type": "markdown",
   "source": [
    "Na zajęciach będziemy głównie zajmować się tylko najpopularniejszymi bibliotekami, czyli - `matplolib` i `seaborn`. Zanim jednak do tego przejdziemy, warto poznać możliwości innej prostszej bibliteki."
   ],
   "metadata": {
    "collapsed": false
   }
  },
  {
   "cell_type": "markdown",
   "source": [
    "# Pandas - wizualizacja"
   ],
   "metadata": {
    "collapsed": false
   }
  },
  {
   "cell_type": "markdown",
   "source": [
    "Biblioteka Pandas, oprócz umożliwienia łatwej i wydajnej obróbki danych, oferuje także wiele wbudowanych funkcji wizualizacji danych. Dzięki temu, że wizualizacja jest zintegrowana z danymi, jest to bardzo wygodne narzędzie do eksploracji i analizy danych. Do najpopularniejszych metod wizualizacji danych w Pandas należą wykresy liniowe, wykresy słupkowe, histogramy, wykresy kołowe, wykresy punktowe, wykresy pudełkowe i wiele innych. Dzięki temu, że funkcje wizualizacji Pandas działają na ramkach danych, można łatwo manipulować danymi, filtrować je i sortować, a następnie wizualizować wyniki, aby lepiej zrozumieć zależności między różnymi zmiennymi w danych. Wizualizacja danych jest niezwykle ważna dla zrozumienia i prezentowania wyników, więc umiejętność korzystania z narzędzi wizualizacji danych w Pandas może być bardzo przydatna dla analityków danych i naukowców danych."
   ],
   "metadata": {
    "collapsed": false
   }
  },
  {
   "cell_type": "markdown",
   "source": [
    "Oto niektóre narzędzia do wizualizacji dostępne w bibliotece pandas:\n",
    "\n",
    "- df.plot() - umożliwia tworzenie różnych rodzajów wykresów, w tym liniowych, punktowych, słupkowych, histogramów i wiele innych.\n",
    "- df.hist() - służy do tworzenia histogramów.\n",
    "- df.boxplot() - tworzy wykres pudełkowy.\n",
    "- df.scatter() - służy do tworzenia wykresów punktowych.\n",
    "- df.area() - tworzy wykres obszaru.\n",
    "- df.bar() - tworzy wykres słupkowy.\n",
    "- df.pie() - tworzy wykres kołowy.\n",
    "- df.plot.hexbin() - służy do tworzenia wykresów heksagonalnych.\n",
    "- df.plot.kde() - służy do tworzenia wykresów gęstości jądrowych.\n",
    "- df.plot.density() - tworzy wykres gęstości.\n",
    "- df.plot.scatter() - tworzy wykres punktowy z dwoma zmiennymi.\n",
    "- df.plot.barh() - tworzy wykres słupkowy poziomy.\n",
    "- df.plot.hist() - służy do tworzenia histogramów.\n",
    "- df.plot.box() - tworzy wykres pudełkowy.\n",
    "- df.plot.area() - tworzy wykres obszaru."
   ],
   "metadata": {
    "collapsed": false
   }
  },
  {
   "cell_type": "markdown",
   "source": [
    "Przy pomocy pandas chcemy wygenerować wykres punktowy typu scatter plot, który przedstawia zależność między dwiema zmiennymi: `'year_produced'` (rok produkcji) na osi x i `'odometer_value'` (wartość przebiegu) na osi y."
   ],
   "metadata": {
    "collapsed": false
   }
  },
  {
   "cell_type": "code",
   "execution_count": null,
   "outputs": [],
   "source": [
    "df.plot(kind='scatter',\n",
    "        x='year_produced',\n",
    "        y='odometer_value',\n",
    "        title='Year vs Odometer')"
   ],
   "metadata": {
    "collapsed": false,
    "pycharm": {
     "name": "#%%\n"
    }
   }
  },
  {
   "cell_type": "markdown",
   "source": [
    "Parametry funkcji do wizualizacji w bibliotece pandas mogą się różnić w zależności od konkretnej funkcji, ale często występujące parametry to:\n",
    "\n",
    "- x - kolumna DataFrame do umieszczenia na osi x\n",
    "- y - kolumna DataFrame do umieszczenia na osi y\n",
    "- kind - rodzaj wykresu, np. 'line' dla wykresu liniowego, 'bar' dla wykresu słupkowego\n",
    "- color - kolor lub paleta kolorów do zastosowania w wykresie\n",
    "- title - tytuł wykresu\n",
    "- xlabel - etykieta osi x\n",
    "- ylabel - etykieta osi y\n",
    "- legend - określa, czy wyświetlić legendę, zazwyczaj jako wartość True lub False\n",
    "- figsize - wymiary figury, np. (10, 6) oznacza szerokość 10 i wysokość 6 cali\n",
    "- xlim - zakres osi x\n",
    "- ylim - zakres osi y\n",
    "- bins - liczba koszyków (słupków) dla wykresu histogramu\n",
    "- alpha - wartość przezroczystości, z zakresu od 0 (przezroczysty) do 1 (nieprzezroczysty)\n",
    "- linewidth - grubość linii w wykresie\n",
    "- edgecolor - kolor krawędzi w wykresie\n",
    "- grid - określa, czy włączyć siatkę, zazwyczaj jako wartość True lub False\n",
    "\n",
    "Jednakże, pełna lista parametrów znajduje się w dokumentacji biblioteki pandas i może się różnić w zależności od konkretnej funkcji."
   ],
   "metadata": {
    "collapsed": false
   }
  },
  {
   "cell_type": "markdown",
   "source": [
    "Biblioteka pandas ma kilka funkcji do tworzenia prostych wykresów, które są szybkie i proste do zastosowania. Jednakże, biblioteki matplotlib i seaborn oferują o wiele większą elastyczność i bardziej zaawansowane funkcje do tworzenia wizualizacji danych. Dzięki temu możemy tworzyć bardziej skomplikowane wykresy, dostosowywać ich wygląd do własnych potrzeb, dodawać opisy, tytuły, legendy, a także stosować różne style i kolory. Dodatkowo biblioteki te oferują wiele zaawansowanych narzędzi statystycznych do analizy danych, które pozwalają na bardziej zaawansowaną analizę danych. W związku z tym, jeśli potrzebujemy bardziej skomplikowanej wizualizacji lub analizy danych, warto skorzystać z bibliotek matplotlib lub seaborn, zamiast korzystać tylko z funkcji wizualizacji w bibliotece pandas."
   ],
   "metadata": {
    "collapsed": false,
    "pycharm": {
     "name": "#%% md\n"
    }
   }
  },
  {
   "cell_type": "markdown",
   "source": [
    "# Matplotlib - wizualizacja"
   ],
   "metadata": {
    "collapsed": false
   }
  },
  {
   "cell_type": "markdown",
   "source": [
    "Matplotlib to biblioteka w języku Python służąca do tworzenia wykresów i wizualizacji danych. Jest to jedna z najpopularniejszych bibliotek do wizualizacji w Pythonie. Matplotlib oferuje wiele narzędzi do rysowania różnych rodzajów wykresów, takich jak wykresy liniowe, wykresy punktowe, wykresy kołowe, wykresy słupkowe, histogramy, wykresy 3D i wiele innych. Biblioteka ta oferuje również wiele opcji dostosowywania wykresów, aby uzyskać pożądany wygląd i formatowanie."
   ],
   "metadata": {
    "collapsed": false
   }
  },
  {
   "cell_type": "markdown",
   "source": [
    "Przed rozpoczęciem korzystania z biblioteki musimy ją zaimportować.\n",
    "\n",
    "Pierwsza linijka import matplotlib.pyplot as plt importuje moduł pyplot z biblioteki matplotlib i nadaje mu alias plt, co pozwala na wywoływanie funkcji z tego modułu za pomocą skrótu plt zamiast pełnej nazwy matplotlib.pyplot. Moduł pyplot zawiera funkcje do tworzenia wykresów i wizualizacji danych.\n",
    "\n",
    "Druga linijka %matplotlib inline jest tzw. magiczną komendą IPythona, która ustawia backend inline dla biblioteki matplotlib. Backend określa sposób, w jaki matplotlib renderuje wykresy, a wartość inline oznacza, że wykresy będą renderowane bezpośrednio w jupyter notebooku pod kodem, a nie w oddzielnym oknie aplikacji."
   ],
   "metadata": {
    "collapsed": false
   }
  },
  {
   "cell_type": "code",
   "execution_count": null,
   "outputs": [],
   "source": [
    "import matplotlib.pyplot as plt\n",
    "%matplotlib inline"
   ],
   "metadata": {
    "collapsed": false,
    "pycharm": {
     "name": "#%%\n"
    }
   }
  },
  {
   "cell_type": "markdown",
   "source": [
    "Na początek możemy spróbować stworzyć taki sam wykres punktowy, który przedstawia zależność między dwiema zmiennymi: `'year_produced'` (rok produkcji) na osi x i `'odometer_value'` (wartość przebiegu) na osi y."
   ],
   "metadata": {
    "collapsed": false
   }
  },
  {
   "cell_type": "code",
   "execution_count": null,
   "outputs": [],
   "source": [
    "plt.scatter(df['year_produced'], df['odometer_value'])\n",
    "plt.xlabel(\"year_produced\")\n",
    "plt.ylabel(\"odometer_value\")\n",
    "plt.title('Year vs Odometer')"
   ],
   "metadata": {
    "collapsed": false,
    "pycharm": {
     "name": "#%%\n"
    }
   }
  },
  {
   "cell_type": "markdown",
   "source": [
    "Oto lista kilku narzędzi do wizualizacji w bibliotece matplotlib:\n",
    "\n",
    "- Wykresy liniowe - plot(), scatter(), stem(), step(), fill()\n",
    "- Wykresy słupkowe - bar(), barh()\n",
    "- Wykresy kołowe - pie()\n",
    "- Wykresy histogramów - hist()\n",
    "- Wykresy pudełkowe - boxplot()\n",
    "- Wykresy punktowe - scatter(), stripplot(), swarmplot()\n",
    "- Wykresy powierzchniowe - contour(), contourf(), imshow(), pcolor(), pcolormesh(), surface()\n",
    "- Wykresy 3D - plot_surface(), scatter(), plot_wireframe()\n",
    "- Wykresy czasowe - plot_date(), bar()\n",
    "- Wykresy interaktywne - plotly(), bokeh(), mpld3()"
   ],
   "metadata": {
    "collapsed": false
   }
  },
  {
   "cell_type": "markdown",
   "source": [
    "Możemy spróbować zwizualizować pivot table, którą stworzyliśmy wcześniej."
   ],
   "metadata": {
    "collapsed": false
   }
  },
  {
   "cell_type": "code",
   "execution_count": null,
   "outputs": [],
   "source": [
    "pivot_table"
   ],
   "metadata": {
    "collapsed": false,
    "pycharm": {
     "name": "#%%\n"
    }
   }
  },
  {
   "cell_type": "markdown",
   "source": [
    "Funkcja `plt.pcolor()` służy do wyświetlania macierzy kolorów w zależności od wartości danych numerycznych. Przyjmuje jako argumenty macierz, która ma być wyświetlona i opcjonalnie mapę kolorów (w tym wypadku 'RdBu' - oznaczająca kolor czerwono-niebieski).\n",
    "\n",
    "Funkcja `plt.colorbar()` wyświetla legendę mapy kolorów, która odpowiada wartościom numerycznym.\n",
    "\n",
    "Funkcja `plt.show()` wyświetla wykres z zastosowanymi funkcjami i w tym przypadku przedstawia pivot table jako macierz kolorów z legendą."
   ],
   "metadata": {
    "collapsed": false
   }
  },
  {
   "cell_type": "code",
   "execution_count": null,
   "outputs": [],
   "source": [
    "plt.pcolor(pivot_table, cmap='seismic')\n",
    "plt.colorbar()\n",
    "plt.show()"
   ],
   "metadata": {
    "collapsed": false,
    "pycharm": {
     "name": "#%%\n"
    }
   }
  },
  {
   "cell_type": "markdown",
   "source": [
    "Biblioteka Matplotlib oferuje wiele funkcji i parametrów do tworzenia wizualizacji. Poniżej wymieniam kilka z nich:\n",
    "\n",
    "- figure(): tworzy nowy obiekt figury, umożliwiając wyświetlenie i zapisanie wykresu.\n",
    "- add_subplot(): tworzy nowy subplot na obrazie.\n",
    "- plot(): tworzy liniowy wykres, wykres punktowy lub histogram.\n",
    "- scatter(): tworzy wykres punktowy z punktami rozproszonymi na płaszczyźnie.\n",
    "- bar(): tworzy wykres słupkowy lub wykres kolumnowy.\n",
    "- hist(): tworzy histogram.\n",
    "- boxplot(): tworzy wykres pudełkowy.\n",
    "- set_xlabel(): ustawia etykietę dla osi X.\n",
    "- set_ylabel(): ustawia etykietę dla osi Y.\n",
    "- set_title(): ustawia tytuł wykresu.\n",
    "- legend(): dodaje legendę do wykresu.\n",
    "- xlim(): ustawia zakres dla osi X.\n",
    "- ylim(): ustawia zakres dla osi Y.\n",
    "- subplots_adjust(): dostosowuje rozmiar subplotów na obrazie.\n",
    "\n",
    "Są to tylko niektóre z wielu dostępnych funkcji i parametrów."
   ],
   "metadata": {
    "collapsed": false
   }
  },
  {
   "cell_type": "markdown",
   "source": [
    "Chcemy zmienić wygląd wygenerowanej przez pivot_table tabeli na bardziej czytelną i estetyczną formę. Dokonamy kilku modyfikacji, takich jak zmiana kolorów i wyrównanie etykiet, aby tabela była łatwiejsza do odczytania. Dodamy również pionową skalę kolorów, która odpowiada wartościom numerycznym w tabeli."
   ],
   "metadata": {
    "collapsed": false
   }
  },
  {
   "cell_type": "code",
   "execution_count": null,
   "outputs": [],
   "source": [
    "fig, ax = plt.subplots()\n",
    "im = ax.pcolor(pivot_table, cmap='seismic')\n",
    "\n",
    "#label names\n",
    "row_labels = pivot_table.columns\n",
    "col_labels = pivot_table.index\n",
    "\n",
    "#move ticks and labels to the center\n",
    "ax.set_xticks(np.arange(pivot_table.shape[1]) + 0.5, minor=False)\n",
    "ax.set_yticks(np.arange(pivot_table.shape[0]) + 0.5, minor=False)\n",
    "\n",
    "#insert labels\n",
    "ax.set_xticklabels(row_labels, minor=False)\n",
    "ax.set_yticklabels(col_labels, minor=False)\n",
    "\n",
    "#rotate label if too long\n",
    "plt.xticks(rotation=90)\n",
    "\n",
    "fig.colorbar(im)\n",
    "plt.show()"
   ],
   "metadata": {
    "collapsed": false,
    "pycharm": {
     "name": "#%%\n"
    }
   }
  },
  {
   "cell_type": "markdown",
   "source": [
    "# Binning"
   ],
   "metadata": {
    "collapsed": false
   }
  },
  {
   "cell_type": "markdown",
   "source": [
    "Wykonamy jeszcze kilka wykresów za pomocą matplotliba, ale najpierw dowiemy się co to jest binning.\n",
    "\n",
    "Binning to technika przekształcania danych ciągłych na kategorie, czyli zakresy wartości. Polega na podziale wartości zmiennej ciągłej na określoną liczbę przedziałów (binów) i przypisaniu każdej wartości do odpowiedniego przedziału. Binning może pomóc w analizie danych, szczególnie gdy dane są bardzo skomplikowane lub zawierają dużo szumu.\n",
    "\n",
    "Binning służy do grupowania danych w określone przedziały (np. zakresy wartości) zwane \"koszami\" (ang. bins), co umożliwia analizę danych w bardziej ustrukturyzowany sposób. Po zastosowaniu binningu można wykonać szereg operacji analitycznych, takich jak wyznaczenie średniej, sumy, odchylenia standardowego itp. dla każdego kosza. Binning może również pomóc w zredukowaniu szumu i zwiększeniu wydajności obliczeniowej, ponieważ zmniejsza liczbę unikalnych wartości danych do przetworzenia."
   ],
   "metadata": {
    "collapsed": false
   }
  },
  {
   "cell_type": "markdown",
   "source": [
    "Przyjmijmy, że chcemy dokonać analizy ilości samochodów według ich przebiegu, ale nie jest dla nas istotna dokładna wartość, a jedynie przynależność do jednej z trzech kategorii: \"Niski\", \"Średni\" i \"Wysoki\".\n",
    "\n",
    "Najpierw znajdziemy wartości graniczne między naszymi kategoriami przy pomocy takiego kodu:"
   ],
   "metadata": {
    "collapsed": false
   }
  },
  {
   "cell_type": "code",
   "execution_count": null,
   "outputs": [],
   "source": [
    "bins = np.linspace(min(df['odometer_value']), max(df['odometer_value']), 4)\n",
    "bins"
   ],
   "metadata": {
    "collapsed": false,
    "pycharm": {
     "name": "#%%\n"
    }
   }
  },
  {
   "cell_type": "markdown",
   "source": [
    "Dokładnie do tego posłuży nam funkcja `pd.cut()`. Funkcja ta tworzy kategorie na podstawie podanego zestawu przedziałów (bins), do których przypisywane są wartości z analizowanego zbioru danych. W wyniku działania funkcji `pd.cut()` powstaje kategoryczna zmienna, której wartości określają, do której kategorii przypisane są wartości z analizowanego zbioru danych."
   ],
   "metadata": {
    "collapsed": false
   }
  },
  {
   "cell_type": "code",
   "execution_count": null,
   "outputs": [],
   "source": [
    "group_names = ['Low', 'Medium', 'High']\n",
    "df['odometer_value_binned'] = pd.cut(df['odometer_value'], bins, labels=group_names, include_lowest=True )\n",
    "df[['odometer_value','odometer_value_binned']]"
   ],
   "metadata": {
    "collapsed": false,
    "pycharm": {
     "name": "#%%\n"
    }
   }
  },
  {
   "cell_type": "markdown",
   "source": [
    "Możemy zwizualizować nasze kosze (biny) za pomocą histogramu. Wykorzystamy bibliotekę matplotlib, która pozwala na łatwe generowanie histogramów, a kod wygląda następująco:"
   ],
   "metadata": {
    "collapsed": false
   }
  },
  {
   "cell_type": "code",
   "execution_count": null,
   "outputs": [],
   "source": [
    "plt.hist(df['odometer_value_binned'], alpha=0.5, edgecolor='black', linewidth=1.2)\n",
    "plt.xlabel(\"Odometer Value\")\n",
    "plt.ylabel(\"Count\")\n",
    "plt.title(\"Distribution of Odometer Values\")\n",
    "plt.show()"
   ],
   "metadata": {
    "collapsed": false,
    "pycharm": {
     "name": "#%%\n"
    }
   }
  },
  {
   "cell_type": "markdown",
   "source": [
    "To samo możemy uzyskać, używając parametru `'bins'` podczas tworzenia histogramu, bez konieczności tworzenia osobnych koszy (binów) na podstawie danych."
   ],
   "metadata": {
    "collapsed": false
   }
  },
  {
   "cell_type": "code",
   "execution_count": null,
   "outputs": [],
   "source": [
    "plt.hist(df['odometer_value'], bins=3)\n",
    "plt.xlabel(\"Odometer Value\")\n",
    "plt.ylabel(\"Count\")\n",
    "plt.title(\"Distribution of Odometer Values\")\n",
    "bin_centers = 0.5 * (bins[:-1] + bins[1:])\n",
    "plt.xticks(bin_centers, group_names)\n",
    "plt.show()"
   ],
   "metadata": {
    "collapsed": false,
    "pycharm": {
     "name": "#%%\n"
    }
   }
  },
  {
   "cell_type": "markdown",
   "source": [
    "# Seaborn - wizualizacja"
   ],
   "metadata": {
    "collapsed": false
   }
  },
  {
   "cell_type": "markdown",
   "source": [
    " Seaborn to biblioteka w języku Python do wizualizacji danych oparta na matplotlib. Jest między nimi kilka różnic:\n",
    "\n",
    "- Poziom skomplikowania: Matplotlib jest bardziej podstawową biblioteką i oferuje większą elastyczność w tworzeniu własnych wykresów. Seaborn natomiast oferuje bardziej zaawansowane funkcje i domyślne ustawienia, co umożliwia szybkie tworzenie estetycznych i profesjonalnych wykresów.\n",
    "\n",
    "- Styl: Seaborn oferuje wbudowane style, które są bardziej atrakcyjne wizualnie niż domyślne style w Matplotlib. Style te oferują większą różnorodność palet kolorów, poprawione czcionki i linie siatki.\n",
    "\n",
    "- Domyślne ustawienia: Seaborn oferuje bardziej precyzyjne domyślne ustawienia osi i skali, co ułatwia tworzenie estetycznych wykresów. Matplotlib ma bardziej elastyczne ustawienia, co oznacza, że użytkownik musi je dostosować samodzielnie.\n",
    "\n",
    "- Typy wykresów: Seaborn oferuje kilka unikalnych typów wykresów, takich jak wykresy wstęgowe, wykresy punktowe z dopasowaną linią regresji czy wykresy violina. Matplotlib oferuje bardziej podstawowe typy wykresów, takie jak wykresy liniowe, słupkowe czy punktowe.\n",
    "\n",
    "- Złożoność kodu: Ze względu na bardziej precyzyjne domyślne ustawienia, Seaborn wymaga mniejszej ilości kodu niż Matplotlib do osiągnięcia podobnych wyników.\n",
    "\n",
    "Ogólnie rzecz biorąc, Seaborn oferuje łatwiejszy w użyciu interfejs oraz bardziej zaawansowane funkcje do tworzenia estetycznych wykresów, podczas gdy Matplotlib oferuje większą elastyczność w tworzeniu niestandardowych wykresów. Wiele osób decyduje się na użycie Seaborn jako ulepszonej wersji Matplotlib.\n",
    "\n",
    "Z tego powodu przez resztę zajęć zazwyczaj będziemy korzystać z Seaborna.\n",
    "\n"
   ],
   "metadata": {
    "collapsed": false
   }
  },
  {
   "cell_type": "markdown",
   "source": [
    "Jak zawsze pierwszym krokiem jest zaimportowanie biblioteki."
   ],
   "metadata": {
    "collapsed": false
   }
  },
  {
   "cell_type": "code",
   "execution_count": null,
   "outputs": [],
   "source": [
    "import seaborn as sns"
   ],
   "metadata": {
    "collapsed": false,
    "pycharm": {
     "name": "#%%\n"
    }
   }
  },
  {
   "cell_type": "markdown",
   "source": [
    "Na początek możemy spróbować stworzyć dokładnie taki sam wykres punktowy jak poprzednio, który przedstawia zależność między rokiem produkcji, a wartością przebiegu."
   ],
   "metadata": {
    "collapsed": false
   }
  },
  {
   "cell_type": "code",
   "execution_count": null,
   "outputs": [],
   "source": [
    "sns.scatterplot(x=\"year_produced\", y=\"odometer_value\", data=df)\n",
    "plt.show()"
   ],
   "metadata": {
    "collapsed": false,
    "pycharm": {
     "name": "#%%\n"
    }
   }
  },
  {
   "cell_type": "markdown",
   "source": [
    "Oto niektóre narzędzia do wizualizacji w bibliotece seaborn:\n",
    "\n",
    "- lineplot(): tworzy wykres liniowy\n",
    "- scatterplot(): tworzy wykres punktowy\n",
    "- barplot(): tworzy wykres słupkowy\n",
    "- histplot(): tworzy histogram\n",
    "- boxplot(): tworzy wykres pudełkowy\n",
    "- heatmap(): tworzy mapę ciepła\n",
    "- pairplot(): tworzy wykresy punktowe dla wszystkich kombinacji zmiennych\n",
    "- regplot(): tworzy wykres punktowy z dopasowaną linią regresji\n",
    "- jointplot(): wykres zależności między dwoma zmiennymi wraz z histogramami każdej zmiennej\n",
    "- violinplot(): wykres skrzypcowy przedstawiający rozkład danych dla różnych kategorii\n",
    "- swarmplot(): wykres punktowy przedstawiający rozkład danych dla różnych kategorii, często używany razem z violinplot()\n",
    "- factorplot(): ogólny wykres kategorii, który umożliwia rysowanie różnych rodzajów wykresów dla różnych typów danych\n",
    "- countplot(): wykres słupkowy przedstawiający liczbę wystąpień dla każdej wartości w kategorii\n",
    "- lmplot(): wykres zależności między dwoma zmiennymi wraz z linią regresji\n",
    "- catplot(): ogólny wykres kategorii, który umożliwia rysowanie różnych rodzajów wykresów dla różnych typów danych, w tym także dodawanie subplots."
   ],
   "metadata": {
    "collapsed": false
   }
  },
  {
   "cell_type": "markdown",
   "source": [
    "Teraz, korzystając z naszych danych, pokażemy jak narysować większość typów wykresów."
   ],
   "metadata": {
    "collapsed": false
   }
  },
  {
   "cell_type": "code",
   "execution_count": null,
   "outputs": [],
   "source": [
    "# Tworzenie wykresu liniowego\n",
    "sns.lineplot(x='year_produced', y='price_usd', data=df)\n",
    "plt.ylim(0,)\n",
    "plt.show()"
   ],
   "metadata": {
    "collapsed": false,
    "pycharm": {
     "name": "#%%\n"
    }
   }
  },
  {
   "cell_type": "code",
   "execution_count": null,
   "outputs": [],
   "source": [
    "# Tworzenie wykresu punktowego\n",
    "sns.scatterplot(x='engine_capacity', y='price_usd', data=df)\n",
    "plt.xlim(0,)\n",
    "plt.ylim(0,)\n",
    "plt.show()"
   ],
   "metadata": {
    "collapsed": false,
    "pycharm": {
     "name": "#%%\n"
    }
   }
  },
  {
   "cell_type": "code",
   "execution_count": null,
   "outputs": [],
   "source": [
    "# Tworzenie wykresu słupkowego\n",
    "sns.barplot(x='body_type', y='price_usd', data=df)\n",
    "plt.xticks(rotation=90)\n",
    "plt.show()"
   ],
   "metadata": {
    "collapsed": false,
    "pycharm": {
     "name": "#%%\n"
    }
   }
  },
  {
   "cell_type": "code",
   "execution_count": null,
   "outputs": [],
   "source": [
    "# Tworzenie histogramu\n",
    "sns.histplot(x='odometer_value', data=df)\n",
    "plt.xlim(0,)\n",
    "plt.show()"
   ],
   "metadata": {
    "collapsed": false,
    "pycharm": {
     "name": "#%%\n"
    }
   }
  },
  {
   "cell_type": "code",
   "execution_count": null,
   "outputs": [],
   "source": [
    "# Tworzenie wykresu pudełkowego\n",
    "sns.boxplot(x='transmission', y='price_usd', data=df)\n",
    "plt.ylim(0,)\n",
    "plt.show()"
   ],
   "metadata": {
    "collapsed": false,
    "pycharm": {
     "name": "#%%\n"
    }
   }
  },
  {
   "cell_type": "code",
   "execution_count": null,
   "outputs": [],
   "source": [
    "# Tworzenie mapy ciepła\n",
    "sns.heatmap(pivot_table, cmap='seismic')\n",
    "plt.show()"
   ],
   "metadata": {
    "collapsed": false,
    "pycharm": {
     "name": "#%%\n"
    }
   }
  },
  {
   "cell_type": "code",
   "execution_count": null,
   "outputs": [],
   "source": [
    "# Tworzenie wykresów punktowych dla wszystkich kombinacji zmiennych\n",
    "sns.pairplot(df[['odometer_value', 'engine_capacity', 'price_usd', 'year_produced']])\n",
    "plt.show()"
   ],
   "metadata": {
    "collapsed": false,
    "pycharm": {
     "name": "#%%\n"
    }
   }
  },
  {
   "cell_type": "code",
   "execution_count": null,
   "outputs": [],
   "source": [
    "# Tworzenie wykresu punktowego z dopasowaną linią regresji\n",
    "sns.regplot(x='odometer_value', y='price_usd', data=df, scatter_kws={'s': 2}, line_kws={'color': 'red', 'lw': 2})\n",
    "plt.xlim(0,)\n",
    "plt.ylim(0,)\n",
    "plt.show()"
   ],
   "metadata": {
    "collapsed": false,
    "pycharm": {
     "name": "#%%\n"
    }
   }
  },
  {
   "cell_type": "code",
   "execution_count": null,
   "outputs": [],
   "source": [
    "# wykres zależności między dwoma zmiennymi wraz z histogramami każdej zmiennej\n",
    "sns.jointplot(x='year_produced', y='price_usd', data=df)\n",
    "plt.ylim(0,)\n",
    "plt.show()"
   ],
   "metadata": {
    "collapsed": false,
    "pycharm": {
     "name": "#%%\n"
    }
   }
  },
  {
   "cell_type": "code",
   "execution_count": null,
   "outputs": [],
   "source": [
    "# wykres skrzypcowy przedstawiający rozkład danych dla różnych kategorii\n",
    "sns.violinplot(x='manufacturer_name', y='price_usd', data=df, color='yellow', linewidth=0.1)\n",
    "plt.ylim(0,)\n",
    "plt.xticks(rotation=90)\n",
    "plt.tick_params(axis='x', labelsize=8)\n",
    "plt.show()"
   ],
   "metadata": {
    "collapsed": false,
    "pycharm": {
     "name": "#%%\n"
    }
   }
  },
  {
   "cell_type": "code",
   "execution_count": null,
   "outputs": [],
   "source": [
    "# wykres słupkowy przedstawiający liczbę wystąpień dla każdej wartości w kategorii\n",
    "sns.countplot(x='engine_fuel', data=df)\n",
    "plt.xticks(rotation=90)\n",
    "plt.show()"
   ],
   "metadata": {
    "collapsed": false,
    "pycharm": {
     "name": "#%%\n"
    }
   }
  },
  {
   "cell_type": "code",
   "execution_count": null,
   "outputs": [],
   "source": [
    "# wykres zależności między dwoma zmiennymi wraz z linią regresji\n",
    "sns.lmplot(x='year_produced', y='price_usd', data=df)\n",
    "plt.ylim(0,)\n",
    "plt.show()"
   ],
   "metadata": {
    "collapsed": false,
    "pycharm": {
     "name": "#%%\n"
    }
   }
  },
  {
   "cell_type": "code",
   "execution_count": null,
   "outputs": [],
   "source": [
    "# ogólny wykres kategorii, który umożliwia rysowanie różnych rodzajów wykresów dla różnych typów danych, w tym także dodawanie subplots\n",
    "sns.catplot(x='engine_type', y='price_usd', hue='transmission', kind='violin', col='drivetrain', data=df, palette='seismic')\n",
    "plt.ylim(0,)\n",
    "plt.show()"
   ],
   "metadata": {
    "collapsed": false,
    "pycharm": {
     "name": "#%%\n"
    }
   }
  },
  {
   "cell_type": "markdown",
   "source": [
    "W bibliotece Seaborn, parametry funkcji wizualizacyjnych różnią się w zależności od konkretnej funkcji. Niemniej jednak, istnieją pewne często spotykane parametry, które możemy wyróżnić, takie jak:\n",
    "\n",
    "- data: DataFrame lub inny obiekt, który zawiera dane do wizualizacji.\n",
    "- x, y: nazwy kolumn lub indeksy, które określają zmienne, które chcemy porównać lub wizualizować.\n",
    "- hue: nazwa kolumny lub indeksu, która umożliwia dodatkowe porównywanie danych w oparciu o inną zmienną.\n",
    "- palette: nazwa palety kolorów lub lista kolorów, która określa schemat kolorów do wykorzystania w wizualizacji.\n",
    "- order, hue_order: listy wartości, które określają porządek wyświetlania danych na wykresie.\n",
    "- kind: określa rodzaj wykresu do narysowania, na przykład 'bar', 'box', 'scatter', itp.\n",
    "- size, aspect: kontrolują wielkość i proporcje rysowanego wykresu.\n",
    "- title, xlabel, ylabel: napisy, które określają tytuł i etykiety osi wizualizacji.\n",
    "\n",
    "Oczywiście to tylko kilka przykładów, a w zależności od funkcji, można spotkać różne parametry związane z ustawieniem stylu, dodawaniem elementów takich jak legendy, siatki, etykiety punktów i wiele innych."
   ],
   "metadata": {
    "collapsed": false
   }
  },
  {
   "cell_type": "markdown",
   "source": [
    "# Korelacja"
   ],
   "metadata": {
    "collapsed": false
   }
  },
  {
   "cell_type": "markdown",
   "source": [
    "Korelacja to miara, która określa, jak silnie dwie zmienne są ze sobą związane. Przyjmuje wartości od -1 do 1, gdzie wartości bliskie -1 oznaczają silną ujemną korelację, wartości bliskie 1 oznaczają silną dodatnią korelację, a wartość 0 oznacza brak korelacji.\n",
    "\n",
    "W pandasie korelację można badać za pomocą metody `df.corr()`. Domyślnie metoda ta zwraca tabelę korelacji dla wszystkich kolumn z wartościami numerycznymi w danym obiekcie DataFrame. Jednak w przyszłych wersjach, wartość domyślna argumentu numeric_only zostanie zmieniona na False. Można również podać argument `method`, który określa metodę obliczania korelacji, np. `pearson` (domyślna), `kendall` lub `spearman`."
   ],
   "metadata": {
    "collapsed": false
   }
  },
  {
   "cell_type": "code",
   "execution_count": null,
   "outputs": [],
   "source": [
    "df.corr(numeric_only=True)"
   ],
   "metadata": {
    "collapsed": false,
    "pycharm": {
     "name": "#%%\n"
    }
   }
  },
  {
   "cell_type": "markdown",
   "source": [
    "Możemy zwizualizować korelację pomiędzy różnymi kolumnami w obiekcie DataFrame za pomocą heatmapy. Wizualizacja ta pozwala nam na szybkie zidentyfikowanie silnych pozytywnych i negatywnych korelacji między zmiennymi."
   ],
   "metadata": {
    "collapsed": false
   }
  },
  {
   "cell_type": "code",
   "execution_count": null,
   "outputs": [],
   "source": [
    "sns.heatmap(df.corr(numeric_only=True), cmap='gray')\n",
    "plt.show()"
   ],
   "metadata": {
    "collapsed": false,
    "pycharm": {
     "name": "#%%\n"
    }
   }
  },
  {
   "cell_type": "markdown",
   "source": [
    "Zbadajmy trzy możliwości:\n",
    "- korelacja dodatnia\n",
    "- korelacja bliska zeru\n",
    "- korelacja ujemna"
   ],
   "metadata": {
    "collapsed": false
   }
  },
  {
   "cell_type": "markdown",
   "source": [
    "Na początek sprawdźmy korelacje pomiędzy rokiem produkcji a ceną samochodu."
   ],
   "metadata": {
    "collapsed": false
   }
  },
  {
   "cell_type": "code",
   "execution_count": null,
   "outputs": [],
   "source": [
    "df[[\"year_produced\", \"price_usd\"]].corr()"
   ],
   "metadata": {
    "collapsed": false,
    "pycharm": {
     "name": "#%%\n"
    }
   }
  },
  {
   "cell_type": "markdown",
   "source": [
    "Jak widzimy, korelacja między dwiema zmiennymi jest dodatnia, co w praktyce oznacza, że kiedy jedna zmienna rośnie, to druga również rośnie.\n",
    "\n",
    "Sprawdźmy teraz, czy ten sam trend będzie widoczny na wykresie z regresją liniową."
   ],
   "metadata": {
    "collapsed": false
   }
  },
  {
   "cell_type": "code",
   "execution_count": null,
   "outputs": [],
   "source": [
    "sns.regplot(x=\"year_produced\", y=\"price_usd\", data=df, scatter_kws={'s': 2}, line_kws={'color': 'red', 'lw': 2})\n",
    "plt.xlim(df[\"year_produced\"].min(), df[\"year_produced\"].max())\n",
    "plt.ylim(0, )\n",
    "plt.show()"
   ],
   "metadata": {
    "collapsed": false,
    "pycharm": {
     "name": "#%%\n"
    }
   }
  },
  {
   "cell_type": "markdown",
   "source": [
    "Wraz ze wzrostem roku produkcji można zaobserwować wzrost ceny, co sugeruje istnienie dodatniej bezpośredniej korelacji między tymi dwoma zmiennymi."
   ],
   "metadata": {
    "collapsed": false
   }
  },
  {
   "cell_type": "markdown",
   "source": [
    "Następnie sprawdźmy korelacje pomiędzy rokiem produkcji a wielkością silnika."
   ],
   "metadata": {
    "collapsed": false
   }
  },
  {
   "cell_type": "code",
   "execution_count": null,
   "outputs": [],
   "source": [
    "df[[\"year_produced\", \"engine_capacity\"]].corr()"
   ],
   "metadata": {
    "collapsed": false,
    "pycharm": {
     "name": "#%%\n"
    }
   }
  },
  {
   "cell_type": "markdown",
   "source": [
    "Korelacja bliska zeru sugeruje, że między tymi dwoma zmiennymi nie ma silnego związku.\n",
    "\n",
    "Sprawdźmy teraz, czy potwierdzi się to na wykresie z regresją liniową."
   ],
   "metadata": {
    "collapsed": false
   }
  },
  {
   "cell_type": "code",
   "execution_count": null,
   "outputs": [],
   "source": [
    "sns.regplot(x=\"year_produced\", y=\"engine_capacity\", data=df, scatter_kws={'s': 2}, line_kws={'color': 'red', 'lw': 2})\n",
    "plt.xlim(df[\"year_produced\"].min(), df[\"year_produced\"].max())\n",
    "plt.ylim(0, )\n",
    "plt.show()"
   ],
   "metadata": {
    "collapsed": false,
    "pycharm": {
     "name": "#%%\n"
    }
   }
  },
  {
   "cell_type": "markdown",
   "source": [
    "Linia regresji jest prawie pozioma. Ponadto punkty są bardzo rozproszone i oddalone od dopasowanej linii, co pokazuje dużą zmienność. Może to sugerować brak związku między tymi dwoma zmiennymi."
   ],
   "metadata": {
    "collapsed": false
   }
  },
  {
   "cell_type": "markdown",
   "source": [
    "Na koniec sprawdźmy korelacje pomiędzy rokiem produkcji a przebiegiem."
   ],
   "metadata": {
    "collapsed": false
   }
  },
  {
   "cell_type": "code",
   "execution_count": null,
   "outputs": [],
   "source": [
    "df[[\"year_produced\", \"odometer_value\"]].corr()"
   ],
   "metadata": {
    "collapsed": false,
    "pycharm": {
     "name": "#%%\n"
    }
   }
  },
  {
   "cell_type": "markdown",
   "source": [
    "Jak możemy zauważyć, między tymi dwiema zmiennymi występuje ujemna korelacja, co oznacza, że gdy wartość jednej zmiennej wzrasta, to wartość drugiej zmiennej maleje.\n",
    "\n",
    "Sprawdźmy teraz, czy ten sam trend będzie widoczny na wykresie z regresją liniową."
   ],
   "metadata": {
    "collapsed": false
   }
  },
  {
   "cell_type": "code",
   "execution_count": null,
   "outputs": [],
   "source": [
    "sns.regplot(x=\"year_produced\", y=\"odometer_value\", data=df, scatter_kws={'s': 2}, line_kws={'color': 'red', 'lw': 2})\n",
    "plt.xlim(df[\"year_produced\"].min(), df[\"year_produced\"].max())\n",
    "plt.ylim(0, )\n",
    "plt.show()"
   ],
   "metadata": {
    "collapsed": false,
    "pycharm": {
     "name": "#%%\n"
    }
   }
  },
  {
   "cell_type": "markdown",
   "source": [
    "Wraz ze wzrostem roku produkcji przebieg maleje: to wskazuje na odwrotny ujemny związek między tymi dwoma zmiennymi.\n"
   ],
   "metadata": {
    "collapsed": false
   }
  },
  {
   "cell_type": "markdown",
   "source": [
    "Na koniec musimy pamiętać, że korelacja nie wskazuje na związek przyczynowo-skutkowy między zmiennymi, a jedynie na to, jak bardzo są one ze sobą związane liniowo. Wysoka lub niska wartość korelacji nie oznacza bezpośrednio przyczynowości, lub jej braku, ponieważ istnieć mogą inne czynniki, które wpływają na obie zmienne. Niska wartość korelacji również nie oznacza wprost braku związku między zmiennymi, ponieważ może istnieć nieliniowa zależność między nimi, która nie zostanie ujawniona przez korelację liniową.\n",
    "\n",
    "W przyszłości wielkość korelacji między dwoma zmiennymi może nam sugerować, czy jedna zmienna może być dobrym predyktorem drugiej zmiennej. Im silniejsza korelacja między zmiennymi, tym większe prawdopodobieństwo, że jedna zmienna może być użytecznym predyktorem drugiej zmiennej. Jednak warto pamiętać, że korelacja nie oznacza przyczynowości, więc należy podejść ostrożnie do wnioskowania na temat predykcji na podstawie korelacji między zmiennymi."
   ],
   "metadata": {
    "collapsed": false,
    "pycharm": {
     "name": "#%% md\n"
    }
   }
  }
 ],
 "metadata": {
  "kernelspec": {
   "display_name": "Python 3 (ipykernel)",
   "language": "python",
   "name": "python3"
  },
  "language_info": {
   "codemirror_mode": {
    "name": "ipython",
    "version": 3
   },
   "file_extension": ".py",
   "mimetype": "text/x-python",
   "name": "python",
   "nbconvert_exporter": "python",
   "pygments_lexer": "ipython3",
   "version": "3.9.5"
  }
 },
 "nbformat": 4,
 "nbformat_minor": 1
}
