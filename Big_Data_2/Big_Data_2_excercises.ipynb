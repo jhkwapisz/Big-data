{
 "cells": [
  {
   "cell_type": "markdown",
   "source": [
    "# Big Data w biznesie"
   ],
   "metadata": {
    "collapsed": false
   }
  },
  {
   "cell_type": "markdown",
   "source": [
    "## Drugi notebook zadania"
   ],
   "metadata": {
    "collapsed": false
   }
  },
  {
   "cell_type": "code",
   "execution_count": 1,
   "outputs": [
    {
     "data": {
      "text/plain": "<IPython.core.display.HTML object>",
      "text/html": "<style><style>\n#notebook-container{\n    box-shadow: none !important;\n}\n\n#ipython_notebook img{                                                                                        \n    display:block; \n    background: url(\"images/LOGO-jupyter.png\") no-repeat;\n    background-size: contain;\n    width: 85px;\n    height: 52px;\n    padding-left: 100px;\n    padding-right: 50px;\n    -moz-box-sizing: border-box;\n    box-sizing: border-box;\n}\n\n.notebook_app {\n    background: #fff !important;\n}\n\nbody > #header {\n    margin-bottom: -5px;\n}\n\ndiv#notebook {\n    padding-top: 0px;\n}\n\n/* SCROLL BAR */\n::-webkit-scrollbar {\n    max-width: 10px;\n    max-height: 10px;\n    border-radius: 3px;\n    border: none;\n}\n::-webkit-scrollbar-track {\n    border: none;\n    max-width: 10px;\n    max-height: 10px;\n}\n::-webkit-scrollbar-thumb {\n    border-radius: 5px;\n    border: none;\n    background: #0000003d;\n    background-clip: content-box;\n    max-width: 10px;\n}\n\n/* HEADER */\nbody > #header #header-container{\n    padding-top: 15px;\n    padding-bottom: 5px;\n}\n\nbody > #header div.header-bar {\n    height: 0px;\n}\n\n#header #menus{\n    padding: 5px 0px;\n}\n\n#header #menubar, #header #maintoolbar {\n    margin-top: 0.5em;\n    margin-bottom: 0.5em;\n    padding: 0px;\n}\n\nbody > #header #header-container,\nbody > #header #menubar-container {\n    padding-left: 10px;\n    padding-right: 10px;\n}\n\n#header #maintoolbar-container {\n    margin-bottom: 0px;\n    margin-top: 0px;\n}\n\ndiv.navbar-default {\n    border: 0px;\n    border-radius: 0px;\n}\n\n#header, #header .btn, #header select, #header #menubar a {\n    color: #323232;\n}\n\n#header .btn, #header select {\n    background-color: #f8f8f8;\n    border: 0px;\n    border-radius: 0px;\n}\n\n#maintoolbar .btn, #maintoolbar select {\n    height: 22px !important;\n    line-height: 22px;\n    padding-top: 0px;\n    box-shadow: none;\n}\n\ndiv.navbar-nav > li > div.dropdown-menu {\n    border: 0px;\n    background-color: #f8f8f8;\n}\n\n\n/* CELLS */\ndiv.prompt, code, kbd, pre, samp {\n    font-family: \"Cascadia Code\", 'Courier New', Courier, monospace, sans-serif !important;\n    font-size: 13px !important;\n}\n\ndiv.input_area {\n    border: none;\n    border-radius: 0;\n    background: #f7f7f7;\n    /* margin: 0.5em 0; */\n}\n\ndiv.cell {\n    transition: all 0.25s;\n    border: none;\n    padding: 0.5em;\n    /* position: relative;\n    top: 0; */\n}\n\ndiv.cell.selected, div.cell.selected.jupyter-soft-selected {\n    border: none;\n    background: transparent;\n    box-shadow: 0px 0px 12px 1px rgba(87, 87, 87, 0.2);\n    border-radius: 0px\n}\n\ndiv.prompt, div.inner_cell, div.input_area {\n    padding: 0.5em;\n}\n\ndiv.text_cell_render, div.rendered_html {\n    padding: 0;\n}\n\ndiv.run_this_cell {\n    display: none;\n}\n\ndiv.output.output_scroll {\n    -webkit-box-shadow: inset 0px 0px 12px 1px rgba(87, 87, 87, 0.2);\n    box-shadow: inset 0px 0px 12px 1px rgba(87, 87, 87, 0.2);\n}\n\ndiv.prompt.input_prompt {\n    padding: 1.5em;\n}\n\ndiv.prompt.output_prompt {\n    padding: 0.6em 1.5em;\n}\n\n\n/* TEXT CELL FORMATTING */\ndiv.text_cell p,\ndiv.text_cell li,\ndiv.text_cell table,\ndiv.text_cell h1,\ndiv.text_cell h2,\ndiv.text_cell h3,\ndiv.text_cell h4,\ndiv.text_cell h5 {\n    font-family: 'Segoe UI', Tahoma, Geneva, Verdana, sans-serif;\n    color: rgba(50, 50, 50, 1);\n    line-height: 1.4;\n    margin: 0.5em 0em;\n}\n\ndiv.text_cell p {\n    line-height: 1.6;\n}\n\ndiv.text_cell ul, div.text_cell ol {\n    margin: 1em 0em;\n}\n\ndiv.text_cell li {\n    line-height: 1;\n}\n\ndiv.rendered_html table {\n    margin-left: inherit;\n    margin-right: inherit;\n}\n\ndiv.rendered_html blockquote {\n    margin-left: 0;\n    margin-right: 0;\n    border-left-color: rgb(162, 162, 162);\n    background-color: #f7f7f7;\n}\n\ndiv.rendered_html blockquote p{\n    color: rgba(0, 0, 0, 0.5);\n    font-weight: 600;\n}\n\ndiv.rendered_html pre {\n    margin-left: 0;\n    margin-right: 0;\n    padding: 1em;\n    background-color: #f7f7f7;\n}\n\ndiv.rendered_html pre * {\n    background-color: rgba(0,0,0,0) !important;\n}\n\n\ndiv.admonition { \n    background-color: #ffffff;\n    box-shadow: 0px 4px 3px -2px gray;\n    border-radius: 4px; \n    padding: 0.5em;\n    margin-top: 2em;\n    margin-bottom: 2em;\n       }\n\ndiv.admonition:before {\n    font-size: 1.0em;\n    visibility: visible; \n    display: block;\n    height: 2em;\n    top: 0em;\n    left: -0.44em;\n    width:  101%;\n    border-radius: 0px 10px 0px 0px;\n    margin-left: -0.0em;\n    margin-top: -0.3em;\n    top: -2px;\n    font-weight: bold;\n    position: relative;\n    display: flex;\n    align-items: center;\n    font-weight: bold;\n    position: relative;\n    vertical-align: middle;\n    }\n\ndiv.admonition.warn {\n    border-left: 4px solid #F9E04B; \n    }\n\ndiv.admonition.warn:before { \n    font-size: 1.2em !important;\n    content: '\\00a0    ⚠️ Uwaga!';\n    background: #ffff99;\n    }\n\ndiv.admonition.info {border-left: 4px solid #9594ff;}\n\ndiv.admonition.info:before { font-size: 1.2em !important;\n    content: '\\00a0  💡 To ciekawe!';\n    background: #ddeeff;}\n\ndiv.admonition.danger {border-left: 4px solid #ff5555; }\n\ndiv.danger.admonition:before { font-size: 1.2em !important;\n    content: '\\00a0    🛑 Uwaga, błędy!';\n    background: #ffcccc;}\n\ndiv.admonition.see {border-left: 4px solid #33cc33; }\n\ndiv.admonition.see:before { font-size: 1.2em !important;\n    content: '\\00a0    🌐 Dowiedz się więcej!';\n    background: #ccffcc;}\n\ndiv.admonition.code {border-left: 4px solid #aaaaaa; }\n\ndiv.admonition.code:before { font-size: 1.2em !important;\n    content: '\\00a0    🐍 Wywołaj poniższą komórkę!';\n    background: #eeeeee\n;}\n\ndiv.admonition.code.codes:before { font-size: 1.2em !important;\n    content: '\\00a0    🐍 Wywołaj poniższe komórki!';}\n\ndiv.admonition.task {border-left: 4px solid #aaaaaa; }\n\ndiv.admonition.task:before { font-size: 1.2em !important;\n    content: '\\00a0    💭 Wykonaj poniższe zadanie!';\n    background: #eeeeee\n;}\n\n</style></style>"
     },
     "execution_count": 1,
     "metadata": {},
     "output_type": "execute_result"
    }
   ],
   "source": [
    "from IPython.core.display import HTML\n",
    "\n",
    "def _set_css_style(css_file_path):\n",
    "   \"\"\"\n",
    "   Read the custom CSS file and load it into Jupyter.\n",
    "   Pass the file path to the CSS file.\n",
    "   \"\"\"\n",
    "\n",
    "   styles = open(css_file_path, \"r\").read()\n",
    "   s = '<style>%s</style>' % styles\n",
    "   return HTML(s)\n",
    "_set_css_style(\"../custom.css\")"
   ],
   "metadata": {
    "collapsed": false
   }
  },
  {
   "cell_type": "markdown",
   "source": [
    "#### Zaimportuj biblioteki numpy i pandas."
   ],
   "metadata": {
    "collapsed": false
   }
  },
  {
   "cell_type": "code",
   "execution_count": null,
   "outputs": [],
   "source": [
    "import numpy as np\n",
    "import pandas as pd"
   ],
   "metadata": {
    "collapsed": false
   }
  },
  {
   "cell_type": "markdown",
   "source": [
    "#### Załaduj plik csv.\n",
    "***\n",
    "Do zmiennej `df` załaduj plik `cars.csv`."
   ],
   "metadata": {
    "collapsed": false
   }
  },
  {
   "cell_type": "code",
   "execution_count": null,
   "outputs": [],
   "source": [],
   "metadata": {
    "collapsed": false
   }
  },
  {
   "cell_type": "markdown",
   "source": [
    "#### Wyświetl pierwsze 5 linijek obiektu ''df''."
   ],
   "metadata": {
    "collapsed": false
   }
  },
  {
   "cell_type": "code",
   "execution_count": null,
   "metadata": {},
   "outputs": [],
   "source": []
  },
  {
   "cell_type": "markdown",
   "source": [
    "#### Sprawdź, które kolumny zamienić na typ 'category'.\n",
    "***\n",
    "Kolumny, w których wartości przyjmują tylko kilka różnych parametrów, warto zamienić typ na `'category'`.\n",
    "Zwróć listę kolumn, które są typu `'object'` i przyjmują mniej niż 20 różnych wartości."
   ],
   "metadata": {
    "collapsed": false
   }
  },
  {
   "cell_type": "code",
   "execution_count": null,
   "outputs": [],
   "source": [],
   "metadata": {
    "collapsed": false
   }
  },
  {
   "cell_type": "markdown",
   "source": [
    "#### Napisz funkcję, która nadaje kolumnom typ 'category'.\n",
    "***\n",
    "Funkcja jako argumenty będzie przyjmować obiekt Dataframe oraz listę z nazwami kolumn, którym chcielibyśmy zmienić typ na `category`."
   ],
   "metadata": {
    "collapsed": false
   }
  },
  {
   "cell_type": "code",
   "execution_count": null,
   "outputs": [],
   "source": [
    "list_of_columns = ['transmission', 'color', 'engine_fuel', 'engine_type', 'body_type', 'state', 'drivetrain', 'location_region']"
   ],
   "metadata": {
    "collapsed": false
   }
  },
  {
   "cell_type": "code",
   "execution_count": null,
   "metadata": {},
   "outputs": [],
   "source": [
    "def proper_columns_types(df, list_of_columns):\n",
    "\n",
    "    return df"
   ]
  },
  {
   "cell_type": "code",
   "execution_count": null,
   "metadata": {},
   "outputs": [],
   "source": [
    "df = proper_columns_types(df, list_of_columns)\n",
    "df.info()"
   ]
  },
  {
   "cell_type": "markdown",
   "source": [
    "#### Wczytaj plik i od razu nadaj odpowiednim kolumnom typ 'category'."
   ],
   "metadata": {
    "collapsed": false
   }
  },
  {
   "cell_type": "code",
   "execution_count": null,
   "metadata": {},
   "outputs": [],
   "source": []
  },
  {
   "cell_type": "markdown",
   "source": [
    "#### Napisz funkcję, która printuje brakujące dane.\n",
    "***\n",
    "Funkcja ta jak argument ma przyjmować obiekt typu Dataframe i printować na ekran liczbę brakujących wartości dla każdej kolumny w podanym DataFrame."
   ],
   "metadata": {
    "collapsed": false
   }
  },
  {
   "cell_type": "code",
   "execution_count": null,
   "outputs": [],
   "source": [
    "def print_missing(df):\n"
   ],
   "metadata": {
    "collapsed": false
   }
  },
  {
   "cell_type": "markdown",
   "source": [
    "#### Napisz funkcję, która zamienia losowe dane na 'np.nan'.\n",
    "***\n",
    "W związku z tym, że chcemy nauczyć się pracować z brakującymi danymi, najpierw musimy takie stworzyć.\n",
    "\n",
    "Nasza funkcja jako argumenty będzie przyjmować obiekt Dataframe oraz słownik. Kluczem w słowniku będą nazwy kolumn, a wartościami będą liczby błędów, które chcemy wprowadzić (`{'odometer_value': 7}` oznacza, że w kolumnie `'odometer_value'` chcemy zamienić 7 losowych wierszy na typ `'np.nan'`)\n",
    "\n",
    "Podpowiedź:\n",
    "\n",
    "W ten sposób możemy zmienić wartość na ` 'value'` w losowym wierszu w kolumnie `'column'`.\n",
    "\n",
    "`df.loc[df.sample().index, column] = value`"
   ],
   "metadata": {
    "collapsed": false
   }
  },
  {
   "cell_type": "code",
   "execution_count": null,
   "metadata": {},
   "outputs": [],
   "source": [
    "error_dict = {'odometer_value': 7, 'duration_listed': 10, 'color': 6, 'engine_type': 2, 'price_usd': 4}"
   ]
  },
  {
   "cell_type": "code",
   "execution_count": null,
   "outputs": [],
   "source": [
    "def introduce_nan(df, error_dict):\n",
    "\n",
    "    return df"
   ],
   "metadata": {
    "collapsed": false
   }
  },
  {
   "cell_type": "markdown",
   "source": [
    "#### Wprowadź błędy do danych.\n",
    "***\n",
    "Użyj napisanej powyżej funkcji do wprowadzenia brakujących wartości do obiektu `'df_err'`.\n",
    "\n",
    "Sprawdź, czy udało Ci się wprowadzić te błędy za pomocą funkcji do printowania brakujących wartości."
   ],
   "metadata": {
    "collapsed": false
   }
  },
  {
   "cell_type": "code",
   "execution_count": null,
   "outputs": [],
   "source": [
    "df_error = df.copy()"
   ],
   "metadata": {
    "collapsed": false
   }
  },
  {
   "cell_type": "code",
   "execution_count": null,
   "outputs": [],
   "source": [
    "df_error = introduce_nan(df_error, error_dict)\n",
    "print_missing(df_error)"
   ],
   "metadata": {
    "collapsed": false
   }
  },
  {
   "cell_type": "markdown",
   "source": [
    "#### Zamień dane typu 'np.nan' na dane liczbowe.\n",
    "***\n",
    "W kolumnach `'odometer_value'` i `'duration_listed'` zamień brakujące wartości na średnią wartość całej kolumny.\n",
    "\n",
    "W kolumnach `'color':` i `'engine_type'`: zamień brakujące wartości na najczęściej występujący element w całej kolumnie.\n",
    "\n",
    "W kolumnie `'price_usd'` usuń brakujące wartości z naszego obiektu Dataframe."
   ],
   "metadata": {
    "collapsed": false
   }
  },
  {
   "cell_type": "code",
   "execution_count": null,
   "outputs": [],
   "source": [
    "df_err = df_error.copy()"
   ],
   "metadata": {
    "collapsed": false
   }
  },
  {
   "cell_type": "code",
   "execution_count": null,
   "outputs": [],
   "source": [],
   "metadata": {
    "collapsed": false
   }
  },
  {
   "cell_type": "code",
   "execution_count": null,
   "outputs": [],
   "source": [],
   "metadata": {
    "collapsed": false
   }
  },
  {
   "cell_type": "code",
   "execution_count": null,
   "outputs": [],
   "source": [],
   "metadata": {
    "collapsed": false
   }
  },
  {
   "cell_type": "code",
   "execution_count": null,
   "outputs": [],
   "source": [],
   "metadata": {
    "collapsed": false
   }
  },
  {
   "cell_type": "code",
   "execution_count": null,
   "outputs": [],
   "source": [],
   "metadata": {
    "collapsed": false
   }
  },
  {
   "cell_type": "markdown",
   "source": [
    "#### Napisz funkcję, która zamienia dane typu 'np.nan' na dane liczbowe.\n",
    "***\n",
    "Nasza funkcja jako argumenty będzie przyjmować obiekt Dataframe oraz słownik. Kluczem w słowniku będą nazwy kolumn, a wartościami będą wartości `'average'`,`'max'` albo `'drop'` (w zależności co chcemy zrobić z brakującymi danymi).\n"
   ],
   "metadata": {
    "collapsed": false
   }
  },
  {
   "cell_type": "code",
   "execution_count": null,
   "outputs": [],
   "source": [
    "replace_dict = {'odometer_value': 'average', 'duration_listed': 'average', 'color': 'max', 'engine_type': 'max', 'price_usd': 'drop'}"
   ],
   "metadata": {
    "collapsed": false
   }
  },
  {
   "cell_type": "code",
   "execution_count": null,
   "outputs": [],
   "source": [
    "def replace_column(df, replace_dict):\n",
    "\n",
    "    return df"
   ],
   "metadata": {
    "collapsed": false
   }
  },
  {
   "cell_type": "markdown",
   "source": [
    "#### Usuń błędy z danych.\n",
    "***\n",
    "Użyj napisanej powyżej funkcji do zastąpienia lub usunięcia brakujących wartości z obiektu `'df_err'`.\n",
    "\n",
    "Sprawdź, czy udało Ci się to zrobić za pomocą funkcji do printowania brakujących wartości."
   ],
   "metadata": {
    "collapsed": false
   }
  },
  {
   "cell_type": "code",
   "execution_count": null,
   "outputs": [],
   "source": [
    "df_err = replace_column(df_err, replace_dict)\n",
    "print_missing(df_err)"
   ],
   "metadata": {
    "collapsed": false
   }
  },
  {
   "cell_type": "markdown",
   "source": [
    "#### Napisz zapytanie.\n",
    "***\n",
    "Znajdź wszystkie samochody marki Mercedes-Benz wyprodukowane po 2010 roku."
   ],
   "metadata": {
    "collapsed": false
   }
  },
  {
   "cell_type": "code",
   "execution_count": null,
   "metadata": {},
   "outputs": [],
   "source": []
  },
  {
   "cell_type": "markdown",
   "source": [
    "#### Policz rok produkcji podniesiony do kwadratu.\n",
    "***\n",
    "W obiekcie `'df_sec'` stwórz nowe kolumny `'year_produced_squared_1'` i `'year_produced_squared_2'` w których znajdzie się rok produkcji podniesiony do kwadratu.\n",
    "\n",
    "Zrób to na dwa sposoby:\n",
    "- działanie bezpośrednio na kolumnie\n",
    "- działanie przy pomocy funkcji `.apply(lambda x: x)`"
   ],
   "metadata": {
    "collapsed": false
   }
  },
  {
   "cell_type": "code",
   "execution_count": null,
   "outputs": [],
   "source": [
    "df_sec = df.copy()"
   ],
   "metadata": {
    "collapsed": false
   }
  },
  {
   "cell_type": "code",
   "execution_count": null,
   "metadata": {},
   "outputs": [],
   "source": []
  },
  {
   "cell_type": "code",
   "execution_count": null,
   "metadata": {},
   "outputs": [],
   "source": []
  },
  {
   "cell_type": "markdown",
   "source": [
    "#### Oceń czy samochód można uznać za nowy.\n",
    "***\n",
    "W obiekcie `'df_sec'` stwórz nową kolumnę `'is_new'`. Wartość powinna wynosić `True` dla wszystkich samochodów wyprodukowanych po 2016 i z przebiegiem mniejszym niż 100 000 km (oba warunki spełnione jednocześnie). W pozostałych przypadkach wartość powinna wynosić `'False'`."
   ],
   "metadata": {
    "collapsed": false
   }
  },
  {
   "cell_type": "code",
   "execution_count": null,
   "outputs": [],
   "source": [],
   "metadata": {
    "collapsed": false
   }
  },
  {
   "cell_type": "markdown",
   "source": [
    "#### Policz średnią liczbę przebytych kilometrów na rok.\n",
    "***\n",
    "W obiekcie `'df_sec'` stwórz nową kolumnę `'km_per_year'`. Wartość powinna wynosić liczbę przebytych kilometrów podzieloną na lata użytkowania (zakładamy, że dane pochodzą z 2019 roku)."
   ],
   "metadata": {
    "collapsed": false
   }
  },
  {
   "cell_type": "code",
   "execution_count": null,
   "metadata": {},
   "outputs": [],
   "source": []
  },
  {
   "cell_type": "markdown",
   "source": [
    "#### Napisz funkcję, która liczy przebyte kilometry w ciągu roku.\n",
    "***\n",
    "Nasza funkcja jako argumenty będzie przyjmować obiekt Dataframe oraz rok, z którego pochodzą dane.\n",
    "Funkcja będzie zwracać obiekt typu Dataframe, który w kolumnie `'kpy'` ma policzoną tę wartość."
   ],
   "metadata": {
    "collapsed": false
   }
  },
  {
   "cell_type": "code",
   "execution_count": null,
   "metadata": {},
   "outputs": [],
   "source": [
    "def calculate_kpy(df, year):\n",
    "\n",
    "    return df"
   ]
  },
  {
   "cell_type": "markdown",
   "source": [
    "#### Jeszcze raz policz średnią liczbę przebytych kilometrów na rok.\n",
    "***\n",
    "Na obiekcie `'df_sec'` użyj napisanej powyżej funkcji (zakładamy, że dane pochodzą z 2019 roku)."
   ],
   "metadata": {
    "collapsed": false
   }
  },
  {
   "cell_type": "code",
   "execution_count": null,
   "outputs": [],
   "source": [
    "df_sec = calculate_kpy(df_sec, 2019)"
   ],
   "metadata": {
    "collapsed": false
   }
  },
  {
   "cell_type": "markdown",
   "source": [
    "#### Ustandaryzuj dane.\n",
    "***\n",
    "W obiekcie `'df_sec'` stwórz nowe kolumny `'odometer_value_min_max_norm'` i `'odometer_value_norm_dist_norm'` w których ustandaryzowana (znormalizowana) wartość z kolumny `'odometer_value'`.\n",
    "\n",
    "Zrób to na dwa sposoby:\n",
    "- standaryzacja z użyciem wartości minimalnych i maksymalnych\n",
    "- standaryzacja z użyciem wartości średniej i odchylenia standardowego"
   ],
   "metadata": {
    "collapsed": false
   }
  },
  {
   "cell_type": "code",
   "execution_count": null,
   "metadata": {},
   "outputs": [],
   "source": []
  },
  {
   "cell_type": "code",
   "execution_count": null,
   "metadata": {},
   "outputs": [],
   "source": []
  },
  {
   "cell_type": "markdown",
   "source": [
    "#### Zmień wszystkie dane w kolumnie na małe litery.\n",
    "***\n",
    "W obiekcie `'df_sec'` stwórz nową kolumnę `'model_name_lower'`, która będzie zawierać wartości z kolumny `'model_name'`, ale ze wszystkimi wielkimi literami zmienionymi na małe."
   ],
   "metadata": {
    "collapsed": false
   }
  },
  {
   "cell_type": "code",
   "execution_count": null,
   "metadata": {},
   "outputs": [],
   "source": []
  },
  {
   "cell_type": "markdown",
   "source": [
    "#### Zmień nazwy kolumn.\n",
    "***\n",
    "W obiekcie `'df_sec'` zmień nazwy kolumn `'manufacturer_name'` oraz `'model_name'` na odpowiednio `'Manufacturer_Name'` i `'Model_Name'`."
   ],
   "metadata": {
    "collapsed": false
   }
  },
  {
   "cell_type": "code",
   "execution_count": null,
   "outputs": [],
   "source": [
    "changed_names_dict = {'manufacturer_name':'Manufacturer_Name', 'model_name':'Model_Name'}"
   ],
   "metadata": {
    "collapsed": false
   }
  },
  {
   "cell_type": "code",
   "execution_count": null,
   "outputs": [],
   "source": [],
   "metadata": {
    "collapsed": false
   }
  },
  {
   "cell_type": "markdown",
   "source": [
    "#### Policz średnią wartość odczytu z licznika w zależności od marki i modelu samochodu.\n",
    "***\n",
    "Pogrupuj dane po kolumnach `'Manufacturer_Name'` oraz `'Model_Name'` i policz dla nich średnią z kolumny `'odometer_value'`."
   ],
   "metadata": {
    "collapsed": false
   }
  },
  {
   "cell_type": "code",
   "execution_count": null,
   "outputs": [],
   "source": [],
   "metadata": {
    "collapsed": false
   }
  },
  {
   "cell_type": "markdown",
   "source": [
    "#### Policz średnią wartość pojemności silnika w zależności od typu skrzyni biegów i liczbę wystąpień danych typów skrzyni biegów.\n",
    "***\n",
    "Pogrupuj dane po kolumnie `'transmission'` i policz dla nich średnią z kolumny `'engine_capacity'` oraz policz liczbę obserwacji w każdej grupie."
   ],
   "metadata": {
    "collapsed": false
   }
  },
  {
   "cell_type": "code",
   "execution_count": null,
   "outputs": [],
   "source": [],
   "metadata": {
    "collapsed": false
   }
  }
 ],
 "metadata": {
  "kernelspec": {
   "display_name": "Python 3 (ipykernel)",
   "language": "python",
   "name": "python3"
  },
  "language_info": {
   "codemirror_mode": {
    "name": "ipython",
    "version": 3
   },
   "file_extension": ".py",
   "mimetype": "text/x-python",
   "name": "python",
   "nbconvert_exporter": "python",
   "pygments_lexer": "ipython3",
   "version": "3.9.5"
  }
 },
 "nbformat": 4,
 "nbformat_minor": 1
}
