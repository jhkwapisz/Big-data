{
 "cells": [
  {
   "cell_type": "markdown",
   "source": [
    "# Big Data w biznesie"
   ],
   "metadata": {
    "collapsed": false
   }
  },
  {
   "cell_type": "markdown",
   "source": [
    "## Drugi notebook zadania"
   ],
   "metadata": {
    "collapsed": false
   }
  },
  {
   "cell_type": "code",
   "execution_count": null,
   "outputs": [],
   "source": [
    "from IPython.core.display import HTML\n",
    "\n",
    "def _set_css_style(css_file_path):\n",
    "   \"\"\"\n",
    "   Read the custom CSS file and load it into Jupyter.\n",
    "   Pass the file path to the CSS file.\n",
    "   \"\"\"\n",
    "\n",
    "   styles = open(css_file_path, \"r\").read()\n",
    "   s = '<style>%s</style>' % styles\n",
    "   return HTML(s)\n",
    "_set_css_style(\"../custom.css\")"
   ],
   "metadata": {
    "collapsed": false,
    "pycharm": {
     "name": "#%%\n"
    }
   }
  },
  {
   "cell_type": "markdown",
   "source": [
    "#### Zaimportuj biblioteki numpy i pandas."
   ],
   "metadata": {
    "collapsed": false
   }
  },
  {
   "cell_type": "code",
   "execution_count": null,
   "outputs": [],
   "source": [
    "import numpy as np\n",
    "import pandas as pd"
   ],
   "metadata": {
    "collapsed": false,
    "pycharm": {
     "name": "#%%\n"
    }
   }
  },
  {
   "cell_type": "markdown",
   "source": [
    "#### Załaduj plik csv.\n",
    "***\n",
    "Do zmiennej `df` załaduj plik `cars.csv`."
   ],
   "metadata": {
    "collapsed": false
   }
  },
  {
   "cell_type": "code",
   "execution_count": null,
   "outputs": [],
   "source": [],
   "metadata": {
    "collapsed": false,
    "pycharm": {
     "name": "#%%\n"
    }
   }
  },
  {
   "cell_type": "markdown",
   "source": [
    "#### Wyświetl pierwsze 5 linijek obiektu ''df''."
   ],
   "metadata": {
    "collapsed": false
   }
  },
  {
   "cell_type": "code",
   "execution_count": null,
   "metadata": {
    "pycharm": {
     "name": "#%%\n"
    }
   },
   "outputs": [],
   "source": []
  },
  {
   "cell_type": "markdown",
   "source": [
    "#### Sprawdź, które kolumny zamienić na typ 'category'.\n",
    "***\n",
    "Kolumny, w których wartości przyjmują tylko kilka różnych parametrów, warto zamienić typ na 'category'."
   ],
   "metadata": {
    "collapsed": false
   }
  },
  {
   "cell_type": "code",
   "execution_count": null,
   "outputs": [],
   "source": [],
   "metadata": {
    "collapsed": false,
    "pycharm": {
     "name": "#%%\n"
    }
   }
  },
  {
   "cell_type": "markdown",
   "source": [
    "#### Napisz funkcję, która nadaje kolumnom typ 'category'.\n",
    "***\n",
    "Funkcja jako argumenty będzie przyjmować obiekt Dataframe oraz listę z nazwami kolumn, którym chcielibyśmy zmienić typ na `category`."
   ],
   "metadata": {
    "collapsed": false
   }
  },
  {
   "cell_type": "code",
   "execution_count": null,
   "outputs": [],
   "source": [
    "list_of_columns = ['transmission', 'color', 'engine_fuel', 'engine_type', 'body_type', 'state', 'drivetrain', 'location_region']"
   ],
   "metadata": {
    "collapsed": false,
    "pycharm": {
     "name": "#%%\n"
    }
   }
  },
  {
   "cell_type": "code",
   "execution_count": null,
   "metadata": {},
   "outputs": [],
   "source": [
    "def proper_columns_types(df, list_of_columns):\n",
    "\n",
    "    return df"
   ]
  },
  {
   "cell_type": "code",
   "execution_count": null,
   "metadata": {},
   "outputs": [],
   "source": [
    "df = proper_columns_types(df, list_of_columns)\n",
    "df.info()"
   ]
  },
  {
   "cell_type": "markdown",
   "source": [
    "#### Wczytaj plik i od razu nadaj odpowiednim kolumnom typ 'category'."
   ],
   "metadata": {
    "collapsed": false
   }
  },
  {
   "cell_type": "code",
   "execution_count": null,
   "metadata": {},
   "outputs": [],
   "source": []
  },
  {
   "cell_type": "markdown",
   "source": [
    "#### Napisz funkcję, która printuje brakujące dane.\n",
    "***\n",
    "Funkcja ta jak argument ma przyjmować obiekt typu Dataframe i printować na ekran liczbę brakujących wartości dla każdej kolumny w podanym DataFrame."
   ],
   "metadata": {
    "collapsed": false
   }
  },
  {
   "cell_type": "code",
   "execution_count": null,
   "outputs": [],
   "source": [
    "def print_missing(df):\n"
   ],
   "metadata": {
    "collapsed": false,
    "pycharm": {
     "name": "#%%\n"
    }
   }
  },
  {
   "cell_type": "markdown",
   "source": [
    "#### Napisz funkcję, która zamienia losowe dane na 'np.nan'.\n",
    "***\n",
    "W związku z tym, że chcemy nauczyć się pracować z brakującymi danymi, najpierw musimy takie stworzyć.\n",
    "\n",
    "Nasza funkcja jako argumenty będzie przyjmować obiekt Dataframe oraz słownik. Kluczem w słowniku będą nazwy kolumn, a wartościami będą liczby błędów, które chcemy wprowadzić (`{'odometer_value': 7}` oznacza, że w kolumnie `'odometer_value'` chcemy zamienić 7 losowych wierszy na typ `'np.nan'`)\n",
    "\n",
    "Podpowiedź:\n",
    "\n",
    "W ten sposób możemy zmienić wartość na ` 'value'` w losowym wierszu w kolumnie `'column'`.\n",
    "\n",
    "`df.loc[df.sample().index, column] = 'value'`"
   ],
   "metadata": {
    "collapsed": false
   }
  },
  {
   "cell_type": "code",
   "execution_count": null,
   "metadata": {},
   "outputs": [],
   "source": [
    "error_dict = {'odometer_value': 7, 'duration_listed': 10, 'color': 6, 'engine_type': 2, 'price_usd': 4}"
   ]
  },
  {
   "cell_type": "code",
   "execution_count": null,
   "outputs": [],
   "source": [
    "def introduce_nan(df, error_dict):\n",
    "\n",
    "    return df"
   ],
   "metadata": {
    "collapsed": false,
    "pycharm": {
     "name": "#%%\n"
    }
   }
  },
  {
   "cell_type": "markdown",
   "source": [
    "#### Wprowadź błędy do danych.\n",
    "***\n",
    "Użyj napisanej powyżej funkcji do wprowadzenia brakujących wartości do obiektu `'df_err'`.\n",
    "\n",
    "Sprawdź, czy udało Ci się wprowadzić te błędy za pomocą funkcji do printowania brakujących wartości."
   ],
   "metadata": {
    "collapsed": false
   }
  },
  {
   "cell_type": "code",
   "execution_count": null,
   "outputs": [],
   "source": [
    "df_error = df.copy()"
   ],
   "metadata": {
    "collapsed": false,
    "pycharm": {
     "name": "#%%\n"
    }
   }
  },
  {
   "cell_type": "code",
   "execution_count": null,
   "outputs": [],
   "source": [
    "df_error = introduce_nan(df_error, error_dict)\n",
    "print_missing(df_error)"
   ],
   "metadata": {
    "collapsed": false,
    "pycharm": {
     "name": "#%%\n"
    }
   }
  },
  {
   "cell_type": "markdown",
   "source": [
    "#### Zamień dane typu 'np.nan' na dane liczbowe.\n",
    "***\n",
    "W kolumnach `'odometer_value'` i `'duration_listed'` zamień brakujące wartości na średnią wartość całej kolumny.\n",
    "\n",
    "W kolumnach `'color':` i `'engine_type'`: zamień brakujące wartości na najczęściej występujący element w całej kolumnie.\n",
    "\n",
    "W kolumnie `'price_usd'` usuń brakujące wartości z naszego obiektu Dataframe."
   ],
   "metadata": {
    "collapsed": false
   }
  },
  {
   "cell_type": "code",
   "execution_count": null,
   "outputs": [],
   "source": [
    "df_err = df_error.copy()"
   ],
   "metadata": {
    "collapsed": false,
    "pycharm": {
     "name": "#%%\n"
    }
   }
  },
  {
   "cell_type": "code",
   "execution_count": null,
   "outputs": [],
   "source": [],
   "metadata": {
    "collapsed": false,
    "pycharm": {
     "name": "#%%\n"
    }
   }
  },
  {
   "cell_type": "code",
   "execution_count": null,
   "outputs": [],
   "source": [],
   "metadata": {
    "collapsed": false,
    "pycharm": {
     "name": "#%%\n"
    }
   }
  },
  {
   "cell_type": "code",
   "execution_count": null,
   "outputs": [],
   "source": [],
   "metadata": {
    "collapsed": false,
    "pycharm": {
     "name": "#%%\n"
    }
   }
  },
  {
   "cell_type": "code",
   "execution_count": null,
   "outputs": [],
   "source": [],
   "metadata": {
    "collapsed": false,
    "pycharm": {
     "name": "#%%\n"
    }
   }
  },
  {
   "cell_type": "code",
   "execution_count": null,
   "outputs": [],
   "source": [],
   "metadata": {
    "collapsed": false,
    "pycharm": {
     "name": "#%%\n"
    }
   }
  },
  {
   "cell_type": "markdown",
   "source": [
    "#### Napisz funkcję, która zamienia dane typu 'np.nan' na dane liczbowe.\n",
    "***\n",
    "Nasza funkcja jako argumenty będzie przyjmować obiekt Dataframe oraz słownik. Kluczem w słowniku będą nazwy kolumn, a wartościami będą wartości `'average'`,`'max'` albo `'drop'` (w zależności co chcemy zrobić z brakującymi danymi).\n"
   ],
   "metadata": {
    "collapsed": false
   }
  },
  {
   "cell_type": "code",
   "execution_count": null,
   "outputs": [],
   "source": [
    "replace_dict = {'odometer_value': 'average', 'duration_listed': 'average', 'color': 'max', 'engine_type': 'max', 'price_usd': 'drop'}"
   ],
   "metadata": {
    "collapsed": false,
    "pycharm": {
     "name": "#%%\n"
    }
   }
  },
  {
   "cell_type": "code",
   "execution_count": null,
   "outputs": [],
   "source": [
    "def replace_column(df, replace_dict):\n",
    "\n",
    "    return df"
   ],
   "metadata": {
    "collapsed": false,
    "pycharm": {
     "name": "#%%\n"
    }
   }
  },
  {
   "cell_type": "markdown",
   "source": [
    "#### Wprowadź błędy do danych.\n",
    "***\n",
    "Użyj napisanej powyżej funkcji do zastąpienia lub usunięcia brakujących wartości z obiektu `'df_err'`.\n",
    "\n",
    "Sprawdź, czy udało Ci się to zrobić za pomocą funkcji do printowania brakujących wartości."
   ],
   "metadata": {
    "collapsed": false
   }
  },
  {
   "cell_type": "code",
   "execution_count": null,
   "outputs": [],
   "source": [
    "df_err = replace_column(df_err, replace_dict)\n",
    "print_missing(df_err)"
   ],
   "metadata": {
    "collapsed": false,
    "pycharm": {
     "name": "#%%\n"
    }
   }
  },
  {
   "cell_type": "markdown",
   "source": [
    "#### Napisz zapytanie.\n",
    "***\n",
    "Znajdź wszystkie samochody marki Mercedes-Benz wyprodukowane po 2010 roku."
   ],
   "metadata": {
    "collapsed": false
   }
  },
  {
   "cell_type": "code",
   "execution_count": null,
   "metadata": {
    "pycharm": {
     "name": "#%%\n"
    }
   },
   "outputs": [],
   "source": []
  },
  {
   "cell_type": "markdown",
   "source": [
    "#### Policz rok produkcji podniesiony do kwadratu.\n",
    "***\n",
    "W obiekcie `'df_sec'` stwórz nowe kolumny `'year_produced_squared_1'` i `'year_produced_squared_2'` w których znajdzie się rok produkcji podniesiony do kwadratu.\n",
    "\n",
    "Zrób to na dwa sposoby:\n",
    "- działanie bezpośrednio na kolumnie\n",
    "- działanie przy pomocy funkcji `.apply(lambda x: x)`"
   ],
   "metadata": {
    "collapsed": false
   }
  },
  {
   "cell_type": "code",
   "execution_count": null,
   "outputs": [],
   "source": [
    "df_sec = df.copy()"
   ],
   "metadata": {
    "collapsed": false,
    "pycharm": {
     "name": "#%%\n"
    }
   }
  },
  {
   "cell_type": "code",
   "execution_count": null,
   "metadata": {
    "pycharm": {
     "name": "#%%\n"
    }
   },
   "outputs": [],
   "source": []
  },
  {
   "cell_type": "code",
   "execution_count": null,
   "metadata": {},
   "outputs": [],
   "source": []
  },
  {
   "cell_type": "markdown",
   "source": [
    "#### Oceń czy samochód można uznać za nowy.\n",
    "***\n",
    "W obiekcie `'df_sec'` stwórz nową kolumnę `'is_new'`. Wartość powinna wynosić `True` dla wszystkich samochodów wyprodukowanych po 2016 i z przebiegiem mniejszym niż 100 000 km (oba warunki spełnione jednocześnie). W pozostałych przypadkach wartość powinna wynosić `'False'`."
   ],
   "metadata": {
    "collapsed": false
   }
  },
  {
   "cell_type": "code",
   "execution_count": null,
   "outputs": [],
   "source": [],
   "metadata": {
    "collapsed": false,
    "pycharm": {
     "name": "#%%\n"
    }
   }
  },
  {
   "cell_type": "markdown",
   "source": [
    "#### Policz średnią liczbę przebytych kilometrów na rok.\n",
    "***\n",
    "W obiekcie `'df_sec'` stwórz nową kolumnę `'km_per_year'`. Wartość powinna wynosić liczbę przebytych kilometrów podzieloną na lata użytkowania (zakładamy, że dane pochodzą z 2019 roku)."
   ],
   "metadata": {
    "collapsed": false
   }
  },
  {
   "cell_type": "code",
   "execution_count": null,
   "metadata": {
    "pycharm": {
     "name": "#%%\n"
    }
   },
   "outputs": [],
   "source": []
  },
  {
   "cell_type": "markdown",
   "source": [
    "#### Napisz funkcję, która liczy przebyte kilometry w ciągu roku.\n",
    "***\n",
    "Nasza funkcja jako argumenty będzie przyjmować obiekt Dataframe oraz rok, z którego pochodzą dane.\n",
    "Funkcja będzie zwracać obiekt typu Dataframe, który w kolumnie `'kpy'` ma policzoną tę wartość."
   ],
   "metadata": {
    "collapsed": false
   }
  },
  {
   "cell_type": "code",
   "execution_count": null,
   "metadata": {
    "pycharm": {
     "name": "#%%\n"
    }
   },
   "outputs": [],
   "source": [
    "def calculate_kpy(df, year):\n",
    "\n",
    "    return df"
   ]
  },
  {
   "cell_type": "markdown",
   "source": [
    "#### Jeszcze raz policz średnią liczbę przebytych kilometrów na rok.\n",
    "***\n",
    "Na obiekcie `'df_sec'` użyj napisanej powyżej funkcji (zakładamy, że dane pochodzą z 2019 roku)."
   ],
   "metadata": {
    "collapsed": false
   }
  },
  {
   "cell_type": "code",
   "execution_count": null,
   "outputs": [],
   "source": [
    "df_sec = calculate_kpy(df_sec, 2019)"
   ],
   "metadata": {
    "collapsed": false,
    "pycharm": {
     "name": "#%%\n"
    }
   }
  },
  {
   "cell_type": "markdown",
   "source": [
    "#### Ustandaryzuj dane.\n",
    "***\n",
    "W obiekcie `'df_sec'` stwórz nowe kolumny `'odometer_value_min_max_norm'` i `'odometer_value_norm_dist_norm'` w których ustandaryzowana (znormalizowana) wartość z kolumny `'odometer_value'`.\n",
    "\n",
    "Zrób to na dwa sposoby:\n",
    "- standaryzacja z użyciem wartości minimalnych i maksymalnych\n",
    "- standaryzacja z użyciem wartości średniej i odchylenia standardowego"
   ],
   "metadata": {
    "collapsed": false
   }
  },
  {
   "cell_type": "code",
   "execution_count": null,
   "metadata": {
    "pycharm": {
     "name": "#%%\n"
    }
   },
   "outputs": [],
   "source": []
  },
  {
   "cell_type": "code",
   "execution_count": null,
   "metadata": {},
   "outputs": [],
   "source": []
  },
  {
   "cell_type": "markdown",
   "source": [
    "#### Zmień wszystkie dane w kolumnie na małe litery.\n",
    "***\n",
    "W obiekcie `'df_sec'` stwórz nową kolumnę `'model_name_lower'`, która będzie zawierać wartości z kolumny `'model_name'`, ale ze wszystkimi wielkimi literami zmienionymi na małe."
   ],
   "metadata": {
    "collapsed": false
   }
  },
  {
   "cell_type": "code",
   "execution_count": null,
   "metadata": {
    "pycharm": {
     "name": "#%%\n"
    }
   },
   "outputs": [],
   "source": []
  },
  {
   "cell_type": "markdown",
   "source": [
    "#### Zmień nazwy kolumn.\n",
    "***\n",
    "W obiekcie `'df_sec'` zmień nazwy kolumn `'manufacturer_name'` oraz `'model_name'` na odpowiednio `'Manufacturer_Name'` i `'Model_Name'`."
   ],
   "metadata": {
    "collapsed": false
   }
  },
  {
   "cell_type": "code",
   "execution_count": null,
   "outputs": [],
   "source": [
    "changed_names_dict = {'manufacturer_name':'Manufacturer_Name', 'model_name':'Model_Name'}"
   ],
   "metadata": {
    "collapsed": false,
    "pycharm": {
     "name": "#%%\n"
    }
   }
  },
  {
   "cell_type": "code",
   "execution_count": null,
   "outputs": [],
   "source": [],
   "metadata": {
    "collapsed": false,
    "pycharm": {
     "name": "#%%\n"
    }
   }
  },
  {
   "cell_type": "markdown",
   "source": [
    "#### Policz średnią wartość odczytu z licznika w zależności od marki i modelu samochodu.\n",
    "***\n",
    "Pogrupuj dane po kolumnach `'Manufacturer_Name'` oraz `'Model_Name'` i policz dla nich średnią z kolumny `'odometer_value'`."
   ],
   "metadata": {
    "collapsed": false
   }
  },
  {
   "cell_type": "code",
   "execution_count": null,
   "outputs": [],
   "source": [],
   "metadata": {
    "collapsed": false,
    "pycharm": {
     "name": "#%%\n"
    }
   }
  },
  {
   "cell_type": "markdown",
   "source": [
    "#### Policz średnią wartość pojemności silnika w zależności od typu skrzyni biegów i liczbę wystąpień danych typów skrzyni biegów.\n",
    "***\n",
    "Pogrupuj dane po kolumnie `'transmission'` i policz dla nich średnią z kolumny `'engine_capacity'` oraz policz liczbę obserwacji w każdej grupie."
   ],
   "metadata": {
    "collapsed": false
   }
  },
  {
   "cell_type": "code",
   "execution_count": null,
   "outputs": [],
   "source": [],
   "metadata": {
    "collapsed": false,
    "pycharm": {
     "name": "#%%\n"
    }
   }
  }
 ],
 "metadata": {
  "kernelspec": {
   "display_name": "Python 3 (ipykernel)",
   "language": "python",
   "name": "python3"
  },
  "language_info": {
   "codemirror_mode": {
    "name": "ipython",
    "version": 3
   },
   "file_extension": ".py",
   "mimetype": "text/x-python",
   "name": "python",
   "nbconvert_exporter": "python",
   "pygments_lexer": "ipython3",
   "version": "3.9.5"
  }
 },
 "nbformat": 4,
 "nbformat_minor": 1
}