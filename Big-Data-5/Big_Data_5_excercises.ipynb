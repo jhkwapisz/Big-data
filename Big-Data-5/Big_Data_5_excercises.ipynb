{
 "cells": [
  {
   "cell_type": "markdown",
   "metadata": {},
   "source": [
    "# Big Data w biznesie"
   ]
  },
  {
   "cell_type": "markdown",
   "metadata": {},
   "source": [
    "## Piąty notebook zadania"
   ]
  },
  {
   "cell_type": "code",
   "execution_count": null,
   "metadata": {},
   "outputs": [],
   "source": [
    "from IPython.core.display import HTML\n",
    "\n",
    "\n",
    "def _set_css_style(css_file_path):\n",
    "    \"\"\"\n",
    "    Read the custom CSS file and load it into Jupyter.\n",
    "    Pass the file path to the CSS file.\n",
    "    \"\"\"\n",
    "\n",
    "    styles = open(css_file_path, \"r\").read()\n",
    "    s = '<style>%s</style>' % styles\n",
    "    return HTML(s)\n",
    "\n",
    "\n",
    "_set_css_style(\"../custom.css\")"
   ]
  },
  {
   "cell_type": "markdown",
   "metadata": {},
   "source": [
    "#### Zaimportuj potrzebne biblioteki."
   ]
  },
  {
   "cell_type": "code",
   "execution_count": null,
   "metadata": {},
   "outputs": [],
   "source": [
    "import requests\n",
    "from bs4 import BeautifulSoup\n",
    "import pandas as pd\n",
    "from geopy.geocoders import Nominatim\n",
    "from geopy.distance import distance\n",
    "import re"
   ]
  },
  {
   "cell_type": "markdown",
   "metadata": {},
   "source": [
    "#### Wejdź na stronę internetową.\n",
    "***\n",
    "Wejdź na stronę z notariuszami w Panoramie Firm - https://panoramafirm.pl/notariusze/mazowieckie,,warszawa/firmy,1.html.\n",
    "\n",
    "Wejdź w narzędzia dla programistów i zobacz, jak wygląda struktura strony.\n",
    "Zidentyfikuj ważne elementy kodu HTML - obiekt ze wszystkimi firmami, obiekty pojedynczych firm, nazwy i adresy firm."
   ]
  },
  {
   "cell_type": "markdown",
   "metadata": {},
   "source": [
    "#### Wyślij request.\n",
    "***\n",
    "Za pomocą biblioteki `requests` pobierz zawartość tej strony i wyświetl ją w konsoli."
   ]
  },
  {
   "cell_type": "code",
   "execution_count": null,
   "metadata": {},
   "outputs": [],
   "source": [
    "URL = f\"https://panoramafirm.pl/notariusze/mazowieckie,,warszawa/firmy,1.html\""
   ]
  },
  {
   "cell_type": "markdown",
   "metadata": {},
   "source": [
    "#### Załaduj obiekt BeautifulSoup.\n",
    "***\n",
    "Do obiektu `soup` załaduj całą zawartość strony internetowej."
   ]
  },
  {
   "cell_type": "code",
   "execution_count": null,
   "metadata": {},
   "outputs": [],
   "source": [
    "soup ="
   ]
  },
  {
   "cell_type": "markdown",
   "metadata": {},
   "source": [
    "#### Znajdź obiekt ze wszystkimi firmami.\n",
    "***\n",
    "Do obiektu `results` załaduj wyniki wyszukiwania i wyświetl je w bardziej czytelnej formie."
   ]
  },
  {
   "cell_type": "code",
   "execution_count": null,
   "metadata": {},
   "outputs": [],
   "source": [
    "results ="
   ]
  },
  {
   "cell_type": "markdown",
   "metadata": {},
   "source": [
    "#### Znajdź wszystkie firmy.\n",
    "***\n",
    "Do obiektu `company_elements` załaduj wyniki wyszukiwania i wyświetl je w konsoli."
   ]
  },
  {
   "cell_type": "code",
   "execution_count": null,
   "metadata": {},
   "outputs": [],
   "source": [
    "company_elements ="
   ]
  },
  {
   "cell_type": "markdown",
   "metadata": {},
   "source": [
    "#### Znajdź nazwy wszystkich firmy.\n",
    "***\n",
    "Dla każdego obiektu w `company_elements` znajdź i wyświetl jego nazwę."
   ]
  },
  {
   "cell_type": "code",
   "execution_count": null,
   "metadata": {},
   "outputs": [],
   "source": [
    "for company_element in company_elements:"
   ]
  },
  {
   "cell_type": "markdown",
   "metadata": {},
   "source": [
    "#### Znajdź adresy wszystkich firmy.\n",
    "***\n",
    "Dla każdego obiektu w `company_elements` znajdź i wyświetl jego adres."
   ]
  },
  {
   "cell_type": "code",
   "execution_count": null,
   "metadata": {},
   "outputs": [],
   "source": [
    "for company_element in company_elements:"
   ]
  },
  {
   "cell_type": "markdown",
   "metadata": {},
   "source": [
    "#### Napisz funkcję, która zwraca listę wszystkich firmy.\n",
    "***\n",
    "Funkcja przyjmuje obiekt `company_elements` i zwraca listę `list_of_companies` krotek (Tuple) z nazwą i adresem firm."
   ]
  },
  {
   "cell_type": "code",
   "execution_count": null,
   "metadata": {},
   "outputs": [],
   "source": [
    "def find_companies(company_elements):\n",
    "    list_of_companies = []\n",
    "\n",
    "    return list_of_companies"
   ]
  },
  {
   "cell_type": "code",
   "execution_count": null,
   "metadata": {},
   "outputs": [],
   "source": [
    "print(find_companies(company_elements))"
   ]
  },
  {
   "cell_type": "markdown",
   "metadata": {},
   "source": [
    "#### Napisz funkcję, która zwraca listę wszystkich firmy na wszystkich stronach.\n",
    "***\n",
    "Funkcja przyjmuje `URL` strony i liczbę kolejnych stron z firmami `niter`. Ma przejść po wszystkich stronach i na końcu zwrócić listę `list_of_companies` krotek (Tuple) z nazwami i adresami wszystkich firm."
   ]
  },
  {
   "cell_type": "code",
   "execution_count": null,
   "metadata": {},
   "outputs": [],
   "source": [
    "def search_page(URL, niter):\n",
    "    list_of_companies = []\n",
    "    for n in range(1, niter+1):\n",
    "\n",
    "    return list_of_companies"
   ]
  },
  {
   "cell_type": "code",
   "execution_count": null,
   "metadata": {},
   "outputs": [],
   "source": [
    "list_of_companies = search_page(\"https://panoramafirm.pl/notariusze/mazowieckie,,warszawa/firmy,\", 21)"
   ]
  },
  {
   "cell_type": "markdown",
   "metadata": {},
   "source": [
    "#### Załaduj tę listę do DataFrame'a.\n",
    "***\n",
    "Do obiektu `df` z dwoma kolumnami załaduj całą zawartość `list_of_companies`."
   ]
  },
  {
   "cell_type": "code",
   "execution_count": null,
   "metadata": {},
   "outputs": [],
   "source": [
    "df = pd.DataFrame.from_records(list_of_companies, columns=['Name', 'Location'])"
   ]
  },
  {
   "cell_type": "markdown",
   "metadata": {},
   "source": [
    "#### Zmodyfikuj adresy.\n",
    "***\n",
    "Na podstawie adresów będziemy chcieli poznać koordynaty geograficzne. Najpierw musimy odpowiednio zmodyfikować te adresy, żeby były odpowiednio czytane."
   ]
  },
  {
   "cell_type": "code",
   "execution_count": null,
   "metadata": {},
   "outputs": [],
   "source": [
    "def change_address(address):\n",
    "\n",
    "    # usuwamy spacje na końcu i początku\n",
    "    address = address.strip()\n",
    "    zipcode_and_town = ' '.join(address.split(', ')[-1].split(' ')[:2])\n",
    "    address = address.split(', ')[0]\n",
    "\n",
    "    # usuwamy nazwy ulic, ale tylko jeśli występują na początku adresu\n",
    "    regex = r'^(ul\\. |al\\. |pl\\. )'\n",
    "    address = re.sub(regex, '', address)\n",
    "\n",
    "    # usuwamy nazwy lokali, budynków itp.\n",
    "    regex = r' (lok|bud|l|sek|m|U|paw|P|rog)\\.?\\s?[0-9a-zA-Z]+(\\b|$)'\n",
    "    address = re.sub(regex, '', address)\n",
    "\n",
    "    # usuwamy informacje z nawiasów\n",
    "    regex = r'\\(([^)]+)\\)'\n",
    "    address = re.sub(regex, '', address)\n",
    "\n",
    "    # usuwamy niepotrzebne spacje\n",
    "    address = re.sub(r'  +', ' ', address)\n",
    "\n",
    "    return ', '.join([address, zipcode_and_town])"
   ]
  },
  {
   "cell_type": "code",
   "execution_count": null,
   "metadata": {},
   "outputs": [],
   "source": [
    "df['Address_formatted'] = df['Location'].apply(change_address)"
   ]
  },
  {
   "cell_type": "markdown",
   "metadata": {},
   "source": [
    "#### Ustal współrzędne geograficzne.\n",
    "***\n",
    "Zastosuj funkcje do znajdowania współrzędnych geograficznych na kolumnie z adresami."
   ]
  },
  {
   "cell_type": "code",
   "execution_count": null,
   "metadata": {},
   "outputs": [],
   "source": [
    "geolocator = Nominatim(user_agent=\"http\")"
   ]
  },
  {
   "cell_type": "code",
   "execution_count": null,
   "metadata": {},
   "outputs": [],
   "source": [
    "def geocode(address):\n",
    "    location = geolocator.geocode(address)\n",
    "    if location is None:\n",
    "        return None, None\n",
    "    else:\n",
    "        return location.latitude, location.longitude"
   ]
  },
  {
   "cell_type": "code",
   "execution_count": null,
   "metadata": {},
   "outputs": [],
   "source": [
    "df[\"Latitude\"], df[\"Longitude\"] = zip(*df['Address_formatted'].apply(geocode))"
   ]
  },
  {
   "cell_type": "markdown",
   "metadata": {},
   "source": [
    "#### Znajdź adresy, dla których nie udało się znaleźć współrzędnych.\n",
    "***\n",
    "Znajdź adresy z web scrapingu i zmienione adresy, dla których kolumna `'Latitude'` lub `'Longitude'` są puste."
   ]
  },
  {
   "cell_type": "code",
   "execution_count": null,
   "metadata": {},
   "outputs": [],
   "source": []
  },
  {
   "cell_type": "markdown",
   "metadata": {},
   "source": [
    "#### Zapisz dobre adresy do .csv.\n",
    "***\n",
    "Skopiuj wszystkie dane, dla których udało się znaleźć współrzędne do nowego DataFrame'a i zapisz do pliku `.csv`."
   ]
  },
  {
   "cell_type": "code",
   "execution_count": null,
   "metadata": {},
   "outputs": [],
   "source": [
    "df_dobre =\n",
    "df_dobre.to_csv(\"notariusze_z_koordynatami.csv\", index=False)"
   ]
  },
  {
   "cell_type": "markdown",
   "metadata": {},
   "source": [
    "#### Zaimportuj biblioteki potrzebne do stworzenia interaktywnych map Google."
   ]
  },
  {
   "cell_type": "code",
   "execution_count": null,
   "metadata": {},
   "outputs": [],
   "source": [
    "from bokeh.io import output_notebook\n",
    "from bokeh.io import show\n",
    "from bokeh.plotting import gmap\n",
    "from bokeh.models import GMapOptions\n",
    "from bokeh.models import ColumnDataSource\n",
    "from bokeh.models import HoverTool\n",
    "from bokeh.transform import linear_cmap\n",
    "from bokeh.palettes import Plasma256 as palette\n",
    "from bokeh.models import ColorBar\n",
    "output_notebook()\n",
    "bokeh_width, bokeh_height = 700, 700"
   ]
  },
  {
   "cell_type": "markdown",
   "metadata": {},
   "source": [
    "#### Wpisz swój klucz API."
   ]
  },
  {
   "cell_type": "code",
   "execution_count": null,
   "metadata": {},
   "outputs": [],
   "source": [
    "api_key = #miejsce na Twój klucz API"
   ]
  },
  {
   "cell_type": "markdown",
   "metadata": {},
   "source": [
    "#### Policz średnią między maksymalnymi koordynatami w naszych danych.\n",
    "***\n",
    "Policz średnią wartość między największą i najmniejszą długością oraz szerokością geograficzną w DataFrame'ie."
   ]
  },
  {
   "cell_type": "code",
   "execution_count": null,
   "metadata": {},
   "outputs": [],
   "source": [
    "lat =\n",
    "lon =\n",
    "print(lat, lon)"
   ]
  },
  {
   "cell_type": "markdown",
   "metadata": {},
   "source": [
    "#### Napisz funkcję, która liczy odległość między współrzędnymi geograficznymi.\n",
    "***\n",
    "Funkcja jako argumenty przyjmuje szerokość i długość geograficzną jednego punktu i szerokość i długość geograficzną punktu referencyjnego (domyślna wartość to współrzędne Pałacu kultury i Nauki)."
   ]
  },
  {
   "cell_type": "code",
   "execution_count": null,
   "metadata": {},
   "outputs": [],
   "source": [
    "lat_ref, lon_ref = 52.2317924, 21.0061264 #Współrzędne Pałacu Kultury i Nauki"
   ]
  },
  {
   "cell_type": "code",
   "execution_count": null,
   "metadata": {},
   "outputs": [],
   "source": [
    "def dist(coord , lat_ref = 52.2317924, lon_ref = 21.0061264):\n",
    "    dist =\n",
    "    return dist"
   ]
  },
  {
   "cell_type": "markdown",
   "metadata": {},
   "source": [
    "#### Stwórz nową kolumnę 'Distance'.\n",
    "***\n",
    "Kolumna ta ma zawierać odległość współrzędnych z kolumn `'Longitude'` i `'Latitude'` od Pałacu Kultury i Nauki."
   ]
  },
  {
   "cell_type": "code",
   "execution_count": null,
   "metadata": {},
   "outputs": [],
   "source": []
  },
  {
   "cell_type": "code",
   "execution_count": null,
   "metadata": {},
   "outputs": [],
   "source": [
    "df_dobre['Distance']"
   ]
  },
  {
   "cell_type": "markdown",
   "metadata": {},
   "source": [
    "#### Napisz funkcję, która tworzy interaktywne mapy google.\n",
    "***\n",
    "Funkcja jako argumenty przyjmuje DataFrame, średnią szerokość i długość geograficzną między maksymalnymi koordynatami w DataFrame'ie oraz typ mapy.\n",
    "Ta mapa będzie zawierała:\n",
    "\n",
    "- punkty oznaczające notariuszy w Warszawie, które po najechaniu myszką wyświetlają nazwę notariusza, lokalizację oraz dystans od PKiN.\n",
    "- kolorowanie punktów na mapie według dystansu od PKiN (od 0 do 4 km),\n",
    "- legendę kolorów, która pojawia się po prawej stronie mapy,\n",
    "- narzędzia `'reset'`, `'wheel_zoom'` oraz `'pan'`."
   ]
  },
  {
   "cell_type": "code",
   "execution_count": null,
   "metadata": {},
   "outputs": [],
   "source": [
    "def plot(df, lat, lng, zoom=11, map_type='roadmap'):\n",
    "\n",
    "    return p"
   ]
  },
  {
   "cell_type": "markdown",
   "metadata": {},
   "source": [
    "#### Narysuj tę mapę."
   ]
  },
  {
   "cell_type": "code",
   "execution_count": null,
   "metadata": {},
   "outputs": [],
   "source": [
    "p = plot(df_dobre, lat, lon, map_type='roadmap', zoom=11)"
   ]
  }
 ],
 "metadata": {
  "kernelspec": {
   "display_name": "Python 3 (ipykernel)",
   "language": "python",
   "name": "python3"
  },
  "language_info": {
   "codemirror_mode": {
    "name": "ipython",
    "version": 3
   },
   "file_extension": ".py",
   "mimetype": "text/x-python",
   "name": "python",
   "nbconvert_exporter": "python",
   "pygments_lexer": "ipython3",
   "version": "3.9.5"
  }
 },
 "nbformat": 4,
 "nbformat_minor": 1
}
