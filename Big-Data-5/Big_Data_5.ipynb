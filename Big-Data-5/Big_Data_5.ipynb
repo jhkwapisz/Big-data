{
 "cells": [
  {
   "cell_type": "markdown",
   "metadata": {},
   "source": [
    "# Big Data w biznesie"
   ]
  },
  {
   "cell_type": "markdown",
   "metadata": {},
   "source": [
    "## Piąty notebook"
   ]
  },
  {
   "cell_type": "code",
   "execution_count": 49,
   "metadata": {},
   "outputs": [
    {
     "data": {
      "text/html": [
       "<style><style>\n",
       "#notebook-container{\n",
       "    box-shadow: none !important;\n",
       "}\n",
       "\n",
       "#ipython_notebook img{                                                                                        \n",
       "    display:block; \n",
       "    background: url(\"images/LOGO-jupyter.png\") no-repeat;\n",
       "    background-size: contain;\n",
       "    width: 85px;\n",
       "    height: 52px;\n",
       "    padding-left: 100px;\n",
       "    padding-right: 50px;\n",
       "    -moz-box-sizing: border-box;\n",
       "    box-sizing: border-box;\n",
       "}\n",
       "\n",
       ".notebook_app {\n",
       "    background: #fff !important;\n",
       "}\n",
       "\n",
       "body > #header {\n",
       "    margin-bottom: -5px;\n",
       "}\n",
       "\n",
       "div#notebook {\n",
       "    padding-top: 0px;\n",
       "}\n",
       "\n",
       "/* SCROLL BAR */\n",
       "::-webkit-scrollbar {\n",
       "    max-width: 10px;\n",
       "    max-height: 10px;\n",
       "    border-radius: 3px;\n",
       "    border: none;\n",
       "}\n",
       "::-webkit-scrollbar-track {\n",
       "    border: none;\n",
       "    max-width: 10px;\n",
       "    max-height: 10px;\n",
       "}\n",
       "::-webkit-scrollbar-thumb {\n",
       "    border-radius: 5px;\n",
       "    border: none;\n",
       "    background: #0000003d;\n",
       "    background-clip: content-box;\n",
       "    max-width: 10px;\n",
       "}\n",
       "\n",
       "/* HEADER */\n",
       "body > #header #header-container{\n",
       "    padding-top: 15px;\n",
       "    padding-bottom: 5px;\n",
       "}\n",
       "\n",
       "body > #header div.header-bar {\n",
       "    height: 0px;\n",
       "}\n",
       "\n",
       "#header #menus{\n",
       "    padding: 5px 0px;\n",
       "}\n",
       "\n",
       "#header #menubar, #header #maintoolbar {\n",
       "    margin-top: 0.5em;\n",
       "    margin-bottom: 0.5em;\n",
       "    padding: 0px;\n",
       "}\n",
       "\n",
       "body > #header #header-container,\n",
       "body > #header #menubar-container {\n",
       "    padding-left: 10px;\n",
       "    padding-right: 10px;\n",
       "}\n",
       "\n",
       "#header #maintoolbar-container {\n",
       "    margin-bottom: 0px;\n",
       "    margin-top: 0px;\n",
       "}\n",
       "\n",
       "div.navbar-default {\n",
       "    border: 0px;\n",
       "    border-radius: 0px;\n",
       "}\n",
       "\n",
       "#header, #header .btn, #header select, #header #menubar a {\n",
       "    color: #323232;\n",
       "}\n",
       "\n",
       "#header .btn, #header select {\n",
       "    background-color: #f8f8f8;\n",
       "    border: 0px;\n",
       "    border-radius: 0px;\n",
       "}\n",
       "\n",
       "#maintoolbar .btn, #maintoolbar select {\n",
       "    height: 22px !important;\n",
       "    line-height: 22px;\n",
       "    padding-top: 0px;\n",
       "    box-shadow: none;\n",
       "}\n",
       "\n",
       "div.navbar-nav > li > div.dropdown-menu {\n",
       "    border: 0px;\n",
       "    background-color: #f8f8f8;\n",
       "}\n",
       "\n",
       "\n",
       "/* CELLS */\n",
       "div.prompt, code, kbd, pre, samp {\n",
       "    font-family: \"Cascadia Code\", 'Courier New', Courier, monospace, sans-serif !important;\n",
       "    font-size: 13px !important;\n",
       "}\n",
       "\n",
       "div.input_area {\n",
       "    border: none;\n",
       "    border-radius: 0;\n",
       "    background: #f7f7f7;\n",
       "    /* margin: 0.5em 0; */\n",
       "}\n",
       "\n",
       "div.cell {\n",
       "    transition: all 0.25s;\n",
       "    border: none;\n",
       "    padding: 0.5em;\n",
       "    /* position: relative;\n",
       "    top: 0; */\n",
       "}\n",
       "\n",
       "div.cell.selected, div.cell.selected.jupyter-soft-selected {\n",
       "    border: none;\n",
       "    background: transparent;\n",
       "    box-shadow: 0px 0px 12px 1px rgba(87, 87, 87, 0.2);\n",
       "    border-radius: 0px\n",
       "}\n",
       "\n",
       "div.prompt, div.inner_cell, div.input_area {\n",
       "    padding: 0.5em;\n",
       "}\n",
       "\n",
       "div.text_cell_render, div.rendered_html {\n",
       "    padding: 0;\n",
       "}\n",
       "\n",
       "div.run_this_cell {\n",
       "    display: none;\n",
       "}\n",
       "\n",
       "div.output.output_scroll {\n",
       "    -webkit-box-shadow: inset 0px 0px 12px 1px rgba(87, 87, 87, 0.2);\n",
       "    box-shadow: inset 0px 0px 12px 1px rgba(87, 87, 87, 0.2);\n",
       "}\n",
       "\n",
       "div.prompt.input_prompt {\n",
       "    padding: 1.5em;\n",
       "}\n",
       "\n",
       "div.prompt.output_prompt {\n",
       "    padding: 0.6em 1.5em;\n",
       "}\n",
       "\n",
       "\n",
       "/* TEXT CELL FORMATTING */\n",
       "div.text_cell p,\n",
       "div.text_cell li,\n",
       "div.text_cell table,\n",
       "div.text_cell h1,\n",
       "div.text_cell h2,\n",
       "div.text_cell h3,\n",
       "div.text_cell h4,\n",
       "div.text_cell h5 {\n",
       "    font-family: 'Segoe UI', Tahoma, Geneva, Verdana, sans-serif;\n",
       "    color: rgba(50, 50, 50, 1);\n",
       "    line-height: 1.4;\n",
       "    margin: 0.5em 0em;\n",
       "}\n",
       "\n",
       "div.text_cell p {\n",
       "    line-height: 1.6;\n",
       "}\n",
       "\n",
       "div.text_cell ul, div.text_cell ol {\n",
       "    margin: 1em 0em;\n",
       "}\n",
       "\n",
       "div.text_cell li {\n",
       "    line-height: 1;\n",
       "}\n",
       "\n",
       "div.rendered_html table {\n",
       "    margin-left: inherit;\n",
       "    margin-right: inherit;\n",
       "}\n",
       "\n",
       "div.rendered_html blockquote {\n",
       "    margin-left: 0;\n",
       "    margin-right: 0;\n",
       "    border-left-color: rgb(162, 162, 162);\n",
       "    background-color: #f7f7f7;\n",
       "}\n",
       "\n",
       "div.rendered_html blockquote p{\n",
       "    color: rgba(0, 0, 0, 0.5);\n",
       "    font-weight: 600;\n",
       "}\n",
       "\n",
       "div.rendered_html pre {\n",
       "    margin-left: 0;\n",
       "    margin-right: 0;\n",
       "    padding: 1em;\n",
       "    background-color: #f7f7f7;\n",
       "}\n",
       "\n",
       "div.rendered_html pre * {\n",
       "    background-color: rgba(0,0,0,0) !important;\n",
       "}\n",
       "\n",
       "\n",
       "div.admonition { \n",
       "    background-color: #ffffff;\n",
       "    box-shadow: 0px 4px 3px -2px gray;\n",
       "    border-radius: 4px; \n",
       "    padding: 0.5em;\n",
       "    margin-top: 2em;\n",
       "    margin-bottom: 2em;\n",
       "       }\n",
       "\n",
       "div.admonition:before {\n",
       "    font-size: 1.0em;\n",
       "    visibility: visible; \n",
       "    display: block;\n",
       "    height: 2em;\n",
       "    top: 0em;\n",
       "    left: -0.44em;\n",
       "    width:  101%;\n",
       "    border-radius: 0px 10px 0px 0px;\n",
       "    margin-left: -0.0em;\n",
       "    margin-top: -0.3em;\n",
       "    top: -2px;\n",
       "    font-weight: bold;\n",
       "    position: relative;\n",
       "    display: flex;\n",
       "    align-items: center;\n",
       "    font-weight: bold;\n",
       "    position: relative;\n",
       "    vertical-align: middle;\n",
       "    }\n",
       "\n",
       "div.admonition.warn {\n",
       "    border-left: 4px solid #F9E04B; \n",
       "    }\n",
       "\n",
       "div.admonition.warn:before { \n",
       "    font-size: 1.2em !important;\n",
       "    content: '\\00a0    ⚠️ Uwaga!';\n",
       "    background: #ffff99;\n",
       "    }\n",
       "\n",
       "div.admonition.info {border-left: 4px solid #9594ff;}\n",
       "\n",
       "div.admonition.info:before { font-size: 1.2em !important;\n",
       "    content: '\\00a0  💡 To ciekawe!';\n",
       "    background: #ddeeff;}\n",
       "\n",
       "div.admonition.danger {border-left: 4px solid #ff5555; }\n",
       "\n",
       "div.danger.admonition:before { font-size: 1.2em !important;\n",
       "    content: '\\00a0    🛑 Uwaga, błędy!';\n",
       "    background: #ffcccc;}\n",
       "\n",
       "div.admonition.see {border-left: 4px solid #33cc33; }\n",
       "\n",
       "div.admonition.see:before { font-size: 1.2em !important;\n",
       "    content: '\\00a0    🌐 Dowiedz się więcej!';\n",
       "    background: #ccffcc;}\n",
       "\n",
       "div.admonition.code {border-left: 4px solid #aaaaaa; }\n",
       "\n",
       "div.admonition.code:before { font-size: 1.2em !important;\n",
       "    content: '\\00a0    🐍 Wywołaj poniższą komórkę!';\n",
       "    background: #eeeeee\n",
       ";}\n",
       "\n",
       "div.admonition.code.codes:before { font-size: 1.2em !important;\n",
       "    content: '\\00a0    🐍 Wywołaj poniższe komórki!';}\n",
       "\n",
       "div.admonition.task {border-left: 4px solid #aaaaaa; }\n",
       "\n",
       "div.admonition.task:before { font-size: 1.2em !important;\n",
       "    content: '\\00a0    💭 Wykonaj poniższe zadanie!';\n",
       "    background: #eeeeee\n",
       ";}\n",
       "\n",
       "</style></style>"
      ],
      "text/plain": [
       "<IPython.core.display.HTML object>"
      ]
     },
     "execution_count": 49,
     "metadata": {},
     "output_type": "execute_result"
    }
   ],
   "source": [
    "from IPython.core.display import HTML\n",
    "\n",
    "\n",
    "def _set_css_style(css_file_path):\n",
    "    \"\"\"\n",
    "    Read the custom CSS file and load it into Jupyter.\n",
    "    Pass the file path to the CSS file.\n",
    "    \"\"\"\n",
    "\n",
    "    styles = open(css_file_path, \"r\").read()\n",
    "    s = '<style>%s</style>' % styles\n",
    "    return HTML(s)\n",
    "\n",
    "\n",
    "_set_css_style(\"../custom.css\")"
   ]
  },
  {
   "cell_type": "markdown",
   "metadata": {},
   "source": [
    "# Web scraping"
   ]
  },
  {
   "cell_type": "markdown",
   "metadata": {},
   "source": [
    "W tym notatniku nauczymy się, na czym polega web scraping.\n",
    "\n",
    "Web scraping (lub webscraping) to proces automatycznego pobierania i analizowania danych ze stron internetowych. Jest to technika, która pozwala na pobieranie informacji z witryn internetowych i przetwarzanie ich na potrzeby różnych celów, takich jak analiza biznesowa, badania rynku, tworzenie baz danych itp.\n",
    "\n",
    "Podczas web scrapingu program automatycznie przegląda stronę internetową i pobiera potrzebne informacje z kodu źródłowego strony lub zapisuje je w specjalnym formacie, który umożliwia ich dalszą analizę. Web scraping może być wykorzystywany do pobierania różnego rodzaju informacji, takich jak nazwy produktów, ceny, dane kontaktowe, komentarze klientów, oceny produktów itp.\n",
    "\n",
    "Jednakże warto pamiętać, że nie wszystkie strony internetowe pozwalają na web scraping, a niektóre mogą wprowadzać dodatkowe zabezpieczenia, aby utrudnić ten proces. Przed rozpoczęciem web scrapingu warto zapoznać się z polityką prywatności i zasadami korzystania ze strony internetowej, aby upewnić się, że działa się zgodnie z prawem i nie narusza się praw autorskich.\n",
    "\n",
    "Dwa poprzednie zestawy danych, których używaliśmy (dane samochodowe i Pokémon), zostały pozyskane przy pomocy web scrapingu i wrzucone do publicznych repozytoriów."
   ]
  },
  {
   "cell_type": "markdown",
   "metadata": {},
   "source": [
    "W zależności ze sposobu generowania treści strony i jej zachowania podczas interakcji z użytkownikiem możemy wyróżnić dwa typy stron internetowych:\n",
    "\n",
    "- Static - są to strony internetowe, których zawartość pozostaje stała i nie zmienia się bezpośrednio po załadowaniu strony. Wszystkie informacje, które są wyświetlane na stronie, są zapisane w plikach HTML, które są przechowywane na serwerze. Dlatego strony statyczne są łatwe do utworzenia i ich działanie jest bardzo przewidywalne. Nie mają one dynamicznych funkcji, takich jak możliwość logowania, interakcji z użytkownikiem czy aktualizacji zawartości bez konieczności zmiany kodu HTML.\n",
    "\n",
    "- Dynamic - są to strony internetowe, które generują treść stron na podstawie zapytań wysyłanych przez użytkownika. Strony dynamiczne mogą wykorzystywać skrypty, takie jak PHP, JavaScript i inne, aby generować treść stron w czasie rzeczywistym. Dzięki temu strony dynamiczne oferują użytkownikom interaktywne funkcje, takie jak logowanie, wyszukiwanie, obsługę formularzy, dodawanie komentarzy itp. Strony dynamiczne często wykorzystują bazy danych, aby przechowywać informacje, które są pobierane na żądanie i wykorzystywane do generowania treści strony."
   ]
  },
  {
   "cell_type": "markdown",
   "metadata": {},
   "source": [
    "My zajmiemy się tylko stronami typu Static, ponieważ mają niezmienioną zawartość, co ułatwia proces automatycznego pobierania danych. Strony dynamiczne często korzystają z technologii, które umożliwiają zmianę zawartości strony bez przeładowania całej strony, co utrudnia web scraping. Dodatkowo wiele stron dynamicznych wykorzystuje techniki blokowania web scrapingu, co może uniemożliwić automatyczne pobieranie danych."
   ]
  },
  {
   "cell_type": "markdown",
   "metadata": {},
   "source": [
    "Pierwszym krokiem, jak zawsze, jest zaimportowanie potrzebnych nam bibliotek."
   ]
  },
  {
   "cell_type": "code",
   "execution_count": null,
   "metadata": {},
   "outputs": [],
   "source": [
    "import requests"
   ]
  },
  {
   "cell_type": "markdown",
   "metadata": {},
   "source": [
    "Biblioteka `requests` to popularna biblioteka języka Python, która służy do wysyłania żądań HTTP i pobierania odpowiedzi z serwera internetowego. `Requests` umożliwia wysyłanie różnych rodzajów żądań, takich jak GET, POST, PUT, DELETE, HEAD, OPTIONS itp. oraz obsługuje różne typy danych, takie jak JSON, XML, pliki binarne itp.\n",
    "\n",
    "Requests jest często używana w web scrapingu, ponieważ pozwala na łatwe pobieranie danych z serwerów internetowych. Dzięki requests można np. pobrać kod źródłowy strony internetowej, a następnie użyć narzędzi do analizy danych, aby wyodrębnić potrzebne informacje.\n",
    "\n",
    "Ponadto requests pozwala na ustawianie nagłówków żądań, przekazywanie parametrów, zarządzanie ciasteczkami, obsługę autoryzacji itp. Dzięki temu można dokładnie kontrolować proces pobierania danych z serwera i dostosować go do własnych potrzeb."
   ]
  },
  {
   "cell_type": "markdown",
   "metadata": {},
   "source": [
    "Ta część notatnika jest oparty na tutorialu dostępnym pod adresem https://realpython.com/beautiful-soup-web-scraper-python/.\n",
    "\n",
    "Wykorzystamy stronę internetową https://realpython.github.io/fake-jobs/, która została stworzona w ramach tego tutorialu, aby przedstawić proces web scrapingu."
   ]
  },
  {
   "cell_type": "code",
   "execution_count": null,
   "metadata": {},
   "outputs": [],
   "source": [
    "URL = \"https://realpython.github.io/fake-jobs/\"\n",
    "page = requests.get(URL)"
   ]
  },
  {
   "cell_type": "markdown",
   "metadata": {},
   "source": [
    "W tym przypadku funkcja `requests.get(URL)` wysyła żądanie HTTP GET do serwera pod adresem URL i zwraca odpowiedź serwera w postaci obiektu Response. Odpowiedź ta zawiera informacje takie jak kod statusu (np. 200 oznacza, że żądanie zostało wykonane pomyślnie), nagłówki HTTP oraz treść strony internetowej (kod HTML)."
   ]
  },
  {
   "cell_type": "markdown",
   "metadata": {},
   "source": [
    "Nas interesuje treść tej strony internetowej, czyli kod źródłowy w formacie HTML, który wygląda następująco."
   ]
  },
  {
   "cell_type": "code",
   "execution_count": null,
   "metadata": {},
   "outputs": [],
   "source": [
    "print(page.text)"
   ]
  },
  {
   "cell_type": "markdown",
   "metadata": {},
   "source": [
    "Zanim przejdziemy do automatycznej analizy danych, warto poświęcić trochę czasu na ręczne zbadanie zawartości strony internetowej.\n",
    "\n",
    "Narzędzia dla programistów mogą pomóc w zrozumieniu struktury strony internetowej. Wszystkie nowoczesne przeglądarki mają zainstalowane narzędzia dla programistów.\n",
    "\n",
    "W Chrome na macOS narzędzia dla programistów można otworzyć przez menu, wybierając Widok → Narzędzia dla programistów.\n",
    "\n",
    "Na Windows i Linux można uzyskać do nich dostęp, klikając przycisk menu w prawym górnym rogu (⋮) i wybierając Więcej narzędzi → Narzędzia dla programistów.\n",
    "\n",
    "Można również uzyskać dostęp do narzędzi dla programistów, klikając prawym przyciskiem myszy na stronie i wybierając opcję Inspekcja lub używając skrótu klawiaturowego:\n",
    "\n",
    "- Mac - Cmd + Shift + I\n",
    "- Windows/Linux - Ctrl + Shift + I\n",
    "\n",
    "Ręczna inspekcja strony może być przydatna wtedy, gdy chcemy zrozumieć dokładnie, jak działa strona, a także do testowania naszego kodu. Na przykład, możemy użyć narzędzi dla programistów, aby zobaczyć, jak zmienia się zawartość strony w zależności od interakcji użytkownika, jak wygląda stylowanie elementów HTML, jakie klasy i identyfikatory są używane na stronie i wiele innych. Jest to również przydatne podczas tworzenia kodu do web scrapingu, ponieważ ręczna inspekcja strony pozwala na zidentyfikowanie elementów, z których chcemy pobierać dane oraz określenie ich lokalizacji i struktury."
   ]
  },
  {
   "cell_type": "markdown",
   "metadata": {},
   "source": [
    "Na przykład chcemy znaleźć ID elementu, który zawiera wszystkie obiekty z ofertami pracy.\n",
    "\n",
    "Możemy wejść na stronę (https://realpython.github.io/fake-jobs/), wejść w kod HTML strony i zidentyfikować interesujący nas kawałek kodu, który w tym przypadku wygląda następująco:"
   ]
  },
  {
   "cell_type": "markdown",
   "metadata": {},
   "source": [
    "``` html\n",
    "<div id=\"ResultsContainer\" class=\"columns is-multiline\">\n",
    "[...]\n",
    "</div>\n",
    "```"
   ]
  },
  {
   "cell_type": "markdown",
   "metadata": {},
   "source": [
    "Jeśli chcemy znaleźć wszystkie oferty pracy na tej stronie, ID tego elementu okaże się pomocne. W tym miejscu czas skorzystać z drugiej biblioteki - BeautifulSoup."
   ]
  },
  {
   "cell_type": "code",
   "execution_count": null,
   "metadata": {},
   "outputs": [],
   "source": [
    "from bs4 import BeautifulSoup"
   ]
  },
  {
   "cell_type": "markdown",
   "metadata": {},
   "source": [
    "Biblioteka BeautifulSoup to popularna biblioteka języka Python, która służy do parsowania i analizowania kodu HTML oraz XML. Biblioteka ta pozwala na wygodne wyodrębnianie potrzebnych danych ze źródeł internetowych, takich jak strony internetowe czy pliki XML.\n",
    "\n",
    "Konkretnie, BeautifulSoup umożliwia łatwe wyszukiwanie, filtrowanie i modyfikowanie elementów HTML i XML za pomocą wygodnych metod i funkcji. Biblioteka ta oferuje wiele możliwości, takich jak:\n",
    "\n",
    "- przeszukiwanie drzewa dokumentu HTML/XML w celu znalezienia konkretnych elementów i ich atrybutów,\n",
    "- wyodrębnianie tekstu, linków, obrazów i innych danych z elementów HTML/XML,\n",
    "- parsowanie HTML/XML z różnych źródeł, takich jak pliki, łańcuchy znaków czy strumienie danych,\n",
    "- tworzenie nowych dokumentów HTML/XML i modyfikowanie istniejących dokumentów.\n",
    "\n",
    "Biblioteka BeautifulSoup jest często używana w web scrapingu do analizy i wyodrębniania danych ze stron internetowych. Dzięki niej możemy łatwo znaleźć potrzebne nam elementy strony, takie jak tytuły, nagłówki, linki, dane tabelaryczne itp., oraz przechwycić je do dalszej analizy i przetwarzania."
   ]
  },
  {
   "cell_type": "code",
   "execution_count": null,
   "metadata": {},
   "outputs": [],
   "source": [
    "soup = BeautifulSoup(page.content, \"html.parser\")"
   ]
  },
  {
   "cell_type": "markdown",
   "metadata": {},
   "source": [
    "Kod ten tworzy obiekt BeautifulSoup z zawartości strony internetowej (przechowywanej w zmiennej `\"page.content\"`) oraz wykorzystuje parser do przetwarzania HTMLa. Obiekt ten umożliwia łatwe przeszukiwanie i wyciąganie informacji ze struktury strony internetowej, na przykład poprzez wykorzystanie selektorów CSS lub Xpath.\n",
    "\n",
    "Na przykład możemy znaleźć część kodu źródłowego, która zawiera wszystkie oferty pracy (identyfikowalna przez ID)."
   ]
  },
  {
   "cell_type": "code",
   "execution_count": null,
   "metadata": {},
   "outputs": [],
   "source": [
    "results = soup.find(id=\"ResultsContainer\")\n",
    "print(results.prettify())"
   ]
  },
  {
   "cell_type": "markdown",
   "metadata": {},
   "source": [
    "Funkcja `prettify()` służy do formatowania struktury dokumentu HTML lub XML w czytelny sposób dla człowieka. Funkcja formatuje kod, dodając wcięcia, spację i nowe linie, co ułatwia odczytanie struktury dokumentu i zrozumienie jego hierarchii. W efekcie, wyjście wyświetlane na ekranie jest łatwiejsze do odczytania i analizy dla użytkownika niż surowy kod HTML."
   ]
  },
  {
   "cell_type": "markdown",
   "metadata": {},
   "source": [
    "Teraz chcemy przejść po wszystkich ofertach pracy po kolei. Ponownie musimy zidentyfikować elementy kodu HTML, które pozwolą nam na rozpoznanie, że mamy do czynienia z elementem zawierającym ofertę pracy. Kod będzie wyglądał następująco:"
   ]
  },
  {
   "cell_type": "code",
   "execution_count": null,
   "metadata": {},
   "outputs": [],
   "source": [
    "job_elements = results.find_all(\"div\", class_=\"card-content\")"
   ]
  },
  {
   "cell_type": "markdown",
   "metadata": {},
   "source": [
    "Ten kod wyszukuje wszystkie elementy HTML oznaczone tagiem \"div\" i klasą \"card-content\". Wyprintujmy na ekran wszystkie znalezione obiekty."
   ]
  },
  {
   "cell_type": "code",
   "execution_count": null,
   "metadata": {},
   "outputs": [],
   "source": [
    "for job_element in job_elements:\n",
    "    print(job_element, end=\"\\n\"*2)"
   ]
  },
  {
   "cell_type": "markdown",
   "metadata": {},
   "source": [
    "Po wykonaniu zapytania o wszystkie oferty pracy otrzymujemy znacznie więcej kodu HTML, niż potrzebujemy. Naszym celem jest znalezienie konkretnych elementów HTML, które zawierają interesujące nas informacje - tytuł, nazwę firmy i miejsce. Wygląda to następująco:"
   ]
  },
  {
   "cell_type": "code",
   "execution_count": null,
   "metadata": {},
   "outputs": [],
   "source": [
    "for job_element in job_elements:\n",
    "    title_element = job_element.find(\"h2\", class_=\"title\")\n",
    "    company_element = job_element.find(\"h3\", class_=\"company\")\n",
    "    location_element = job_element.find(\"p\", class_=\"location\")\n",
    "    print(title_element)\n",
    "    print(company_element)\n",
    "    print(location_element)\n",
    "    print()"
   ]
  },
  {
   "cell_type": "markdown",
   "metadata": {},
   "source": [
    "Jeśli chcemy uzyskać tylko tekst zawarty w elemencie HTML, a nie cały kod, możemy skorzystać z metody `.text`.\n",
    "\n",
    "Dodatkowo możemy pozbyć się białych znaków (spacji, wcięć, nowych linii) znajdujących się na początku i końcu tekstu, wykorzystując metodę `.strip()`."
   ]
  },
  {
   "cell_type": "code",
   "execution_count": null,
   "metadata": {},
   "outputs": [],
   "source": [
    "for job_element in job_elements:\n",
    "    title_element = job_element.find(\"h2\", class_=\"title\")\n",
    "    company_element = job_element.find(\"h3\", class_=\"company\")\n",
    "    location_element = job_element.find(\"p\", class_=\"location\")\n",
    "    print(title_element.text.strip())\n",
    "    print(company_element.text.strip())\n",
    "    print(location_element.text.strip())\n",
    "    print()"
   ]
  },
  {
   "cell_type": "markdown",
   "metadata": {},
   "source": [
    "Kolejnym krokiem będzie wyszukanie tylko konkretnych ofert pracy - tych, które zawierają w tytule słowo \"Python\"."
   ]
  },
  {
   "cell_type": "code",
   "execution_count": null,
   "metadata": {},
   "outputs": [],
   "source": [
    "python_jobs = results.find_all(\n",
    "    \"h2\", string=lambda text: \"python\" in text.lower()\n",
    ")\n",
    "print(python_jobs)"
   ]
  },
  {
   "cell_type": "markdown",
   "metadata": {},
   "source": [
    "Jeśli zrobilibyśmy to w sposób przedstawiony poniżej, nasz kod wyszukiwałby tylko dokładnie taki string i nie znaleźlibyśmy żadnej oferty pracy. Metoda `.find_all()` szuka dokładnego dopasowania tekstu, a nie frazy w tekście."
   ]
  },
  {
   "cell_type": "code",
   "execution_count": null,
   "metadata": {},
   "outputs": [],
   "source": [
    "no_python_jobs = results.find_all(\"h2\", string=\"Python\")\n",
    "print(no_python_jobs)"
   ]
  },
  {
   "cell_type": "markdown",
   "metadata": {},
   "source": [
    "Po znalezieniu wszystkich ofert zawierających słowo \"Python\" w tytule pojawia się kolejne wyzwanie - potrzebujemy teraz uzyskać dostęp do elementów zawierających informacje o firmie i lokalizacji, jednak nasz kod zwraca jedynie listę tytułów. W tym celu możemy skorzystać z metody `.parent`, która umożliwia odwołanie się do elementu znajdującego się wyżej w hierarchii kodu HTML. W naszym przypadku obiekt zawierający wszystkie trzy elementy (tytuł, firma, lokalizacja) znajduje się trzy poziomy wyżej niż element z tytułem. Oto przykładowy kod realizujący to zadanie:"
   ]
  },
  {
   "cell_type": "code",
   "execution_count": null,
   "metadata": {},
   "outputs": [],
   "source": [
    "python_job_elements = [\n",
    "    h2_element.parent.parent.parent for h2_element in python_jobs\n",
    "]\n",
    "\n",
    "for job_element in python_job_elements:\n",
    "    title_element = job_element.find(\"h2\", class_=\"title\")\n",
    "    company_element = job_element.find(\"h3\", class_=\"company\")\n",
    "    location_element = job_element.find(\"p\", class_=\"location\")\n",
    "    print(title_element.text.strip())\n",
    "    print(company_element.text.strip())\n",
    "    print(location_element.text.strip())\n",
    "    print()"
   ]
  },
  {
   "cell_type": "markdown",
   "metadata": {},
   "source": [
    "Na końcu chcemy, żeby nasz kod dla każdej oferty pracy od razu dostarczał nam linków do aplikowania. Aby to zrobić, szukamy elementu HTML, który zawiera link do aplikowania, wybieramy go pod indeksem 1 (ponieważ pierwszy link, pod indeksem 0, prowadzi do szczegółów oferty) i na końcu pobieramy tylko zawartość atrybutu href, czyli nasz link. Całość wygląda następująco:"
   ]
  },
  {
   "cell_type": "code",
   "execution_count": null,
   "metadata": {},
   "outputs": [],
   "source": [
    "for job_element in python_job_elements:\n",
    "    title_element = job_element.find(\"h2\", class_=\"title\")\n",
    "    company_element = job_element.find(\"h3\", class_=\"company\")\n",
    "    location_element = job_element.find(\"p\", class_=\"location\")\n",
    "    print(title_element.text.strip())\n",
    "    print(company_element.text.strip())\n",
    "    print(location_element.text.strip())\n",
    "\n",
    "    link_url = job_element.find_all(\"a\")[1][\"href\"]\n",
    "    print(f\"Apply here: {link_url}\\n\")\n",
    "    print()"
   ]
  },
  {
   "cell_type": "markdown",
   "metadata": {},
   "source": [
    "# Geokodowanie"
   ]
  },
  {
   "cell_type": "markdown",
   "metadata": {},
   "source": [
    "Podczas web scrapingu często mamy do czynienia z danymi geograficznymi takimi jak adresy.\n",
    "\n",
    "Czasami potrzebujemy wykonać tłumaczenie adresów na współrzędne geograficzne lub wykonać tłumaczenie współrzędnych geograficznych na adresy.\n",
    "\n",
    "OpenStreetMap Nominatim to otwarte i darmowe narzędzie do geokodowania i odwrotnego geokodowania oparte na danych OpenStreetMap. Nominatim działa na całym świecie i pozwala użytkownikom na szybkie i dokładne przetwarzanie adresów i współrzędnych geograficznych.\n",
    "\n",
    "Nominatim korzysta z danych OpenStreetMap, które są tworzone i aktualizowane przez społeczność. Dzięki temu Nominatim oferuje najnowsze dane geograficzne, w tym informacje o budynkach, ulicach, miejscach i granicach administracyjnych.\n",
    "\n",
    "Istnieją również inne narzędzia do geokodowania, które często oferują bardziej zaawansowane funkcje, ale są płatne lub wymagają subskrypcji. Na przykład Google Maps API, Bing Maps API czy HERE Location Services to popularne narzędzia geokodowania, ale wymagają one opłat za korzystanie z nich w zależności od ilości żądań API."
   ]
  },
  {
   "cell_type": "code",
   "execution_count": null,
   "metadata": {},
   "outputs": [],
   "source": [
    "from geopy.geocoders import Nominatim"
   ]
  },
  {
   "cell_type": "markdown",
   "metadata": {},
   "source": [
    "Po zaimportowaniu biblioteki, stworzymy obiekt `geolocator` klasy `Nominatim`.\n",
    "\n",
    "`user_agent` to nazwa użytkownika, który używa API Nominatim, a przekazanie go jest wymagane. Parametr ten służy do identyfikacji aplikacji, która korzysta z API i jest używany do śledzenia liczby żądań i ich źródła. Dzięki temu, że użytkownicy posiadają swoje unikalne identyfikatory, można kontrolować wykorzystanie API i uniknąć przeciążenia serwera."
   ]
  },
  {
   "cell_type": "code",
   "execution_count": null,
   "metadata": {},
   "outputs": [],
   "source": [
    "geolocator = Nominatim(user_agent=\"http\")"
   ]
  },
  {
   "cell_type": "markdown",
   "metadata": {},
   "source": [
    "Pod spodem znajduje się lista 10 adresów dla których chcemy znaleźć współrzędne."
   ]
  },
  {
   "cell_type": "code",
   "execution_count": null,
   "metadata": {},
   "outputs": [],
   "source": [
    "list_of_addresses = [\n",
    " 'Zgoda 5, 00-018 Warszawa',\n",
    " 'Al. Jerozolimskie 148 , 00-024 Warszawa',\n",
    " 'Rodziny Hiszpańskich 8, 02-685 Warszawa',\n",
    " 'Zjednoczenia 33, 01-838 Warszawa',\n",
    " 'Piękna 68A, 00-672 Warszawa',\n",
    " 'Grochowska 324, 03-838 Warszawa',\n",
    " 'Przeskok 2, 00-032 Warszawa',\n",
    " 'Omulewska 20, 04-128 Warszawa',\n",
    " 'Mokotowska 24/54, 00-561 Warszawa',\n",
    " 'Branickiego 20, 02-972 Warszawa'\n",
    "]"
   ]
  },
  {
   "cell_type": "markdown",
   "metadata": {},
   "source": [
    "Zrobimy to przy użyciu obiektu `geolocator`."
   ]
  },
  {
   "cell_type": "code",
   "execution_count": null,
   "metadata": {},
   "outputs": [],
   "source": [
    "address_coordinates_dict = {}\n",
    "for address in list_of_addresses:\n",
    "    location = geolocator.geocode(address)\n",
    "    address_coordinates_dict[address] = (location.latitude, location.longitude)\n",
    "    print(location.latitude, location.longitude)"
   ]
  },
  {
   "cell_type": "markdown",
   "metadata": {},
   "source": [
    "Z tej samej biblioteki zaimportujemy moduł distance, który umożliwia liczenie dystansów między obiektami na podstawie ich współrzędnych geograficznych."
   ]
  },
  {
   "cell_type": "code",
   "execution_count": null,
   "metadata": {},
   "outputs": [],
   "source": [
    "from geopy.distance import distance"
   ]
  },
  {
   "cell_type": "markdown",
   "metadata": {},
   "source": [
    "Wykorzystamy tę funkcję do policzenia odległości między wszystkimi adresami, dla których znaleźliśmy współrzędne geograficzne."
   ]
  },
  {
   "cell_type": "code",
   "execution_count": null,
   "metadata": {},
   "outputs": [],
   "source": [
    "for address1, coordinates1 in address_coordinates_dict.items():\n",
    "    for address2, coordinates2 in address_coordinates_dict.items():\n",
    "        dist = distance((coordinates1[0], coordinates1[1]), (coordinates2[0], coordinates2[1])).km\n",
    "        print(f\"Odległość adresu {address1}, od adresu {address2}, wynosi {dist:.2f} km\")"
   ]
  },
  {
   "cell_type": "markdown",
   "metadata": {},
   "source": [
    "# Google Maps API"
   ]
  },
  {
   "cell_type": "markdown",
   "metadata": {},
   "source": [
    "Często chcemy zwizualizować dane goegraficzne.\n",
    "\n",
    "Ta część notatnika jest oparty na tutorialu dostępnym pod adresem https://thedatafrog.com/en/articles/show-data-google-map-python/.\n",
    "\n",
    "W tej części nauczymy się, jak wykorzystać Google Maps API w języku Python, aby wyświetlić dane geolokalizacyjne na mapie.\n",
    "\n",
    "Google Maps API to zestaw narzędzi i interfejsów programistycznych (API), które pozwalają deweloperom na integrację map Google w swoje aplikacje. Dzięki Google Maps API deweloperzy mogą wykorzystać funkcje Google Maps, takie jak wyświetlanie map, lokalizowanie miejsc, wyznaczanie tras i wiele innych, w swoich własnych aplikacjach.\n",
    "\n",
    "Google Maps API jest udostępniane za pośrednictwem internetu, a jego użycie wymaga posiadania klucza API, który jest przypisany do konkretnego konta Google. Klucz API jest bezpłatny dla zastosowań niekomercyjnych, ale wymaga płatności dla aplikacji komercyjnych lub aplikacji, które przekraczają określony poziom użycia."
   ]
  },
  {
   "cell_type": "markdown",
   "metadata": {},
   "source": [
    "Na potrzeby tego kursu każdy z was może otrzymać kupon Google Cloud na 50$ pod adresem URL - https://gcp.secure.force.com/GCPEDU?cid=34zDp4O2CxF746b3NcVsUW1%2F3iX2LSg%2FaFEYjG3fln8UWfMQwfxDpIZM8RwQliCY/.\n",
    "\n",
    "<b>(NOT SCAM, 100% LEGIT!!!!1!!)</b>\n",
    "\n",
    "Aby uzyskać dostęp do kuponu, musicie podać swoje imię oraz adres e-mail ze szkolnej domeny. Po potwierdzeniu szczegółów kupon zostanie wysłany do Was. Pamiętajcie, że tylko jeden kupon może być wykorzystany na unikalny adres e-mail, a kupon możecie wykorzystać do 28 czerwca 2023 roku.\n",
    "\n",
    "Z waszego konta Google pobierzcie klucz API i wpiszcie go tutaj."
   ]
  },
  {
   "cell_type": "code",
   "execution_count": null,
   "metadata": {},
   "outputs": [],
   "source": [
    "api_key = #miejsce na Twój klucz API"
   ]
  },
  {
   "cell_type": "markdown",
   "metadata": {},
   "source": [
    "Na początek skonfigurujemy Bokeh dla zintegrowanego wyświetlania w notatniku Jupyter.\n",
    "\n",
    "Bokeh to biblioteka w języku Python służąca do wizualizacji danych interaktywnych. Umożliwia tworzenie zaawansowanych wykresów, map, oraz interaktywnych dashboardów. Bokeh pozwala na tworzenie wizualizacji w formacie HTML i umieszczanie ich w dowolnym serwerze lub aplikacji internetowej, a także wizualizowanie danych bezpośrednio w notatnikach Jupyter. Biblioteka ta jest wykorzystywana przez analityków danych, naukowców i inżynierów do wizualizacji wyników analiz, predykcji i modeli."
   ]
  },
  {
   "cell_type": "code",
   "execution_count": null,
   "metadata": {},
   "outputs": [],
   "source": [
    "import pandas as pd\n",
    "from bokeh.io import output_notebook\n",
    "output_notebook()\n",
    "bokeh_width, bokeh_height = 900, 900"
   ]
  },
  {
   "cell_type": "markdown",
   "metadata": {},
   "source": [
    "Skorzystamy z zestawu danych `New York City Airbnb Open Data` dostępnego po adresem - https://www.kaggle.com/datasets/dgomonov/new-york-city-airbnb-open-data. Zestaw zawiera ponad 48 000 rekordów, które zawierają informacje, takie jak lokalizacja, typ nieruchomości, cena za noc, dostępność, liczba łóżek i oceny gości. Zestaw danych zawiera również informacje geograficzne, takie jak długość i szerokość geograficzna dla każdej nieruchomości. Jest to interesujący zbiór danych do analizy rynku wynajmu krótkoterminowego w Nowym Jorku, jak również do badania preferencji i zachowań klientów korzystających z Airbnb."
   ]
  },
  {
   "cell_type": "code",
   "execution_count": null,
   "metadata": {},
   "outputs": [],
   "source": [
    "df_nyc = pd.read_csv('AB_NYC_2019.csv')\n",
    "df_nyc.head()"
   ]
  },
  {
   "cell_type": "markdown",
   "metadata": {},
   "source": [
    "Żeby wyświetlić mapę potrzebne nam będą współrzędne geograficzne środka naszej mapy. Policzymy średnią między największą a najmniejszą wartością długości i szerokości geograficznej."
   ]
  },
  {
   "cell_type": "code",
   "execution_count": null,
   "metadata": {},
   "outputs": [],
   "source": [
    "lat = (df_nyc['latitude'].max() + df_nyc['latitude'].min()) / 2\n",
    "lon = (df_nyc['longitude'].max() + df_nyc['longitude'].min()) / 2\n",
    "print(lat, lon)"
   ]
  },
  {
   "cell_type": "markdown",
   "metadata": {},
   "source": [
    "Napiszmy pierwszą funkcję, która posłuży nam do rysowania mapy.\n",
    "\n",
    "Funkcja przyjmuje trzy argumenty: szerokość i długość geograficzną miejsca, które ma być wyświetlone na mapie, oraz zoom. Można również wybrać typ mapy (map_type). Możliwe opcje to:\n",
    "- roadmap,\n",
    "- terrain,\n",
    "- satellite,\n",
    "- hybrid."
   ]
  },
  {
   "cell_type": "code",
   "execution_count": null,
   "metadata": {},
   "outputs": [],
   "source": [
    "from bokeh.io import show\n",
    "from bokeh.plotting import gmap\n",
    "from bokeh.models import GMapOptions\n",
    "\n",
    "def plot(lat, lng, zoom=11, map_type='roadmap'):\n",
    "\n",
    "    gmap_options = GMapOptions(lat=lat, lng=lng,\n",
    "                               map_type=map_type, zoom=zoom)\n",
    "\n",
    "    p = gmap(api_key, gmap_options, title='New York',\n",
    "             width=bokeh_width, height=bokeh_height)\n",
    "    show(p)\n",
    "    return p"
   ]
  },
  {
   "cell_type": "markdown",
   "metadata": {},
   "source": [
    "Teraz narysujmy pierwszą mapę."
   ]
  },
  {
   "cell_type": "code",
   "execution_count": null,
   "metadata": {},
   "outputs": [],
   "source": [
    "p = plot(lat, lon)"
   ]
  },
  {
   "cell_type": "markdown",
   "metadata": {},
   "source": [
    "Do naszej mapy możemy dodać znacznik, który wskaże współrzędne geograficzne naszego środka."
   ]
  },
  {
   "cell_type": "code",
   "execution_count": null,
   "metadata": {},
   "outputs": [],
   "source": [
    "def plot(lat, lng, zoom=11, map_type='roadmap'):\n",
    "\n",
    "    gmap_options = GMapOptions(lat=lat, lng=lng,\n",
    "                               map_type=map_type, zoom=zoom)\n",
    "\n",
    "    p = gmap(api_key, gmap_options, title='New York',\n",
    "             width=bokeh_width, height=bokeh_height)\n",
    "\n",
    "    center = p.circle([lng], [lat], size=10, alpha=0.5, color='red')\n",
    "    show(p)\n",
    "    return p"
   ]
  },
  {
   "cell_type": "markdown",
   "metadata": {},
   "source": [
    "Narysujmy zmienioną mapę."
   ]
  },
  {
   "cell_type": "code",
   "execution_count": null,
   "metadata": {},
   "outputs": [],
   "source": [
    "p = plot(lat, lon, map_type='terrain')"
   ]
  },
  {
   "cell_type": "markdown",
   "metadata": {},
   "source": [
    "Teraz chcemy wygenerować interaktywną mapę z naniesionymi punktami z naszych danych.\n",
    "Źródłem danych do wykresu jest obiekt typu `ColumnDataSource`. Następnie dane te są używane do wygenerowania punktów na mapie o zadanych parametrach."
   ]
  },
  {
   "cell_type": "code",
   "execution_count": null,
   "metadata": {},
   "outputs": [],
   "source": [
    "from bokeh.models import ColumnDataSource\n",
    "\n",
    "def plot(lat, lng, zoom=11, map_type='roadmap'):\n",
    "\n",
    "    gmap_options = GMapOptions(lat=lat, lng=lng,\n",
    "                               map_type=map_type, zoom=zoom)\n",
    "\n",
    "    p = gmap(api_key, gmap_options, title='New York',\n",
    "             width=bokeh_width, height=bokeh_height)\n",
    "\n",
    "    source = ColumnDataSource(df_nyc)\n",
    "\n",
    "    center = p.circle('longitude', 'latitude', size=5, alpha=0.3,\n",
    "                      color='yellow', source=source)\n",
    "    show(p)\n",
    "    return p"
   ]
  },
  {
   "cell_type": "markdown",
   "metadata": {},
   "source": [
    "Wygenerujmy tę mapę."
   ]
  },
  {
   "cell_type": "code",
   "execution_count": null,
   "metadata": {},
   "outputs": [],
   "source": [
    "p = plot(lat, lon, map_type='satellite')"
   ]
  },
  {
   "cell_type": "markdown",
   "metadata": {},
   "source": [
    "Jak można łatwo zauważyć mamy do czynienia z bardzo dużą liczbą punktów. Ile jest tych punktów?"
   ]
  },
  {
   "cell_type": "code",
   "execution_count": null,
   "metadata": {},
   "outputs": [],
   "source": [
    "print(len(df_nyc))"
   ]
  },
  {
   "cell_type": "markdown",
   "metadata": {},
   "source": [
    "Nie potrzeba nam 40 tys. punktów, więc ograniczmy nasze dane do ok. 3 tys. żebyśmy byli w stanie coś zobaczyć na mapie."
   ]
  },
  {
   "cell_type": "code",
   "execution_count": null,
   "metadata": {},
   "outputs": [],
   "source": [
    "df = df_nyc.sample(n=3000).copy()"
   ]
  },
  {
   "cell_type": "markdown",
   "metadata": {},
   "source": [
    "Wygenerujmy mapę ze zredukowaną liczbą punktów."
   ]
  },
  {
   "cell_type": "code",
   "execution_count": null,
   "metadata": {},
   "outputs": [],
   "source": [
    "def plot(lat, lng, zoom=11, map_type='roadmap'):\n",
    "\n",
    "    gmap_options = GMapOptions(lat=lat, lng=lng,\n",
    "                               map_type=map_type, zoom=zoom)\n",
    "\n",
    "    p = gmap(api_key, gmap_options, title='New York',\n",
    "             width=bokeh_width, height=bokeh_height)\n",
    "\n",
    "    source = ColumnDataSource(df)\n",
    "\n",
    "    center = p.circle('longitude', 'latitude', size=5, alpha=0.3,\n",
    "                      color='yellow', source=source)\n",
    "    show(p)\n",
    "    return p"
   ]
  },
  {
   "cell_type": "code",
   "execution_count": null,
   "metadata": {},
   "outputs": [],
   "source": [
    "p = plot(lat, lon, map_type='satellite')"
   ]
  },
  {
   "cell_type": "markdown",
   "metadata": {},
   "source": [
    "Teraz dodamy narzędzia do interaktywnego przeglądania mapy:\n",
    "- `Hover` pozwala na wyświetlanie informacji o danym elemencie na mapie, gdy kursor myszy znajduje się nad tym elementem.\n",
    "\n",
    "- `Reset` umożliwia powrót do domyślnego widoku mapy, czyli przywrócenie oryginalnego położenia i powiększenia.\n",
    "\n",
    "- `Wheel_zoom` umożliwia przybliżanie i oddalanie widoku mapy za pomocą kółka myszy.\n",
    "\n",
    "- `Pan` pozwala na przesuwanie mapy w różnych kierunkach, co umożliwia oglądanie innych fragmentów mapy niż te widoczne na początku."
   ]
  },
  {
   "cell_type": "code",
   "execution_count": null,
   "metadata": {},
   "outputs": [],
   "source": [
    "def plot(lat, lng, zoom=11, map_type='roadmap'):\n",
    "    gmap_options = GMapOptions(lat=lat, lng=lng,\n",
    "                               map_type=map_type, zoom=zoom)\n",
    "\n",
    "    p = gmap(api_key, gmap_options, title='New York',\n",
    "             width=bokeh_width, height=bokeh_height,\n",
    "             tools=['hover', 'reset', 'wheel_zoom', 'pan'])\n",
    "\n",
    "    source = ColumnDataSource(df)\n",
    "\n",
    "    center = p.circle('longitude', 'latitude', size=4, alpha=0.5,\n",
    "                      color='yellow', source=source)\n",
    "    show(p)\n",
    "    return p"
   ]
  },
  {
   "cell_type": "markdown",
   "metadata": {},
   "source": [
    "Mapa z interaktywnymi narzędziami wygląda następująco."
   ]
  },
  {
   "cell_type": "code",
   "execution_count": null,
   "metadata": {},
   "outputs": [],
   "source": [
    "p = plot(lat, lon, map_type='satellite', zoom=11)"
   ]
  },
  {
   "cell_type": "markdown",
   "metadata": {},
   "source": [
    "Zmienimy narzędzie `Hover` do mapy, które pozwala na wyświetlenie informacji o wybranych punktach na mapie, gdy użytkownik najedzie na nie kursorem.\n",
    "\n",
    "Dodamy własne etykiety, które mają być wyświetlane w informacjach - cenę, imię gospodarza i typ pokoju."
   ]
  },
  {
   "cell_type": "code",
   "execution_count": null,
   "metadata": {},
   "outputs": [],
   "source": [
    "from bokeh.models import HoverTool\n",
    "\n",
    "def plot(lat, lng, zoom=11, map_type='roadmap'):\n",
    "    gmap_options = GMapOptions(lat=lat, lng=lng,\n",
    "                               map_type=map_type, zoom=zoom)\n",
    "\n",
    "    hover = HoverTool(\n",
    "        tooltips = [\n",
    "            ('Price', '@price dollars'),\n",
    "            ('Host Name', '@host_name'),\n",
    "            ('Room Type', '@room_type'),\n",
    "        ]\n",
    "    )\n",
    "\n",
    "    p = gmap(api_key, gmap_options, title='New York',\n",
    "             width=bokeh_width, height=bokeh_height,\n",
    "             tools=[hover, 'reset', 'wheel_zoom', 'pan'])\n",
    "\n",
    "    source = ColumnDataSource(df)\n",
    "\n",
    "    center = p.circle('longitude', 'latitude', size=4, alpha=0.5,\n",
    "                      color='yellow', source=source)\n",
    "    show(p)\n",
    "    return p"
   ]
  },
  {
   "cell_type": "markdown",
   "metadata": {},
   "source": [
    "Zmodyfikowana mapa wygląda następująco."
   ]
  },
  {
   "cell_type": "code",
   "execution_count": null,
   "metadata": {},
   "outputs": [],
   "source": [
    "p = plot(lat, lon, map_type='satellite', zoom=11)"
   ]
  },
  {
   "cell_type": "markdown",
   "metadata": {},
   "source": [
    "W następnym kroku chcielibyśmy zwizualizować zależność rozmiaru punktu na mapie od zmiennej (w tym przypadku będzie to cena)."
   ]
  },
  {
   "cell_type": "code",
   "execution_count": null,
   "metadata": {},
   "outputs": [],
   "source": [
    "import numpy as np\n",
    "df['size'] = np.sqrt(df['price'])/4\n",
    "df.head()"
   ]
  },
  {
   "cell_type": "markdown",
   "metadata": {},
   "source": [
    "Wartości z nowej kolumny `size` (zależnej od ceny) zostały użyte jako wartość `\"size\"` dla koła na wykresie. Umożliwia to wizualne porównanie ceny między różnymi punktami na mapie."
   ]
  },
  {
   "cell_type": "code",
   "execution_count": null,
   "metadata": {},
   "outputs": [],
   "source": [
    "def plot(lat, lng, zoom=11, map_type='roadmap'):\n",
    "    gmap_options = GMapOptions(lat=lat, lng=lng,\n",
    "                               map_type=map_type, zoom=zoom)\n",
    "    hover = HoverTool(\n",
    "        tooltips = [\n",
    "            ('Price', '@price dollars'),\n",
    "            ('Host Name', '@host_name'),\n",
    "            ('Room Type', '@room_type'),\n",
    "        ]\n",
    "    )\n",
    "\n",
    "    p = gmap(api_key, gmap_options, title='New York',\n",
    "             width=bokeh_width, height=bokeh_height,\n",
    "             tools=[hover, 'reset', 'wheel_zoom', 'pan'])\n",
    "\n",
    "    source = ColumnDataSource(df)\n",
    "\n",
    "    center = p.circle('longitude', 'latitude', size='size',\n",
    "                      alpha=0.5, color='yellow', source=source)\n",
    "\n",
    "    show(p)\n",
    "    return p"
   ]
  },
  {
   "cell_type": "markdown",
   "metadata": {},
   "source": [
    "Tak wygląda to na mapie."
   ]
  },
  {
   "cell_type": "code",
   "execution_count": null,
   "metadata": {},
   "outputs": [],
   "source": [
    "p = plot(lat, lon, map_type='satellite', zoom=11)"
   ]
  },
  {
   "cell_type": "markdown",
   "metadata": {},
   "source": [
    "Alternatywnie możemy stworzyć inną zmienną zależną od ceny - `radius`."
   ]
  },
  {
   "cell_type": "code",
   "execution_count": null,
   "metadata": {},
   "outputs": [],
   "source": [
    "df['radius'] = np.sqrt(df['price'])*7"
   ]
  },
  {
   "cell_type": "markdown",
   "metadata": {},
   "source": [
    "Zamiast nadawać punktom wielkość zależną od ceny, nadamy im promień zależny od ceny."
   ]
  },
  {
   "cell_type": "code",
   "execution_count": null,
   "metadata": {},
   "outputs": [],
   "source": [
    "def plot(lat, lng, zoom=11, map_type='roadmap'):\n",
    "    gmap_options = GMapOptions(lat=lat, lng=lng,\n",
    "                               map_type=map_type, zoom=zoom)\n",
    "\n",
    "    hover = HoverTool(\n",
    "        tooltips = [\n",
    "            ('Price', '@price dollars'),\n",
    "            ('Host Name', '@host_name'),\n",
    "            ('Room Type', '@room_type'),\n",
    "        ]\n",
    "    )\n",
    "\n",
    "    p = gmap(api_key, gmap_options, title='New York',\n",
    "             width=bokeh_width, height=bokeh_height,\n",
    "             tools=[hover, 'reset', 'wheel_zoom', 'pan'])\n",
    "\n",
    "    source = ColumnDataSource(df)\n",
    "\n",
    "    center = p.circle('longitude', 'latitude', radius='radius', alpha=0.5,\n",
    "                      color='yellow', source=source)\n",
    "    show(p)\n",
    "    return p"
   ]
  },
  {
   "cell_type": "markdown",
   "metadata": {},
   "source": [
    "Tak wygląda zmieniona mapa."
   ]
  },
  {
   "cell_type": "code",
   "execution_count": null,
   "metadata": {},
   "outputs": [],
   "source": [
    "p = plot(lat, lon, map_type='satellite', zoom=11)"
   ]
  },
  {
   "cell_type": "markdown",
   "metadata": {},
   "source": [
    "Na koniec chcemy dodać kolejny wymiar rozróżnienia między punktami - liczbę opinii wystawianych na miesiąc. Na początek skupimy się tylko na punktach, dla których ta wartość została obliczona."
   ]
  },
  {
   "cell_type": "code",
   "execution_count": null,
   "metadata": {},
   "outputs": [],
   "source": [
    "df_reviews = df.loc[df['reviews_per_month']>0.].copy()\n",
    "df_reviews.head()"
   ]
  },
  {
   "cell_type": "markdown",
   "metadata": {},
   "source": [
    "W związku z tym, że będziemy używać innego DataFrame'a do stworzenia tej mapy dodamy DaraFrame'a jako argument funkcji.\n",
    "\n",
    "Punkty na mapie będą kolorowane w zależności od wartości kolumny `reviews_per_month` za pomocą palety kolorów.\n",
    "\n",
    "Użyjemy funkcji `linear_cmap`, która przyporządkuje wartości z kolumny `reviews_per_month` do kolorów z palety.\n",
    "\n",
    "Wynikowy kolor zostanie użyty jako argument do funkcji tworzącej punkty.\n",
    "\n",
    "Na koniec funkcja `ColorBar` doda pasek kolorów, który jest używany do wyjaśnienia, jakie wartości kolorów odpowiadają jakim wartościom z kolumny `reviews_per_month`."
   ]
  },
  {
   "cell_type": "code",
   "execution_count": null,
   "metadata": {},
   "outputs": [],
   "source": [
    "from bokeh.transform import linear_cmap\n",
    "from bokeh.palettes import Plasma256 as palette\n",
    "from bokeh.models import ColorBar\n",
    "\n",
    "\n",
    "def plot(df, lat, lng, zoom=11, map_type='roadmap'):\n",
    "\n",
    "    gmap_options = GMapOptions(lat=lat, lng=lng,\n",
    "                               map_type=map_type, zoom=zoom)\n",
    "\n",
    "    hover = HoverTool(\n",
    "        tooltips = [\n",
    "            ('Price', '@price dollars'),\n",
    "            ('Host Name', '@host_name'),\n",
    "            ('Room Type', '@room_type'),\n",
    "            ('Reviews Per Month', '@reviews_per_month{0.}')\n",
    "        ]\n",
    "    )\n",
    "\n",
    "    p = gmap(api_key, gmap_options, title='New York',\n",
    "             width=bokeh_width, height=bokeh_height,\n",
    "             tools=[hover, 'reset', 'wheel_zoom', 'pan'])\n",
    "\n",
    "    source = ColumnDataSource(df)\n",
    "\n",
    "    mapper = linear_cmap('reviews_per_month', palette, 0, 5)\n",
    "\n",
    "\n",
    "    center = p.circle('longitude', 'latitude', radius='radius', alpha=0.6,\n",
    "                      color=mapper, source=source)\n",
    "\n",
    "    color_bar = ColorBar(color_mapper=mapper['transform'],\n",
    "                         location=(0,0))\n",
    "\n",
    "    p.add_layout(color_bar, 'right')\n",
    "\n",
    "    show(p)\n",
    "    return p"
   ]
  },
  {
   "cell_type": "markdown",
   "metadata": {},
   "source": [
    "Nasza ostateczna mapa będzie wyglądać następująco."
   ]
  },
  {
   "cell_type": "code",
   "execution_count": null,
   "metadata": {},
   "outputs": [],
   "source": [
    "p = plot(df_reviews, lat, lon, map_type='roadmap', zoom=11)"
   ]
  }
 ],
 "metadata": {
  "kernelspec": {
   "display_name": "Python 3 (ipykernel)",
   "language": "python",
   "name": "python3"
  },
  "language_info": {
   "codemirror_mode": {
    "name": "ipython",
    "version": 3
   },
   "file_extension": ".py",
   "mimetype": "text/x-python",
   "name": "python",
   "nbconvert_exporter": "python",
   "pygments_lexer": "ipython3",
   "version": "3.9.5"
  }
 },
 "nbformat": 4,
 "nbformat_minor": 1
}
