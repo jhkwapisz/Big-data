{
 "cells": [
  {
   "cell_type": "markdown",
   "metadata": {},
   "source": [
    "# Big Data w biznesie"
   ]
  },
  {
   "cell_type": "markdown",
   "metadata": {},
   "source": [
    "## Czwarty notebook rozwiązania"
   ]
  },
  {
   "cell_type": "code",
   "execution_count": null,
   "metadata": {},
   "outputs": [],
   "source": [
    "from IPython.core.display import HTML\n",
    "\n",
    "\n",
    "def _set_css_style(css_file_path):\n",
    "    \"\"\"\n",
    "    Read the custom CSS file and load it into Jupyter.\n",
    "    Pass the file path to the CSS file.\n",
    "    \"\"\"\n",
    "\n",
    "    styles = open(css_file_path, \"r\").read()\n",
    "    s = '<style>%s</style>' % styles\n",
    "    return HTML(s)\n",
    "\n",
    "\n",
    "_set_css_style(\"../custom.css\")"
   ]
  },
  {
   "cell_type": "markdown",
   "metadata": {},
   "source": [
    "#### Zaimportuj biblioteki numpy, pandas, matplotlib i seaborn."
   ]
  },
  {
   "cell_type": "code",
   "execution_count": null,
   "metadata": {},
   "outputs": [],
   "source": [
    "import numpy as np\n",
    "import pandas as pd\n",
    "import matplotlib.pyplot as plt\n",
    "%matplotlib inline\n",
    "import seaborn as sns\n",
    "import ipywidgets as widgets\n",
    "from IPython.display import display"
   ]
  },
  {
   "cell_type": "markdown",
   "metadata": {},
   "source": [
    "#### Załaduj plik csv.\n",
    "***\n",
    "Do zmiennej `df` załaduj plik `pokemon.csv`."
   ]
  },
  {
   "cell_type": "code",
   "execution_count": null,
   "metadata": {},
   "outputs": [],
   "source": [
    "df = pd.read_csv('./pokemon.csv')"
   ]
  },
  {
   "cell_type": "markdown",
   "metadata": {},
   "source": [
    "Ten zbiór danych zawiera informacje na temat 801 Pokémonów z pierwszych siedmiu generacji. Obejmuje on podstawowe statystyki, osiągi przeciwko innym typom, wzrost, wagę, klasyfikacje punkty doświadczenia, zdolności itp. Informacje zostały pobrane z serwisu serebii (www.serebii.net) i mają następujące cechy:\n",
    "\n",
    "- abilities: ciąg znaków zawierający listę zdolności, które Pokémon może posiadać.\n",
    "- against_?: osiemnaście cech, które określają ilość otrzymywanych obrażeń od ataku określonego typu Pokémona.\n",
    "- attack: podstawowy atak Pokémona.\n",
    "- base_egg_steps: liczba kroków wymagana do wyklucia się jaja Pokémona.\n",
    "- base_happiness: podstawowe szczęście Pokémona.\n",
    "- base_total: suma hp, ataku, obrony, specjalnego ataku, specjalnej obrony i prędkości.\n",
    "- capture_rate: współczynnik łapania Pokémona.\n",
    "- classification: klasyfikacja Pokémona, opisana przez Pokédex Sun and Moon.\n",
    "- defense: podstawowa obrona Pokémona.\n",
    "- experience_growth: wzrost doświadczenia Pokémona.\n",
    "- height_m: wysokość Pokémona w metrach.\n",
    "- hp: podstawowe HP Pokémon. Jest to skrót od Hit Point, który określa, ile obrażeń Pokémon może otrzymać przed omdleniem.\n",
    "- japanese_name: oryginalna japońska nazwa Pokémona.\n",
    "- name: angielska nazwa Pokémona.\n",
    "- percentage_male: procent osobników płci męskiej w gatunku. Puste, jeśli Pokémon jest bezpłciowy.\n",
    "- pokedex_number: numer wpisu Pokémona w Krajowym Pokédexie.\n",
    "- sp_attack: podstawowy specjalny atak Pokémona.\n",
    "- sp_defense: podstawowa specjalna obrona Pokémona.\n",
    "- speed: podstawowa prędkość Pokémona.\n",
    "- type1: podstawowy typ Pokémona.\n",
    "- type2: drugi typ Pokémona.\n",
    "- weight_kg: waga Pokémona w kilogramach.\n",
    "- generation: numerowana generacja, w której wprowadzono Pokémona.\n",
    "- is_legendary: oznacza, czy Pokémon jest legendarny."
   ]
  },
  {
   "cell_type": "code",
   "execution_count": null,
   "metadata": {},
   "outputs": [],
   "source": [
    "df.describe().T"
   ]
  },
  {
   "cell_type": "markdown",
   "metadata": {},
   "source": []
  },
  {
   "cell_type": "markdown",
   "metadata": {},
   "source": [
    "#### Przygotuj dane.\n",
    "***\n",
    "Wykonamy tu następujące czynności:\n",
    "- wyrzucimy nieinteresujące na kolumny\n",
    "- zmienimy nazwy kolumny na zaczynające się wielką literą\n",
    "- wstawimy kolumnę z nazwą Pokémonów na początek\n",
    "- zmienimy wartości w kolumnie `'Is_Legendary'` na napisy\n",
    "- zmienimy nazwy typów Pokémonów na zaczynające się wielką literą\n",
    "- zmienimy dane w kolumnie `'Capture_Rate'` na liczbowe"
   ]
  },
  {
   "cell_type": "code",
   "execution_count": null,
   "metadata": {},
   "outputs": [],
   "source": [
    "df = df.drop(\n",
    "    ['japanese_name', 'pokedex_number', 'base_egg_steps', 'classfication', 'percentage_male'],\n",
    "    axis=1\n",
    ")\n",
    "\n",
    "df = df.rename(str.title, axis='columns')\n",
    "\n",
    "df = df.reindex(['Name'] + [col for col in df.columns if col != 'Name'], axis=1)\n",
    "\n",
    "df = df.replace(\n",
    "    {\n",
    "        'Is_Legendary': {\n",
    "            0: \"Non-legendary\",\n",
    "            1: \"Legendary\",\n",
    "        },\n",
    "    },\n",
    ")\n",
    "\n",
    "types = [t for t in list(df['Type1'].unique())]\n",
    "df['Type1'] = df['Type1'].replace(types, [t.title() for t in types])\n",
    "df['Type2'] = df['Type2'].replace(types, [t.title() for t in types])\n",
    "\n",
    "\n",
    "df['Capture_Rate'] = df['Capture_Rate'].replace({'30 (Meteorite)255 (Core)': np.nan})\n",
    "df['Capture_Rate'] = pd.to_numeric(df['Capture_Rate'])"
   ]
  },
  {
   "cell_type": "markdown",
   "metadata": {},
   "source": [
    "#### Dodaj parametry do Seaborna.\n",
    "***\n",
    "Dodanie parametrów rysowania w Seabornie pozwala na dostosowanie wyglądu wykresów do naszych preferencji i wymagań.\n",
    "Ustawienie tych wartości przed utworzeniem wykresów pozwala na utrzymanie spójnego wyglądu między różnymi wykresami."
   ]
  },
  {
   "cell_type": "code",
   "execution_count": null,
   "metadata": {},
   "outputs": [],
   "source": [
    "SEABORN_RC_PARAMS = {\n",
    "    'font.size': 6,\n",
    "    'xtick.color': 'gray',\n",
    "    'xtick.labelsize': 6,\n",
    "    'ytick.color': 'gray',\n",
    "    'ytick.labelsize': 6,\n",
    "    'text.color': 'gray',\n",
    "    'legend.fontsize': 6,\n",
    "    'legend.loc': 'upper left',\n",
    "    'legend.frameon': False,\n",
    "    'xaxis.labellocation': 'left',\n",
    "    'yaxis.labellocation': 'top',\n",
    "    'axes.edgecolor': 'gray',\n",
    "    'axes.labelcolor': 'gray',\n",
    "    'axes.titlelocation': 'left',\n",
    "    'axes.labelsize': 6,\n",
    "    'axes.titlesize': 12,\n",
    "    'axes.titlepad': 20,\n",
    "    'figure.figsize': (6, 3),\n",
    "    'figure.dpi': 200,\n",
    "    'figure.titlesize': 12,\n",
    "}\n",
    "SEABORN_STYLE = 'white'\n",
    "sns.set(rc=SEABORN_RC_PARAMS, style=SEABORN_STYLE)"
   ]
  },
  {
   "cell_type": "markdown",
   "metadata": {},
   "source": [
    "### Rysowanie ładnych wykresów.\n",
    "***\n",
    "Poniżej przedstawiam kilka inspirujących przykładów wykresów, które można stworzyć na podstawie danych dotyczących Pokémonów. Przy każdym z tych wykresów warto zwrócić uwagę na kilka elementów:\n",
    "\n",
    "- W jaki sposób dane są modyfikowane przed stworzeniem wykresu?\n",
    "- Jaki rodzaj wykresu jest używany i dlaczego taki wybór został dokonany?\n",
    "- Jakie metody i funkcje są używane do stworzenia danego wykresu?\n",
    "- Jakie argumenty przyjmują te metody i funkcje?\n",
    "\n",
    "Jeśli pojawiają się jakieś wątpliwości co do działania danej metody lub argumentu, warto spróbować usunąć go z kodu i zobaczyć, jakie zmiany wpłyną na wykres.\n",
    "\n",
    "Wykresy te powstały na podstawie notebooka dostępnego pod adresem https://www.kaggle.com/code/joaopdrg/discovering-the-best-pok-mon, gdzie znajduje się więcej przykładów."
   ]
  },
  {
   "cell_type": "markdown",
   "metadata": {},
   "source": [
    "#### Przeanalizuj rysowanie wykresu słupkowego z liczbą wystąpień.\n",
    "***\n",
    "Wykres przedstawia liczbę nowych Pokémonów w każdej generacji."
   ]
  },
  {
   "cell_type": "code",
   "execution_count": null,
   "metadata": {},
   "outputs": [],
   "source": [
    "ax = sns.countplot(y=\"Generation\", data=df, orient='h', palette=['indianred', 'indianred', 'indianred', 'indianred', 'darkred', 'indianred', 'indianred'])\n",
    "ax.set_title('New Pokémon by Generation')\n",
    "ax.set_xlabel('')\n",
    "ax.set_ylabel('')\n",
    "ax.set_xticks(ax.get_xticks(), labels='')\n",
    "sns.despine(top=True, bottom=True, left=True, right=True)\n",
    "ax.bar_label(ax.containers[0], fmt='%0.f')\n",
    "plt.show()"
   ]
  },
  {
   "cell_type": "markdown",
   "metadata": {},
   "source": [
    "#### Przeanalizuj rysowanie wykresu słupkowego.\n",
    "***\n",
    "Wykres przedstawia łączną liczbę Pokémonów każdego typu."
   ]
  },
  {
   "cell_type": "code",
   "execution_count": null,
   "metadata": {},
   "outputs": [],
   "source": [
    "type1_value_counts = df['Type1'].value_counts()\n",
    "type2_value_counts = df['Type2'].value_counts()\n",
    "types_df = pd.concat([type1_value_counts, type2_value_counts], axis=1)\n",
    "types_df.sort_values(by='Type2', ascending=True, inplace=True)"
   ]
  },
  {
   "cell_type": "code",
   "execution_count": null,
   "metadata": {},
   "outputs": [],
   "source": [
    "ax = types_df.plot(\n",
    "        kind= 'barh',\n",
    "        stacked= True,\n",
    "        color= ['darkred', 'indianred'],\n",
    "        width= 1\n",
    ")\n",
    "ax.set_title('Pokémon by Primary and Secondary Types')\n",
    "ax.set_xlabel('Count', loc='right')\n",
    "sns.despine(top=True, left=True, right=True)\n",
    "for container in ax.containers:\n",
    "    ax.bar_label(\n",
    "            container,\n",
    "            fmt= '%0.f',\n",
    "            color='white',\n",
    "            label_type= 'center'\n",
    "    )"
   ]
  },
  {
   "cell_type": "markdown",
   "metadata": {},
   "source": [
    "#### Przeanalizuj rysowanie pudełkowego.\n",
    "***\n",
    "Wykres powinien przedstawiać zależność współczynnika łapania Pokémonów dla każdego typu z podziałem na Pokémony legendarne."
   ]
  },
  {
   "cell_type": "code",
   "execution_count": null,
   "metadata": {},
   "outputs": [],
   "source": [
    "ax=sns.boxplot(\n",
    "        df,\n",
    "        x= 'Type1',\n",
    "        y= 'Capture_Rate',\n",
    "        hue= 'Is_Legendary',\n",
    "        palette= ['darkred', 'indianred']\n",
    "    )\n",
    "ax.set_title('Pokémon Capture Rate by Type')\n",
    "plt.ylim(bottom=0)\n",
    "plt.xticks(rotation=90)\n",
    "plt.legend(bbox_to_anchor=(1.05, 1), loc='upper left', borderaxespad=0)\n",
    "sns.despine()"
   ]
  },
  {
   "cell_type": "markdown",
   "metadata": {},
   "source": [
    "#### Przeanalizuj rysowanie wykresu punktowego.\n",
    "***\n",
    "Wykres przedstawia zależność wzrostu od wagi dla każdego Pokémona z podziałem na legendarne."
   ]
  },
  {
   "cell_type": "code",
   "execution_count": null,
   "metadata": {},
   "outputs": [],
   "source": [
    "sns.scatterplot(\n",
    "    df,\n",
    "    x= 'Weight_Kg',\n",
    "    y= 'Height_M',\n",
    "    hue= 'Is_Legendary',\n",
    "    palette= ['darkred', 'indianred']\n",
    ")\n",
    "ax.set_title('Pokémon by Weight and Height')\n",
    "sns.despine()\n",
    "plt.legend(frameon=True, bbox_to_anchor=(1.05, 1), loc='upper left', borderaxespad=0.5)\n",
    "legend_kws={\n",
    "    'borderpad': 0,\n",
    "    'markerscale': 0.5,\n",
    "    'handlelength': 0,\n",
    "},\n",
    "plot_average=False\n",
    "\n",
    "# Label top 5 by weight and height\n",
    "top5_weight_height_merged = pd.concat([\n",
    "    df.nlargest(5, 'Height_M'),\n",
    "    df.nlargest(5, 'Weight_Kg'),\n",
    "]).drop_duplicates(subset=['Name'])\n",
    "for index, row in top5_weight_height_merged.iterrows():\n",
    "    plt.annotate(row['Name'], xy=(row['Weight_Kg']+10, row['Height_M']))"
   ]
  },
  {
   "cell_type": "markdown",
   "metadata": {},
   "source": [
    "#### Przeanalizuj rysowanie mapy ciepła.\n",
    "***\n",
    "Wykres przedstawia efektywność każdego typu Pokémonów."
   ]
  },
  {
   "cell_type": "code",
   "execution_count": null,
   "metadata": {},
   "outputs": [],
   "source": [
    "against_columns = [\n",
    "    'Against_Bug',\n",
    "    'Against_Dark',\n",
    "    'Against_Dragon',\n",
    "    'Against_Electric',\n",
    "    'Against_Fairy',\n",
    "    'Against_Fight',\n",
    "    'Against_Fire',\n",
    "    'Against_Flying',\n",
    "    'Against_Ghost',\n",
    "    'Against_Grass',\n",
    "    'Against_Ground',\n",
    "    'Against_Ice',\n",
    "    'Against_Normal',\n",
    "    'Against_Poison',\n",
    "    'Against_Psychic',\n",
    "    'Against_Rock',\n",
    "    'Against_Steel',\n",
    "    'Against_Water',\n",
    "]\n",
    "\n",
    "pokemon_type_effectiveness = df.groupby(['Type1']).median(numeric_only=True)[against_columns]"
   ]
  },
  {
   "cell_type": "code",
   "execution_count": null,
   "metadata": {},
   "outputs": [],
   "source": [
    "ax = sns.heatmap(\n",
    "    pokemon_type_effectiveness,\n",
    "    annot= True,\n",
    "    cbar= False,\n",
    "    cmap= 'Reds',\n",
    "    fmt= '.1f',\n",
    "    vmin= 0,\n",
    "    vmax= 4\n",
    ")\n",
    "ax.set_title('Effectiveness Type Chart')\n",
    "ax.set_xlabel('')\n",
    "ax.set_ylabel('')\n",
    "ax.xaxis.tick_top()\n",
    "plt.tick_params(top=False)\n",
    "plt.xticks(rotation=90)\n",
    "plt.show()"
   ]
  },
  {
   "cell_type": "markdown",
   "metadata": {},
   "source": [
    "#### Narysuj wykres pudełkowy.\n",
    "***\n",
    "Wykres przedstawia zależność współczynnika łapania Pokémonów dla każdej generacji z podziałem na Pokémony legendarne."
   ]
  },
  {
   "cell_type": "code",
   "execution_count": null,
   "metadata": {},
   "outputs": [],
   "source": [
    "ax=sns.boxplot(\n",
    "        df,\n",
    "        x= 'Generation',\n",
    "        y= 'Capture_Rate',\n",
    "        hue= 'Is_Legendary',\n",
    "        palette= ['darkred', 'indianred']\n",
    "    )\n",
    "ax.set_title('Pokémon Capture Rate by Generation')\n",
    "plt.ylim(bottom=0)\n",
    "plt.legend(bbox_to_anchor=(1.05, 1), loc='upper left', borderaxespad=0)\n",
    "sns.despine()"
   ]
  },
  {
   "cell_type": "markdown",
   "metadata": {},
   "source": [
    "#### Narysuj wykres słupkowy.\n",
    "***\n",
    "Stwórz wykres słupkowy, który przedstawia top 10 Pokémonów z najlepszym łącznym wynikiem bazowych statystyk (`'Base_Total'`)."
   ]
  },
  {
   "cell_type": "code",
   "execution_count": null,
   "metadata": {},
   "outputs": [],
   "source": [
    "top10_pokemon_base_total = df.loc[:, ['Name', 'Base_Total']].sort_values(\n",
    "    by='Base_Total',\n",
    "    ascending=False,\n",
    ")[:10].reset_index()"
   ]
  },
  {
   "cell_type": "code",
   "execution_count": null,
   "metadata": {},
   "outputs": [],
   "source": [
    "ax = sns.barplot(x=\"Base_Total\", y=\"Name\", data=top10_pokemon_base_total, orient='h', color= 'darkred')\n",
    "ax.set_title('Pokémon With Best Base Total')\n",
    "ax.set_xlabel('')\n",
    "ax.set_ylabel('')\n",
    "ax.set_xticks(ax.get_xticks(), labels='')\n",
    "sns.despine(top=True, bottom=True, left=True, right=True)\n",
    "ax.bar_label(ax.containers[0], fmt='%0.f')\n",
    "plt.show()"
   ]
  },
  {
   "cell_type": "markdown",
   "metadata": {},
   "source": [
    "#### Usuń niepotrzebne kolumny.\n",
    "***\n",
    "Zanim przejdziemy do dalszego etapu, gdzie będziemy wizualizować dane za pomocą widgetów, wyrzućmy 20 początkowych kolumn (poza pierwszą kolumną `'Name'`), które nie zawierają ważnych informacji.\n",
    "\n",
    "Dla zainteresowanych te kolumny to:\n",
    "\n",
    "`['Abilities', 'Against_Bug', 'Against_Dark', 'Against_Dragon', 'Against_Electric', 'Against_Fairy', 'Against_Fight', 'Against_Fire', 'Against_Flying', 'Against_Ghost', 'Against_Grass', 'Against_Ground', 'Against_Ice', 'Against_Normal', 'Against_Poison', 'Against_Psychic', 'Against_Rock', 'Against_Steel', 'Against_Water']`"
   ]
  },
  {
   "cell_type": "code",
   "execution_count": null,
   "metadata": {},
   "outputs": [],
   "source": [
    "df = df.drop(df.iloc[:,1:20], axis=1)"
   ]
  },
  {
   "cell_type": "markdown",
   "metadata": {},
   "source": [
    "#### Stwórz Dashboard do wyświetlania i filtrowania DataFrame'a.\n",
    "***\n",
    "Chcemy stworzyć dashboard bardzo podobny do tego, który stworzyliśmy w notebooku `Big_Data_4.ipynb`, ale tym razem na danych dotyczących Pokémonów.\n",
    "\n",
    "Najpierw potrzebujemy dwóch rozwijanych list: `'Generation'` (generacja) oraz `'Type1'` (pierwotny typ).\n",
    "Uważaj na to, czy nazwy kolumn rozpoczynają się z wielkiej, czy małej litery.\n",
    "\n",
    "Potrzebujemy również pola tekstowego do wprowadzania liczb z ograniczeniami, które będzie zmieniać kolorowanie kolumn: `['Attack', 'Defense', 'Sp_Attack', 'Sp_Defense', 'Speed']`.\n",
    "\n",
    "Dodatkowo potrzebujemy wyjścia, które będzie wyświetlać przefiltrowany DataFrame (`output`), oraz wyjścia, które będzie wyświetlać wykres KDE (Kernel Density Estimation) dla kolumny `'Base_Total'` (`plot_output`).\n",
    "\n",
    "Chcemy również stworzyć funkcję do filtrowania danych, która pobiera wartości z trzech widgetów i filtruje dane z DataFrame'a na podstawie wybranych wartości.\n",
    "\n",
    "Następnie dodamy trzy funkcje reagujące na zdarzenia i trzy funkcje obserwujące widgety, które wywołują funkcję `common_filtering` z odpowiednimi argumentami, gdy wartość widgetu zostanie zmieniona.\n",
    "\n",
    "Na koniec połączymy wszystkie widgety i wyjścia w jeden dashboard. W jednej zakładce wyświetlany będzie DataFrame, a w drugiej wykres KDE.\n"
   ]
  },
  {
   "cell_type": "code",
   "execution_count": null,
   "metadata": {},
   "outputs": [],
   "source": [
    "def unique_sorted_values_plus_all(array):\n",
    "    unique = array.unique().tolist()\n",
    "    unique.sort()\n",
    "    unique.insert(0, 'All')\n",
    "    return unique\n",
    "\n",
    "def colour_ge_value(value, comparison):\n",
    "    if value >= comparison:\n",
    "        return 'color: red'\n",
    "    else:\n",
    "        return 'color: black'\n",
    "\n",
    "item_layout = widgets.Layout(margin='0 0 50px 0')\n",
    "\n",
    "dropdown_generation = widgets.Dropdown(options = unique_sorted_values_plus_all(df['Generation']))\n",
    "dropdown_type1 = widgets.Dropdown(options = unique_sorted_values_plus_all(df['Type1']))\n",
    "bounded_num = widgets.BoundedFloatText(min=0, max=200, value=100, step=5)\n",
    "input_widgets = widgets.HBox([dropdown_generation, dropdown_type1, bounded_num], layout=item_layout)\n",
    "\n",
    "\n",
    "\n",
    "output = widgets.Output()\n",
    "plot_output = widgets.Output()\n",
    "\n",
    "def common_filtering(generation, type1, num):\n",
    "    output.clear_output()\n",
    "    plot_output.clear_output()\n",
    "\n",
    "    if generation == 'All': generation = df['Generation'].unique().tolist()\n",
    "    if type1 == 'All': type1 = df['Type1'].unique().tolist()\n",
    "\n",
    "    common_filter = df.query('Generation == @generation and Type1 == @type1')\n",
    "\n",
    "    with output:\n",
    "        display(common_filter.style.applymap(\n",
    "                    lambda x: colour_ge_value(x, num),\n",
    "                    subset=['Attack', 'Defense', 'Sp_Attack', 'Sp_Defense', 'Speed']))\n",
    "\n",
    "    with plot_output:\n",
    "        sns.kdeplot(common_filter['Base_Total'], fill=True)\n",
    "        plt.show()\n",
    "\n",
    "def dropdown_generation_eventhandler(change):\n",
    "    common_filtering(change.new, dropdown_type1.value, bounded_num.value)\n",
    "\n",
    "def dropdown_type1_eventhandler(change):\n",
    "    common_filtering(dropdown_generation.value, change.new, bounded_num.value)\n",
    "\n",
    "def bounded_num_eventhandler(change):\n",
    "    common_filtering(dropdown_generation.value, dropdown_type1.value, change.new)\n",
    "\n",
    "dropdown_generation.observe(\n",
    "dropdown_generation_eventhandler, names='value')\n",
    "dropdown_type1.observe(\n",
    "dropdown_type1_eventhandler, names='value')\n",
    "bounded_num.observe(\n",
    "bounded_num_eventhandler, names='value')\n",
    "\n",
    "tab = widgets.Tab([output, plot_output], layout=item_layout)\n",
    "tab.set_title(0, 'Dataset Exploration')\n",
    "tab.set_title(1, 'KDE Plot')\n",
    "\n",
    "dashboard = widgets.VBox([input_widgets, tab])\n",
    "display(dashboard)"
   ]
  },
  {
   "cell_type": "markdown",
   "metadata": {},
   "source": [
    "#### Stwórz Dashboard do rysowania i zmieniania wykresów.\n",
    "***\n",
    "Naszym drugim zadaniem jest opracowanie Dashboardu, który umożliwi nam tworzenie wykresów na podstawie dostępnych danych oraz zapewni możliwość modyfikowania właściwości wykresów. W naszym Dashboardzie chcemy uwzględnić następujące elementy (widgetów):\n",
    "\n",
    "- Wywoływanie funkcji rysującej\n",
    "    - Przycisk - służy do wywołania funkcji rysującej wykres.\n",
    "\n",
    "- Wybór danych na obu osiach (tylko dane numeryczne!)\n",
    "    - Rozwijana lista - służy do wyboru kolumny zawierającej dane dla osi X na wykresie.\n",
    "\n",
    "    - Rozwijana lista - służy do wyboru kolumny zawierającej dane dla osi Y na wykresie.\n",
    "\n",
    "- Nadawanie tytułu i nazw osi\n",
    "    - Pole tekstowe - służy do wprowadzenia tytułu wykresu.\n",
    "\n",
    "    - Pole tekstowe - służy do wprowadzenia nazwy osi X.\n",
    "\n",
    "    - Pole tekstowe - służy do wprowadzenia nazwy osi Y.\n",
    "\n",
    "- Usuwanie obramowania (`despine`)\n",
    "    - Zestaw czterech pól wyboru - służą do wyboru, które obramowania wykresu mają być usunięte (opcje to \"Top\", \"Bottom\", \"Left\" i \"Right\").\n",
    "\n",
    "\n",
    "-  Ustalanie zakresu danych na osiach\n",
    "    - Suwak - służy do ustawienia zakresu osi X na wykresie w procentach.\n",
    "\n",
    "    - Suwak - służy do ustawienia zakresu osi Y na wykresie w procentach.\n",
    "\n",
    "    - Pole wyboru - służy do wyboru, czy ustawić zakres osi X od 0.\n",
    "\n",
    "    - Pole wyboru - służy do wyboru, czy ustawić zakres osi Y od 0.\n",
    "\n",
    "-  Stylowanie\n",
    "    - Pole wyboru - służy do obrotu etykiet osi x.\n",
    "\n",
    "    - `ColorPicker` - służy do wyboru koloru wykresu.\n",
    "\n",
    "    - Przycisk - służy do włączania i wyłączania siatki na wykresie.\n",
    "\n",
    "    - Przyciski przełączające (`ToggleButtons`) - służą do zmiany stylu wykresu. Opcje to 'white', 'dark', 'whitegrid', 'darkgrid', 'ticks'."
   ]
  },
  {
   "cell_type": "code",
   "execution_count": null,
   "metadata": {},
   "outputs": [],
   "source": [
    "button = widgets.Button(\n",
    "    description='Plot',\n",
    ")\n",
    "\n",
    "x_dropdown = widgets.Dropdown(options = df.select_dtypes(include=np.number).columns.tolist())\n",
    "\n",
    "x_title = widgets.HTML('<h5>Choose Data for X:</h5>')\n",
    "\n",
    "y_dropdown = widgets.Dropdown(options = df.select_dtypes(include=np.number).columns.tolist())\n",
    "\n",
    "y_title = widgets.HTML('<h5>Choose Data for Y:</h5>')\n",
    "\n",
    "title_textbox = widgets.Text(\n",
    "    placeholder='Wpisz tytuł wykresu...',\n",
    "    description='Title:',\n",
    "    indent=False\n",
    ")\n",
    "\n",
    "x_textbox = widgets.Text(\n",
    "    placeholder='Wpisz tytuł osi x...',\n",
    "    description='X Axis Title:',\n",
    "    indent=False\n",
    ")\n",
    "\n",
    "y_textbox = widgets.Text(\n",
    "    placeholder='Wpisz tytuł osi y...',\n",
    "    description='Y Axis Title:',\n",
    "    indent=False\n",
    ")\n",
    "\n",
    "despine_title = [widgets.HTML('<h5>Despine:</h5>')]\n",
    "\n",
    "despine_types = [\"Top\", \"Bottom\", \"Left\", \"Right\"]\n",
    "\n",
    "despine_layout = widgets.Layout(margin='0px 0px')\n",
    "\n",
    "despine_checkboxes = [widgets.Checkbox(value=False, description=label, layout=despine_layout, indent=False) for label in despine_types]\n",
    "\n",
    "despine_VBox = widgets.VBox(children=despine_title+despine_checkboxes)\n",
    "\n",
    "xlim_slider = widgets.FloatRangeSlider(\n",
    "    value=[0, 100],\n",
    "    min=0,\n",
    "    max=100,\n",
    "    step=1,\n",
    "    description='Xlim %:',\n",
    "    disabled=False,\n",
    "    continuous_update=False,\n",
    "    orientation='horizontal',\n",
    "    readout=True,\n",
    "    readout_format='.0f',\n",
    ")\n",
    "\n",
    "ylim_slider = widgets.FloatRangeSlider(\n",
    "    value=[0, 100],\n",
    "    min=0,\n",
    "    max=100,\n",
    "    step=1,\n",
    "    description='Ylim %:',\n",
    "    disabled=False,\n",
    "    continuous_update=False,\n",
    "    orientation='horizontal',\n",
    "    readout=True,\n",
    "    readout_format='.0f',\n",
    ")\n",
    "\n",
    "xlim_checkbox = widgets.Checkbox(\n",
    "    value=False,\n",
    "    description=\"Xlim from 0\",\n",
    "    indent=False\n",
    ")\n",
    "\n",
    "ylim_checkbox = widgets.Checkbox(\n",
    "    value=False,\n",
    "    description=\"Ylim from 0\",\n",
    "    indent=False\n",
    ")\n",
    "\n",
    "rotation_checkbox = widgets.Checkbox(\n",
    "    value=False,\n",
    "    description=\"Rotate X Ticks\",\n",
    "    indent=False\n",
    ")\n",
    "\n",
    "plot_color_picker = widgets.ColorPicker(\n",
    "    concise=True,\n",
    "    description='Plot color:',\n",
    "    value='#91C9FE',\n",
    ")\n",
    "\n",
    "grid_button = widgets.ToggleButton(\n",
    "    value=False,\n",
    "    description='Grid',\n",
    "    icon='check'\n",
    ")\n",
    "\n",
    "style_buttons = widgets.ToggleButtons(\n",
    "    options=['white', 'dark', 'whitegrid', 'darkgrid', 'ticks'],\n",
    "    description='Theme:',\n",
    ")\n",
    "\n",
    "output_pokemon = widgets.Output()"
   ]
  },
  {
   "cell_type": "markdown",
   "metadata": {},
   "source": [
    "Teraz musimy napisać funkcję, która będzie wywoływana przy naciśnięciu przycisku i będzie rysować nasz wykres.\n",
    "\n",
    "W dużym uproszczeniu funkcja powinna sprawdzać wartości poszczególnych widgetów i w zależności od ich wartości modyfikować sposób rysowania funkcji.\n",
    "\n",
    "Co do rodzaju rysowanego wykresu, pozostawiam dowolność, aczkolwiek na początek polecam `regplot` albo `scatterplot`, ponieważ nie powinno być z nimi problemu, jeśli chodzi o rodzaj danych. Potem oczywiście można bardzo łatwo zmienić rodzaj wykresu albo dodać możliwość wyboru rodzaju wykresu.\n",
    "\n",
    "Podpowiedź\n",
    "Przyda się napisanie funkcji pomocniczej, która pobiera wartości pól wyboru, które obramowania wykresu mają być usunięte (`despine`). Funkcja powinna zwracać słownik, który wygląda mniej więcej tak:\n",
    "\n",
    "`słownik = {\"top\":True, \"bottom\":False, \"left\":False, \"right\":True}`\n",
    "\n",
    "Dzięki takiemu słownikowi można łatwo wywołać funkcję, która usuwa obramowanie:\n",
    "\n",
    "`sns.despine(**słownik)`"
   ]
  },
  {
   "cell_type": "code",
   "execution_count": null,
   "metadata": {},
   "outputs": [],
   "source": [
    "def check_despine(despine_checkboxes):\n",
    "    despine_dict = {\"top\":False, \"bottom\":False, \"left\":False, \"right\":False}\n",
    "    for checkbox in despine_checkboxes:\n",
    "        if checkbox.value:\n",
    "            despine_dict[checkbox.description.lower()] = True\n",
    "    return despine_dict"
   ]
  },
  {
   "cell_type": "code",
   "execution_count": null,
   "metadata": {},
   "outputs": [],
   "source": [
    "def plot(change=None):\n",
    "    output_pokemon.clear_output()\n",
    "    despine_dict = check_despine(despine_checkboxes)\n",
    "    x_data = x_dropdown.value\n",
    "    y_data = y_dropdown.value\n",
    "    title = title_textbox.value\n",
    "    xlabel = x_textbox.value\n",
    "    ylabel = y_textbox.value\n",
    "    rotation = rotation_checkbox.value\n",
    "    plot_color = plot_color_picker.value\n",
    "    style = style_buttons.value\n",
    "    grid = grid_button.value\n",
    "    set_0_xlim = xlim_checkbox.value\n",
    "    set_0_ylim = ylim_checkbox.value\n",
    "    x_range = (df[x_data].max() - df[x_data].min())\n",
    "    y_range = (df[y_data].max() - df[y_data].min())\n",
    "    xlim = (df[x_data].min()+x_range*(xlim_slider.value[0]/100), df[x_data].min()+x_range*(xlim_slider.value[1]/100))\n",
    "    ylim = (df[y_data].min()+y_range*(ylim_slider.value[0]/100), df[y_data].min()+y_range*(ylim_slider.value[1]/100))\n",
    "    with output_pokemon:\n",
    "        sns.set(style=style)\n",
    "        ax = sns.regplot(x=x_data, y=y_data, data=df, color=plot_color)\n",
    "        ax.set_title(title)\n",
    "        ax.set_xlabel(xlabel)\n",
    "        ax.set_ylabel(ylabel)\n",
    "        if rotation:\n",
    "            plt.xticks(rotation=90)\n",
    "        if set_0_xlim:\n",
    "            ax.set_xlim(0,)\n",
    "        else:\n",
    "            ax.set_xlim(xlim)\n",
    "        if set_0_ylim:\n",
    "            ax.set_ylim(0,)\n",
    "        else:\n",
    "            ax.set_ylim(ylim)\n",
    "        ax.grid(grid)\n",
    "        sns.despine(**despine_dict)\n",
    "        plt.show()"
   ]
  },
  {
   "cell_type": "code",
   "execution_count": null,
   "metadata": {},
   "outputs": [],
   "source": [
    "button.on_click(plot)"
   ]
  },
  {
   "cell_type": "markdown",
   "metadata": {},
   "source": [
    "Na końcu naszym celem jest połączenie trzech elementów w jeden spójny Dashboard.\n",
    "\n",
    "Pierwszy element to zestaw widgetów, które pozwolą nam na modyfikowanie właściwości wykresów. Planujemy podzielić je na dwie grupy i umieścić w oddzielnych zakładkach - Plot oraz Styling.\n",
    "\n",
    "Drugi element to przycisk, który po kliknięciu wywoła generowanie wykresu.\n",
    "\n",
    "Trzeci element to wyjście (Output), gdzie będzie wyświetlany nasz wygenerowany wykres."
   ]
  },
  {
   "cell_type": "code",
   "execution_count": null,
   "metadata": {},
   "outputs": [],
   "source": [
    "tab1_pokemon = widgets.VBox(children=[title_textbox,\n",
    "                              x_title,\n",
    "                              x_dropdown,\n",
    "                              widgets.HBox(children=[xlim_checkbox, xlim_slider]),\n",
    "                              x_textbox,\n",
    "                              rotation_checkbox,\n",
    "                              y_title,\n",
    "                              y_dropdown,\n",
    "                              widgets.HBox(children=[ylim_checkbox, ylim_slider]),\n",
    "                              y_textbox,\n",
    "                              ])\n",
    "tab2_pokemon = widgets.VBox(children=[style_buttons,\n",
    "                              despine_VBox,\n",
    "                              grid_button,\n",
    "                              plot_color_picker,\n",
    "                              ])\n",
    "tab_pokemon = widgets.Tab(children=[tab1_pokemon, tab2_pokemon])\n",
    "tab_pokemon.set_title(0, 'Plot')\n",
    "tab_pokemon.set_title(1, 'Styling')\n",
    "dashboard_pokemon = widgets.VBox(children=[tab_pokemon, button, output_pokemon])\n",
    "display(dashboard_pokemon)"
   ]
  }
 ],
 "metadata": {
  "kernelspec": {
   "display_name": "Python 3 (ipykernel)",
   "language": "python",
   "name": "python3"
  },
  "language_info": {
   "codemirror_mode": {
    "name": "ipython",
    "version": 3
   },
   "file_extension": ".py",
   "mimetype": "text/x-python",
   "name": "python",
   "nbconvert_exporter": "python",
   "pygments_lexer": "ipython3",
   "version": "3.9.5"
  }
 },
 "nbformat": 4,
 "nbformat_minor": 1
}
