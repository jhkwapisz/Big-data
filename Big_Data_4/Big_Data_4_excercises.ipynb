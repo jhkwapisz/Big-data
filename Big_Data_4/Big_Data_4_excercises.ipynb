{
 "cells": [
  {
   "cell_type": "markdown",
   "metadata": {},
   "source": [
    "# Big Data w biznesie"
   ]
  },
  {
   "cell_type": "markdown",
   "metadata": {},
   "source": [
    "## Czwarty notebook rozwiązania"
   ]
  },
  {
   "cell_type": "code",
   "execution_count": null,
   "metadata": {},
   "outputs": [],
   "source": [
    "from IPython.core.display import HTML\n",
    "\n",
    "\n",
    "def _set_css_style(css_file_path):\n",
    "    \"\"\"\n",
    "    Read the custom CSS file and load it into Jupyter.\n",
    "    Pass the file path to the CSS file.\n",
    "    \"\"\"\n",
    "\n",
    "    styles = open(css_file_path, \"r\").read()\n",
    "    s = '<style>%s</style>' % styles\n",
    "    return HTML(s)\n",
    "\n",
    "\n",
    "_set_css_style(\"../custom.css\")"
   ]
  },
  {
   "cell_type": "markdown",
   "metadata": {},
   "source": [
    "#### Zaimportuj biblioteki numpy, pandas, matplotlib i seaborn."
   ]
  },
  {
   "cell_type": "code",
   "execution_count": null,
   "metadata": {},
   "outputs": [],
   "source": [
    "import numpy as np\n",
    "import pandas as pd\n",
    "import matplotlib.pyplot as plt\n",
    "%matplotlib inline\n",
    "import seaborn as sns\n",
    "import ipywidgets as widgets\n",
    "from IPython.display import display"
   ]
  },
  {
   "cell_type": "markdown",
   "metadata": {},
   "source": [
    "#### Załaduj plik csv.\n",
    "***\n",
    "Do zmiennej `df` załaduj plik `pokemon.csv`."
   ]
  },
  {
   "cell_type": "code",
   "execution_count": null,
   "metadata": {},
   "outputs": [],
   "source": [
    "df = pd.read_csv('./pokemon.csv')"
   ]
  },
  {
   "cell_type": "markdown",
   "metadata": {},
   "source": [
    "Ten zbiór danych zawiera informacje na temat 801 Pokémonów z pierwszych siedmiu generacji. Obejmuje on podstawowe statystyki, osiągi przeciwko innym typom, wzrost, wagę, klasyfikacje punkty doświadczenia, zdolności itp. Informacje zostały pobrane z serwisu serebii (www.serebii.net) i mają następujące cechy:\n",
    "\n",
    "- abilities: ciąg znaków zawierający listę zdolności, które Pokémon może posiadać.\n",
    "- against_?: osiemnaście cech, które określają ilość otrzymywanych obrażeń od ataku określonego typu Pokémona.\n",
    "- attack: podstawowy atak Pokémona.\n",
    "- base_egg_steps: liczba kroków wymagana do wyklucia się jaja Pokémona.\n",
    "- base_happiness: podstawowe szczęście Pokémona.\n",
    "- base_total: suma hp, ataku, obrony, specjalnego ataku, specjalnej obrony i prędkości.\n",
    "- capture_rate: współczynnik łapania Pokémona.\n",
    "- classification: klasyfikacja Pokémona, opisana przez Pokédex Sun and Moon.\n",
    "- defense: podstawowa obrona Pokémona.\n",
    "- experience_growth: wzrost doświadczenia Pokémona.\n",
    "- height_m: wysokość Pokémona w metrach.\n",
    "- hp: podstawowe HP Pokémon. Jest to skrót od Hit Point, który określa, ile obrażeń Pokémon może otrzymać przed omdleniem.\n",
    "- japanese_name: oryginalna japońska nazwa Pokémona.\n",
    "- name: angielska nazwa Pokémona.\n",
    "- percentage_male: procent osobników płci męskiej w gatunku. Puste, jeśli Pokémon jest bezpłciowy.\n",
    "- pokedex_number: numer wpisu Pokémona w Krajowym Pokédexie.\n",
    "- sp_attack: podstawowy specjalny atak Pokémona.\n",
    "- sp_defense: podstawowa specjalna obrona Pokémona.\n",
    "- speed: podstawowa prędkość Pokémona.\n",
    "- type1: podstawowy typ Pokémona.\n",
    "- type2: drugi typ Pokémona.\n",
    "- weight_kg: waga Pokémona w kilogramach.\n",
    "- generation: numerowana generacja, w której wprowadzono Pokémona.\n",
    "- is_legendary: oznacza, czy Pokémon jest legendarny."
   ]
  },
  {
   "cell_type": "code",
   "execution_count": null,
   "metadata": {},
   "outputs": [],
   "source": [
    "df.describe().T"
   ]
  },
  {
   "cell_type": "markdown",
   "metadata": {},
   "source": []
  },
  {
   "cell_type": "markdown",
   "metadata": {},
   "source": [
    "#### Przygotuj dane.\n",
    "***\n",
    "Wykonamy tu następujące czynności:\n",
    "- wyrzucimy nieinteresujące na kolumny\n",
    "- zmienimy nazwy kolumny na zaczynające się wielką literą\n",
    "- wstawimy kolumnę z nazwą Pokémonów na początek\n",
    "- zmienimy wartości w kolumnie `'Is_Legendary'` na napisy\n",
    "- zmienimy nazwy typów Pokémonów na zaczynające się wielką literą\n",
    "- zmienimy dane w kolumnie `'Capture_Rate'` na liczbowe"
   ]
  },
  {
   "cell_type": "code",
   "execution_count": null,
   "metadata": {},
   "outputs": [],
   "source": [
    "df = df.drop(\n",
    "    ['japanese_name', 'pokedex_number', 'base_egg_steps', 'classfication', 'percentage_male'],\n",
    "    axis=1\n",
    ")\n",
    "\n",
    "df = df.rename(str.title, axis='columns')\n",
    "\n",
    "df = df.reindex(['Name'] + [col for col in df.columns if col != 'Name'], axis=1)\n",
    "\n",
    "df = df.replace(\n",
    "    {\n",
    "        'Is_Legendary': {\n",
    "            0: \"Non-legendary\",\n",
    "            1: \"Legendary\",\n",
    "        },\n",
    "    },\n",
    ")\n",
    "\n",
    "types = [t for t in list(df['Type1'].unique())]\n",
    "df['Type1'] = df['Type1'].replace(types, [t.title() for t in types])\n",
    "df['Type2'] = df['Type2'].replace(types, [t.title() for t in types])\n",
    "\n",
    "\n",
    "df['Capture_Rate'] = df['Capture_Rate'].replace({'30 (Meteorite)255 (Core)': np.nan})\n",
    "df['Capture_Rate'] = pd.to_numeric(df['Capture_Rate'])"
   ]
  },
  {
   "cell_type": "markdown",
   "metadata": {},
   "source": [
    "#### Dodaj parametry do Seaborna.\n",
    "***\n",
    "Dodanie parametrów rysowania w Seabornie pozwala na dostosowanie wyglądu wykresów do naszych preferencji i wymagań.\n",
    "Ustawienie tych wartości przed utworzeniem wykresów pozwala na utrzymanie spójnego wyglądu między różnymi wykresami."
   ]
  },
  {
   "cell_type": "code",
   "execution_count": null,
   "metadata": {},
   "outputs": [],
   "source": [
    "SEABORN_RC_PARAMS = {\n",
    "    'font.size': 6,\n",
    "    'xtick.color': 'gray',\n",
    "    'xtick.labelsize': 6,\n",
    "    'ytick.color': 'gray',\n",
    "    'ytick.labelsize': 6,\n",
    "    'text.color': 'gray',\n",
    "    'legend.fontsize': 6,\n",
    "    'legend.loc': 'upper left',\n",
    "    'legend.frameon': False,\n",
    "    'xaxis.labellocation': 'left',\n",
    "    'yaxis.labellocation': 'top',\n",
    "    'axes.edgecolor': 'gray',\n",
    "    'axes.labelcolor': 'gray',\n",
    "    'axes.titlelocation': 'left',\n",
    "    'axes.labelsize': 6,\n",
    "    'axes.titlesize': 12,\n",
    "    'axes.titlepad': 20,\n",
    "    'figure.figsize': (6, 3),\n",
    "    'figure.dpi': 200,\n",
    "    'figure.titlesize': 12,\n",
    "}\n",
    "SEABORN_STYLE = 'white'\n",
    "sns.set(rc=SEABORN_RC_PARAMS, style=SEABORN_STYLE)"
   ]
  },
  {
   "cell_type": "markdown",
   "metadata": {},
   "source": [
    "### Rysowanie ładnych wykresów.\n",
    "***\n",
    "Poniżej przedstawiam kilka inspirujących przykładów wykresów, które można stworzyć na podstawie danych dotyczących Pokémonów. Przy każdym z tych wykresów warto zwrócić uwagę na kilka elementów:\n",
    "\n",
    "- W jaki sposób dane są modyfikowane przed stworzeniem wykresu?\n",
    "- Jaki rodzaj wykresu jest używany i dlaczego taki wybór został dokonany?\n",
    "- Jakie metody i funkcje są używane do stworzenia danego wykresu?\n",
    "- Jakie argumenty przyjmują te metody i funkcje?\n",
    "\n",
    "Jeśli pojawiają się jakieś wątpliwości co do działania danej metody lub argumentu, warto spróbować usunąć go z kodu i zobaczyć, jakie zmiany wpłyną na wykres.\n",
    "\n",
    "Wykresy te powstały na podstawie notebooka dostępnego pod adresem https://www.kaggle.com/code/joaopdrg/discovering-the-best-pok-mon, gdzie znajduje się więcej przykładów."
   ]
  },
  {
   "cell_type": "markdown",
   "metadata": {},
   "source": [
    "#### Przeanalizuj rysowanie wykresu słupkowego z liczbą wystąpień.\n",
    "***\n",
    "Wykres przedstawia liczbę nowych Pokémonów w każdej generacji."
   ]
  },
  {
   "cell_type": "code",
   "execution_count": null,
   "metadata": {},
   "outputs": [],
   "source": [
    "ax = sns.countplot(y=\"Generation\", data=df, orient='h', palette=['indianred', 'indianred', 'indianred', 'indianred', 'darkred', 'indianred', 'indianred'])\n",
    "ax.set_title('New Pokémon by Generation')\n",
    "ax.set_xlabel('')\n",
    "ax.set_ylabel('')\n",
    "ax.set_xticks(ax.get_xticks(), labels='')\n",
    "sns.despine(top=True, bottom=True, left=True, right=True)\n",
    "ax.bar_label(ax.containers[0], fmt='%0.f')\n",
    "plt.show()"
   ]
  },
  {
   "cell_type": "markdown",
   "metadata": {},
   "source": [
    "#### Przeanalizuj rysowanie wykresu słupkowego.\n",
    "***\n",
    "Wykres przedstawia łączną liczbę Pokémonów każdego typu."
   ]
  },
  {
   "cell_type": "code",
   "execution_count": null,
   "metadata": {},
   "outputs": [],
   "source": [
    "type1_value_counts = df['Type1'].value_counts()\n",
    "type2_value_counts = df['Type2'].value_counts()\n",
    "types_df = pd.concat([type1_value_counts, type2_value_counts], axis=1)\n",
    "types_df.sort_values(by='Type2', ascending=True, inplace=True)"
   ]
  },
  {
   "cell_type": "code",
   "execution_count": null,
   "metadata": {},
   "outputs": [],
   "source": [
    "ax = types_df.plot(\n",
    "        kind= 'barh',\n",
    "        stacked= True,\n",
    "        color= ['darkred', 'indianred'],\n",
    "        width= 1\n",
    ")\n",
    "ax.set_title('Pokémon by Primary and Secondary Types')\n",
    "ax.set_xlabel('Count', loc='right')\n",
    "sns.despine(top=True, left=True, right=True)\n",
    "for container in ax.containers:\n",
    "    ax.bar_label(\n",
    "            container,\n",
    "            fmt= '%0.f',\n",
    "            color='white',\n",
    "            label_type= 'center'\n",
    "    )"
   ]
  },
  {
   "cell_type": "markdown",
   "metadata": {},
   "source": [
    "#### Przeanalizuj rysowanie pudełkowego.\n",
    "***\n",
    "Wykres przedstawia zależność współczynnika łapania Pokémonów dla każdej generacji z podziałem na Pokémony legendarne."
   ]
  },
  {
   "cell_type": "code",
   "execution_count": null,
   "metadata": {},
   "outputs": [],
   "source": [
    "ax=sns.boxplot(\n",
    "        df,\n",
    "        x= 'Type1',\n",
    "        y= 'Capture_Rate',\n",
    "        hue= 'Is_Legendary',\n",
    "        palette= ['darkred', 'indianred']\n",
    "    )\n",
    "ax.set_title('Pokémon Capture Rate by Generation')\n",
    "plt.ylim(bottom=0)\n",
    "plt.xticks(rotation=90)\n",
    "plt.legend(bbox_to_anchor=(1.05, 1), loc='upper left', borderaxespad=0)\n",
    "sns.despine()"
   ]
  },
  {
   "cell_type": "markdown",
   "metadata": {},
   "source": [
    "#### Przeanalizuj rysowanie wykresu punktowego.\n",
    "***\n",
    "Wykres przedstawia zależność wzrostu od wagi dla każdego Pokémona z podziałem na legendarne."
   ]
  },
  {
   "cell_type": "code",
   "execution_count": null,
   "metadata": {},
   "outputs": [],
   "source": [
    "sns.scatterplot(\n",
    "    df,\n",
    "    x= 'Weight_Kg',\n",
    "    y= 'Height_M',\n",
    "    hue= 'Is_Legendary',\n",
    "    palette= ['darkred', 'indianred']\n",
    ")\n",
    "ax.set_title('Pokémon by Weight and Height')\n",
    "sns.despine()\n",
    "plt.legend(frameon=True, bbox_to_anchor=(1.05, 1), loc='upper left', borderaxespad=0.5)\n",
    "legend_kws={\n",
    "    'borderpad': 0,\n",
    "    'markerscale': 0.5,\n",
    "    'handlelength': 0,\n",
    "},\n",
    "plot_average=False\n",
    "\n",
    "# Label top 5 by weight and height\n",
    "top5_weight_height_merged = pd.concat([\n",
    "    df.nlargest(5, 'Height_M'),\n",
    "    df.nlargest(5, 'Weight_Kg'),\n",
    "]).drop_duplicates(subset=['Name'])\n",
    "for index, row in top5_weight_height_merged.iterrows():\n",
    "    plt.annotate(row['Name'], xy=(row['Weight_Kg']+10, row['Height_M']))"
   ]
  },
  {
   "cell_type": "markdown",
   "metadata": {},
   "source": [
    "#### Przeanalizuj rysowanie mapy ciepła.\n",
    "***\n",
    "Wykres przedstawia efektywność każdego typu Pokémonów."
   ]
  },
  {
   "cell_type": "code",
   "execution_count": null,
   "metadata": {},
   "outputs": [],
   "source": [
    "against_columns = [\n",
    "    'Against_Bug',\n",
    "    'Against_Dark',\n",
    "    'Against_Dragon',\n",
    "    'Against_Electric',\n",
    "    'Against_Fairy',\n",
    "    'Against_Fight',\n",
    "    'Against_Fire',\n",
    "    'Against_Flying',\n",
    "    'Against_Ghost',\n",
    "    'Against_Grass',\n",
    "    'Against_Ground',\n",
    "    'Against_Ice',\n",
    "    'Against_Normal',\n",
    "    'Against_Poison',\n",
    "    'Against_Psychic',\n",
    "    'Against_Rock',\n",
    "    'Against_Steel',\n",
    "    'Against_Water',\n",
    "]\n",
    "\n",
    "pokemon_type_effectiveness = df.groupby(['Type1']).median(numeric_only=True)[against_columns]"
   ]
  },
  {
   "cell_type": "code",
   "execution_count": null,
   "metadata": {},
   "outputs": [],
   "source": [
    "ax = sns.heatmap(\n",
    "    pokemon_type_effectiveness,\n",
    "    annot= True,\n",
    "    cbar= False,\n",
    "    cmap= 'Reds',\n",
    "    fmt= '.1f',\n",
    "    vmin= 0,\n",
    "    vmax= 4\n",
    ")\n",
    "ax.set_title('Effectiveness Type Chart')\n",
    "ax.set_xlabel('')\n",
    "ax.set_ylabel('')\n",
    "ax.xaxis.tick_top()\n",
    "plt.tick_params(top=False)\n",
    "plt.xticks(rotation=90)\n",
    "plt.show()"
   ]
  },
  {
   "cell_type": "markdown",
   "metadata": {},
   "source": [
    "#### Narysuj wykres pudełkowy.\n",
    "***\n",
    "Wykres powinien przedstawiać zależność współczynnika łapania Pokémonów dla każdego typu z podziałem na Pokémony legendarne."
   ]
  },
  {
   "cell_type": "code",
   "execution_count": null,
   "metadata": {},
   "outputs": [],
   "source": []
  },
  {
   "cell_type": "markdown",
   "metadata": {},
   "source": [
    "#### Narysuj wykres słupkowy.\n",
    "***\n",
    "Stwórz wykres słupkowy, który przedstawia top 10 Pokémonów z najlepszym łącznym wynikiem bazowych statystyk (`'Base_Total'`)."
   ]
  },
  {
   "cell_type": "code",
   "execution_count": null,
   "metadata": {},
   "outputs": [],
   "source": [
    "top10_pokemon_base_total = df.loc[:, ['Name', 'Base_Total']].sort_values(\n",
    "    by='Base_Total',\n",
    "    ascending=False,\n",
    ")[:10].reset_index()"
   ]
  },
  {
   "cell_type": "code",
   "execution_count": null,
   "metadata": {},
   "outputs": [],
   "source": []
  },
  {
   "cell_type": "markdown",
   "metadata": {},
   "source": [
    "#### Usuń niepotrzebne kolumny.\n",
    "***\n",
    "Zanim przejdziemy do dalszego etapu, gdzie będziemy wizualizować dane za pomocą widgetów, wyrzućmy 20 początkowych kolumn (poza pierwszą kolumną `'Name'`), które nie zawierają ważnych informacji.\n",
    "\n",
    "Dla zainteresowanych te kolumny to:\n",
    "\n",
    "`['Abilities', 'Against_Bug', 'Against_Dark', 'Against_Dragon', 'Against_Electric', 'Against_Fairy', 'Against_Fight', 'Against_Fire', 'Against_Flying', 'Against_Ghost', 'Against_Grass', 'Against_Ground', 'Against_Ice', 'Against_Normal', 'Against_Poison', 'Against_Psychic', 'Against_Rock', 'Against_Steel', 'Against_Water']`"
   ]
  },
  {
   "cell_type": "code",
   "execution_count": null,
   "metadata": {},
   "outputs": [],
   "source": [
    "df = df.drop(df.iloc[:,1:20], axis=1)"
   ]
  },
  {
   "cell_type": "markdown",
   "metadata": {},
   "source": [
    "#### Stwórz Dashboard do wyświetlania i filtrowania DataFrame'a.\n",
    "***\n",
    "Chcemy stworzyć dashboard bardzo podobny do tego, który stworzyliśmy w notebooku `Big_Data_4.ipynb`, ale tym razem na danych dotyczących Pokémonów.\n",
    "\n",
    "Najpierw potrzebujemy dwóch rozwijanych list: `'Generation'` (generacja) oraz `'Type1'` (pierwotny typ).\n",
    "\n",
    "Potrzebujemy również pola tekstowego do wprowadzania liczb z ograniczeniami, które będzie zmieniać kolorowanie kolumn: `['Attack', 'Defense', 'Sp_Attack', 'Sp_Defense', 'Speed']`.\n",
    "\n",
    "Dodatkowo potrzebujemy wyjścia, które będzie wyświetlać przefiltrowany DataFrame (`output`), oraz wyjścia, które będzie wyświetlać wykres KDE (Kernel Density Estimation) dla kolumny `'Base_Total'` (`plot_output`).\n",
    "\n",
    "Chcemy również stworzyć funkcję do filtrowania danych, która pobiera wartości z trzech widgetów i filtruje dane z DataFrame'a na podstawie wybranych wartości.\n",
    "\n",
    "Następnie dodamy trzy funkcje reagujące na zdarzenia i trzy funkcje obserwujące widgety, które wywołują funkcję `common_filtering` z odpowiednimi argumentami, gdy wartość widgetu zostanie zmieniona.\n",
    "\n",
    "Na koniec połączymy wszystkie widgety i wyjścia w jeden dashboard. W jednej zakładce wyświetlany będzie DataFrame, a w drugiej wykres KDE.\n"
   ]
  },
  {
   "cell_type": "code",
   "execution_count": null,
   "metadata": {},
   "outputs": [],
   "source": []
  },
  {
   "cell_type": "markdown",
   "metadata": {},
   "source": [
    "#### Stwórz Dashboard do rysowania i zmieniania wykresów.\n",
    "***\n",
    "Naszym drugim zadaniem jest opracowanie Dashboardu, który umożliwi nam tworzenie wykresów na podstawie dostępnych danych oraz zapewni możliwość modyfikowania właściwości wykresów. W naszym Dashboardzie chcemy uwzględnić następujące elementy (widgetów):\n",
    "\n",
    "- Wywoływanie funkcji rysującej\n",
    "    - Przycisk - służy do wywołania funkcji rysującej wykres.\n",
    "\n",
    "- Wybór danych na obu osiach (tylko dane numeryczne!)\n",
    "    - Rozwijana lista - służy do wyboru kolumny zawierającej dane dla osi X na wykresie.\n",
    "\n",
    "    - Rozwijana lista - służy do wyboru kolumny zawierającej dane dla osi Y na wykresie.\n",
    "\n",
    "- Nadawanie tytułu i nazw osi\n",
    "    - Pole tekstowe - służy do wprowadzenia tytułu wykresu.\n",
    "\n",
    "    - Pole tekstowe - służy do wprowadzenia nazwy osi X.\n",
    "\n",
    "    - Pole tekstowe - służy do wprowadzenia nazwy osi Y.\n",
    "\n",
    "- Usuwanie obramowania (`despine`)\n",
    "    - Zestaw czterech pól wyboru - służą do wyboru, które obramowania wykresu mają być usunięte (opcje to \"Top\", \"Bottom\", \"Left\" i \"Right\").\n",
    "\n",
    "\n",
    "-  Ustalanie zakresu danych na osiach\n",
    "    - Suwak - służy do ustawienia zakresu osi X na wykresie w procentach.\n",
    "\n",
    "    - Suwak - służy do ustawienia zakresu osi Y na wykresie w procentach.\n",
    "\n",
    "    - Pole wyboru - służy do wyboru, czy ustawić zakres osi X od 0.\n",
    "\n",
    "    - Pole wyboru - służy do wyboru, czy ustawić zakres osi Y od 0.\n",
    "\n",
    "-  Stylowanie\n",
    "    - Pole wyboru - służy do obrotu etykiet osi x.\n",
    "\n",
    "    - `ColorPicker` - służy do wyboru koloru wykresu.\n",
    "\n",
    "    - Przycisk - służy do włączania i wyłączania siatki na wykresie.\n",
    "\n",
    "    - Przyciski przełączające (`ToggleButtons`) - służą do zmiany stylu wykresu. Opcje to 'white', 'dark', 'whitegrid', 'darkgrid', 'ticks'."
   ]
  },
  {
   "cell_type": "code",
   "execution_count": null,
   "metadata": {},
   "outputs": [],
   "source": []
  },
  {
   "cell_type": "markdown",
   "metadata": {},
   "source": [
    "Teraz musimy napisać funkcję, która będzie wywoływana przy naciśnięciu przycisku i będzie rysować nasz wykres.\n",
    "\n",
    "W dużym uproszczeniu funkcja powinna sprawdzać wartości poszczególnych widgetów i w zależności od ich wartości modyfikować sposób rysowania funkcji.\n",
    "\n",
    "Co do rodzaju rysowanego wykresu, pozostawiam dowolność, aczkolwiek na początek polecam `regplot` albo `scatterplot`, ponieważ nie powinno być z nimi problemu, jeśli chodzi o rodzaj danych. Potem oczywiście można bardzo łatwo zmienić rodzaj wykresu albo dodać możliwość wyboru rodzaju wykresu.\n",
    "\n",
    "Podpowiedź\n",
    "Przyda się napisanie funkcji pomocniczej, która pobiera wartości pól wyboru, które obramowania wykresu mają być usunięte (`despine`). Funkcja powinna zwracać słownik, który wygląda mniej więcej tak:\n",
    "\n",
    "`słownik = {\"top\":True, \"bottom\":False, \"left\":False, \"right\":True}`\n",
    "\n",
    "Dzięki takiemu słownikowi można łatwo wywołać funkcję, która usuwa obramowanie:\n",
    "\n",
    "`sns.despine(**słownik)`"
   ]
  },
  {
   "cell_type": "code",
   "execution_count": null,
   "metadata": {},
   "outputs": [],
   "source": []
  },
  {
   "cell_type": "code",
   "execution_count": null,
   "metadata": {},
   "outputs": [],
   "source": []
  },
  {
   "cell_type": "code",
   "execution_count": null,
   "metadata": {},
   "outputs": [],
   "source": []
  },
  {
   "cell_type": "markdown",
   "metadata": {},
   "source": [
    "Na końcu naszym celem jest połączenie trzech elementów w jeden spójny Dashboard.\n",
    "\n",
    "Pierwszy element to zestaw widgetów, które pozwolą nam na modyfikowanie właściwości wykresów. Planujemy podzielić je na dwie grupy i umieścić w oddzielnych zakładkach - Plot oraz Styling.\n",
    "\n",
    "Drugi element to przycisk, który po kliknięciu wywoła generowanie wykresu.\n",
    "\n",
    "Trzeci element to wyjście (Output), gdzie będzie wyświetlany nasz wygenerowany wykres."
   ]
  },
  {
   "cell_type": "code",
   "execution_count": null,
   "metadata": {},
   "outputs": [],
   "source": []
  }
 ],
 "metadata": {
  "kernelspec": {
   "display_name": "Python 3 (ipykernel)",
   "language": "python",
   "name": "python3"
  },
  "language_info": {
   "codemirror_mode": {
    "name": "ipython",
    "version": 3
   },
   "file_extension": ".py",
   "mimetype": "text/x-python",
   "name": "python",
   "nbconvert_exporter": "python",
   "pygments_lexer": "ipython3",
   "version": "3.9.5"
  }
 },
 "nbformat": 4,
 "nbformat_minor": 1
}
