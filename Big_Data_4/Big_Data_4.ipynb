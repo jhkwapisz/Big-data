{
 "cells": [
  {
   "cell_type": "markdown",
   "metadata": {},
   "source": [
    "# Big Data w biznesie"
   ]
  },
  {
   "cell_type": "markdown",
   "metadata": {},
   "source": [
    "## Czwarty notebook"
   ]
  },
  {
   "cell_type": "code",
   "execution_count": null,
   "metadata": {},
   "outputs": [],
   "source": [
    "from IPython.core.display import HTML\n",
    "\n",
    "\n",
    "def _set_css_style(css_file_path):\n",
    "    \"\"\"\n",
    "    Read the custom CSS file and load it into Jupyter.\n",
    "    Pass the file path to the CSS file.\n",
    "    \"\"\"\n",
    "\n",
    "    styles = open(css_file_path, \"r\").read()\n",
    "    s = '<style>%s</style>' % styles\n",
    "    return HTML(s)\n",
    "\n",
    "\n",
    "_set_css_style(\"../custom.css\")"
   ]
  },
  {
   "cell_type": "markdown",
   "metadata": {},
   "source": [
    "Pierwszym krokiem, jak zawsze, jest zaimportowanie potrzebnych nam bibliotek."
   ]
  },
  {
   "cell_type": "code",
   "execution_count": null,
   "metadata": {},
   "outputs": [],
   "source": [
    "import numpy as np\n",
    "import pandas as pd\n",
    "import matplotlib.pyplot as plt\n",
    "%matplotlib inline\n",
    "import seaborn as sns"
   ]
  },
  {
   "cell_type": "code",
   "execution_count": null,
   "metadata": {},
   "outputs": [],
   "source": [
    "df = pd.read_csv(\"./cars.csv\")"
   ]
  },
  {
   "cell_type": "markdown",
   "metadata": {},
   "source": [
    "Tym razem nauczymy się dodawać widgety i łączyć je z innymi obiektami."
   ]
  },
  {
   "cell_type": "markdown",
   "metadata": {},
   "source": [
    "Sugeruję wykonywanie notebooków z tego tygodnia na stworzonym serwerze Jupytera lub w Google Colabie. W PyCharmie (nie wiem, jak jest w VSCodzie), wiele z widgetów może nie działać poprawnie i mogą pojawić się problemy z interakcjami."
   ]
  },
  {
   "cell_type": "markdown",
   "metadata": {},
   "source": [
    "Wykorzystamy do tego bibliotekę `ipywidgets`, którą najpierw zaimportujemy."
   ]
  },
  {
   "cell_type": "code",
   "execution_count": null,
   "metadata": {},
   "outputs": [],
   "source": [
    "import ipywidgets as widgets"
   ]
  },
  {
   "cell_type": "markdown",
   "metadata": {},
   "source": [
    "Jest wiele widgetów, z których możemy skorzystać. Pełną listę można znaleźć w dokumentacji bądź przy pomocy następującego polecenia:"
   ]
  },
  {
   "cell_type": "code",
   "execution_count": null,
   "metadata": {},
   "outputs": [],
   "source": [
    "print(dir(widgets))"
   ]
  },
  {
   "cell_type": "markdown",
   "metadata": {},
   "source": [
    "Zaczniemy od dodania pierwszego widgetu - suwaka."
   ]
  },
  {
   "cell_type": "code",
   "execution_count": null,
   "metadata": {},
   "outputs": [],
   "source": [
    "widgets.IntSlider(\n",
    "    min=0,\n",
    "    max=10,\n",
    "    step=1,\n",
    "    description='Suwak:',\n",
    "    value=5\n",
    ")"
   ]
  },
  {
   "cell_type": "markdown",
   "source": [
    "Jeśli chcemy poznać dostępne właściwości i metody klasy `widgets.IntSlider` (lub innej klasy) możemy to zrobić w następujący sposób. Funkcja `dir()` wyświetla listę nazw atrybutów i metod dostępnych dla tej klasy. Warto z tego skorzystać, jeśli chcemy dowiedzieć się, jak można wykorzystać daną klasę."
   ],
   "metadata": {
    "collapsed": false
   }
  },
  {
   "cell_type": "code",
   "execution_count": null,
   "outputs": [],
   "source": [
    "dir(widgets.IntSlider)"
   ],
   "metadata": {
    "collapsed": false
   }
  },
  {
   "cell_type": "markdown",
   "source": [
    "Jeśli na tej liście znajdziemy metodę, która nas interesuje, możemy mieć wgląd w jej dokumentacje w następujący sposób:"
   ],
   "metadata": {
    "collapsed": false
   }
  },
  {
   "cell_type": "code",
   "execution_count": null,
   "outputs": [],
   "source": [
    "print(widgets.IntSlider.observe.__doc__)"
   ],
   "metadata": {
    "collapsed": false
   }
  },
  {
   "cell_type": "markdown",
   "metadata": {},
   "source": [
    "Wracając do wykorzystywania widgetów, aby nasz obiekt był odpowiednio wyświetlany wykorzystamy do tego bibliotekę `IPython`.\n",
    "\n",
    "Importując `display` z modułu `IPython`, możemy wyświetlić wyniki i obiekty w interaktywny sposób w notebooku Jupyter."
   ]
  },
  {
   "cell_type": "code",
   "execution_count": null,
   "metadata": {},
   "outputs": [],
   "source": [
    "from IPython.display import display"
   ]
  },
  {
   "cell_type": "code",
   "execution_count": null,
   "metadata": {},
   "outputs": [],
   "source": [
    "slider = widgets.IntSlider(\n",
    "    min=0,\n",
    "    max=10,\n",
    "    step=1,\n",
    "    description='Suwak:',\n",
    "    value=5\n",
    ")\n",
    "display(slider)"
   ]
  },
  {
   "cell_type": "markdown",
   "metadata": {},
   "source": [
    "W ten sposób możemy wyświetlić dowolny obiekt za pomocą metody `display`."
   ]
  },
  {
   "cell_type": "markdown",
   "source": [
    "Istnieje też możliwość stylowania widgetów. Na przykład, spróbujmy stworzyć nowy widget z nieco dłuższym opisem."
   ],
   "metadata": {
    "collapsed": false
   }
  },
  {
   "cell_type": "code",
   "execution_count": null,
   "outputs": [],
   "source": [
    "slider_long = widgets.IntSlider(\n",
    "    description='To jest suwak:'\n",
    ")\n",
    "display(slider_long)"
   ],
   "metadata": {
    "collapsed": false
   }
  },
  {
   "cell_type": "markdown",
   "source": [
    "W takim przypadku opis zostaje skrócony. Chcemy zobaczyć pełny opis, dlatego możemy skorzystać z poniższego kodu:"
   ],
   "metadata": {
    "collapsed": false
   }
  },
  {
   "cell_type": "code",
   "execution_count": null,
   "outputs": [],
   "source": [
    "style_long = {'description_width': 'initial'}\n",
    "slider_long = widgets.IntSlider(\n",
    "    description='To jest suwak:',\n",
    "    style=style_long\n",
    ")\n",
    "display(slider_long)"
   ],
   "metadata": {
    "collapsed": false
   }
  },
  {
   "cell_type": "markdown",
   "source": [
    "Jeśli chcemy poznać wszystkie dostępne opcje w słowniku `style` dla danego obiektu, możemy użyć następującej komendy:"
   ],
   "metadata": {
    "collapsed": false
   }
  },
  {
   "cell_type": "code",
   "execution_count": null,
   "outputs": [],
   "source": [
    "slider_long.style.keys"
   ],
   "metadata": {
    "collapsed": false
   }
  },
  {
   "cell_type": "markdown",
   "source": [
    "Inną ważną właściwość, którą posiada nasz obiekt (suwak) jest `value`. Możemy się do niej łatwo odwołać."
   ],
   "metadata": {
    "collapsed": false
   }
  },
  {
   "cell_type": "code",
   "execution_count": null,
   "outputs": [],
   "source": [
    "slider.value"
   ],
   "metadata": {
    "collapsed": false
   }
  },
  {
   "cell_type": "markdown",
   "source": [
    "Co więcej, możemy ją też łatwo zmienić."
   ],
   "metadata": {
    "collapsed": false
   }
  },
  {
   "cell_type": "code",
   "execution_count": null,
   "outputs": [],
   "source": [
    "slider.value = 1"
   ],
   "metadata": {
    "collapsed": false
   }
  },
  {
   "cell_type": "markdown",
   "source": [
    "Istnieje możliwość zsynchronizować ze sobą dwóch widgetów."
   ],
   "metadata": {
    "collapsed": false
   }
  },
  {
   "cell_type": "code",
   "execution_count": null,
   "metadata": {},
   "outputs": [],
   "source": [
    "slider = widgets.IntSlider()\n",
    "text = widgets.IntText()\n",
    "display(slider, text)\n",
    "widgets.jslink((slider, 'value'), (text, 'value'))"
   ]
  },
  {
   "cell_type": "markdown",
   "source": [
    "Metoda `jslink` jest używana do zsynchronizowania wartości `value` między nimi, co oznacza, że jeśli zmienisz wartość jednego z widgetów, wartość drugiego widgetu również się zmieni, aby odzwierciedlić tę samą wartość."
   ],
   "metadata": {
    "collapsed": false
   }
  },
  {
   "cell_type": "markdown",
   "metadata": {},
   "source": [
    "Drugim widgetem, który stworzymy jest przycisk (Button)."
   ]
  },
  {
   "cell_type": "code",
   "execution_count": null,
   "metadata": {},
   "outputs": [],
   "source": [
    "btn = widgets.Button(description='Normalny')\n",
    "display(btn)"
   ]
  },
  {
   "cell_type": "markdown",
   "metadata": {},
   "source": [
    "Widgety pozwalają na interakcję z użytkownikiem, np. reagowanie na kliknięcia czy zmiany wartości. W tym przykładzie tworzymy przycisk i definiujemy funkcję `btn_eventhandler`, która będzie wywoływana po kliknięciu przycisku i wyświetlała odpowiedni komunikat. Następnie dodajemy funkcję do przycisku używając metody `on_click`."
   ]
  },
  {
   "cell_type": "code",
   "execution_count": null,
   "metadata": {},
   "outputs": [],
   "source": [
    "def btn_eventhandler(obj):\n",
    "    print(f'Cześć, tutaj Twój {obj.description} guzik!')\n",
    "\n",
    "btn.on_click(btn_eventhandler)\n",
    "display(btn)"
   ]
  },
  {
   "cell_type": "markdown",
   "metadata": {},
   "source": [
    "Kolejnym widgetem, którego użyjemy, jest rozwijana lista (Dropdown):"
   ]
  },
  {
   "cell_type": "code",
   "execution_count": null,
   "metadata": {},
   "outputs": [],
   "source": [
    "widgets.Dropdown(options=['nic', 'coś', 'wszystko'])"
   ]
  },
  {
   "cell_type": "markdown",
   "metadata": {},
   "source": [
    "Będziemy chcieli połączyć `Dropdown` z DataFrame'em zawierającym dane z pliku `cars.csv`. Możemy stworzyć rozwijaną listę, która będzie filtrowała nasze dane po roku produkcji.\n",
    "\n",
    "Aby to zrobić, najpierw potrzebna jest nam funkcja, która zwraca listę zawierającą unikalne wartości kolumny oraz opcję 'All':"
   ]
  },
  {
   "cell_type": "code",
   "execution_count": null,
   "metadata": {},
   "outputs": [],
   "source": [
    "def unique_sorted_values_plus_all(array):\n",
    "    unique = array.unique().tolist()\n",
    "    unique.sort(reverse=True)\n",
    "    unique.insert(0, 'All')\n",
    "    return unique"
   ]
  },
  {
   "cell_type": "markdown",
   "metadata": {},
   "source": [
    "Tak wygląda tworzenie w ten sposób rozwijanej listy:"
   ]
  },
  {
   "cell_type": "code",
   "execution_count": null,
   "metadata": {},
   "outputs": [],
   "source": [
    "dropdown_year = widgets.Dropdown(options = unique_sorted_values_plus_all(df['year_produced']))\n",
    "display(dropdown_year)"
   ]
  },
  {
   "cell_type": "markdown",
   "metadata": {},
   "source": [
    " Potrzebujemy funkcji, która reaguje na zmiany i będzie filtrowała dane w zależności od wartości."
   ]
  },
  {
   "cell_type": "code",
   "execution_count": null,
   "metadata": {},
   "outputs": [],
   "source": [
    "def dropdown_year_eventhandler(change):\n",
    "    if change.new == 'All':\n",
    "        display(df)\n",
    "    else:\n",
    "        display(df[df['year_produced'] == change.new])"
   ]
  },
  {
   "cell_type": "markdown",
   "metadata": {},
   "source": [
    "Zwróć uwagę, że argumentem tej funkcji jest `change`, który zawiera informacje o zmianach, dzięki czemu możemy uzyskać dostęp do nowej wartości (`change.new`)."
   ]
  },
  {
   "cell_type": "markdown",
   "metadata": {},
   "source": [
    "Poza tym `Dropdown`, tak jak większość widgetów, udostępnia metodę `observe`. Jako argument przyjmuje funkcję, która zostanie wywołana, gdy wartość rozwijanej listy zostanie zmieniona."
   ]
  },
  {
   "cell_type": "code",
   "execution_count": null,
   "metadata": {},
   "outputs": [],
   "source": [
    "dropdown_year.observe(dropdown_year_eventhandler, names='value')"
   ]
  },
  {
   "cell_type": "markdown",
   "metadata": {},
   "source": [
    "Ostatecznie wyświetlamy naszą rozwijaną listę za pomocą polecenia:"
   ]
  },
  {
   "cell_type": "code",
   "execution_count": null,
   "metadata": {},
   "outputs": [],
   "source": [
    "display(dropdown_year)"
   ]
  },
  {
   "cell_type": "markdown",
   "metadata": {},
   "source": [
    "Niestety, wyniki wszystkich zapytań gromadzą i pojawiają się jeden pod drugim.\n",
    "\n",
    "Chcielibyśmy odświeżać zawartość komórki za każdym razem i wyświetlać nowy DataFrame."
   ]
  },
  {
   "cell_type": "markdown",
   "metadata": {},
   "source": [
    "W rozwiązaniu tego problemu pomoże nam kolejny widget, czyli Output."
   ]
  },
  {
   "cell_type": "code",
   "execution_count": null,
   "metadata": {},
   "outputs": [],
   "source": [
    "output_year = widgets.Output()"
   ]
  },
  {
   "cell_type": "markdown",
   "metadata": {},
   "source": [
    "Pozwala na tworzenie kontenera, w którym można wyświetlać wyjście z innych widgetów lub kodu. Można go wykorzystać do wyświetlenia wyników zapytań lub do tworzenia interaktywnych interfejsów użytkownika. Kontener ten umożliwia też dynamiczne usuwanie lub czyszczenie zawartości i zastępowanie go nową treścią."
   ]
  },
  {
   "cell_type": "markdown",
   "metadata": {},
   "source": [
    "Użyjemy go w następujący sposób.\n",
    "\n",
    "Po pierwsze przy każdym wywołaniu będziemy czyścić wyjście za pomocą funkcji `clear_output`.\n",
    "\n",
    "Po drugie użyjemy składni `with`, która pozwala obsłużyć otwarcie i zamknięcie pliku lub innych zasobów, które wymagają tego typu zachowania.\n",
    "Użycie `with output_year` oznacza, że wszystko, co zostanie wyświetlone wewnątrz bloku `with`, zostanie przekierowane do tego widgetu. Dzięki temu można z łatwością zmieniać wyświetlane dane bez konieczności ręcznego czyszczenia widgetu i bezpośredniego wyświetlania danych w danym bloku kodu."
   ]
  },
  {
   "cell_type": "code",
   "execution_count": null,
   "metadata": {},
   "outputs": [],
   "source": [
    "def dropdown_year_eventhandler(change):\n",
    "    output_year.clear_output()\n",
    "    with output_year:\n",
    "        if change.new == 'All':\n",
    "            display(df)\n",
    "        else:\n",
    "            display(df[df['year_produced'] == change.new])"
   ]
  },
  {
   "cell_type": "markdown",
   "metadata": {},
   "source": [
    "Całość wygląda następująco:"
   ]
  },
  {
   "cell_type": "code",
   "execution_count": null,
   "metadata": {},
   "outputs": [],
   "source": [
    "dropdown_year = widgets.Dropdown(options = unique_sorted_values_plus_all(df['year_produced']))\n",
    "\n",
    "output_year = widgets.Output()\n",
    "\n",
    "def dropdown_year_eventhandler(change):\n",
    "    output_year.clear_output()\n",
    "    with output_year:\n",
    "        if change.new == 'All':\n",
    "            display(df)\n",
    "        else:\n",
    "            display(df[df['year_produced'] == change.new])\n",
    "\n",
    "dropdown_year.observe(dropdown_year_eventhandler, names='value')\n",
    "display(dropdown_year)\n",
    "display(output_year)"
   ]
  },
  {
   "cell_type": "markdown",
   "metadata": {},
   "source": [
    "W następnym kroku połączymy ze sobą wyjścia (Outputy) z dwóch różnych widgetów.\n",
    "\n",
    "Oprócz filtrowania po roku produkcji chcemy również móc filtrować po kolorze samochodu.\n",
    "\n",
    "Stworzymy więc nową rozwijaną listę, która będzie zawierać wszystkie dostępne kolory."
   ]
  },
  {
   "cell_type": "code",
   "execution_count": null,
   "metadata": {},
   "outputs": [],
   "source": [
    "dropdown_color = widgets.Dropdown(options = unique_sorted_values_plus_all(df['color']))"
   ]
  },
  {
   "cell_type": "markdown",
   "source": [
    "Musimy też dodać funkcję, która filtruje nasze dane na podstawie dwóch parametrów."
   ],
   "metadata": {
    "collapsed": false
   }
  },
  {
   "cell_type": "code",
   "execution_count": null,
   "metadata": {},
   "outputs": [],
   "source": [
    "def common_filtering(year, color):\n",
    "    output.clear_output()\n",
    "\n",
    "    if year == 'All': year = df['year_produced'].unique().tolist()\n",
    "    if color == 'All': color = df['color'].unique().tolist()\n",
    "\n",
    "    common_filter = df.query('year_produced == @year and color == @color')\n",
    "\n",
    "    with output:\n",
    "        display(common_filter)"
   ]
  },
  {
   "cell_type": "markdown",
   "source": [
    "Zadaniem obu funkcji reagujących na zmiany jest przefiltrowanie danych po pierwszym parametrze, który zmieniamy i przekazanie drugiego parametru, który pozostaje taki sam."
   ],
   "metadata": {
    "collapsed": false
   }
  },
  {
   "cell_type": "code",
   "execution_count": null,
   "metadata": {},
   "outputs": [],
   "source": [
    "def dropdown_year_eventhandler(change):\n",
    "    common_filtering(change.new, dropdown_color.value)\n",
    "\n",
    "def dropdown_color_eventhandler(change):\n",
    "    common_filtering(dropdown_year.value, change.new)"
   ]
  },
  {
   "cell_type": "markdown",
   "source": [
    "Musimy też dodać funkcję, która obserwuje zmiany."
   ],
   "metadata": {
    "collapsed": false
   }
  },
  {
   "cell_type": "code",
   "execution_count": null,
   "metadata": {},
   "outputs": [],
   "source": [
    "dropdown_year.observe(\n",
    "dropdown_year_eventhandler, names='value')\n",
    "\n",
    "dropdown_color.observe(\n",
    "dropdown_color_eventhandler, names='value')"
   ]
  },
  {
   "cell_type": "markdown",
   "source": [
    "Całość wygląda następująco:"
   ],
   "metadata": {
    "collapsed": false
   }
  },
  {
   "cell_type": "code",
   "execution_count": null,
   "metadata": {},
   "outputs": [],
   "source": [
    "dropdown_year = widgets.Dropdown(options = unique_sorted_values_plus_all(df['year_produced']))\n",
    "\n",
    "dropdown_color = widgets.Dropdown(options = unique_sorted_values_plus_all(df['color']))\n",
    "\n",
    "output = widgets.Output()\n",
    "\n",
    "def common_filtering(year, color):\n",
    "    output.clear_output()\n",
    "\n",
    "    if year == 'All': year = df['year_produced'].unique().tolist()\n",
    "    if color == 'All': color = df['color'].unique().tolist()\n",
    "\n",
    "    common_filter = df.query('year_produced == @year and color == @color')\n",
    "\n",
    "    with output:\n",
    "        display(common_filter)\n",
    "\n",
    "def dropdown_year_eventhandler(change):\n",
    "    common_filtering(change.new, dropdown_color.value)\n",
    "\n",
    "def dropdown_color_eventhandler(change):\n",
    "    common_filtering(dropdown_year.value, change.new)\n",
    "\n",
    "dropdown_year.observe(dropdown_year_eventhandler, names='value')\n",
    "\n",
    "dropdown_color.observe(dropdown_color_eventhandler, names='value')\n",
    "\n",
    "display(dropdown_year)\n",
    "display(dropdown_color)\n",
    "display(output)"
   ]
  },
  {
   "cell_type": "markdown",
   "metadata": {},
   "source": [
    "Na ten moment jesteśmy w stanie wyświetlać i filtrować dane po parametrach. Kolejnym krokiem będzie kolorowanie danych po wartościach numerycznych.\n",
    "\n",
    "W naszym przypadku będziemy chcieli kolorować wartości w kolumnie z ceną samochodu w zależności od tego, czy będą większe lub mniejsze od wybranej przez nas wartości.\n",
    "\n",
    "Do tego przyda nam się widget `BoundedFloatText`, za pomocą którego będziemy sterować wybraną przez nas wartością."
   ]
  },
  {
   "cell_type": "code",
   "execution_count": null,
   "metadata": {},
   "outputs": [],
   "source": [
    "bounded_num = widgets.BoundedFloatText(min=0, max=60000, value=10000, step=1000)\n",
    "display(bounded_num)"
   ]
  },
  {
   "cell_type": "markdown",
   "source": [
    "Potrzebujemy też funkcji, która będzie porównywać wartości i zwracać kolor czerwony albo czarny."
   ],
   "metadata": {
    "collapsed": false
   }
  },
  {
   "cell_type": "code",
   "execution_count": null,
   "metadata": {},
   "outputs": [],
   "source": [
    "def colour_ge_value(value, comparison):\n",
    "    if value >= comparison:\n",
    "        return 'color: red'\n",
    "    else:\n",
    "        return 'color: black'"
   ]
  },
  {
   "cell_type": "markdown",
   "source": [
    "W naszym przypadku będziemy stosować stylowanie na danych w odpowiedniej kolumnie za pomocą funkcji `style` i `applymap`."
   ],
   "metadata": {
    "collapsed": false
   }
  },
  {
   "cell_type": "code",
   "execution_count": null,
   "metadata": {},
   "outputs": [],
   "source": [
    "def common_filtering(year, color, num):\n",
    "    output.clear_output()\n",
    "\n",
    "    if year == 'All': year = df['year_produced'].unique().tolist()\n",
    "    if color == 'All': color = df['color'].unique().tolist()\n",
    "\n",
    "    common_filter = df.query('year_produced == @year and color == @color')\n",
    "\n",
    "    with output:\n",
    "        display(common_filter\n",
    "                .style.applymap(\n",
    "                    lambda x: colour_ge_value(x, num),\n",
    "                    subset=['price_usd']))"
   ]
  },
  {
   "cell_type": "markdown",
   "source": [
    "Do naszych funkcji reagujących na zmiany, musimy dodać trzeci przekazywany parametr."
   ],
   "metadata": {
    "collapsed": false
   }
  },
  {
   "cell_type": "code",
   "execution_count": null,
   "metadata": {},
   "outputs": [],
   "source": [
    "def dropdown_year_eventhandler(change):\n",
    "    common_filtering(change.new, dropdown_color.value, bounded_num.value)\n",
    "\n",
    "def dropdown_color_eventhandler(change):\n",
    "    common_filtering(dropdown_year.value, change.new, bounded_num.value)"
   ]
  },
  {
   "cell_type": "markdown",
   "source": [
    "Oraz musimy dodać trzecią funkcję reagującą na zmiany trzeciego parametru."
   ],
   "metadata": {
    "collapsed": false
   }
  },
  {
   "cell_type": "code",
   "execution_count": null,
   "metadata": {},
   "outputs": [],
   "source": [
    "def bounded_num_eventhandler(change):\n",
    "    common_filtering(dropdown_year.value, dropdown_color.value, change.new)"
   ]
  },
  {
   "cell_type": "markdown",
   "source": [
    "Sprawdzanie, czy dane są większe lub mniejsze od 38 tys. wartości (tyle rekord znajduje się w pliku `cars.csv`) trwa bardzo długo i często powoduje, że program się zawiesza lub zacina.\n",
    "\n",
    "Aby umożliwić bezproblemowe przetwarzanie danych, ograniczymy nasze dane do 5% oryginalnego rozmiaru."
   ],
   "metadata": {
    "collapsed": false
   }
  },
  {
   "cell_type": "code",
   "execution_count": null,
   "metadata": {},
   "outputs": [],
   "source": [
    "df_subset = df.sample(n=int(0.05*len(df))).copy()"
   ]
  },
  {
   "cell_type": "markdown",
   "source": [
    "Całość wygląda następująco:"
   ],
   "metadata": {
    "collapsed": false
   }
  },
  {
   "cell_type": "code",
   "execution_count": null,
   "metadata": {},
   "outputs": [],
   "source": [
    "dropdown_year = widgets.Dropdown(options = unique_sorted_values_plus_all(df_subset['year_produced']))\n",
    "\n",
    "dropdown_color = widgets.Dropdown(options = unique_sorted_values_plus_all(df_subset['color']))\n",
    "\n",
    "bounded_num = widgets.BoundedFloatText(min=0, max=60000, value=10000, step=1000)\n",
    "\n",
    "output = widgets.Output()\n",
    "\n",
    "def common_filtering(year, color, num):\n",
    "    output.clear_output()\n",
    "\n",
    "    if year == 'All': year = df_subset['year_produced'].unique().tolist()\n",
    "    if color == 'All': color = df_subset['color'].unique().tolist()\n",
    "\n",
    "    common_filter = df_subset.query('year_produced == @year and color == @color')\n",
    "\n",
    "    with output:\n",
    "        display(common_filter\n",
    "                .style.applymap(\n",
    "                    lambda x: colour_ge_value(x, num),\n",
    "                    subset=['price_usd']))\n",
    "\n",
    "def dropdown_year_eventhandler(change):\n",
    "    common_filtering(change.new, dropdown_color.value, bounded_num.value)\n",
    "\n",
    "def dropdown_color_eventhandler(change):\n",
    "    common_filtering(dropdown_year.value, change.new, bounded_num.value)\n",
    "\n",
    "def bounded_num_eventhandler(change):\n",
    "    common_filtering(dropdown_year.value, dropdown_color.value, change.new)\n",
    "\n",
    "dropdown_year.observe(dropdown_year_eventhandler, names='value')\n",
    "\n",
    "dropdown_color.observe(dropdown_color_eventhandler, names='value')\n",
    "\n",
    "bounded_num.observe(bounded_num_eventhandler, names='value')\n",
    "\n",
    "display(dropdown_year)\n",
    "display(dropdown_color)\n",
    "display(bounded_num)\n",
    "display(output)"
   ]
  },
  {
   "cell_type": "markdown",
   "metadata": {},
   "source": [
    "Kolejna funkcjonalność, którą dodamy to rysowanie wykresów.\n",
    "\n",
    "Będziemy wyświetlać tzw. wykres gęstości jądrowej dla wartości przebiegu samochodów.\n",
    "\n",
    "Funkcja `sns.kdeplot` służy do wyświetlania wykresów gęstości jądrowej (kernel density estimation plot). Ten typ wykresu przedstawia rozkład prawdopodobieństwa danych w sposób zbliżony do histogramu, ale bez dyskretyzacji. Zamiast tego, funkcja używa jądra (kernel) do oszacowania gęstości w każdym punkcie i przedstawia to na wykresie jako gładką krzywą."
   ]
  },
  {
   "cell_type": "code",
   "execution_count": null,
   "metadata": {},
   "outputs": [],
   "source": [
    "sns.kdeplot(df_subset['odometer_value'], fill=True)\n",
    "plt.show()"
   ]
  },
  {
   "cell_type": "markdown",
   "source": [
    "Do wyświetlania wykresów stworzymy nowy `Output`."
   ],
   "metadata": {
    "collapsed": false
   }
  },
  {
   "cell_type": "code",
   "execution_count": null,
   "metadata": {},
   "outputs": [],
   "source": [
    "plot_output = widgets.Output()"
   ]
  },
  {
   "cell_type": "markdown",
   "source": [
    "Na końcu naszej funkcji filtrującej dodamy wyświetlanie tego wykresu."
   ],
   "metadata": {
    "collapsed": false
   }
  },
  {
   "cell_type": "code",
   "execution_count": null,
   "metadata": {},
   "outputs": [],
   "source": [
    "def common_filtering(year, color, num):\n",
    "    output.clear_output()\n",
    "    plot_output.clear_output()\n",
    "\n",
    "    if year == 'All': year = df_subset['year_produced'].unique().tolist()\n",
    "    if color == 'All': color = df_subset['color'].unique().tolist()\n",
    "\n",
    "    common_filter = df_subset.query('year_produced == @year and color == @color')\n",
    "\n",
    "    with output:\n",
    "        display(common_filter\n",
    "                .style.applymap(\n",
    "                    lambda x: colour_ge_value(x, num),\n",
    "                    subset=['price_usd']))\n",
    "\n",
    "    with plot_output:\n",
    "        sns.kdeplot(common_filter['odometer_value'], fill=True)\n",
    "        plt.show()"
   ]
  },
  {
   "cell_type": "markdown",
   "source": [
    "Całość wygląda następująco:"
   ],
   "metadata": {
    "collapsed": false
   }
  },
  {
   "cell_type": "code",
   "execution_count": null,
   "metadata": {},
   "outputs": [],
   "source": [
    "dropdown_year = widgets.Dropdown(options = unique_sorted_values_plus_all(df_subset['year_produced']))\n",
    "\n",
    "dropdown_color = widgets.Dropdown(options = unique_sorted_values_plus_all(df_subset['color']))\n",
    "\n",
    "bounded_num = widgets.BoundedFloatText(min=0, max=60000, value=10000, step=1000)\n",
    "\n",
    "output = widgets.Output()\n",
    "plot_output = widgets.Output()\n",
    "\n",
    "\n",
    "def common_filtering(year, color, num):\n",
    "    output.clear_output()\n",
    "    plot_output.clear_output()\n",
    "\n",
    "    if year == 'All': year = df_subset['year_produced'].unique().tolist()\n",
    "    if color == 'All': color = df_subset['color'].unique().tolist()\n",
    "\n",
    "    common_filter = df_subset.query('year_produced == @year and color == @color')\n",
    "\n",
    "    with output:\n",
    "        display(common_filter\n",
    "                .style.applymap(\n",
    "                    lambda x: colour_ge_value(x, num),\n",
    "                    subset=['price_usd']))\n",
    "\n",
    "    with plot_output:\n",
    "        sns.kdeplot(common_filter['odometer_value'], fill=True)\n",
    "        plt.show()\n",
    "\n",
    "def dropdown_year_eventhandler(change):\n",
    "    common_filtering(change.new, dropdown_color.value, bounded_num.value)\n",
    "\n",
    "def dropdown_color_eventhandler(change):\n",
    "    common_filtering(dropdown_year.value, change.new, bounded_num.value)\n",
    "\n",
    "def bounded_num_eventhandler(change):\n",
    "    common_filtering(dropdown_year.value, dropdown_color.value, change.new)\n",
    "\n",
    "dropdown_year.observe(dropdown_year_eventhandler, names='value')\n",
    "\n",
    "dropdown_color.observe(dropdown_color_eventhandler, names='value')\n",
    "\n",
    "bounded_num.observe(bounded_num_eventhandler, names='value')\n",
    "\n",
    "display(dropdown_year)\n",
    "display(dropdown_color)\n",
    "display(bounded_num)\n",
    "display(output)\n",
    "display(plot_output)"
   ]
  },
  {
   "cell_type": "markdown",
   "metadata": {},
   "source": [
    "Na koniec połączymy wszystko w jeden `Dashboard`, czyli interaktywny interfejs użytkownika, który umożliwia wyświetlanie i manipulowanie danymi w sposób graficzny i intuicyjny.\n",
    "\n",
    "Nasze dane wejściowe (Inputy) połączymy w jeden widget o nazwie `HBox`, który ustawia je poziomo."
   ]
  },
  {
   "cell_type": "code",
   "execution_count": null,
   "metadata": {},
   "outputs": [],
   "source": [
    "input_widgets = widgets.HBox(\n",
    "[dropdown_year, dropdown_color, bounded_num])\n",
    "display(input_widgets)"
   ]
  },
  {
   "cell_type": "markdown",
   "source": [
    "A nasze dane wyjściowe (Outputy) połączymy w jeden widget o nazwie `Tab`, w którym każde wyjście będzie wyświetlane w innej karcie."
   ],
   "metadata": {
    "collapsed": false
   }
  },
  {
   "cell_type": "code",
   "execution_count": null,
   "metadata": {},
   "outputs": [],
   "source": [
    "tab = widgets.Tab([output, plot_output])\n",
    "tab.set_title(0, 'Dataset Exploration')\n",
    "tab.set_title(1, 'KDE Plot')\n",
    "display(tab)"
   ]
  },
  {
   "cell_type": "markdown",
   "source": [
    "Całość połączymy w jeden Dashboard."
   ],
   "metadata": {
    "collapsed": false
   }
  },
  {
   "cell_type": "code",
   "execution_count": null,
   "metadata": {},
   "outputs": [],
   "source": [
    "dashboard = widgets.VBox([input_widgets, tab])\n",
    "display(dashboard)"
   ]
  },
  {
   "cell_type": "markdown",
   "source": [
    "Ostatnim krokiem będzie poprawienie naszego Dashboardu poprzez dodanie trochę przestrzeni. Ostatni widget w tym notebooku - `Layout`, który doda margines 50 pikseli między elementami."
   ],
   "metadata": {
    "collapsed": false
   }
  },
  {
   "cell_type": "code",
   "execution_count": null,
   "outputs": [],
   "source": [
    "item_layout = widgets.Layout(margin='0 0 50px 0')"
   ],
   "metadata": {
    "collapsed": false
   }
  },
  {
   "cell_type": "markdown",
   "source": [
    "Więc po raz ostatni, całość wygląda następująco:"
   ],
   "metadata": {
    "collapsed": false
   }
  },
  {
   "cell_type": "code",
   "execution_count": null,
   "metadata": {},
   "outputs": [],
   "source": [
    "input_widgets = widgets.HBox([dropdown_year, dropdown_color, bounded_num], layout=item_layout)\n",
    "tab = widgets.Tab([output, plot_output], layout=item_layout)\n",
    "tab.set_title(0, 'Dataset Exploration')\n",
    "tab.set_title(1, 'KDE Plot')\n",
    "dashboard = widgets.VBox([input_widgets, tab])\n",
    "display(dashboard)"
   ]
  }
 ],
 "metadata": {
  "kernelspec": {
   "display_name": "Python 3 (ipykernel)",
   "language": "python",
   "name": "python3"
  },
  "language_info": {
   "codemirror_mode": {
    "name": "ipython",
    "version": 3
   },
   "file_extension": ".py",
   "mimetype": "text/x-python",
   "name": "python",
   "nbconvert_exporter": "python",
   "pygments_lexer": "ipython3",
   "version": "3.9.5"
  }
 },
 "nbformat": 4,
 "nbformat_minor": 1
}
