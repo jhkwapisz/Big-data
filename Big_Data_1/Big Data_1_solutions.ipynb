{
 "cells": [
  {
   "cell_type": "markdown",
   "source": [
    "# Big Data w biznesie"
   ],
   "metadata": {
    "collapsed": false
   }
  },
  {
   "cell_type": "markdown",
   "metadata": {
    "pycharm": {
     "name": "#%% md\n"
    }
   },
   "source": [
    "## Pierwszy notebook rozwiązania"
   ]
  },
  {
   "cell_type": "code",
   "execution_count": 3,
   "metadata": {
    "pycharm": {
     "name": "#%%\n"
    }
   },
   "outputs": [
    {
     "data": {
      "text/html": [
       "<style><style>\n",
       "#notebook-container{\n",
       "    box-shadow: none !important;\n",
       "}\n",
       "\n",
       "#ipython_notebook img{                                                                                        \n",
       "    display:block; \n",
       "    background: url(\"images/LOGO-jupyter.png\") no-repeat;\n",
       "    background-size: contain;\n",
       "    width: 85px;\n",
       "    height: 52px;\n",
       "    padding-left: 100px;\n",
       "    padding-right: 50px;\n",
       "    -moz-box-sizing: border-box;\n",
       "    box-sizing: border-box;\n",
       "}\n",
       "\n",
       ".notebook_app {\n",
       "    background: #fff !important;\n",
       "}\n",
       "\n",
       "body > #header {\n",
       "    margin-bottom: -5px;\n",
       "}\n",
       "\n",
       "div#notebook {\n",
       "    padding-top: 0px;\n",
       "}\n",
       "\n",
       "/* SCROLL BAR */\n",
       "::-webkit-scrollbar {\n",
       "    max-width: 10px;\n",
       "    max-height: 10px;\n",
       "    border-radius: 3px;\n",
       "    border: none;\n",
       "}\n",
       "::-webkit-scrollbar-track {\n",
       "    border: none;\n",
       "    max-width: 10px;\n",
       "    max-height: 10px;\n",
       "}\n",
       "::-webkit-scrollbar-thumb {\n",
       "    border-radius: 5px;\n",
       "    border: none;\n",
       "    background: #0000003d;\n",
       "    background-clip: content-box;\n",
       "    max-width: 10px;\n",
       "}\n",
       "\n",
       "/* HEADER */\n",
       "body > #header #header-container{\n",
       "    padding-top: 15px;\n",
       "    padding-bottom: 5px;\n",
       "}\n",
       "\n",
       "body > #header div.header-bar {\n",
       "    height: 0px;\n",
       "}\n",
       "\n",
       "#header #menus{\n",
       "    padding: 5px 0px;\n",
       "}\n",
       "\n",
       "#header #menubar, #header #maintoolbar {\n",
       "    margin-top: 0.5em;\n",
       "    margin-bottom: 0.5em;\n",
       "    padding: 0px;\n",
       "}\n",
       "\n",
       "body > #header #header-container,\n",
       "body > #header #menubar-container {\n",
       "    padding-left: 10px;\n",
       "    padding-right: 10px;\n",
       "}\n",
       "\n",
       "#header #maintoolbar-container {\n",
       "    margin-bottom: 0px;\n",
       "    margin-top: 0px;\n",
       "}\n",
       "\n",
       "div.navbar-default {\n",
       "    border: 0px;\n",
       "    border-radius: 0px;\n",
       "}\n",
       "\n",
       "#header, #header .btn, #header select, #header #menubar a {\n",
       "    color: #323232;\n",
       "}\n",
       "\n",
       "#header .btn, #header select {\n",
       "    background-color: #f8f8f8;\n",
       "    border: 0px;\n",
       "    border-radius: 0px;\n",
       "}\n",
       "\n",
       "#maintoolbar .btn, #maintoolbar select {\n",
       "    height: 22px !important;\n",
       "    line-height: 22px;\n",
       "    padding-top: 0px;\n",
       "    box-shadow: none;\n",
       "}\n",
       "\n",
       "div.navbar-nav > li > div.dropdown-menu {\n",
       "    border: 0px;\n",
       "    background-color: #f8f8f8;\n",
       "}\n",
       "\n",
       "\n",
       "/* CELLS */\n",
       "div.prompt, code, kbd, pre, samp {\n",
       "    font-family: \"Cascadia Code\", 'Courier New', Courier, monospace, sans-serif !important;\n",
       "    font-size: 13px !important;\n",
       "}\n",
       "\n",
       "div.input_area {\n",
       "    border: none;\n",
       "    border-radius: 0;\n",
       "    background: #f7f7f7;\n",
       "    /* margin: 0.5em 0; */\n",
       "}\n",
       "\n",
       "div.cell {\n",
       "    transition: all 0.25s;\n",
       "    border: none;\n",
       "    padding: 0.5em;\n",
       "    /* position: relative;\n",
       "    top: 0; */\n",
       "}\n",
       "\n",
       "div.cell.selected, div.cell.selected.jupyter-soft-selected {\n",
       "    border: none;\n",
       "    background: transparent;\n",
       "    box-shadow: 0px 0px 12px 1px rgba(87, 87, 87, 0.2);\n",
       "    border-radius: 0px\n",
       "}\n",
       "\n",
       "div.prompt, div.inner_cell, div.input_area {\n",
       "    padding: 0.5em;\n",
       "}\n",
       "\n",
       "div.text_cell_render, div.rendered_html {\n",
       "    padding: 0;\n",
       "}\n",
       "\n",
       "div.run_this_cell {\n",
       "    display: none;\n",
       "}\n",
       "\n",
       "div.output.output_scroll {\n",
       "    -webkit-box-shadow: inset 0px 0px 12px 1px rgba(87, 87, 87, 0.2);\n",
       "    box-shadow: inset 0px 0px 12px 1px rgba(87, 87, 87, 0.2);\n",
       "}\n",
       "\n",
       "div.prompt.input_prompt {\n",
       "    padding: 1.5em;\n",
       "}\n",
       "\n",
       "div.prompt.output_prompt {\n",
       "    padding: 0.6em 1.5em;\n",
       "}\n",
       "\n",
       "\n",
       "/* TEXT CELL FORMATTING */\n",
       "div.text_cell p,\n",
       "div.text_cell li,\n",
       "div.text_cell table,\n",
       "div.text_cell h1,\n",
       "div.text_cell h2,\n",
       "div.text_cell h3,\n",
       "div.text_cell h4,\n",
       "div.text_cell h5 {\n",
       "    font-family: 'Segoe UI', Tahoma, Geneva, Verdana, sans-serif;\n",
       "    color: rgba(50, 50, 50, 1);\n",
       "    line-height: 1.4;\n",
       "    margin: 0.5em 0em;\n",
       "}\n",
       "\n",
       "div.text_cell p {\n",
       "    line-height: 1.6;\n",
       "}\n",
       "\n",
       "div.text_cell ul, div.text_cell ol {\n",
       "    margin: 1em 0em;\n",
       "}\n",
       "\n",
       "div.text_cell li {\n",
       "    line-height: 1;\n",
       "}\n",
       "\n",
       "div.rendered_html table {\n",
       "    margin-left: inherit;\n",
       "    margin-right: inherit;\n",
       "}\n",
       "\n",
       "div.rendered_html blockquote {\n",
       "    margin-left: 0;\n",
       "    margin-right: 0;\n",
       "    border-left-color: rgb(162, 162, 162);\n",
       "    background-color: #f7f7f7;\n",
       "}\n",
       "\n",
       "div.rendered_html blockquote p{\n",
       "    color: rgba(0, 0, 0, 0.5);\n",
       "    font-weight: 600;\n",
       "}\n",
       "\n",
       "div.rendered_html pre {\n",
       "    margin-left: 0;\n",
       "    margin-right: 0;\n",
       "    padding: 1em;\n",
       "    background-color: #f7f7f7;\n",
       "}\n",
       "\n",
       "div.rendered_html pre * {\n",
       "    background-color: rgba(0,0,0,0) !important;\n",
       "}\n",
       "\n",
       "\n",
       "div.admonition { \n",
       "    background-color: #ffffff;\n",
       "    box-shadow: 0px 4px 3px -2px gray;\n",
       "    border-radius: 4px; \n",
       "    padding: 0.5em;\n",
       "    margin-top: 2em;\n",
       "    margin-bottom: 2em;\n",
       "       }\n",
       "\n",
       "div.admonition:before {\n",
       "    font-size: 1.0em;\n",
       "    visibility: visible; \n",
       "    display: block;\n",
       "    height: 2em;\n",
       "    top: 0em;\n",
       "    left: -0.44em;\n",
       "    width:  101%;\n",
       "    border-radius: 0px 10px 0px 0px;\n",
       "    margin-left: -0.0em;\n",
       "    margin-top: -0.3em;\n",
       "    top: -2px;\n",
       "    font-weight: bold;\n",
       "    position: relative;\n",
       "    display: flex;\n",
       "    align-items: center;\n",
       "    font-weight: bold;\n",
       "    position: relative;\n",
       "    vertical-align: middle;\n",
       "    }\n",
       "\n",
       "div.admonition.warn {\n",
       "    border-left: 4px solid #F9E04B; \n",
       "    }\n",
       "\n",
       "div.admonition.warn:before { \n",
       "    font-size: 1.2em !important;\n",
       "    content: '\\00a0    ⚠️ Uwaga!';\n",
       "    background: #ffff99;\n",
       "    }\n",
       "\n",
       "div.admonition.info {border-left: 4px solid #9594ff;}\n",
       "\n",
       "div.admonition.info:before { font-size: 1.2em !important;\n",
       "    content: '\\00a0  💡 To ciekawe!';\n",
       "    background: #ddeeff;}\n",
       "\n",
       "div.admonition.danger {border-left: 4px solid #ff5555; }\n",
       "\n",
       "div.danger.admonition:before { font-size: 1.2em !important;\n",
       "    content: '\\00a0    🛑 Uwaga, błędy!';\n",
       "    background: #ffcccc;}\n",
       "\n",
       "div.admonition.see {border-left: 4px solid #33cc33; }\n",
       "\n",
       "div.admonition.see:before { font-size: 1.2em !important;\n",
       "    content: '\\00a0    🌐 Dowiedz się więcej!';\n",
       "    background: #ccffcc;}\n",
       "\n",
       "div.admonition.code {border-left: 4px solid #aaaaaa; }\n",
       "\n",
       "div.admonition.code:before { font-size: 1.2em !important;\n",
       "    content: '\\00a0    🐍 Wywołaj poniższą komórkę!';\n",
       "    background: #eeeeee\n",
       ";}\n",
       "\n",
       "div.admonition.code.codes:before { font-size: 1.2em !important;\n",
       "    content: '\\00a0    🐍 Wywołaj poniższe komórki!';}\n",
       "\n",
       "div.admonition.task {border-left: 4px solid #aaaaaa; }\n",
       "\n",
       "div.admonition.task:before { font-size: 1.2em !important;\n",
       "    content: '\\00a0    💭 Wykonaj poniższe zadanie!';\n",
       "    background: #eeeeee\n",
       ";}\n",
       "\n",
       "</style></style>"
      ],
      "text/plain": [
       "<IPython.core.display.HTML object>"
      ]
     },
     "execution_count": 3,
     "metadata": {},
     "output_type": "execute_result"
    }
   ],
   "source": [
    "from IPython.core.display import HTML\n",
    "\n",
    "def _set_css_style(css_file_path):\n",
    "   \"\"\"\n",
    "   Read the custom CSS file and load it into Jupyter.\n",
    "   Pass the file path to the CSS file.\n",
    "   \"\"\"\n",
    "\n",
    "   styles = open(css_file_path, \"r\").read()\n",
    "   s = '<style>%s</style>' % styles\n",
    "   return HTML(s)\n",
    "_set_css_style(\"./custom.css\")"
   ]
  },
  {
   "cell_type": "markdown",
   "metadata": {},
   "source": [
    "#### Zaimportuj biblioteki numpy i pandas."
   ]
  },
  {
   "cell_type": "code",
   "execution_count": 5,
   "metadata": {
    "pycharm": {
     "name": "#%%\n"
    }
   },
   "outputs": [],
   "source": [
    "import numpy as np\n",
    "import pandas as pd"
   ]
  },
  {
   "cell_type": "markdown",
   "metadata": {},
   "source": [
    "#### Załaduj plik csv.\n",
    "***\n",
    "Do zmiennej `df` załaduj plik `cars.csv`."
   ]
  },
  {
   "cell_type": "code",
   "execution_count": null,
   "metadata": {
    "pycharm": {
     "name": "#%%\n"
    }
   },
   "outputs": [],
   "source": [
    "df = pd.read_csv(\"./cars.csv\")"
   ]
  },
  {
   "cell_type": "markdown",
   "metadata": {},
   "source": [
    "W ten sposób otrzymujemy obiekt typu Dataframe."
   ]
  },
  {
   "cell_type": "markdown",
   "metadata": {},
   "source": [
    "#### Wyświetl pierwsze 5 linijek obiektu ''df''."
   ]
  },
  {
   "cell_type": "code",
   "execution_count": null,
   "metadata": {
    "pycharm": {
     "name": "#%%\n"
    }
   },
   "outputs": [],
   "source": [
    "df.head(5)"
   ]
  },
  {
   "cell_type": "markdown",
   "metadata": {},
   "source": [
    "#### Wyświetl ostatnie 20 linijek obiektu obiektu ''df''."
   ]
  },
  {
   "cell_type": "code",
   "execution_count": null,
   "metadata": {
    "pycharm": {
     "name": "#%%\n"
    }
   },
   "outputs": [],
   "source": [
    "df.tail(10)"
   ]
  },
  {
   "cell_type": "markdown",
   "metadata": {},
   "source": [
    "#### Wyświetl podstawowe informacje o naszych danych."
   ]
  },
  {
   "cell_type": "code",
   "execution_count": null,
   "metadata": {
    "pycharm": {
     "name": "#%%\n"
    }
   },
   "outputs": [],
   "source": [
    "df.info()"
   ]
  },
  {
   "cell_type": "markdown",
   "metadata": {},
   "source": [
    "#### Wyświetl wymiary obiektu \"df\"."
   ]
  },
  {
   "cell_type": "code",
   "execution_count": null,
   "metadata": {
    "pycharm": {
     "name": "#%%\n"
    }
   },
   "outputs": [],
   "source": [
    "df.shape()"
   ]
  },
  {
   "cell_type": "markdown",
   "metadata": {},
   "source": [
    "#### Jak otrzymać informacje o danych liczbowych znajdujących się w naszym pliku?"
   ]
  },
  {
   "cell_type": "code",
   "execution_count": null,
   "metadata": {
    "pycharm": {
     "name": "#%%\n"
    }
   },
   "outputs": [],
   "source": [
    "df.describe()"
   ]
  },
  {
   "cell_type": "markdown",
   "metadata": {},
   "source": [
    "#### Jak otrzymać informacje o wszystkich danych znajdujących się w naszym pliku?\n",
    "***\n",
    "Funkcja potrzebuje parametru `include = \"all\"`."
   ]
  },
  {
   "cell_type": "code",
   "execution_count": null,
   "metadata": {
    "pycharm": {
     "name": "#%%\n"
    }
   },
   "outputs": [],
   "source": [
    "df.describe(include = \"all\")"
   ]
  },
  {
   "cell_type": "markdown",
   "metadata": {},
   "source": [
    "#### Wyświetl wszystkie kolumny znajdujące się w naszym obiekcie."
   ]
  },
  {
   "cell_type": "code",
   "execution_count": null,
   "metadata": {
    "pycharm": {
     "name": "#%%\n"
    }
   },
   "outputs": [],
   "source": [
    "df.columns"
   ]
  },
  {
   "cell_type": "markdown",
   "metadata": {},
   "source": [
    "#### Wyświetl typy danych jakie występują w poszczególnych kolumnach obiektu \"df\"."
   ]
  },
  {
   "cell_type": "code",
   "execution_count": null,
   "metadata": {
    "pycharm": {
     "name": "#%%\n"
    }
   },
   "outputs": [],
   "source": [
    "df.dtypes"
   ]
  },
  {
   "cell_type": "markdown",
   "metadata": {},
   "source": [
    "#### Wyświetl dane z konkretnej kolumny.\n",
    "***\n",
    "\n",
    "Wyświetl dane z kolumny `'model_name'` na dwa sposoby."
   ]
  },
  {
   "cell_type": "code",
   "execution_count": null,
   "metadata": {
    "pycharm": {
     "name": "#%%\n"
    }
   },
   "outputs": [],
   "source": [
    "df['model_name']"
   ]
  },
  {
   "cell_type": "code",
   "execution_count": null,
   "metadata": {
    "pycharm": {
     "name": "#%%\n"
    }
   },
   "outputs": [],
   "source": [
    "df.model_name"
   ]
  },
  {
   "cell_type": "markdown",
   "metadata": {},
   "source": [
    "#### Stwórz podzbiór, który zawiera tylko wymienione kolumny.\n",
    "***\n",
    "Obiekt o nazwie `subset` powinien zawierać tylko kolumny `'manufacturer_name'` i `'model_name'`."
   ]
  },
  {
   "cell_type": "code",
   "execution_count": null,
   "metadata": {
    "pycharm": {
     "name": "#%%\n"
    }
   },
   "outputs": [],
   "source": [
    "subset = df[[\"manufacturer_name\", \"model_name\"]]"
   ]
  },
  {
   "cell_type": "markdown",
   "metadata": {},
   "source": [
    "#### Skopiuj podzbiór do nowego obiektu.\n",
    "***\n",
    "Stwórz tzw. \"hard copy\" obiektu `subset` do obiektu `subset_copy`."
   ]
  },
  {
   "cell_type": "code",
   "execution_count": null,
   "metadata": {
    "pycharm": {
     "name": "#%%\n"
    }
   },
   "outputs": [],
   "source": [
    "subset_copy = subset.copy()"
   ]
  },
  {
   "cell_type": "markdown",
   "metadata": {},
   "source": [
    "#### Stwórz pozdbiór zawierający losowe dane i skopiuj do nowego obiektu.\n",
    "***\n",
    "Nowy obiekt `random_subset` powinien zawierać 3000 losowo wybranych wierszy z obiektu \"df\" i powinien być tzw. \"hard copy\"."
   ]
  },
  {
   "cell_type": "code",
   "execution_count": null,
   "metadata": {
    "pycharm": {
     "name": "#%%\n"
    }
   },
   "outputs": [],
   "source": [
    "df_subset = df.sample(n=3853).copy()"
   ]
  },
  {
   "cell_type": "markdown",
   "metadata": {},
   "source": [
    "#### Zmień typ danych.\n",
    "***\n",
    "W obiekcie `df_subset`, sprawdź typ danych w  kolumnie `'transmission'`, a następnie zmień go na typ `'category'`."
   ]
  },
  {
   "cell_type": "code",
   "execution_count": null,
   "metadata": {},
   "outputs": [],
   "source": [
    "df_subset['transmission'].dtype"
   ]
  },
  {
   "cell_type": "code",
   "execution_count": null,
   "metadata": {
    "pycharm": {
     "name": "#%%\n"
    }
   },
   "outputs": [],
   "source": [
    "df_subset['transmission'] = df['transmission'].astype('category')"
   ]
  },
  {
   "cell_type": "markdown",
   "metadata": {},
   "source": [
    "#### Wyeksportuj obiekt do pliku .csv.\n",
    "***\n",
    "Zapisz dwa razy obiekt `df_subset` w formacie csv. Raz bez dodatkowych parametrów, oprócz nazwy, a drugi raz z parametrem `index = False`. Użyj dwóch różnych nazw!"
   ]
  },
  {
   "cell_type": "code",
   "execution_count": null,
   "metadata": {},
   "outputs": [],
   "source": [
    "df.to_csv(\"cars_index.csv\")"
   ]
  },
  {
   "cell_type": "code",
   "execution_count": null,
   "metadata": {
    "pycharm": {
     "name": "#%%\n"
    }
   },
   "outputs": [],
   "source": [
    "df.to_csv(\"cars_noindex.csv\", index = False)"
   ]
  },
  {
   "cell_type": "markdown",
   "metadata": {},
   "source": [
    "#### Wczytaj zapisane obiekty.\n",
    "***\n",
    "Wczytaj do dwóch różnych obiektów (nazwy obiektów inne niż \"df\") i wyświetl wyeksportowane obiekty. Czy jest między nimi jakaś różnica?"
   ]
  },
  {
   "cell_type": "code",
   "execution_count": null,
   "metadata": {},
   "outputs": [],
   "source": [
    "df_index = pd.read_csv(\"./cars_index.csv\")\n",
    "df_index"
   ]
  },
  {
   "cell_type": "code",
   "execution_count": null,
   "metadata": {},
   "outputs": [],
   "source": [
    "df_noindex = pd.read_csv(\"./cars_noindex.csv\")\n",
    "df_noindex"
   ]
  },
  {
   "cell_type": "markdown",
   "metadata": {},
   "source": [
    "#### Sprawdź, który typ danych jest naszybciej czytany i zapisywany\n",
    "***\n",
    "Poniżej znajduje się kod do tworzenia losowych danych i nadawania im odpowiednich typów.\n",
    "```python\n",
    "def get_dataset(size):\n",
    "    df = pd.DataFrame()\n",
    "    df['size'] = np.random.choice(['big','medium','small'], size)\n",
    "    df['age'] = np.random.randint(1, 50, size)\n",
    "    df['color'] = np.random.choice(['red','blue','yellow','green'], size)\n",
    "    df['win'] = np.random.choice(['yes','no'], size)\n",
    "    dates = pd.date_range('2020-01-01', '2022-12-31')\n",
    "    df['date'] = np.random.choice(dates, size)\n",
    "    df['probability'] = np.random.uniform(0, 1, size)\n",
    "    return df\n",
    "\n",
    "def set_dtypes(df):\n",
    "    df['size'] = df['size'].astype('category')\n",
    "    df['color'] = df['color'].astype('category')\n",
    "    df['age'] = df['age'].astype('int16')\n",
    "    df['win'] = df['win'].map({'yes':True, 'no': False})\n",
    "    df['probability'] = df['probability'].astype('float32')\n",
    "    return df\n",
    "```\n",
    "Użyj tych funkcji do stworzenia i nadania typu danym (size = 5 000 000). <br>\n",
    "Następnie przy pomocy funkcji `%time` zmierz czas potrzebny do zapisania i wczytania tych danych w różnych formatach m.in.:\n",
    "- csv\n",
    "- pickle\n",
    "- parquet\n",
    "- feather\n",
    "\n",
    "Przykład kodu:\n",
    "\n",
    "```python\n",
    "print('Reading and writing CSV')\n",
    "df = get_dataset(5_000_000)\n",
    "df = set_dtypes(df)\n",
    "%time df.to_csv('test.csv')\n",
    "%time df_csv = pd.read_csv('test.csv')\n",
    "```\n",
    "***"
   ]
  },
  {
   "cell_type": "code",
   "execution_count": null,
   "metadata": {
    "pycharm": {
     "name": "#%%\n"
    }
   },
   "outputs": [],
   "source": [
    "def get_dataset(size):\n",
    "    \n",
    "    df = pd.DataFrame()\n",
    "    df['size'] = np.random.choice(['big','medium','small'], size)\n",
    "    df['age'] = np.random.randint(1, 50, size)\n",
    "    df['color'] = np.random.choice(['red','blue','yellow','green'], size)\n",
    "    df['win'] = np.random.choice(['yes','no'], size)\n",
    "    dates = pd.date_range('2020-01-01', '2022-12-31')\n",
    "    df['date'] = np.random.choice(dates, size)\n",
    "    df['probability'] = np.random.uniform(0, 1, size)\n",
    "    return df\n",
    "\n",
    "def set_dtypes(df):\n",
    "    df['size'] = df['size'].astype('category')\n",
    "    df['color'] = df['color'].astype('category')\n",
    "    df['age'] = df['age'].astype('int16')\n",
    "    df['win'] = df['win'].map({'yes':True, 'no': False})\n",
    "    df['probability'] = df['probability'].astype('float32')\n",
    "    return df"
   ]
  },
  {
   "cell_type": "code",
   "execution_count": null,
   "metadata": {
    "pycharm": {
     "name": "#%%\n"
    }
   },
   "outputs": [],
   "source": [
    "print('Reading and writing CSV')\n",
    "df = get_dataset(5_000_000)\n",
    "df = set_dtypes(df)\n",
    "%time df.to_csv('test.csv')\n",
    "%time df_csv = pd.read_csv('test.csv')"
   ]
  },
  {
   "cell_type": "code",
   "execution_count": null,
   "metadata": {
    "pycharm": {
     "name": "#%%\n"
    }
   },
   "outputs": [],
   "source": [
    "print('Reading and writing Pickle')\n",
    "df = get_dataset(5_000_000)\n",
    "df = set_dtypes(df)\n",
    "%time df.to_pickle('test.pickle')\n",
    "%time df_pickle = pd.read_pickle('test.pickle')"
   ]
  },
  {
   "cell_type": "code",
   "execution_count": null,
   "metadata": {
    "pycharm": {
     "name": "#%%\n"
    }
   },
   "outputs": [],
   "source": [
    "print('Reading and writing Parquet')\n",
    "df = get_dataset(5_000_000)\n",
    "df = set_dtypes(df)\n",
    "%time df.to_parquet('test.parquet')\n",
    "%time df_parquet = pd.read_parquet('test.parquet')"
   ]
  },
  {
   "cell_type": "code",
   "execution_count": null,
   "metadata": {
    "pycharm": {
     "name": "#%%\n"
    }
   },
   "outputs": [],
   "source": [
    "print('Reading and writing Feather')\n",
    "df = get_dataset(5_000_000)\n",
    "df = set_dtypes(df)\n",
    "%time df.to_feather('test.feather')\n",
    "%time df_feather = pd.read_feather('test.feather')"
   ]
  },
  {
   "cell_type": "markdown",
   "metadata": {
    "pycharm": {
     "name": "#%% md\n"
    }
   },
   "source": [
    "#### Posortuj indeksy po kolumnach, a następnie po wierszach.\n",
    "***\n",
    "Różnica w wartości parametru `axis`."
   ]
  },
  {
   "cell_type": "code",
   "execution_count": null,
   "metadata": {
    "pycharm": {
     "name": "#%%\n"
    }
   },
   "outputs": [],
   "source": [
    "df.sort_index(axis=1)"
   ]
  },
  {
   "cell_type": "code",
   "execution_count": null,
   "metadata": {
    "pycharm": {
     "name": "#%%\n"
    }
   },
   "outputs": [],
   "source": [
    "df.sort_index(axis=0)"
   ]
  },
  {
   "cell_type": "markdown",
   "metadata": {},
   "source": [
    "#### Posortuj dane po wartościach w danej kolumnie.\n",
    "***\n",
    "Posortuj i wyświetl dane po wartościach w kolumnie `'engine_capacity'`."
   ]
  },
  {
   "cell_type": "code",
   "execution_count": null,
   "metadata": {
    "pycharm": {
     "name": "#%%\n"
    }
   },
   "outputs": [],
   "source": [
    "df.sort_values('engine_capacity')"
   ]
  },
  {
   "cell_type": "markdown",
   "metadata": {
    "pycharm": {
     "name": "#%% md\n"
    }
   },
   "source": [
    "#### Wyświetl ile różnych wartości przyjmują dane w konkretnej kolumnie?\n",
    "***\n",
    "Ile różnych wartości znajduje się w kolumnie `'engine_type'`?"
   ]
  },
  {
   "cell_type": "code",
   "execution_count": null,
   "metadata": {
    "pycharm": {
     "name": "#%%\n"
    }
   },
   "outputs": [],
   "source": [
    "df['engine_type'].unique()"
   ]
  },
  {
   "cell_type": "markdown",
   "metadata": {},
   "source": [
    "#### Znajdź dane, które znajdują się między konkretnymi indeksami i w konkretnej kolumnie.\n",
    "***\n",
    "Wyświetl dane o indeksie między 100, a 1000 i w kolumnie `'model_type'`."
   ]
  },
  {
   "cell_type": "code",
   "execution_count": null,
   "metadata": {
    "pycharm": {
     "name": "#%%\n"
    }
   },
   "outputs": [],
   "source": [
    "df.loc[10054:19511, ['engine_capacity']]"
   ]
  },
  {
   "cell_type": "markdown",
   "metadata": {},
   "source": [
    "Następnie wyświetl dane o indeksie między 10000, a 20000 i w kolumnach od 0 do 2."
   ]
  },
  {
   "cell_type": "code",
   "execution_count": null,
   "metadata": {
    "pycharm": {
     "name": "#%%\n"
    }
   },
   "outputs": [],
   "source": [
    "df.iloc[10000:20000, 0:2]"
   ]
  },
  {
   "cell_type": "markdown",
   "metadata": {},
   "source": [
    "#### Stwórz własny obiekty typu DataFrame i wprowadź do niego różne typy danych.\n",
    "***\n",
    "Stwórz i wyświetl obiekt `my_df` zawierający cztery kolumny:\n",
    "- kolumna \"A\" powinna zwierać dane typu `float32`,\n",
    "- kolumna \"B\" powinna zawierać dane typu `category` o wartościach `'kółko'` albo `'krzyżyk'`,\n",
    "- kolumna \"C\" powinna zwierać napis `'Witaj Świecie!'`,\n",
    "- kolumna \"D\" powinna zwierać dane typu `Timestamp` z dzisiejszą datą."
   ]
  },
  {
   "cell_type": "code",
   "execution_count": null,
   "metadata": {
    "pycharm": {
     "name": "#%%\n"
    }
   },
   "outputs": [],
   "source": [
    "df_my = pd.DataFrame(\n",
    "\n",
    "    {\n",
    "\n",
    "        \"A\": 1.0,\n",
    "        \n",
    "        \"B\": pd.Categorical(['kółko', 'krzyżyk', 'kółko', 'krzyżyk']),\n",
    "        \n",
    "        \"C\": 'Witaj Świecie!',\n",
    "\n",
    "        \"D\": pd.Timestamp(\"20230208\"),\n",
    "\n",
    "\n",
    "    }\n",
    "\n",
    ")"
   ]
  }
 ],
 "metadata": {
  "kernelspec": {
   "display_name": "Python 3 (ipykernel)",
   "language": "python",
   "name": "python3"
  },
  "language_info": {
   "codemirror_mode": {
    "name": "ipython",
    "version": 3
   },
   "file_extension": ".py",
   "mimetype": "text/x-python",
   "name": "python",
   "nbconvert_exporter": "python",
   "pygments_lexer": "ipython3",
   "version": "3.9.5"
  }
 },
 "nbformat": 4,
 "nbformat_minor": 1
}