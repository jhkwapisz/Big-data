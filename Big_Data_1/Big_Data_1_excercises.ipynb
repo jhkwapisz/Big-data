{
 "cells": [
  {
   "cell_type": "markdown",
   "source": [
    "# Big Data w biznesie"
   ],
   "metadata": {
    "collapsed": false
   }
  },
  {
   "cell_type": "markdown",
   "source": [
    "## Pierwszy notebook zadania"
   ],
   "metadata": {
    "collapsed": false
   }
  },
  {
   "cell_type": "markdown",
   "source": [
    "Ta komórka służy do ładowania pliku `.css` do Jupyter Notebooków, który pozwala na dostosowanie wyglądu notatnika do własnych preferencji.\n",
    "\n",
    "Aby to zrobić, należy najpierw posiadać plik `custom.css` ze zdefiniowanymi stylami (będzie dostępny w repozytorium na GitHubie).\n",
    "\n",
    "Następnie można odkomentować tę komórkę i załadować plik do notatnika. Dzięki temu można sprawdzić, czy zmiany wprowadzone w pliku css zostaną poprawnie zastosowane w notatniku."
   ],
   "metadata": {
    "collapsed": false
   }
  },
  {
   "cell_type": "code",
   "execution_count": null,
   "outputs": [],
   "source": [
    "'''from IPython.core.display import HTML\n",
    "\n",
    "def _set_css_style(css_file_path):\n",
    "   \"\"\"\n",
    "   Read the custom CSS file and load it into Jupyter.\n",
    "   Pass the file path to the CSS file.\n",
    "   \"\"\"\n",
    "\n",
    "   styles = open(css_file_path, \"r\").read()\n",
    "   s = '<style>%s</style>' % styles\n",
    "   return HTML(s)\n",
    "_set_css_style(\"../custom.css\")'''"
   ],
   "metadata": {
    "collapsed": false
   }
  },
  {
   "cell_type": "markdown",
   "source": [
    "#### Zaimportuj biblioteki numpy i pandas."
   ],
   "metadata": {
    "collapsed": false
   }
  },
  {
   "cell_type": "code",
   "execution_count": null,
   "outputs": [],
   "source": [
    "import numpy as np\n",
    "import pandas as pd"
   ],
   "metadata": {
    "collapsed": false
   }
  },
  {
   "cell_type": "markdown",
   "source": [
    "#### Załaduj plik csv.\n",
    "***\n",
    "Do zmiennej `df` załaduj plik `cars.csv`."
   ],
   "metadata": {
    "collapsed": false
   }
  },
  {
   "cell_type": "code",
   "execution_count": null,
   "outputs": [],
   "source": [],
   "metadata": {
    "collapsed": false
   }
  },
  {
   "cell_type": "markdown",
   "source": [
    "W ten sposób otrzymujemy obiekt typu Dataframe."
   ],
   "metadata": {
    "collapsed": false
   }
  },
  {
   "cell_type": "markdown",
   "source": [
    "#### Wyświetl pierwsze 5 linijek obiektu ''df''."
   ],
   "metadata": {
    "collapsed": false
   }
  },
  {
   "cell_type": "code",
   "execution_count": null,
   "outputs": [],
   "source": [],
   "metadata": {
    "collapsed": false
   }
  },
  {
   "cell_type": "markdown",
   "source": [
    "#### Wyświetl ostatnie 20 linijek obiektu ''df''."
   ],
   "metadata": {
    "collapsed": false
   }
  },
  {
   "cell_type": "code",
   "execution_count": null,
   "outputs": [],
   "source": [],
   "metadata": {
    "collapsed": false
   }
  },
  {
   "cell_type": "markdown",
   "source": [
    "#### Wyświetl podstawowe informacje o naszych danych."
   ],
   "metadata": {
    "collapsed": false
   }
  },
  {
   "cell_type": "code",
   "execution_count": null,
   "outputs": [],
   "source": [],
   "metadata": {
    "collapsed": false
   }
  },
  {
   "cell_type": "markdown",
   "source": [
    "#### Wyświetl wymiary obiektu \"df\"."
   ],
   "metadata": {
    "collapsed": false
   }
  },
  {
   "cell_type": "code",
   "execution_count": null,
   "outputs": [],
   "source": [],
   "metadata": {
    "collapsed": false
   }
  },
  {
   "cell_type": "markdown",
   "source": [
    "#### Jak otrzymać informacje o danych liczbowych znajdujących się w naszym pliku?"
   ],
   "metadata": {
    "collapsed": false
   }
  },
  {
   "cell_type": "code",
   "execution_count": null,
   "outputs": [],
   "source": [],
   "metadata": {
    "collapsed": false
   }
  },
  {
   "cell_type": "markdown",
   "source": [
    "#### Jak otrzymać informacje o wszystkich danych znajdujących się w naszym pliku?\n",
    "***\n",
    "Funkcja potrzebuje parametru `include = \"all\"`."
   ],
   "metadata": {
    "collapsed": false
   }
  },
  {
   "cell_type": "code",
   "execution_count": null,
   "outputs": [],
   "source": [],
   "metadata": {
    "collapsed": false
   }
  },
  {
   "cell_type": "markdown",
   "source": [
    "#### Wyświetl wszystkie kolumny znajdujące się w naszym obiekcie."
   ],
   "metadata": {
    "collapsed": false
   }
  },
  {
   "cell_type": "code",
   "execution_count": null,
   "outputs": [],
   "source": [],
   "metadata": {
    "collapsed": false
   }
  },
  {
   "cell_type": "markdown",
   "source": [
    "#### Wyświetl typy danych, jakie występują w poszczególnych kolumnach obiektu \"df\"."
   ],
   "metadata": {
    "collapsed": false
   }
  },
  {
   "cell_type": "code",
   "execution_count": null,
   "outputs": [],
   "source": [],
   "metadata": {
    "collapsed": false
   }
  },
  {
   "cell_type": "markdown",
   "source": [
    "#### Wyświetl dane z konkretnej kolumny.\n",
    "***\n",
    "\n",
    "Wyświetl dane z kolumny `'model_name'` na dwa sposoby."
   ],
   "metadata": {
    "collapsed": false
   }
  },
  {
   "cell_type": "code",
   "execution_count": null,
   "outputs": [],
   "source": [],
   "metadata": {
    "collapsed": false
   }
  },
  {
   "cell_type": "code",
   "execution_count": null,
   "outputs": [],
   "source": [],
   "metadata": {
    "collapsed": false
   }
  },
  {
   "cell_type": "markdown",
   "source": [
    "#### Stwórz podzbiór, który zawiera tylko wymienione kolumny.\n",
    "***\n",
    "Obiekt o nazwie `df_2_columns` powinien zawierać tylko kolumny `'manufacturer_name'` i `'model_name'`"
   ],
   "metadata": {
    "collapsed": false
   }
  },
  {
   "cell_type": "code",
   "execution_count": null,
   "outputs": [],
   "source": [],
   "metadata": {
    "collapsed": false
   }
  },
  {
   "cell_type": "markdown",
   "source": [
    "#### Skopiuj podzbiór do nowego obiektu.\n",
    "***\n",
    "Stwórz tzw. \"hard copy\" obiektu `df` do obiektu `df_copy`."
   ],
   "metadata": {
    "collapsed": false
   }
  },
  {
   "cell_type": "code",
   "execution_count": null,
   "outputs": [],
   "source": [],
   "metadata": {
    "collapsed": false
   }
  },
  {
   "cell_type": "markdown",
   "source": [
    "#### Stwórz podzbiór zawierający losowe dane i skopiuj do nowego obiektu.\n",
    "***\n",
    "Nowy obiekt `df_subset` powinien zawierać 3000 losowo wybranych wierszy z obiektu \"df\" i powinien być tzw. \"hard copy\"."
   ],
   "metadata": {
    "collapsed": false
   }
  },
  {
   "cell_type": "code",
   "execution_count": null,
   "outputs": [],
   "source": [],
   "metadata": {
    "collapsed": false
   }
  },
  {
   "cell_type": "markdown",
   "source": [
    "#### Zmień typ danych.\n",
    "***\n",
    "W obiekcie `df_subset`, sprawdź typ danych w kolumnie `'transmission'`, a następnie zmień go na typ `'category'`."
   ],
   "metadata": {
    "collapsed": false
   }
  },
  {
   "cell_type": "code",
   "execution_count": null,
   "outputs": [],
   "source": [],
   "metadata": {
    "collapsed": false
   }
  },
  {
   "cell_type": "code",
   "execution_count": null,
   "outputs": [],
   "source": [],
   "metadata": {
    "collapsed": false
   }
  },
  {
   "cell_type": "markdown",
   "source": [
    "#### Wyeksportuj obiekt do pliku .csv.\n",
    "***\n",
    "Zapisz dwa razy obiekt `df_subset` w formacie csv. Raz bez dodatkowych parametrów, oprócz nazwy, a drugi raz z parametrem `index = False`. Użyj dwóch różnych nazw!"
   ],
   "metadata": {
    "collapsed": false
   }
  },
  {
   "cell_type": "code",
   "execution_count": null,
   "outputs": [],
   "source": [],
   "metadata": {
    "collapsed": false
   }
  },
  {
   "cell_type": "code",
   "execution_count": null,
   "outputs": [],
   "source": [],
   "metadata": {
    "collapsed": false
   }
  },
  {
   "cell_type": "markdown",
   "source": [
    "#### Wczytaj zapisane obiekty.\n",
    "***\n",
    "Wczytaj do dwóch różnych obiektów (nazwy obiektów inne niż \"df\") i wyświetl wyeksportowane obiekty. Czy jest między nimi jakaś różnica?"
   ],
   "metadata": {
    "collapsed": false
   }
  },
  {
   "cell_type": "code",
   "execution_count": null,
   "outputs": [],
   "source": [],
   "metadata": {
    "collapsed": false
   }
  },
  {
   "cell_type": "code",
   "execution_count": null,
   "outputs": [],
   "source": [],
   "metadata": {
    "collapsed": false
   }
  },
  {
   "cell_type": "markdown",
   "source": [
    "#### Sprawdź, który typ danych jest najszybciej czytany i zapisywany\n",
    "***\n",
    "Poniżej znajduje się kod do tworzenia losowych danych i nadawania im odpowiednich typów.\n",
    "```python\n",
    "def get_dataset(size):\n",
    "    df = pd.DataFrame()\n",
    "    df['size'] = np.random.choice(['big','medium','small'], size)\n",
    "    df['age'] = np.random.randint(1, 50, size)\n",
    "    df['color'] = np.random.choice(['red','blue','yellow','green'], size)\n",
    "    df['win'] = np.random.choice(['yes','no'], size)\n",
    "    dates = pd.date_range('2020-01-01', '2022-12-31')\n",
    "    df['date'] = np.random.choice(dates, size)\n",
    "    df['probability'] = np.random.uniform(0, 1, size)\n",
    "    return df\n",
    "\n",
    "def set_dtypes(df):\n",
    "    df['size'] = df['size'].astype('category')\n",
    "    df['color'] = df['color'].astype('category')\n",
    "    df['age'] = df['age'].astype('int16')\n",
    "    df['win'] = df['win'].map({'yes':True, 'no': False})\n",
    "    df['probability'] = df['probability'].astype('float32')\n",
    "    return df\n",
    "```\n",
    "Użyj tych funkcji do stworzenia i nadania typu danym (size = 5 000 000). <br>\n",
    "Następnie przy pomocy funkcji `%time` zmierz czas potrzebny do zapisania i wczytania tych danych w różnych formatach m.in.:\n",
    "- csv\n",
    "- pickle\n",
    "- parquet\n",
    "- feather\n",
    "\n",
    "Przykład kodu:\n",
    "\n",
    "```python\n",
    "print('Reading and writing CSV')\n",
    "df = get_dataset(5_000_000)\n",
    "df = set_dtypes(df)\n",
    "%time df.to_csv('test.csv')\n",
    "%time df_csv = pd.read_csv('test.csv')\n",
    "```\n",
    "***\n",
    "\n",
    "Jeśli korzystasz ze swojego komputera, upewnij się, że masz zainstalowaną bibliotekę PyArrow, aby móc wczytywać i zapisywać pliki w formacie Parquet i Feather. Korzystając z platformy Colab, nie musisz się tym martwić, ponieważ biblioteka jest już zainstalowana."
   ],
   "metadata": {
    "collapsed": false
   }
  },
  {
   "cell_type": "code",
   "execution_count": null,
   "outputs": [],
   "source": [
    "def get_dataset(size):\n",
    "\n",
    "    df = pd.DataFrame()\n",
    "    df['size'] = np.random.choice(['big','medium','small'], size)\n",
    "    df['age'] = np.random.randint(1, 50, size)\n",
    "    df['color'] = np.random.choice(['red','blue','yellow','green'], size)\n",
    "    df['win'] = np.random.choice(['yes','no'], size)\n",
    "    dates = pd.date_range('2020-01-01', '2022-12-31')\n",
    "    df['date'] = np.random.choice(dates, size)\n",
    "    df['probability'] = np.random.uniform(0, 1, size)\n",
    "    return df\n",
    "\n",
    "def set_dtypes(df):\n",
    "    df['size'] = df['size'].astype('category')\n",
    "    df['color'] = df['color'].astype('category')\n",
    "    df['age'] = df['age'].astype('int16')\n",
    "    df['win'] = df['win'].map({'yes':True, 'no': False})\n",
    "    df['probability'] = df['probability'].astype('float32')\n",
    "    return df"
   ],
   "metadata": {
    "collapsed": false
   }
  },
  {
   "cell_type": "code",
   "execution_count": null,
   "outputs": [],
   "source": [
    "print('Reading and writing CSV')\n"
   ],
   "metadata": {
    "collapsed": false
   }
  },
  {
   "cell_type": "code",
   "execution_count": null,
   "outputs": [],
   "source": [
    "print('Reading and writing Pickle')\n"
   ],
   "metadata": {
    "collapsed": false
   }
  },
  {
   "cell_type": "code",
   "execution_count": null,
   "outputs": [],
   "source": [
    "print('Reading and writing Parquet')\n"
   ],
   "metadata": {
    "collapsed": false
   }
  },
  {
   "cell_type": "code",
   "execution_count": null,
   "outputs": [],
   "source": [
    "print('Reading and writing Feather')\n"
   ],
   "metadata": {
    "collapsed": false
   }
  },
  {
   "cell_type": "markdown",
   "source": [
    "#### Załaduj ponownie plik csv.\n",
    "***\n",
    "Dla osób, które nadpisały obiekt `df`, wracamy do danych samochodowych. Do zmiennej `df` załaduj plik `cars.csv`."
   ],
   "metadata": {
    "collapsed": false
   }
  },
  {
   "cell_type": "code",
   "execution_count": null,
   "outputs": [],
   "source": [
    "df = pd.read_csv(\"./cars.csv\")"
   ],
   "metadata": {
    "collapsed": false
   }
  },
  {
   "cell_type": "markdown",
   "source": [
    "#### Posortuj indeksy wierszy, a następnie indeksy kolumn.\n",
    "***\n",
    "Podpowiedź: Chodzi o różnicę w wartości parametru `axis`."
   ],
   "metadata": {
    "collapsed": false
   }
  },
  {
   "cell_type": "code",
   "execution_count": null,
   "outputs": [],
   "source": [],
   "metadata": {
    "collapsed": false
   }
  },
  {
   "cell_type": "code",
   "execution_count": null,
   "outputs": [],
   "source": [],
   "metadata": {
    "collapsed": false
   }
  },
  {
   "cell_type": "markdown",
   "source": [
    "Czym się różni sortowanie indeksów wierszy i kolumn?"
   ],
   "metadata": {
    "collapsed": false
   }
  },
  {
   "cell_type": "markdown",
   "source": [
    "#### Posortuj dane po wartościach w danej kolumnie.\n",
    "***\n",
    "Posortuj i wyświetl dane po wartościach w kolumnie `'engine_capacity'`."
   ],
   "metadata": {
    "collapsed": false
   }
  },
  {
   "cell_type": "code",
   "execution_count": null,
   "outputs": [],
   "source": [],
   "metadata": {
    "collapsed": false
   }
  },
  {
   "cell_type": "markdown",
   "source": [
    "#### Wyświetl, ile różnych wartości przyjmują dane w konkretnej kolumnie?\n",
    "***\n",
    "Ile różnych wartości znajduje się w kolumnie `'engine_type'`?"
   ],
   "metadata": {
    "collapsed": false
   }
  },
  {
   "cell_type": "code",
   "execution_count": null,
   "outputs": [],
   "source": [],
   "metadata": {
    "collapsed": false
   }
  },
  {
   "cell_type": "markdown",
   "source": [
    "#### Znajdź dane, które znajdują się między konkretnymi indeksami i w konkretnej kolumnie.\n",
    "***\n",
    "Wyświetl dane o indeksie między 100, a 1000 i w kolumnie `'engine_capacity'`."
   ],
   "metadata": {
    "collapsed": false
   }
  },
  {
   "cell_type": "code",
   "execution_count": null,
   "outputs": [],
   "source": [],
   "metadata": {
    "collapsed": false
   }
  },
  {
   "cell_type": "markdown",
   "source": [
    "Następnie wyświetl dane o indeksie między 10000, a 20000 i w kolumnach od 0 do 2."
   ],
   "metadata": {
    "collapsed": false
   }
  },
  {
   "cell_type": "code",
   "execution_count": null,
   "outputs": [],
   "source": [],
   "metadata": {
    "collapsed": false
   }
  },
  {
   "cell_type": "markdown",
   "source": [
    "#### Stwórz własny obiekty typu DataFrame i wprowadź do niego różne typy danych.\n",
    "***\n",
    "Stwórz i wyświetl obiekt `my_df` zawierający cztery kolumny:\n",
    "- kolumna \"A\" powinna zwierać dane typu `float32`,\n",
    "- kolumna \"B\" powinna zawierać dane typu `category` o wartościach `'kółko'` albo `'krzyżyk'`,\n",
    "- kolumna \"C\" powinna zwierać napis `'Witaj Świecie!'`,\n",
    "- kolumna \"D\" powinna zwierać dane typu `Timestamp` z dzisiejszą datą."
   ],
   "metadata": {
    "collapsed": false
   }
  },
  {
   "cell_type": "code",
   "execution_count": null,
   "outputs": [],
   "source": [],
   "metadata": {
    "collapsed": false
   }
  }
 ],
 "metadata": {
  "kernelspec": {
   "display_name": "Python 3 (ipykernel)",
   "language": "python",
   "name": "python3"
  },
  "language_info": {
   "codemirror_mode": {
    "name": "ipython",
    "version": 3
   },
   "file_extension": ".py",
   "mimetype": "text/x-python",
   "name": "python",
   "nbconvert_exporter": "python",
   "pygments_lexer": "ipython3",
   "version": "3.9.5"
  }
 },
 "nbformat": 4,
 "nbformat_minor": 1
}
