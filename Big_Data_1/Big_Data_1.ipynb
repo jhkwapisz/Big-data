{
 "cells": [
  {
   "cell_type": "markdown",
   "source": [
    "# Big Data w biznesie"
   ],
   "metadata": {
    "collapsed": false
   }
  },
  {
   "cell_type": "markdown",
   "metadata": {
    "pycharm": {
     "name": "#%% md\n"
    }
   },
   "source": [
    "## Pierwszy notebook"
   ]
  },
  {
   "cell_type": "code",
   "execution_count": null,
   "metadata": {
    "pycharm": {
     "name": "#%%\n"
    }
   },
   "outputs": [],
   "source": [
    "from IPython.core.display import HTML\n",
    "\n",
    "def _set_css_style(css_file_path):\n",
    "   \"\"\"\n",
    "   Read the custom CSS file and load it into Jupyter.\n",
    "   Pass the file path to the CSS file.\n",
    "   \"\"\"\n",
    "\n",
    "   styles = open(css_file_path, \"r\").read()\n",
    "   s = '<style>%s</style>' % styles\n",
    "   return HTML(s)\n",
    "_set_css_style(\"../custom.css\")"
   ]
  },
  {
   "cell_type": "markdown",
   "metadata": {},
   "source": [
    "Pierwszym krokiem, który zazwyczaj wykonujemy, jest zaimportowanie potrzebnych nam bibliotek."
   ]
  },
  {
   "cell_type": "code",
   "execution_count": null,
   "metadata": {
    "pycharm": {
     "name": "#%%\n"
    }
   },
   "outputs": [],
   "source": [
    "import numpy as np\n",
    "import pandas as pd"
   ]
  },
  {
   "cell_type": "markdown",
   "source": [
    "# Zapisywanie i wczytywanie"
   ],
   "metadata": {
    "collapsed": false
   }
  },
  {
   "cell_type": "markdown",
   "source": [
    "Funkcja `read_csv(\"./lokalizacja_pliku/nazwa_pliku.csv\")` w bibliotece Pandas odczytuje plik CSV (Comma Separated Values) i tworzy obiekt typu DataFrame Pandas.\n",
    "\n",
    "Argument funkcji jest ścieżką do pliku CSV.\n",
    "\n",
    "Funkcja `pd.read_csv` załaduje dane z pliku do DataFrame Pandas, a rezultat powinien zostać przypisany do zmiennej."
   ],
   "metadata": {
    "collapsed": false
   }
  },
  {
   "cell_type": "code",
   "execution_count": null,
   "metadata": {
    "pycharm": {
     "name": "#%%\n"
    }
   },
   "outputs": [],
   "source": [
    "df = pd.read_csv(\"./cars.csv\")"
   ]
  },
  {
   "cell_type": "markdown",
   "source": [
    "Możesz także stworzyć swój własny obiekt typu DataFrame w bibliotece pandas.\n",
    "\n",
    "Możesz użyć do tego funkcji `pd.DataFrame()`.\n",
    "\n",
    "Na przykład:"
   ],
   "metadata": {
    "collapsed": false
   }
  },
  {
   "cell_type": "code",
   "execution_count": null,
   "outputs": [],
   "source": [
    "data = {\"Name\": [\"John\", \"Jane\", \"Jim\", \"Joan\"],\n",
    "        \"Age\": [32, 28, 40, 38],\n",
    "        \"Occupation\": pd.Categorical([\"Engineer\", \"Doctor\", \"Teacher\", \"Lawyer\"]),\n",
    "        \"City\": pd.Categorical([\"New York\", \"London\", \"Paris\", \"Berlin\"]),\n",
    "        \"Salary\": [100000, 115000, 90000, 125000],\n",
    "        \"Year of Experience\": [5, 7, 8, 12],\n",
    "        \"Employed\": [True, True, False, True],\n",
    "        \"Date of Application\": pd.Timestamp(\"20230208\", \"20221218\", \"20230131\", \"20230228\")}\n",
    "df_created = pd.DataFrame(data)"
   ],
   "metadata": {
    "collapsed": false,
    "pycharm": {
     "name": "#%%\n"
    }
   }
  },
  {
   "cell_type": "markdown",
   "source": [
    "Funkcje `df.to_csv` to narzędzie do eksportowania danych z obiektu DataFrame do pliku CSV."
   ],
   "metadata": {
    "collapsed": false
   }
  },
  {
   "cell_type": "code",
   "execution_count": null,
   "outputs": [],
   "source": [
    "df_created.to_csv(\"random_index.csv\")"
   ],
   "metadata": {
    "collapsed": false,
    "pycharm": {
     "name": "#%%\n"
    }
   }
  },
  {
   "cell_type": "code",
   "execution_count": null,
   "outputs": [],
   "source": [
    "df_created.to_csv(\"random_noindex.csv\", index=False)"
   ],
   "metadata": {
    "collapsed": false,
    "pycharm": {
     "name": "#%%\n"
    }
   }
  },
  {
   "cell_type": "markdown",
   "source": [
    "Funkcja `df.to_csv(\"random_index.csv\")` eksportuje dane z DataFrame, zachowując indeks w pliku wyjściowym.\n",
    "\n",
    "Funkcja `df.to_csv(\"random_noindex.csv\", index = False)` eksportuje dane z DataFrame bez zachowywania indeksu w pliku wyjściowym.\n",
    "\n",
    "Często, indeks jest używany jako identyfikator wiersza w DataFrame i nie jest przypisany do danych ani nie jest ich częścią. W takim przypadku, zachowanie indeksu w pliku CSV może prowadzić do nieporozumień, jeśli jest on używany jako kolumna w danych. Z tego powodu, często jest wygodne, aby wyeksportować plik CSV bez indeksu, aby uniknąć nieporozumień i upewnić się, że dane są przechowywane jako czysta tabela bez informacji o indeksie."
   ],
   "metadata": {
    "collapsed": false
   }
  },
  {
   "cell_type": "markdown",
   "source": [
    "# Szybka analiza danych"
   ],
   "metadata": {
    "collapsed": false
   }
  },
  {
   "cell_type": "markdown",
   "metadata": {},
   "source": [
    "Gdy chcemy szybko zobaczyć, jak wyglądają dane, funkcje `df.head()` oraz `df.tail()` są przydatne i często używane jako pierwszy krok w analizie danych.\n",
    "\n",
    "Funkcje te mogą przyjmować opcjonalny argument liczbowy, który określa, ile wierszy chcemy zobaczyć. W tym przypadku argumenty wynoszą odpowiednio 5 oraz 10."
   ]
  },
  {
   "cell_type": "code",
   "execution_count": null,
   "metadata": {
    "pycharm": {
     "name": "#%%\n"
    }
   },
   "outputs": [],
   "source": [
    "df.head(5)"
   ]
  },
  {
   "cell_type": "code",
   "execution_count": null,
   "metadata": {
    "pycharm": {
     "name": "#%%\n"
    }
   },
   "outputs": [],
   "source": [
    "df.tail(10)"
   ]
  },
  {
   "cell_type": "markdown",
   "metadata": {},
   "source": [
    "Czasami chcemy się dowiedzieć więcej o naszych danych.\n",
    "\n",
    "Funkcja `df.info()` wyświetla informacje o każdej kolumnie w DataFrame, w tym liczbę niezerowych wartości, typ danych i zużycie pamięci.\n",
    "\n",
    "Funkcja `df.describe()` wyświetla statystyki opisowe dla kolumn numerycznych.\n",
    "\n",
    "Opcjonalny argument `include = \"all\"` oznacza, że statystyki opisowe będą obliczone dla wszystkich typów danych, w tym tekstowych.\n",
    "\n",
    "Statystyki opisowe zawierają informacje takie jak średnia, odchylenie standardowe, minimum, maksimum, kwartyle i inne."
   ]
  },
  {
   "cell_type": "code",
   "execution_count": null,
   "metadata": {
    "pycharm": {
     "name": "#%%\n"
    }
   },
   "outputs": [],
   "source": [
    "df.info()"
   ]
  },
  {
   "cell_type": "code",
   "execution_count": null,
   "metadata": {
    "pycharm": {
     "name": "#%%\n"
    }
   },
   "outputs": [],
   "source": [
    "df.describe()"
   ]
  },
  {
   "cell_type": "code",
   "execution_count": null,
   "metadata": {
    "pycharm": {
     "name": "#%%\n"
    }
   },
   "outputs": [],
   "source": [
    "df.describe(include = \"all\")"
   ]
  },
  {
   "cell_type": "markdown",
   "metadata": {},
   "source": [
    "Istnieje wiele funkcji, które dostarczają nam informacji o naszym obiekcie DataFrame.\n",
    "\n",
    "Funkcja `df.dtypes` zwraca typ danych każdej kolumny w DataFrame. Dzięki temu możemy łatwo określić, czy kolumna zawiera liczby, czy tekst, co jest ważne przy wykonywaniu różnych operacji na danych.\n",
    "\n",
    "Funkcja `df.shape` zwraca kształt DataFrame jako parę liczb, która odpowiada liczbie wierszy i liczbie kolumn. Ta informacja jest przydatna do określenia rozmiaru danych, co jest ważne przy planowaniu operacji i algorytmów, które będą wykonywane na danych."
   ]
  },
  {
   "cell_type": "code",
   "execution_count": null,
   "metadata": {
    "pycharm": {
     "name": "#%%\n"
    }
   },
   "outputs": [],
   "source": [
    "df.dtypes"
   ]
  },
  {
   "cell_type": "code",
   "execution_count": null,
   "outputs": [],
   "source": [
    "df.shape"
   ],
   "metadata": {
    "collapsed": false,
    "pycharm": {
     "name": "#%%\n"
    }
   }
  },
  {
   "cell_type": "markdown",
   "source": [
    "# Odwoływanie się do podzbiorów"
   ],
   "metadata": {
    "collapsed": false
   }
  },
  {
   "cell_type": "markdown",
   "source": [
    "Funkcja `df.columns` zwraca nazwy wszystkich kolumn w DataFrame jako Index. Dzięki temu możemy łatwo uzyskać dostęp do kolumn poprzez ich nazwy, co jest wygodne w wielu sytuacjach, takich jak wybieranie określonych kolumn lub zmiana nazw kolumn.\n",
    "\n",
    "Aby użyć nazw kolumn, możemy po prostu użyć ich jako kluczy w DataFrame tak jak w przypadku słownika w Pythonie. Na przykład, jeśli mamy kolumnę o nazwie `\"nazwisko\"`, możemy uzyskać dostęp do niej, używając `df[\"nazwisko\"]`.\n",
    "\n",
    "Ta sama operacja może być wykonana za pomocą składni `df.nazwisko`, ale jest to mniej preferowane, ponieważ może być łatwo mylące w przypadku kolumn o takich samych nazwach jak nazwy zmiennych.\n"
   ],
   "metadata": {
    "collapsed": false
   }
  },
  {
   "cell_type": "code",
   "execution_count": null,
   "outputs": [],
   "source": [
    "df.columns"
   ],
   "metadata": {
    "collapsed": false,
    "pycharm": {
     "name": "#%%\n"
    }
   }
  },
  {
   "cell_type": "code",
   "execution_count": null,
   "metadata": {
    "pycharm": {
     "name": "#%%\n"
    }
   },
   "outputs": [],
   "source": [
    "df['model_name']"
   ]
  },
  {
   "cell_type": "code",
   "execution_count": null,
   "metadata": {
    "pycharm": {
     "name": "#%%\n",
     "is_executing": true
    }
   },
   "outputs": [],
   "source": [
    "df.model_name"
   ]
  },
  {
   "cell_type": "markdown",
   "source": [
    "Składania `df.nazwisko` nie zadziała, jeśli w nazwie kolumny występuje znak spacji.\n",
    "\n",
    "Oprócz tego, nazwy kolumn nie powinny zawierać spacji, ponieważ spacje mogą powodować problemy z odczytem danych, a także z interpretacją i przetwarzaniem danych. W niektórych językach programowania, takich jak Python, spacje są używane jako separatory. Dlatego, w takich językach, nazwy kolumn zawierające spacje powodują, że nazwy stają się niepoprawne i nie da się z nich korzystać w kodzie. Ponadto, w wielu programach do analizy danych, spacje są automatycznie zamieniane na podkreślenia lub inne znaki, co może powodować nieporozumienia i błędy. W związku z tym najlepiej jest unikać stosowania spacji w nazwach kolumn."
   ],
   "metadata": {
    "collapsed": false
   }
  },
  {
   "cell_type": "markdown",
   "source": [
    "Funkcje `df[[\"manufacturer_name\", \"model_name\"]]` i `df.loc[2000:3000, ['engine_capacity']]` oraz `df.iloc[10000:20000, 0:2]` umożliwiają tworzenie podzbiorów DataFrame, czyli wybieranie określonych wierszy i kolumn z całego DataFrame.\n",
    "\n",
    "Metoda `df[[\"manufacturer_name\", \"model_name\"]]` pozwala na wybieranie kolumn o określonych nazwach i tworzenie nowego DataFrame, który zawiera tylko wybrane kolumny.\n",
    "\n",
    "Metoda `df.loc[2000:3000:19511, ['engine_capacity']]` pozwala na wybieranie wierszy z określonego zakresu za pomocą indeksu i kolumn o określonych nazwach, a następnie tworzenie nowego DataFrame, który zawiera wybrane wiersze i kolumny.\n",
    "\n",
    "Metoda `df.iloc[10000:20000, 0:2]` pozwala na wybieranie wierszy i kolumn za pomocą ich pozycji numerycznej. W tym przypadku wybieramy wiersze z zakresu od 10000 do 20000 i kolumny od 0 do 2.\n",
    "\n",
    "W każdym przypadku możemy użyć nowo utworzonego DataFrame jak normalnego DataFrame, do wykonywania operacji, takich jak analiza danych, wizualizacja lub przekształcanie danych."
   ],
   "metadata": {
    "collapsed": false
   }
  },
  {
   "cell_type": "code",
   "execution_count": null,
   "outputs": [],
   "source": [
    "df[[\"manufacturer_name\", \"model_name\"]]"
   ],
   "metadata": {
    "collapsed": false,
    "pycharm": {
     "name": "#%%\n"
    }
   }
  },
  {
   "cell_type": "code",
   "execution_count": null,
   "outputs": [],
   "source": [
    "df.loc[2000:3000, ['engine_capacity']]"
   ],
   "metadata": {
    "collapsed": false,
    "pycharm": {
     "name": "#%%\n"
    }
   }
  },
  {
   "cell_type": "code",
   "execution_count": null,
   "outputs": [],
   "source": [
    "df.iloc[10000:20000, 0:2]"
   ],
   "metadata": {
    "collapsed": false,
    "pycharm": {
     "name": "#%%\n"
    }
   }
  },
  {
   "cell_type": "markdown",
   "source": [
    "Różnica pomiędzy `df.loc` i `df.iloc` polega na tym, jakie indeksy są używane do wybierania wierszy i kolumn w DataFrame.\n",
    "\n",
    "`df.loc` używa indeksu etykietowanego, aby wybrać wiersze i kolumny. Możesz użyć etykiety wiersza lub nazwy kolumny, aby wybrać dane.\n",
    "\n",
    "`df.iloc` używa indeksu numerycznego, aby wybrać wiersze i kolumny. Oznacza to, że musisz użyć pozycji numerycznej wiersza i kolumny, aby wybrać dane.\n",
    "\n",
    "W skrócie, jeśli chcesz wybrać dane na podstawie etykiet lub nazw, użyj `df.loc`, a jeśli chcesz wybrać dane na podstawie pozycji numerycznej, użyj `df.iloc`."
   ],
   "metadata": {
    "collapsed": false
   }
  },
  {
   "cell_type": "markdown",
   "source": [
    "Aby utworzyć twardą kopię w bibliotece pandas, można użyć metody `df.copy()`."
   ],
   "metadata": {
    "collapsed": false
   }
  },
  {
   "cell_type": "code",
   "execution_count": null,
   "outputs": [],
   "source": [
    "subset_copy = df.copy()"
   ],
   "metadata": {
    "collapsed": false,
    "pycharm": {
     "name": "#%%\n"
    }
   }
  },
  {
   "cell_type": "markdown",
   "source": [
    "Tworzenie twardej kopii w bibliotece pandas jest zalecane, ponieważ miękka kopia nie jest całkowicie niezależna od oryginalnego obiektu i może powodować nieoczekiwane zmiany.\n",
    "\n",
    "Jeśli użyjesz miękkiej kopii, a następnie zmodyfikujesz skopiowany obiekt, zmiany te również wpłyną na oryginalny obiekt. W przypadku twardej kopii tego problemu nie ma, ponieważ twarda kopia jest całkowicie niezależna od oryginalnego obiektu i zmiany wprowadzone do skopiowanego obiektu nie wpłyną na oryginalny obiekt."
   ],
   "metadata": {
    "collapsed": false
   }
  },
  {
   "cell_type": "markdown",
   "source": [
    "Funkcja `df.sample(n = liczba)` służy do wyboru losowych wierszy z ramki danych (DataFrame). Argument `n` określa liczbę losowych wierszy, które mają zostać wybrane i zwrócone jako nowa ramka danych. Jeśli argument `n` nie jest określony, funkcja `df.sample()` zwraca jeden losowy wiersz.\n",
    "\n",
    "Przykład:\n",
    "`df.sample(n = 5)` zwróci 5 losowych wierszy z ramki danych df."
   ],
   "metadata": {
    "collapsed": false
   }
  },
  {
   "cell_type": "code",
   "execution_count": null,
   "outputs": [],
   "source": [
    "df_subset = df.sample(n=3853).copy()"
   ],
   "metadata": {
    "collapsed": false,
    "pycharm": {
     "name": "#%%\n"
    }
   }
  },
  {
   "cell_type": "markdown",
   "source": [
    "Jeśli chcemy potem manipulować stworzonym w ten sposób obiektem, warto stworzyć twardą kopię."
   ],
   "metadata": {
    "collapsed": false
   }
  },
  {
   "cell_type": "markdown",
   "source": [
    "# Typy danych"
   ],
   "metadata": {
    "collapsed": false
   }
  },
  {
   "cell_type": "markdown",
   "source": [
    "W bibliotece Pandas najczęściej używane typy danych to:\n",
    "\n",
    "1. int64 - reprezentuje liczby całkowite\n",
    "2. float64 - reprezentuje liczby zmiennoprzecinkowe\n",
    "3. object - reprezentuje tekst lub ciągi znaków\n",
    "4. datetime - reprezentuje daty i czas\n",
    "5. bool - reprezentuje wartości logiczne (prawda/fałsz)\n",
    "6. category - reprezentuje dane kategorialne\n",
    "\n",
    "Chociaż te typy danych są najczęściej używane, biblioteka Pandas oferuje również inne typy danych, takie jak timedelta, complex i Categorical."
   ],
   "metadata": {
    "collapsed": false
   }
  },
  {
   "cell_type": "markdown",
   "source": [
    "Aby sprawdzić typ danych w kolumnie, można skorzystać z atrybutu dtypes ramki danych:\n",
    "\n",
    "`df['column_name'].dtypes`\n",
    "\n",
    "Aby zmienić typ danych w kolumnie, można skorzystać z metody `df.astype()`:\n",
    "\n",
    "\n",
    "`df['column_name'] = df['column_name'].astype(np.int64)`\n",
    "\n",
    "Gdzie `np.int64` jest typem danych, na jaki chcesz zmienić dane w kolumnie.\n",
    "\n",
    "Pierwsza funkcja `df_subset['transmission'].dtype` zwraca typ danych w kolumnie 'transmission' w ramce danych `df_subset`.\n",
    "\n",
    "Druga funkcja `df_subset['transmission'] = df_subset['transmission'].astype('category')` zmienia typ danych w kolumnie 'transmission' w ramce danych `df_subset` na typ `'category'`. Typ `'category'` jest specjalnym typem danych w bibliotece Pandas, który jest używany do reprezentowania danych kategorialnych i jest często używany do optymalizacji pamięci."
   ],
   "metadata": {
    "collapsed": false
   }
  },
  {
   "cell_type": "code",
   "execution_count": null,
   "outputs": [],
   "source": [
    "df_subset['transmission'].dtype"
   ],
   "metadata": {
    "collapsed": false,
    "pycharm": {
     "name": "#%%\n"
    }
   }
  },
  {
   "cell_type": "code",
   "execution_count": null,
   "outputs": [],
   "source": [
    "df_subset['transmission'] = df_subset['transmission'].astype('category')"
   ],
   "metadata": {
    "collapsed": false,
    "pycharm": {
     "name": "#%%\n"
    }
   }
  },
  {
   "cell_type": "markdown",
   "source": [
    "Po tej operacji typ danych w kolumnie 'transmission' w ramce danych `df_subset` powinien zostać zmieniony na `category`.\n",
    "\n",
    "Typ danych `category` jest lepszy od `object` w wielu sytuacjach, ponieważ:\n",
    "\n",
    "1. Efektywniej wykorzystuje pamięć: Typ danych `category` zajmuje mniej pamięci niż `object`, ponieważ wartości kategorii są zapisywane jako indeksy, a nie jako pełne ciągi znaków.\n",
    "\n",
    "2. Szybsze wykonywanie operacji: Operacje na danych typu `category` są szybsze niż na danych typu `object`, ponieważ Pandas może użyć optymalizacji wewnętrznych dla danych typu `category`.\n",
    "\n",
    "3. Łatwiejsze wizualizacje danych: Typ danych `category` jest łatwiejszy w wizualizacji danych, ponieważ Pandas może automatycznie użyć etykiet kategorii zamiast wartości ciągów znaków.\n",
    "\n",
    "Ogólnie, warto użyć danych typu `category` wtedy, gdy kolumna zawiera wartości kategorii, takie jak kolory, marki, typy itp. i liczba unikalnych wartości jest niewielka.\n",
    "Typ `category` jest również użyteczny, gdy kolumna jest duża i chcesz zaoszczędzić pamięć lub przyspieszyć operacje."
   ],
   "metadata": {
    "collapsed": false
   }
  },
  {
   "cell_type": "markdown",
   "source": [
    "Metoda `df.unique()` jest używana do wyświetlenia unikalnych wartości w kolumnie DataFrame. Zwraca tablicę wartości, które występują w danej kolumnie."
   ],
   "metadata": {
    "collapsed": false
   }
  },
  {
   "cell_type": "code",
   "execution_count": null,
   "outputs": [],
   "source": [
    "df['transmission'].unique()"
   ],
   "metadata": {
    "collapsed": false,
    "pycharm": {
     "name": "#%%\n",
     "is_executing": true
    }
   }
  },
  {
   "cell_type": "markdown",
   "source": [
    "# Sortowanie danych"
   ],
   "metadata": {
    "collapsed": false
   }
  },
  {
   "cell_type": "markdown",
   "source": [
    "Funkcja `df.sort_index()` sortuje wiersze w DataFrame zgodnie z indeksem. Funkcja ta nie zmienia oryginalnego DataFrame, ale zwraca posortowany DataFrame jako wynik działania.\n",
    "\n",
    "Domyślnie, sortowanie jest wykonywane w kolejności rosnącej.\n",
    "Można również sortować w kolejności malejącej, określając parametr ascending jako False.\n",
    "\n",
    "Argument axis określa, czy sortowanie ma być wykonane po wierszach (axis = 0) czy po kolumnach (axis = 1). Domyślnie jest to axis = 0."
   ],
   "metadata": {
    "collapsed": false
   }
  },
  {
   "cell_type": "code",
   "execution_count": null,
   "outputs": [],
   "source": [
    "df.sort_index(axis=1)"
   ],
   "metadata": {
    "collapsed": false,
    "pycharm": {
     "name": "#%%\n"
    }
   }
  },
  {
   "cell_type": "code",
   "execution_count": null,
   "outputs": [],
   "source": [
    "df.sort_index(axis=0)"
   ],
   "metadata": {
    "collapsed": false,
    "pycharm": {
     "name": "#%%\n"
    }
   }
  },
  {
   "cell_type": "markdown",
   "source": [
    "Funkcja `df.sort_values` służy do sortowania danych w DataFrame. Domyślnie sortuje dane wg wartości w kolumnach, ale można też sortować wg indeksu, używając argumentu by i wpisując tam axis = 0. Funkcja sort_values pozwala sortować dane po jednej lub kilku kolumnach i można określić, czy mają być posortowane rosnąco (domyślnie) czy malejąco, używając argumentu ascending."
   ],
   "metadata": {
    "collapsed": false
   }
  },
  {
   "cell_type": "code",
   "execution_count": null,
   "outputs": [],
   "source": [
    "df.sort_values('engine_capacity')"
   ],
   "metadata": {
    "collapsed": false,
    "pycharm": {
     "name": "#%%\n"
    }
   }
  },
  {
   "cell_type": "markdown",
   "source": [
    "Funkcja `df.sort_index` sortuje wiersze w DataFrame w zależności od indeksów, natomiast `df.sort_values` sortuje wiersze na podstawie wartości w określonych kolumnach. Można sortować w kolejności rosnącej lub malejącej, a także po kilku kolumnach jednocześnie. Funkcja `df.sort_index` jest używana, gdy chcemy posortować DataFrame według indeksów, a funkcja `df.sort_values` jest używana, gdy chcemy posortować DataFrame według wartości w kolumnach."
   ],
   "metadata": {
    "collapsed": false
   }
  },
  {
   "cell_type": "markdown",
   "source": [
    "# Format zapisu"
   ],
   "metadata": {
    "collapsed": false
   }
  },
  {
   "cell_type": "markdown",
   "source": [
    "Biblioteka pandas wspiera wiele formatów danych, w tym CSV, Excel, JSON, SQL, SAS, Stata i HDF5.\n",
    "\n",
    " Można wczytywać i zapisywać dane w tych formatach przy użyciu funkcji takich jak read_csv, read_excel, read_json, read_sql, read_sas, read_stata i read_hdf, odpowiednio.\n",
    "\n",
    "Analogicznie, dane można zapisywać w tych formatach przy użyciu funkcji takich jak to_csv, to_excel, to_json, to_sql, to_sas, to_stata i to_hdf.\n",
    "\n",
    "Pandas obsługuje wiele formatów danych, w tym:\n",
    "\n",
    "- CSV\n",
    "- Excel\n",
    "- JSON\n",
    "- HTML\n",
    "- SAS\n",
    "- STATA\n",
    "- HDF5\n",
    "- Parquet\n",
    "- Feather\n",
    "- Msgpack\n",
    "- Google BigQuery\n",
    "\n",
    "Oprócz tych istnieją także biblioteki, które umożliwiają ładowanie danych z innych źródeł, takich jak bazy danych SQL i plików tekstowych, np. biblioteka SQLAlchemy i biblioteka PySpark.\n",
    "\n",
    "Różne formaty plików mają różne wady i zalety. Najważniejsze formaty, takie jak CSV, Excel, JSON i SQL, mają następujące zalety i wady:\n",
    "\n",
    "<b>CSV (Comma Separated Values)</b>\n",
    "\n",
    "Zalety:\n",
    "\n",
    "- Prosty w odczycie i zapisie\n",
    "- Ma dobrą kompatybilność z innymi narzędziami analitycznymi\n",
    "\n",
    "Wady:\n",
    "\n",
    "- Może wystąpić nieporozumienie, jeśli niektóre kolumny zawierają przecinki\n",
    "\n",
    "<b>Excel</b>\n",
    "\n",
    "Zalety:\n",
    "\n",
    "- Łatwe w odczycie i zapisie\n",
    "- Interaktywne narzędzie analityczne\n",
    "\n",
    "Wady:\n",
    "\n",
    "- Ograniczona skalowalność\n",
    "- Otwieranie dużych plików może być powolne\n",
    "\n",
    "<b>JSON (JavaScript Object Notation)</b>\n",
    "\n",
    "Zalety:\n",
    "\n",
    "- Może być używany do przechowywania i wymiany danych w różnych językach programowania\n",
    "- Łatwy do odczytania przez ludzi\n",
    "\n",
    "Wady:\n",
    "\n",
    "- Może być powolny w przypadku dużych zestawów danych\n",
    "\n",
    "<b>SQL</b>\n",
    "\n",
    "Zalety:\n",
    "\n",
    "- Optymalizowane do pracy z dużymi zestawami danych\n",
    "- Proste i efektywne zarządzanie danymi\n",
    "\n",
    "Wady:\n",
    "\n",
    "- Wymaga znajomości języka SQL\n",
    "\n",
    "Wybór formatu powinien być uzależniony od wymagań dotyczących przechowywania i udostępniania danych."
   ],
   "metadata": {
    "collapsed": false,
    "pycharm": {
     "name": "#%% md\n"
    }
   }
  }
 ],
 "metadata": {
  "kernelspec": {
   "display_name": "Python 3 (ipykernel)",
   "language": "python",
   "name": "python3"
  },
  "language_info": {
   "codemirror_mode": {
    "name": "ipython",
    "version": 3
   },
   "file_extension": ".py",
   "mimetype": "text/x-python",
   "name": "python",
   "nbconvert_exporter": "python",
   "pygments_lexer": "ipython3",
   "version": "3.9.5"
  }
 },
 "nbformat": 4,
 "nbformat_minor": 1
}